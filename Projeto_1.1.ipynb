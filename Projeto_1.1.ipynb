{
 "cells": [
  {
   "cell_type": "markdown",
   "source": [
    "### arrumado\n",
    "#### __*ARRUMADO ~~A FUNÇÃO REMOVE_PONC ESTA QUEBRADA E ESTA REMOVENDO A PALAVRA PS5 (ISSO OBVIAMENTE NÃO ERA PARA OCORRER). COMO NOSSO PRODUTO NÃO É PS5 ISSO PODE NÃO PARECER UM PROBLEMA, NO ENTANTO, COMO NAO SEI SE ELA ESTA COMETENDO MAIS ERROS RECOMENDO NAO USA-LA.~~*__\n",
    "\n",
    "\n",
    "#### __*A variável Object_of_Study é uma variável reservada nessa biblioteca e nao pode ser substituída por nada para a biblioteca funcionar. Ela é ser escolhida ao rodar o programa pela primeira vez, para muda-la reinicie o kernel e/ou o python console dependendo do typo de arquivo.*__\n",
    "\n",
    "### Pra que serve a variável global object_of_study? :\n",
    "### Ela serve para definir o objeto alvo do estudo e evitar sua remoção da base de dados durante os vários tipo diferente de filtragens diferentes.\n",
    "\n",
    "### O arquivo classe_funcoes não apresenta nenhuma falha que interfira com outras bibliotecas/arquivos, no entanto, vale notar que dois malpractices (sei la como se fala em português) foram cometidos\n",
    "- #### primeiro: importar com a estrutura \"from _____ import *\"\n",
    "  - #### eu considero este apenas um agravante ao anterior sendo ele: declarar uma variável global fora da proteção de arquivo\n",
    "- #### segundo: usar try e except para tornar uma parte de um arquivo isolada. A estrutura foi explicada com detalhes no arquivo classes_funcoes\n",
    "### Contudo, todas as medidas de precaução foram tomadas para que nenhuma dessas práticas/agravantes gerem problemas\n",
    "#### Para quem ler for ver o método usado e invetado (até onde eu saiba) por para isolar partes de códigos por favor usem apenas em última instância, pois ele é um erro gravíssimo. Eu uso ele só é o único modo de fazer isso sem a IDE marcar o código como isolado e grifar tudo de amarelo"
   ],
   "metadata": {
    "collapsed": false
   }
  },
  {
   "cell_type": "code",
   "execution_count": 138,
   "metadata": {},
   "outputs": [],
   "source": [
    "#from classes_funcoes import *\n",
    "from em_desenvolvimento import *\n",
    "import Naive_Bayes as NB\n",
    "import string\n",
    "import emoji\n",
    "import pandas as pd\n",
    "from IPython.core.display import display_html"
   ]
  },
  {
   "cell_type": "code",
   "execution_count": 139,
   "metadata": {
    "pycharm": {
     "name": "#%%\n"
    }
   },
   "outputs": [],
   "source": [
    "dados_treino = pd.read_excel(f'{Object_of_Study}.xlsx')\n",
    "dados_treino_1=dados_treino\n",
    "\n",
    "dados_treino_rel = dados_treino.loc[dados_treino['Unnamed: 1'] == 1]\n",
    "dados_treino_rel = dados_treino_rel.reset_index()\n",
    "\n",
    "dados_treino_irel = dados_treino.loc[dados_treino['Unnamed: 1'] == 0]\n",
    "dados_treino_irel = dados_treino_irel.reset_index()"
   ]
  },
  {
   "cell_type": "code",
   "execution_count": 140,
   "outputs": [
    {
     "data": {
      "text/html": "<style type=\"text/css\">\n#T_a7fee_ caption {\n  text-align: center;\n  font-size: 120%;\n  color: black;\n}\n</style>\n<table id=\"T_a7fee_\" style='display:inline'>\n  <caption>Tweets relevantes</caption>\n  <thead>\n    <tr>\n      <th class=\"blank level0\" >&nbsp;</th>\n      <th class=\"col_heading level0 col0\" >index</th>\n      <th class=\"col_heading level0 col1\" >Treinamento</th>\n      <th class=\"col_heading level0 col2\" >Unnamed: 1</th>\n    </tr>\n  </thead>\n  <tbody>\n    <tr>\n      <th id=\"T_a7fee_level0_row0\" class=\"row_heading level0 row0\" >0</th>\n      <td id=\"T_a7fee_row0_col0\" class=\"data row0 col0\" >1</td>\n      <td id=\"T_a7fee_row0_col1\" class=\"data row0 col1\" >#fantastico\n\nreportagem sobre os haters\nmatéria completa\n\nhttps://t.co/rivrnjbkhq</td>\n      <td id=\"T_a7fee_row0_col2\" class=\"data row0 col2\" >1</td>\n    </tr>\n    <tr>\n      <th id=\"T_a7fee_level0_row1\" class=\"row_heading level0 row1\" >1</th>\n      <td id=\"T_a7fee_row1_col0\" class=\"data row1 col0\" >2</td>\n      <td id=\"T_a7fee_row1_col1\" class=\"data row1 col1\" >@karendc99 me parece fantástico</td>\n      <td id=\"T_a7fee_row1_col2\" class=\"data row1 col2\" >1</td>\n    </tr>\n    <tr>\n      <th id=\"T_a7fee_level0_row2\" class=\"row_heading level0 row2\" >2</th>\n      <td id=\"T_a7fee_row2_col0\" class=\"data row2 col0\" >3</td>\n      <td id=\"T_a7fee_row2_col1\" class=\"data row2 col1\" >o quarteto fantástico tá diferente 🗣, amo!\n#armyselcaday #arsd @bts_twt 💜 https://t.co/ocbbfprb0m</td>\n      <td id=\"T_a7fee_row2_col2\" class=\"data row2 col2\" >1</td>\n    </tr>\n    <tr>\n      <th id=\"T_a7fee_level0_row3\" class=\"row_heading level0 row3\" >3</th>\n      <td id=\"T_a7fee_row3_col0\" class=\"data row3 col0\" >4</td>\n      <td id=\"T_a7fee_row3_col1\" class=\"data row3 col1\" >foda que os haters ouvidos pelo fantástico aparentam ser pessoas com depressão ou outros problemas graves de autoestima e se escondem por trás desse ódio todo a pessoas que, no fundo, eles provavelmente invejam. dó.</td>\n      <td id=\"T_a7fee_row3_col2\" class=\"data row3 col2\" >1</td>\n    </tr>\n    <tr>\n      <th id=\"T_a7fee_level0_row4\" class=\"row_heading level0 row4\" >4</th>\n      <td id=\"T_a7fee_row4_col0\" class=\"data row4 col0\" >5</td>\n      <td id=\"T_a7fee_row4_col1\" class=\"data row4 col1\" >o geco no fantástico eu vou infartar</td>\n      <td id=\"T_a7fee_row4_col2\" class=\"data row4 col2\" >1</td>\n    </tr>\n    <tr>\n      <th id=\"T_a7fee_level0_row5\" class=\"row_heading level0 row5\" >5</th>\n      <td id=\"T_a7fee_row5_col0\" class=\"data row5 col0\" >6</td>\n      <td id=\"T_a7fee_row5_col1\" class=\"data row5 col1\" >haters - fantástico conversou com haters: \"eu acho divertido ser maldosa.\" https://t.co/cxeowynenn</td>\n      <td id=\"T_a7fee_row5_col2\" class=\"data row5 col2\" >1</td>\n    </tr>\n    <tr>\n      <th id=\"T_a7fee_level0_row6\" class=\"row_heading level0 row6\" >6</th>\n      <td id=\"T_a7fee_row6_col0\" class=\"data row6 col0\" >7</td>\n      <td id=\"T_a7fee_row6_col1\" class=\"data row6 col1\" >2753 pessoas morreram no world trade center em decorrência do atentado, no brasil já morreram mais de 500 mil e o assassino ainda tá solto #fantastico</td>\n      <td id=\"T_a7fee_row6_col2\" class=\"data row6 col2\" >1</td>\n    </tr>\n    <tr>\n      <th id=\"T_a7fee_level0_row7\" class=\"row_heading level0 row7\" >7</th>\n      <td id=\"T_a7fee_row7_col0\" class=\"data row7 col0\" >8</td>\n      <td id=\"T_a7fee_row7_col1\" class=\"data row7 col1\" >@ludmilla se só pudesse ter lançado uma musica, qual seria? https://t.co/qmupncchru #notiktoktemtudo anvisa #domingao #showdosfamosos #armyselcaday faustão messi #ards #copanfa inglaterra globo glória groove xandy hernanes galvão bueno sariette no fantástico margareth</td>\n      <td id=\"T_a7fee_row7_col2\" class=\"data row7 col2\" >1</td>\n    </tr>\n    <tr>\n      <th id=\"T_a7fee_level0_row8\" class=\"row_heading level0 row8\" >8</th>\n      <td id=\"T_a7fee_row8_col0\" class=\"data row8 col0\" >15</td>\n      <td id=\"T_a7fee_row8_col1\" class=\"data row8 col1\" >@pricasoares problemas na infância com rejeição ou sei lá. carência de atenção enorme se prestar a sair no fantástico dizendo que ama comentar maldade. distúrbio enorme isso aí</td>\n      <td id=\"T_a7fee_row8_col2\" class=\"data row8 col2\" >1</td>\n    </tr>\n    <tr>\n      <th id=\"T_a7fee_level0_row9\" class=\"row_heading level0 row9\" >9</th>\n      <td id=\"T_a7fee_row9_col0\" class=\"data row9 col0\" >19</td>\n      <td id=\"T_a7fee_row9_col1\" class=\"data row9 col1\" >vei e serii vou tira print d todo esse ódio gratuito q vcs me joga i bota no fantástico falano q esto sofreno hate por se nordestina me aguardem https://t.co/t1ubqqhsrb</td>\n      <td id=\"T_a7fee_row9_col2\" class=\"data row9 col2\" >1</td>\n    </tr>\n    <tr>\n      <th id=\"T_a7fee_level0_row10\" class=\"row_heading level0 row10\" >10</th>\n      <td id=\"T_a7fee_row10_col0\" class=\"data row10 col0\" >20</td>\n      <td id=\"T_a7fee_row10_col1\" class=\"data row10 col1\" >aumento na conta de luz preocupa pequenos empreendedores | fantástico | g1 https://t.co/qgi8bymna4</td>\n      <td id=\"T_a7fee_row10_col2\" class=\"data row10 col2\" >1</td>\n    </tr>\n    <tr>\n      <th id=\"T_a7fee_level0_row11\" class=\"row_heading level0 row11\" >11</th>\n      <td id=\"T_a7fee_row11_col0\" class=\"data row11 col0\" >22</td>\n      <td id=\"T_a7fee_row11_col1\" class=\"data row11 col1\" >haters, o exército invisível que dissemina ódio na internet e não poupa ninguém de seus ataques | fantástico | g1 https://t.co/udoxdrskyn</td>\n      <td id=\"T_a7fee_row11_col2\" class=\"data row11 col2\" >1</td>\n    </tr>\n    <tr>\n      <th id=\"T_a7fee_level0_row12\" class=\"row_heading level0 row12\" >12</th>\n      <td id=\"T_a7fee_row12_col0\" class=\"data row12 col0\" >24</td>\n      <td id=\"T_a7fee_row12_col1\" class=\"data row12 col1\" >@akinasunflower engaja. saiu uma matéria hj no fantástico falando sobre isso, que o hater atrai engajamento, imagina quando é sobre a mulher mais engajada atualmente no país</td>\n      <td id=\"T_a7fee_row12_col2\" class=\"data row12 col2\" >1</td>\n    </tr>\n    <tr>\n      <th id=\"T_a7fee_level0_row13\" class=\"row_heading level0 row13\" >13</th>\n      <td id=\"T_a7fee_row13_col0\" class=\"data row13 col0\" >25</td>\n      <td id=\"T_a7fee_row13_col1\" class=\"data row13 col1\" >muita gente se oferecendo pra ser o hate entrevistado. depois me perguntam porque não levo mais fé nesse país. #fantastico #fantástico</td>\n      <td id=\"T_a7fee_row13_col2\" class=\"data row13 col2\" >1</td>\n    </tr>\n    <tr>\n      <th id=\"T_a7fee_level0_row14\" class=\"row_heading level0 row14\" >14</th>\n      <td id=\"T_a7fee_row14_col0\" class=\"data row14 col0\" >26</td>\n      <td id=\"T_a7fee_row14_col1\" class=\"data row14 col1\" >meu deus , essa reportagem sobre o 11 de setembro no fantástico é de arrepiar . #fantastico #11desetembro https://t.co/xpx8umvb1m</td>\n      <td id=\"T_a7fee_row14_col2\" class=\"data row14 col2\" >1</td>\n    </tr>\n    <tr>\n      <th id=\"T_a7fee_level0_row15\" class=\"row_heading level0 row15\" >15</th>\n      <td id=\"T_a7fee_row15_col0\" class=\"data row15 col0\" >30</td>\n      <td id=\"T_a7fee_row15_col1\" class=\"data row15 col1\" >#fantastico\n\nmatéria completa sobre os haters\n\nhttps://t.co/rivrnjbkhq</td>\n      <td id=\"T_a7fee_row15_col2\" class=\"data row15 col2\" >1</td>\n    </tr>\n    <tr>\n      <th id=\"T_a7fee_level0_row16\" class=\"row_heading level0 row16\" >16</th>\n      <td id=\"T_a7fee_row16_col0\" class=\"data row16 col0\" >31</td>\n      <td id=\"T_a7fee_row16_col1\" class=\"data row16 col1\" >tenebrosa a matéria do fantástico sobre haters https://t.co/lteczkjncl</td>\n      <td id=\"T_a7fee_row16_col2\" class=\"data row16 col2\" >1</td>\n    </tr>\n    <tr>\n      <th id=\"T_a7fee_level0_row17\" class=\"row_heading level0 row17\" >17</th>\n      <td id=\"T_a7fee_row17_col0\" class=\"data row17 col0\" >34</td>\n      <td id=\"T_a7fee_row17_col1\" class=\"data row17 col1\" >#fantastico\n\nmatéria sobre haters\nmatéria completa\n\nhttps://t.co/rivrnjbkhq</td>\n      <td id=\"T_a7fee_row17_col2\" class=\"data row17 col2\" >1</td>\n    </tr>\n    <tr>\n      <th id=\"T_a7fee_level0_row18\" class=\"row_heading level0 row18\" >18</th>\n      <td id=\"T_a7fee_row18_col0\" class=\"data row18 col0\" >38</td>\n      <td id=\"T_a7fee_row18_col1\" class=\"data row18 col1\" >a fome dos nossos irmãos deveria ser a nossa maior preocupação neste instante e não a porra de um 7 de setembro. \n\n#fantastico</td>\n      <td id=\"T_a7fee_row18_col2\" class=\"data row18 col2\" >1</td>\n    </tr>\n    <tr>\n      <th id=\"T_a7fee_level0_row19\" class=\"row_heading level0 row19\" >19</th>\n      <td id=\"T_a7fee_row19_col0\" class=\"data row19 col0\" >39</td>\n      <td id=\"T_a7fee_row19_col1\" class=\"data row19 col1\" >puts virei a pessoa que chora com matéria do fantástico https://t.co/m452fp3otx</td>\n      <td id=\"T_a7fee_row19_col2\" class=\"data row19 col2\" >1</td>\n    </tr>\n  </tbody>\n</table>\n            <style type=\"text/css\">\n#T_d7ad3_ caption {\n  text-align: center;\n  font-size: 120%;\n  color: black;\n}\n</style>\n<table id=\"T_d7ad3_\" style='display:inline'>\n  <caption>Tweets irelevantes</caption>\n  <thead>\n    <tr>\n      <th class=\"blank level0\" >&nbsp;</th>\n      <th class=\"col_heading level0 col0\" >index</th>\n      <th class=\"col_heading level0 col1\" >Treinamento</th>\n      <th class=\"col_heading level0 col2\" >Unnamed: 1</th>\n    </tr>\n  </thead>\n  <tbody>\n    <tr>\n      <th id=\"T_d7ad3_level0_row0\" class=\"row_heading level0 row0\" >0</th>\n      <td id=\"T_d7ad3_row0_col0\" class=\"data row0 col0\" >0</td>\n      <td id=\"T_d7ad3_row0_col1\" class=\"data row0 col1\" >@cbrzit amg, ele apareceu no fantástico????? oq rolou???</td>\n      <td id=\"T_d7ad3_row0_col2\" class=\"data row0 col2\" >0</td>\n    </tr>\n    <tr>\n      <th id=\"T_d7ad3_level0_row1\" class=\"row_heading level0 row1\" >1</th>\n      <td id=\"T_d7ad3_row1_col0\" class=\"data row1 col0\" >9</td>\n      <td id=\"T_d7ad3_row1_col1\" class=\"data row1 col1\" >@benicamilaa amiga q sdds suas. como esta? uma reportagem no fantastico sobre hater, e @ q a gente bem sabe o passado, chocadas e textão só falta pedir #pas e vamos saldar o sol😂😂</td>\n      <td id=\"T_d7ad3_row1_col2\" class=\"data row1 col2\" >0</td>\n    </tr>\n    <tr>\n      <th id=\"T_d7ad3_level0_row2\" class=\"row_heading level0 row2\" >2</th>\n      <td id=\"T_d7ad3_row2_col0\" class=\"data row2 col0\" >10</td>\n      <td id=\"T_d7ad3_row2_col1\" class=\"data row2 col1\" >caramba... é angustiante.\nhttps://t.co/noopncnwdb</td>\n      <td id=\"T_d7ad3_row2_col2\" class=\"data row2 col2\" >0</td>\n    </tr>\n    <tr>\n      <th id=\"T_d7ad3_level0_row3\" class=\"row_heading level0 row3\" >3</th>\n      <td id=\"T_d7ad3_row3_col0\" class=\"data row3 col0\" >11</td>\n      <td id=\"T_d7ad3_row3_col1\" class=\"data row3 col1\" >essa história do menino que se * é muito mal contada #fantástico</td>\n      <td id=\"T_d7ad3_row3_col2\" class=\"data row3 col2\" >0</td>\n    </tr>\n    <tr>\n      <th id=\"T_d7ad3_level0_row4\" class=\"row_heading level0 row4\" >4</th>\n      <td id=\"T_d7ad3_row4_col0\" class=\"data row4 col0\" >12</td>\n      <td id=\"T_d7ad3_row4_col1\" class=\"data row4 col1\" >então realmente foi ao ar a matéria sobre os haters / trolls no fantástico. o que penso sobre essa gente: vão se tratar.</td>\n      <td id=\"T_d7ad3_row4_col2\" class=\"data row4 col2\" >0</td>\n    </tr>\n    <tr>\n      <th id=\"T_d7ad3_level0_row5\" class=\"row_heading level0 row5\" >5</th>\n      <td id=\"T_d7ad3_row5_col0\" class=\"data row5 col0\" >13</td>\n      <td id=\"T_d7ad3_row5_col1\" class=\"data row5 col1\" >entrei no tt é o povo tá assim com a matéria de haters no fantástico. https://t.co/zph0idgn3e</td>\n      <td id=\"T_d7ad3_row5_col2\" class=\"data row5 col2\" >0</td>\n    </tr>\n    <tr>\n      <th id=\"T_d7ad3_level0_row6\" class=\"row_heading level0 row6\" >6</th>\n      <td id=\"T_d7ad3_row6_col0\" class=\"data row6 col0\" >14</td>\n      <td id=\"T_d7ad3_row6_col1\" class=\"data row6 col1\" >@iwtfeels porque dia 11 faz 20 anos do atentado e passou uma matéria no fantástico</td>\n      <td id=\"T_d7ad3_row6_col2\" class=\"data row6 col2\" >0</td>\n    </tr>\n    <tr>\n      <th id=\"T_d7ad3_level0_row7\" class=\"row_heading level0 row7\" >7</th>\n      <td id=\"T_d7ad3_row7_col0\" class=\"data row7 col0\" >16</td>\n      <td id=\"T_d7ad3_row7_col1\" class=\"data row7 col1\" >@sonicofficialjp fantástico</td>\n      <td id=\"T_d7ad3_row7_col2\" class=\"data row7 col2\" >0</td>\n    </tr>\n    <tr>\n      <th id=\"T_d7ad3_level0_row8\" class=\"row_heading level0 row8\" >8</th>\n      <td id=\"T_d7ad3_row8_col0\" class=\"data row8 col0\" >17</td>\n      <td id=\"T_d7ad3_row8_col1\" class=\"data row8 col1\" >@danielaalmeida8 @garrafnha aí vai ser outra gambiarra, sem estar programado. se a globo quisesse, passava no fantástico, papo sem noção.</td>\n      <td id=\"T_d7ad3_row8_col2\" class=\"data row8 col2\" >0</td>\n    </tr>\n    <tr>\n      <th id=\"T_d7ad3_level0_row9\" class=\"row_heading level0 row9\" >9</th>\n      <td id=\"T_d7ad3_row9_col0\" class=\"data row9 col0\" >18</td>\n      <td id=\"T_d7ad3_row9_col1\" class=\"data row9 col1\" >˚ ༘✶ ⋆｡˚ ⁀➷\n\n       olá, tudo bem? meu nome é charlie rousier. eu sou gamer, streaming e atualmente o mais novo ceo da maior empresa de videogames do mundo. a playstation. com o tempo, passei a streamar meus próprios jogos pra divulgação, e foi fantástico. vamos jogar? 👾 https://t.co/pejwa3nnmt https://t.co/dupdvftq7c</td>\n      <td id=\"T_d7ad3_row9_col2\" class=\"data row9 col2\" >0</td>\n    </tr>\n    <tr>\n      <th id=\"T_d7ad3_level0_row10\" class=\"row_heading level0 row10\" >10</th>\n      <td id=\"T_d7ad3_row10_col0\" class=\"data row10 col0\" >21</td>\n      <td id=\"T_d7ad3_row10_col1\" class=\"data row10 col1\" >sllk o povo assiste fantástico, eu to há 3 meses sem televisão</td>\n      <td id=\"T_d7ad3_row10_col2\" class=\"data row10 col2\" >0</td>\n    </tr>\n    <tr>\n      <th id=\"T_d7ad3_level0_row11\" class=\"row_heading level0 row11\" >11</th>\n      <td id=\"T_d7ad3_row11_col0\" class=\"data row11 col0\" >23</td>\n      <td id=\"T_d7ad3_row11_col1\" class=\"data row11 col1\" >perdida na personagem né rafa???\n#fantastico https://t.co/srv1g1pmj7 https://t.co/3ut6k9dfrz</td>\n      <td id=\"T_d7ad3_row11_col2\" class=\"data row11 col2\" >0</td>\n    </tr>\n    <tr>\n      <th id=\"T_d7ad3_level0_row12\" class=\"row_heading level0 row12\" >12</th>\n      <td id=\"T_d7ad3_row12_col0\" class=\"data row12 col0\" >27</td>\n      <td id=\"T_d7ad3_row12_col1\" class=\"data row12 col1\" >@baefeiix um gay do twitter foi chamado no fantástico pra falar como sobre é ser hater e agora ele tá aqui reclamando</td>\n      <td id=\"T_d7ad3_row12_col2\" class=\"data row12 col2\" >0</td>\n    </tr>\n    <tr>\n      <th id=\"T_d7ad3_level0_row13\" class=\"row_heading level0 row13\" >13</th>\n      <td id=\"T_d7ad3_row13_col0\" class=\"data row13 col0\" >28</td>\n      <td id=\"T_d7ad3_row13_col1\" class=\"data row13 col1\" >vou pedir música no fantástico, toda hora sendo revistado 😡😏</td>\n      <td id=\"T_d7ad3_row13_col2\" class=\"data row13 col2\" >0</td>\n    </tr>\n    <tr>\n      <th id=\"T_d7ad3_level0_row14\" class=\"row_heading level0 row14\" >14</th>\n      <td id=\"T_d7ad3_row14_col0\" class=\"data row14 col0\" >29</td>\n      <td id=\"T_d7ad3_row14_col1\" class=\"data row14 col1\" >@brasil247 como povo carioca adora um malandro no poder será eleito novamente!!! pobre rio de janeiro vai continuar pedindo música no fantástico vai bater recorde</td>\n      <td id=\"T_d7ad3_row14_col2\" class=\"data row14 col2\" >0</td>\n    </tr>\n    <tr>\n      <th id=\"T_d7ad3_level0_row15\" class=\"row_heading level0 row15\" >15</th>\n      <td id=\"T_d7ad3_row15_col0\" class=\"data row15 col0\" >32</td>\n      <td id=\"T_d7ad3_row15_col1\" class=\"data row15 col1\" >vi agora a matéria sobre haters no #fantastico e eu só queria 5 minutos pra deitar aqueles dois na porrada</td>\n      <td id=\"T_d7ad3_row15_col2\" class=\"data row15 col2\" >0</td>\n    </tr>\n    <tr>\n      <th id=\"T_d7ad3_level0_row16\" class=\"row_heading level0 row16\" >16</th>\n      <td id=\"T_d7ad3_row16_col0\" class=\"data row16 col0\" >33</td>\n      <td id=\"T_d7ad3_row16_col1\" class=\"data row16 col1\" >@nen_min_viiu @heroi_romanesco @lucianohuck @domingao é um conselho, para agora de assitir globesta. vc está dopado de tanta desinformação, vc está sendo manipulado. vc viu a matéria lixo dos haters no fantástico e já está replicando o que viu lá. sai dessa e vai crescer na vida.</td>\n      <td id=\"T_d7ad3_row16_col2\" class=\"data row16 col2\" >0</td>\n    </tr>\n    <tr>\n      <th id=\"T_d7ad3_level0_row17\" class=\"row_heading level0 row17\" >17</th>\n      <td id=\"T_d7ad3_row17_col0\" class=\"data row17 col0\" >35</td>\n      <td id=\"T_d7ad3_row17_col1\" class=\"data row17 col1\" >@flaviamaynarte eles são filhos da rogeria q traiu com uma galera, segundo cartas anônimas. ana cristina,mãe do jair renan, é q é do bombeiro. o trevoso já pode pedir música no fantástico 😅😅😅</td>\n      <td id=\"T_d7ad3_row17_col2\" class=\"data row17 col2\" >0</td>\n    </tr>\n    <tr>\n      <th id=\"T_d7ad3_level0_row18\" class=\"row_heading level0 row18\" >18</th>\n      <td id=\"T_d7ad3_row18_col0\" class=\"data row18 col0\" >36</td>\n      <td id=\"T_d7ad3_row18_col1\" class=\"data row18 col1\" >@michele_miss @jovempannews 3 doses de calcinhavac? o butantã já pode pedir música no fantástico</td>\n      <td id=\"T_d7ad3_row18_col2\" class=\"data row18 col2\" >0</td>\n    </tr>\n    <tr>\n      <th id=\"T_d7ad3_level0_row19\" class=\"row_heading level0 row19\" >19</th>\n      <td id=\"T_d7ad3_row19_col0\" class=\"data row19 col0\" >37</td>\n      <td id=\"T_d7ad3_row19_col1\" class=\"data row19 col1\" >@gordaopitchfork pior foi a fantástico que colocou hater de diva pop no nível de gente na**sta que deseja a morte de um monte de gente e humilha qualquer pessoas de graça</td>\n      <td id=\"T_d7ad3_row19_col2\" class=\"data row19 col2\" >0</td>\n    </tr>\n  </tbody>\n</table>\n"
     },
     "metadata": {},
     "output_type": "display_data"
    }
   ],
   "source": [
    "NB.df_style(dados_treino_rel.iloc[0:20], dados_treino_irel.iloc[0:20], titulo1='Tweets relevantes', titulo2='Tweets irelevantes')\n",
    "# try:\n",
    "#     dados_treino_relS=dados_treino_rel.style.set_table_attributes\\\n",
    "#         (\"style='display:inline'\").set_table_styles(table_styles = [dict(selector=\"caption\",\n",
    "#         props=[(\"text-align\", \"center\"),\n",
    "#         (\"font-size\", \"120%\"),\n",
    "#         (\"color\", 'black')])]).set_caption('Tweets relevantes')\n",
    "#\n",
    "#     dados_treino_irelS=dados_treino_irel.iloc[0:20].style.set_table_attributes\\\n",
    "#         (\"style='display:inline'\").set_table_styles(table_styles = [dict(selector=\"caption\",\n",
    "#         props=[(\"text-align\", \"center\"),\n",
    "#         (\"font-size\", \"120%\"),\n",
    "#         (\"color\", 'black')])]).set_caption('Tweets irrelevantes')\n",
    "# except Exception:\n",
    "#     pass\n",
    "# display_html(dados_treino_relS._repr_html_() + \"\\xa0\\xa0\\xa0\\xa0\\xa0\\xa0\\xa0\\xa0\\xa0\\xa0\\xa0\\xa0\" + dados_treino_irelS._repr_html_(), raw=True)\n"
   ],
   "metadata": {
    "collapsed": false,
    "pycharm": {
     "name": "#%%\n"
    }
   }
  },
  {
   "cell_type": "code",
   "execution_count": 141,
   "metadata": {
    "pycharm": {
     "name": "#%%\n"
    },
    "scrolled": false
   },
   "outputs": [
    {
     "name": "stdout",
     "output_type": "stream",
     "text": [
      "para tweets relevantes\n"
     ]
    },
    {
     "data": {
      "text/plain": "            # de ocorrências\na                        101\nque                       93\no                         89\nfantástico                81\nde                        76\n...                      ...\nrevelando                  1\ninstagram                  1\nfunk.                      1\ntl                         1\nexército                   1\n\n[1368 rows x 1 columns]",
      "text/html": "<div>\n<style scoped>\n    .dataframe tbody tr th:only-of-type {\n        vertical-align: middle;\n    }\n\n    .dataframe tbody tr th {\n        vertical-align: top;\n    }\n\n    .dataframe thead th {\n        text-align: right;\n    }\n</style>\n<table border=\"1\" class=\"dataframe\">\n  <thead>\n    <tr style=\"text-align: right;\">\n      <th></th>\n      <th># de ocorrências</th>\n    </tr>\n  </thead>\n  <tbody>\n    <tr>\n      <th>a</th>\n      <td>101</td>\n    </tr>\n    <tr>\n      <th>que</th>\n      <td>93</td>\n    </tr>\n    <tr>\n      <th>o</th>\n      <td>89</td>\n    </tr>\n    <tr>\n      <th>fantástico</th>\n      <td>81</td>\n    </tr>\n    <tr>\n      <th>de</th>\n      <td>76</td>\n    </tr>\n    <tr>\n      <th>...</th>\n      <td>...</td>\n    </tr>\n    <tr>\n      <th>revelando</th>\n      <td>1</td>\n    </tr>\n    <tr>\n      <th>instagram</th>\n      <td>1</td>\n    </tr>\n    <tr>\n      <th>funk.</th>\n      <td>1</td>\n    </tr>\n    <tr>\n      <th>tl</th>\n      <td>1</td>\n    </tr>\n    <tr>\n      <th>exército</th>\n      <td>1</td>\n    </tr>\n  </tbody>\n</table>\n<p>1368 rows × 1 columns</p>\n</div>"
     },
     "execution_count": 141,
     "metadata": {},
     "output_type": "execute_result"
    }
   ],
   "source": [
    "print('para tweets relevantes')\n",
    "rel = ListWord(column_name='Treinamento').c_o_f(dados_treino_rel)\n",
    "rel.sort_values(by='# de ocorrências', ascending=False)"
   ]
  },
  {
   "cell_type": "code",
   "execution_count": 142,
   "outputs": [],
   "source": [
    "rel_limp = RemoveWords(rel, '# de ocorrências', show_removed=True)\n",
    "rel_limp1 = RemoveWords(rel, '# de ocorrências', show_removed=True)\n",
    "rel_limp2 = RemoveWords(rel, '# de ocorrências', show_removed=True)\n",
    "rel_limp3 = RemoveWords(rel, '# de ocorrências', show_removed=True)\n",
    "rel_limp4 = RemoveWords(rel, '# de ocorrências', show_removed=True)\n",
    "rel_limp5 = RemoveWords(rel, '# de ocorrências', show_removed=True)\n",
    "rel_limp6 = RemoveWords(rel, '# de ocorrências', show_removed=True)"
   ],
   "metadata": {
    "collapsed": false,
    "pycharm": {
     "name": "#%%\n"
    }
   }
  },
  {
   "cell_type": "code",
   "execution_count": 143,
   "outputs": [
    {
     "name": "stdout",
     "output_type": "stream",
     "text": [
      "\n",
      " sem palavras com @\n",
      "['@karendc99', '@lagareirosantos', '@aliehnada', '@luccasoliverra', '@holygah', '@jojo_littletodd', '@bibibailas', '@suzibutera', '@rigolet63469189', '@callmeoak_', '@sonygiron', '@pricasoares', '@visitante6789', '@leprechaun_3', '@germana764', '@jornaloglobo', '@paoladodeboche', '@iucascomenta', '@sonhomanu', '@ataldajessi', '@taahdinoa', '@umjuzeh', '@samucatuita', '@cindilanti', '@showdavida', '@anaolivias', '@rafakalimann_', '@carmenk29868410', '@alisson_patinho', '@rogeria42332617', '@nayibbukele', '@janeygodley', '@elanemendes9', '@i9grls', '@guiferreirattt', '@fbtrzz', '@angeikane', '@nicolygfbpa', '@kyhnoir', '@minceauras', '@bts_twt', '@ludmilla', '@sexyenfermera69', '@cosplayfantasia', '@akinasunflower', '@huayna_tejo']\n",
      "\n",
      " sem palavras com link\n",
      "['https://t.co/qxllqvamqz', 'https://t.co/3mnumgjnpo', 'https://t.co/bnygubofk3', 'https://t.co/dllkhjipvm', 'https://t.co/qgi8bymna4', 'https://t.co/zbxnko3tjc', 'https://t.co/ywls3cscvb', 'https://t.co/slvyrcbjhg', 'https://t.co/rivrnjbkhq', 'https://t.co/udoxdrskyn', 'https://t.co/m452fp3otx', 'https://t.co/r64ebjqjfu', 'https://t.co/qxkzk1gnun', 'https://t.co/t0ygkm2lzt', 'https://t.co/wwvovsx8fr', 'https://t.co/qmupncchru', 'https://t.co/q9hq6emny1', 'https://t.co/xpx8umvb1m', 'https://t.co/oiv8oqtomo', 'https://t.co/d0nod1m7ie', 'https://t.co/t1ubqqhsrb', 'https://t.co/lhj6na4czi', 'https://t.co/zuyivpnudu', 'https://t.co/amiida4vis', 'https://t.co/ocbbfprb0m', 'https://t.co/ggkuy1mf8h', 'https://t.co/cxeowynenn', 'https://t.co/enwp4lzgfh', 'https://t.co/wmnop82tet', 'https://t.co/qcngys4t7l', 'https://t.co/pbri3e2x2a', 'https://t.co/iivcccaqdq', 'https://t.co/d4baci8bz6', 'https://t.co/ngrpyd3kt9', 'https://t.co/ubfl867efg', 'https://t.co/ofbsmyizdz', 'https://t.co/ryrt3mkxw0', 'https://t.co/ilawqna3hr', 'https://t.co/lteczkjncl', 'https://t.co/migcpww47b', 'https://t.co/2g5rzmj7lc']\n",
      "\n",
      " sem pontuação nas palavras\n",
      "\n",
      " sem palavras com menos de 3 letras\n",
      "['\"o', 'tô', 'eu', 'fé', 'ñ', 'dá', 'te', '11', '.', 'há', 'em', 'o', 'q', '…', 'tá', '2', '#', 'c', 'lá', ',', 'no', 'aí', 'mt', 'ou', 'so', 'eh', 'd', 'só', 'po', 'é.', 'da', '?!', 'b,', 'e', '!', 'aq', 'né', 'ju', 'de', 'zé', 'ar', 'as', 'to', '20', 'ri', 'se', 'a', '*', 'à', 'tl', 'g1', '30', 'mó', 'hj', '7', 'ig', 'na', 'tb', 'qm', '|', 'os', 'ai', 'já', '+', 'vc', 'fã', 'me', 'rp', 'b', 'n', '-', 'ia', 'tt', '1', 'ta', 'ao', 'do', 'mn', 'pq', 'e,', 'p', 'vê', 'é', 'vi', 'um', 'ja', 'i', 'ir']\n",
      "\n",
      " sem palavras com mais de 3 ks juntos\n",
      "['', '', '', '', '', '', '', '']\n",
      "\n",
      " sem palavras com sequencia de numero da ordem das unidades maior que 3 juntos\n",
      "['@rigolet63469189', '@rigolet63469189', '@rigolet63469189', '@rigolet63469189', '@rigolet63469189', '@rigolet63469189', '2022.', '2022.', 'https://t.co/m452fp3otx', '@visitante6789', '@visitante6789', '@germana764', '@carmenk29868410', '@carmenk29868410', '@carmenk29868410', '@carmenk29868410', '@carmenk29868410', '@carmenk29868410', '@rogeria42332617', '@rogeria42332617', '@rogeria42332617', '@rogeria42332617', '@rogeria42332617', '@rogeria42332617', 'https://t.co/ubfl867efg', '2753', '2753', '2016/18', '2016/18']\n",
      "\n",
      " todos os filtros juntos\n",
      "remove_at ['@karendc99', '@lagareirosantos', '@aliehnada', '@luccasoliverra', '@holygah', '@jojo_littletodd', '@bibibailas', '@suzibutera', '@rigolet63469189', '@callmeoak_', '@sonygiron', '@pricasoares', '@visitante6789', '@leprechaun_3', '@germana764', '@jornaloglobo', '@paoladodeboche', '@iucascomenta', '@sonhomanu', '@ataldajessi', '@taahdinoa', '@umjuzeh', '@samucatuita', '@cindilanti', '@showdavida', '@anaolivias', '@rafakalimann_', '@carmenk29868410', '@alisson_patinho', '@rogeria42332617', '@nayibbukele', '@janeygodley', '@elanemendes9', '@i9grls', '@guiferreirattt', '@fbtrzz', '@angeikane', '@nicolygfbpa', '@kyhnoir', '@minceauras', '@bts_twt', '@ludmilla', '@sexyenfermera69', '@cosplayfantasia', '@akinasunflower', '@huayna_tejo']\n",
      "remove_link ['@karendc99', '@lagareirosantos', '@aliehnada', '@luccasoliverra', '@holygah', '@jojo_littletodd', '@bibibailas', '@suzibutera', '@rigolet63469189', '@callmeoak_', '@sonygiron', '@pricasoares', '@visitante6789', '@leprechaun_3', '@germana764', '@jornaloglobo', '@paoladodeboche', '@iucascomenta', '@sonhomanu', '@ataldajessi', '@taahdinoa', '@umjuzeh', '@samucatuita', '@cindilanti', '@showdavida', '@anaolivias', '@rafakalimann_', '@carmenk29868410', '@alisson_patinho', '@rogeria42332617', '@nayibbukele', '@janeygodley', '@elanemendes9', '@i9grls', '@guiferreirattt', '@fbtrzz', '@angeikane', '@nicolygfbpa', '@kyhnoir', '@minceauras', '@bts_twt', '@ludmilla', '@sexyenfermera69', '@cosplayfantasia', '@akinasunflower', '@huayna_tejo', 'https://t.co/qxllqvamqz', 'https://t.co/3mnumgjnpo', 'https://t.co/bnygubofk3', 'https://t.co/dllkhjipvm', 'https://t.co/qgi8bymna4', 'https://t.co/zbxnko3tjc', 'https://t.co/ywls3cscvb', 'https://t.co/slvyrcbjhg', 'https://t.co/rivrnjbkhq', 'https://t.co/udoxdrskyn', 'https://t.co/m452fp3otx', 'https://t.co/r64ebjqjfu', 'https://t.co/qxkzk1gnun', 'https://t.co/t0ygkm2lzt', 'https://t.co/wwvovsx8fr', 'https://t.co/qmupncchru', 'https://t.co/q9hq6emny1', 'https://t.co/xpx8umvb1m', 'https://t.co/oiv8oqtomo', 'https://t.co/d0nod1m7ie', 'https://t.co/t1ubqqhsrb', 'https://t.co/lhj6na4czi', 'https://t.co/zuyivpnudu', 'https://t.co/amiida4vis', 'https://t.co/ocbbfprb0m', 'https://t.co/ggkuy1mf8h', 'https://t.co/cxeowynenn', 'https://t.co/enwp4lzgfh', 'https://t.co/wmnop82tet', 'https://t.co/qcngys4t7l', 'https://t.co/pbri3e2x2a', 'https://t.co/iivcccaqdq', 'https://t.co/d4baci8bz6', 'https://t.co/ngrpyd3kt9', 'https://t.co/ubfl867efg', 'https://t.co/ofbsmyizdz', 'https://t.co/ryrt3mkxw0', 'https://t.co/ilawqna3hr', 'https://t.co/lteczkjncl', 'https://t.co/migcpww47b', 'https://t.co/2g5rzmj7lc']\n",
      "remove_ponc ['@karendc99', '@lagareirosantos', '@aliehnada', '@luccasoliverra', '@holygah', '@jojo_littletodd', '@bibibailas', '@suzibutera', '@rigolet63469189', '@callmeoak_', '@sonygiron', '@pricasoares', '@visitante6789', '@leprechaun_3', '@germana764', '@jornaloglobo', '@paoladodeboche', '@iucascomenta', '@sonhomanu', '@ataldajessi', '@taahdinoa', '@umjuzeh', '@samucatuita', '@cindilanti', '@showdavida', '@anaolivias', '@rafakalimann_', '@carmenk29868410', '@alisson_patinho', '@rogeria42332617', '@nayibbukele', '@janeygodley', '@elanemendes9', '@i9grls', '@guiferreirattt', '@fbtrzz', '@angeikane', '@nicolygfbpa', '@kyhnoir', '@minceauras', '@bts_twt', '@ludmilla', '@sexyenfermera69', '@cosplayfantasia', '@akinasunflower', '@huayna_tejo', 'https://t.co/qxllqvamqz', 'https://t.co/3mnumgjnpo', 'https://t.co/bnygubofk3', 'https://t.co/dllkhjipvm', 'https://t.co/qgi8bymna4', 'https://t.co/zbxnko3tjc', 'https://t.co/ywls3cscvb', 'https://t.co/slvyrcbjhg', 'https://t.co/rivrnjbkhq', 'https://t.co/udoxdrskyn', 'https://t.co/m452fp3otx', 'https://t.co/r64ebjqjfu', 'https://t.co/qxkzk1gnun', 'https://t.co/t0ygkm2lzt', 'https://t.co/wwvovsx8fr', 'https://t.co/qmupncchru', 'https://t.co/q9hq6emny1', 'https://t.co/xpx8umvb1m', 'https://t.co/oiv8oqtomo', 'https://t.co/d0nod1m7ie', 'https://t.co/t1ubqqhsrb', 'https://t.co/lhj6na4czi', 'https://t.co/zuyivpnudu', 'https://t.co/amiida4vis', 'https://t.co/ocbbfprb0m', 'https://t.co/ggkuy1mf8h', 'https://t.co/cxeowynenn', 'https://t.co/enwp4lzgfh', 'https://t.co/wmnop82tet', 'https://t.co/qcngys4t7l', 'https://t.co/pbri3e2x2a', 'https://t.co/iivcccaqdq', 'https://t.co/d4baci8bz6', 'https://t.co/ngrpyd3kt9', 'https://t.co/ubfl867efg', 'https://t.co/ofbsmyizdz', 'https://t.co/ryrt3mkxw0', 'https://t.co/ilawqna3hr', 'https://t.co/lteczkjncl', 'https://t.co/migcpww47b', 'https://t.co/2g5rzmj7lc']\n",
      "remove_word_sts ['@karendc99', '@lagareirosantos', '@aliehnada', '@luccasoliverra', '@holygah', '@jojo_littletodd', '@bibibailas', '@suzibutera', '@rigolet63469189', '@callmeoak_', '@sonygiron', '@pricasoares', '@visitante6789', '@leprechaun_3', '@germana764', '@jornaloglobo', '@paoladodeboche', '@iucascomenta', '@sonhomanu', '@ataldajessi', '@taahdinoa', '@umjuzeh', '@samucatuita', '@cindilanti', '@showdavida', '@anaolivias', '@rafakalimann_', '@carmenk29868410', '@alisson_patinho', '@rogeria42332617', '@nayibbukele', '@janeygodley', '@elanemendes9', '@i9grls', '@guiferreirattt', '@fbtrzz', '@angeikane', '@nicolygfbpa', '@kyhnoir', '@minceauras', '@bts_twt', '@ludmilla', '@sexyenfermera69', '@cosplayfantasia', '@akinasunflower', '@huayna_tejo', 'https://t.co/qxllqvamqz', 'https://t.co/3mnumgjnpo', 'https://t.co/bnygubofk3', 'https://t.co/dllkhjipvm', 'https://t.co/qgi8bymna4', 'https://t.co/zbxnko3tjc', 'https://t.co/ywls3cscvb', 'https://t.co/slvyrcbjhg', 'https://t.co/rivrnjbkhq', 'https://t.co/udoxdrskyn', 'https://t.co/m452fp3otx', 'https://t.co/r64ebjqjfu', 'https://t.co/qxkzk1gnun', 'https://t.co/t0ygkm2lzt', 'https://t.co/wwvovsx8fr', 'https://t.co/qmupncchru', 'https://t.co/q9hq6emny1', 'https://t.co/xpx8umvb1m', 'https://t.co/oiv8oqtomo', 'https://t.co/d0nod1m7ie', 'https://t.co/t1ubqqhsrb', 'https://t.co/lhj6na4czi', 'https://t.co/zuyivpnudu', 'https://t.co/amiida4vis', 'https://t.co/ocbbfprb0m', 'https://t.co/ggkuy1mf8h', 'https://t.co/cxeowynenn', 'https://t.co/enwp4lzgfh', 'https://t.co/wmnop82tet', 'https://t.co/qcngys4t7l', 'https://t.co/pbri3e2x2a', 'https://t.co/iivcccaqdq', 'https://t.co/d4baci8bz6', 'https://t.co/ngrpyd3kt9', 'https://t.co/ubfl867efg', 'https://t.co/ofbsmyizdz', 'https://t.co/ryrt3mkxw0', 'https://t.co/ilawqna3hr', 'https://t.co/lteczkjncl', 'https://t.co/migcpww47b', 'https://t.co/2g5rzmj7lc', '\\x00o', 'tô', 'eu', 'fé', 'ñ', 'dá', 'te', '11', '\\x00', 'há', 'em', 'o', 'q', '…', 'tá', '2', 'c', 'lá', 'no', 'aí', 'mt', 'ou', 'so', 'eh', 'd', 'só', 'po', 'é\\x00', 'da', '\\x00\\x00', 'b\\x00', 'e', 'aq', 'né', 'ju', 'de', 'zé', 'ar', 'as', 'to', '20', 'ri', 'se', 'a', 'à', 'tl', 'g1', '30', 'mó', 'hj', '7', 'ig', 'na', 'tb', 'qm', 'os', 'ai', 'já', 'vc', 'fã', 'me', 'rp', 'b', 'n', 'ia', 'tt', '1', 'ta', 'ao', 'do', 'mn', 'pq', 'e\\x00', 'p', 'vê', 'é', 'vi', 'um', 'ja', 'i', 'ir']\n",
      "remove_laugh ['@karendc99', '@lagareirosantos', '@aliehnada', '@luccasoliverra', '@holygah', '@jojo_littletodd', '@bibibailas', '@suzibutera', '@rigolet63469189', '@callmeoak_', '@sonygiron', '@pricasoares', '@visitante6789', '@leprechaun_3', '@germana764', '@jornaloglobo', '@paoladodeboche', '@iucascomenta', '@sonhomanu', '@ataldajessi', '@taahdinoa', '@umjuzeh', '@samucatuita', '@cindilanti', '@showdavida', '@anaolivias', '@rafakalimann_', '@carmenk29868410', '@alisson_patinho', '@rogeria42332617', '@nayibbukele', '@janeygodley', '@elanemendes9', '@i9grls', '@guiferreirattt', '@fbtrzz', '@angeikane', '@nicolygfbpa', '@kyhnoir', '@minceauras', '@bts_twt', '@ludmilla', '@sexyenfermera69', '@cosplayfantasia', '@akinasunflower', '@huayna_tejo', 'https://t.co/qxllqvamqz', 'https://t.co/3mnumgjnpo', 'https://t.co/bnygubofk3', 'https://t.co/dllkhjipvm', 'https://t.co/qgi8bymna4', 'https://t.co/zbxnko3tjc', 'https://t.co/ywls3cscvb', 'https://t.co/slvyrcbjhg', 'https://t.co/rivrnjbkhq', 'https://t.co/udoxdrskyn', 'https://t.co/m452fp3otx', 'https://t.co/r64ebjqjfu', 'https://t.co/qxkzk1gnun', 'https://t.co/t0ygkm2lzt', 'https://t.co/wwvovsx8fr', 'https://t.co/qmupncchru', 'https://t.co/q9hq6emny1', 'https://t.co/xpx8umvb1m', 'https://t.co/oiv8oqtomo', 'https://t.co/d0nod1m7ie', 'https://t.co/t1ubqqhsrb', 'https://t.co/lhj6na4czi', 'https://t.co/zuyivpnudu', 'https://t.co/amiida4vis', 'https://t.co/ocbbfprb0m', 'https://t.co/ggkuy1mf8h', 'https://t.co/cxeowynenn', 'https://t.co/enwp4lzgfh', 'https://t.co/wmnop82tet', 'https://t.co/qcngys4t7l', 'https://t.co/pbri3e2x2a', 'https://t.co/iivcccaqdq', 'https://t.co/d4baci8bz6', 'https://t.co/ngrpyd3kt9', 'https://t.co/ubfl867efg', 'https://t.co/ofbsmyizdz', 'https://t.co/ryrt3mkxw0', 'https://t.co/ilawqna3hr', 'https://t.co/lteczkjncl', 'https://t.co/migcpww47b', 'https://t.co/2g5rzmj7lc', '\\x00o', 'tô', 'eu', 'fé', 'ñ', 'dá', 'te', '11', '\\x00', 'há', 'em', 'o', 'q', '…', 'tá', '2', 'c', 'lá', 'no', 'aí', 'mt', 'ou', 'so', 'eh', 'd', 'só', 'po', 'é\\x00', 'da', '\\x00\\x00', 'b\\x00', 'e', 'aq', 'né', 'ju', 'de', 'zé', 'ar', 'as', 'to', '20', 'ri', 'se', 'a', 'à', 'tl', 'g1', '30', 'mó', 'hj', '7', 'ig', 'na', 'tb', 'qm', 'os', 'ai', 'já', 'vc', 'fã', 'me', 'rp', 'b', 'n', 'ia', 'tt', '1', 'ta', 'ao', 'do', 'mn', 'pq', 'e\\x00', 'p', 'vê', 'é', 'vi', 'um', 'ja', 'i', 'ir', '', '', '', '', '', '', '', '']\n",
      "remove_num_str ['@karendc99', '@lagareirosantos', '@aliehnada', '@luccasoliverra', '@holygah', '@jojo_littletodd', '@bibibailas', '@suzibutera', '@rigolet63469189', '@callmeoak_', '@sonygiron', '@pricasoares', '@visitante6789', '@leprechaun_3', '@germana764', '@jornaloglobo', '@paoladodeboche', '@iucascomenta', '@sonhomanu', '@ataldajessi', '@taahdinoa', '@umjuzeh', '@samucatuita', '@cindilanti', '@showdavida', '@anaolivias', '@rafakalimann_', '@carmenk29868410', '@alisson_patinho', '@rogeria42332617', '@nayibbukele', '@janeygodley', '@elanemendes9', '@i9grls', '@guiferreirattt', '@fbtrzz', '@angeikane', '@nicolygfbpa', '@kyhnoir', '@minceauras', '@bts_twt', '@ludmilla', '@sexyenfermera69', '@cosplayfantasia', '@akinasunflower', '@huayna_tejo', 'https://t.co/qxllqvamqz', 'https://t.co/3mnumgjnpo', 'https://t.co/bnygubofk3', 'https://t.co/dllkhjipvm', 'https://t.co/qgi8bymna4', 'https://t.co/zbxnko3tjc', 'https://t.co/ywls3cscvb', 'https://t.co/slvyrcbjhg', 'https://t.co/rivrnjbkhq', 'https://t.co/udoxdrskyn', 'https://t.co/m452fp3otx', 'https://t.co/r64ebjqjfu', 'https://t.co/qxkzk1gnun', 'https://t.co/t0ygkm2lzt', 'https://t.co/wwvovsx8fr', 'https://t.co/qmupncchru', 'https://t.co/q9hq6emny1', 'https://t.co/xpx8umvb1m', 'https://t.co/oiv8oqtomo', 'https://t.co/d0nod1m7ie', 'https://t.co/t1ubqqhsrb', 'https://t.co/lhj6na4czi', 'https://t.co/zuyivpnudu', 'https://t.co/amiida4vis', 'https://t.co/ocbbfprb0m', 'https://t.co/ggkuy1mf8h', 'https://t.co/cxeowynenn', 'https://t.co/enwp4lzgfh', 'https://t.co/wmnop82tet', 'https://t.co/qcngys4t7l', 'https://t.co/pbri3e2x2a', 'https://t.co/iivcccaqdq', 'https://t.co/d4baci8bz6', 'https://t.co/ngrpyd3kt9', 'https://t.co/ubfl867efg', 'https://t.co/ofbsmyizdz', 'https://t.co/ryrt3mkxw0', 'https://t.co/ilawqna3hr', 'https://t.co/lteczkjncl', 'https://t.co/migcpww47b', 'https://t.co/2g5rzmj7lc', '\\x00o', 'tô', 'eu', 'fé', 'ñ', 'dá', 'te', '11', '\\x00', 'há', 'em', 'o', 'q', '…', 'tá', '2', 'c', 'lá', 'no', 'aí', 'mt', 'ou', 'so', 'eh', 'd', 'só', 'po', 'é\\x00', 'da', '\\x00\\x00', 'b\\x00', 'e', 'aq', 'né', 'ju', 'de', 'zé', 'ar', 'as', 'to', '20', 'ri', 'se', 'a', 'à', 'tl', 'g1', '30', 'mó', 'hj', '7', 'ig', 'na', 'tb', 'qm', 'os', 'ai', 'já', 'vc', 'fã', 'me', 'rp', 'b', 'n', 'ia', 'tt', '1', 'ta', 'ao', 'do', 'mn', 'pq', 'e\\x00', 'p', 'vê', 'é', 'vi', 'um', 'ja', 'i', 'ir', '', '', '', '', '', '', '', '', '2022\\x00', '2022\\x00', '2753', '2753', '2016\\x0018', '2016\\x0018']\n",
      "Total ['@karendc99', '@lagareirosantos', '@aliehnada', '@luccasoliverra', '@holygah', '@jojo_littletodd', '@bibibailas', '@suzibutera', '@rigolet63469189', '@callmeoak_', '@sonygiron', '@pricasoares', '@visitante6789', '@leprechaun_3', '@germana764', '@jornaloglobo', '@paoladodeboche', '@iucascomenta', '@sonhomanu', '@ataldajessi', '@taahdinoa', '@umjuzeh', '@samucatuita', '@cindilanti', '@showdavida', '@anaolivias', '@rafakalimann_', '@carmenk29868410', '@alisson_patinho', '@rogeria42332617', '@nayibbukele', '@janeygodley', '@elanemendes9', '@i9grls', '@guiferreirattt', '@fbtrzz', '@angeikane', '@nicolygfbpa', '@kyhnoir', '@minceauras', '@bts_twt', '@ludmilla', '@sexyenfermera69', '@cosplayfantasia', '@akinasunflower', '@huayna_tejo', 'https://t.co/qxllqvamqz', 'https://t.co/3mnumgjnpo', 'https://t.co/bnygubofk3', 'https://t.co/dllkhjipvm', 'https://t.co/qgi8bymna4', 'https://t.co/zbxnko3tjc', 'https://t.co/ywls3cscvb', 'https://t.co/slvyrcbjhg', 'https://t.co/rivrnjbkhq', 'https://t.co/udoxdrskyn', 'https://t.co/m452fp3otx', 'https://t.co/r64ebjqjfu', 'https://t.co/qxkzk1gnun', 'https://t.co/t0ygkm2lzt', 'https://t.co/wwvovsx8fr', 'https://t.co/qmupncchru', 'https://t.co/q9hq6emny1', 'https://t.co/xpx8umvb1m', 'https://t.co/oiv8oqtomo', 'https://t.co/d0nod1m7ie', 'https://t.co/t1ubqqhsrb', 'https://t.co/lhj6na4czi', 'https://t.co/zuyivpnudu', 'https://t.co/amiida4vis', 'https://t.co/ocbbfprb0m', 'https://t.co/ggkuy1mf8h', 'https://t.co/cxeowynenn', 'https://t.co/enwp4lzgfh', 'https://t.co/wmnop82tet', 'https://t.co/qcngys4t7l', 'https://t.co/pbri3e2x2a', 'https://t.co/iivcccaqdq', 'https://t.co/d4baci8bz6', 'https://t.co/ngrpyd3kt9', 'https://t.co/ubfl867efg', 'https://t.co/ofbsmyizdz', 'https://t.co/ryrt3mkxw0', 'https://t.co/ilawqna3hr', 'https://t.co/lteczkjncl', 'https://t.co/migcpww47b', 'https://t.co/2g5rzmj7lc', '\\x00o', 'tô', 'eu', 'fé', 'ñ', 'dá', 'te', '11', '\\x00', 'há', 'em', 'o', 'q', '…', 'tá', '2', 'c', 'lá', 'no', 'aí', 'mt', 'ou', 'so', 'eh', 'd', 'só', 'po', 'é\\x00', 'da', '\\x00\\x00', 'b\\x00', 'e', 'aq', 'né', 'ju', 'de', 'zé', 'ar', 'as', 'to', '20', 'ri', 'se', 'a', 'à', 'tl', 'g1', '30', 'mó', 'hj', '7', 'ig', 'na', 'tb', 'qm', 'os', 'ai', 'já', 'vc', 'fã', 'me', 'rp', 'b', 'n', 'ia', 'tt', '1', 'ta', 'ao', 'do', 'mn', 'pq', 'e\\x00', 'p', 'vê', 'é', 'vi', 'um', 'ja', 'i', 'ir', '', '', '', '', '', '', '', '', '2022\\x00', '2022\\x00', '2753', '2753', '2016\\x0018', '2016\\x0018']\n"
     ]
    }
   ],
   "source": [
    "print('\\n sem palavras com @')\n",
    "qremove_at_rel = rel_limp1.remove_at()\n",
    "print('\\n sem palavras com link')\n",
    "qremove_link_rel =rel_limp.remove_link()\n",
    "print('\\n sem pontuação nas palavras')\n",
    "qremove_ponc_rel = rel_limp2.remove_ponc()\n",
    "print('\\n sem palavras com menos de 3 letras')\n",
    "qremove_word_sts_rel = rel_limp3.remove_word_sts(3)\n",
    "print('\\n sem palavras com mais de 3 ks juntos')\n",
    "qremove_laugh_rel = rel_limp4.remove_laugh(2, 5)\n",
    "print('\\n sem palavras com sequencia de numero da ordem das unidades maior que 3 juntos')\n",
    "qremove_num_str_rel = rel_limp5.remove_num_str(3)\n",
    "print('\\n todos os filtros juntos')\n",
    "qremove_options_rel = rel_limp6.remove_options(remove_at={True: '()'}, remove_link={True: '()'},\n",
    "                                    remove_ponc={True: '()'},remove_laugh={True: '(2, 5)'},\n",
    "                                    remove_word_sts={True: '(3)'}, remove_num_str={True: '(3)'})\n"
   ],
   "metadata": {
    "collapsed": false,
    "pycharm": {
     "name": "#%%\n"
    }
   }
  },
  {
   "cell_type": "code",
   "execution_count": 144,
   "outputs": [
    {
     "name": "stdout",
     "output_type": "stream",
     "text": [
      "para tweets irrelevantes\n"
     ]
    },
    {
     "data": {
      "text/plain": "               # de ocorrências\nfantástico                   98\nno                           79\no                            75\nque                          74\na                            67\n...                         ...\nfilhos                        1\n@sonhomanu                    1\n@michele_miss                 1\nnível                         1\nolá,                          1\n\n[1240 rows x 1 columns]",
      "text/html": "<div>\n<style scoped>\n    .dataframe tbody tr th:only-of-type {\n        vertical-align: middle;\n    }\n\n    .dataframe tbody tr th {\n        vertical-align: top;\n    }\n\n    .dataframe thead th {\n        text-align: right;\n    }\n</style>\n<table border=\"1\" class=\"dataframe\">\n  <thead>\n    <tr style=\"text-align: right;\">\n      <th></th>\n      <th># de ocorrências</th>\n    </tr>\n  </thead>\n  <tbody>\n    <tr>\n      <th>fantástico</th>\n      <td>98</td>\n    </tr>\n    <tr>\n      <th>no</th>\n      <td>79</td>\n    </tr>\n    <tr>\n      <th>o</th>\n      <td>75</td>\n    </tr>\n    <tr>\n      <th>que</th>\n      <td>74</td>\n    </tr>\n    <tr>\n      <th>a</th>\n      <td>67</td>\n    </tr>\n    <tr>\n      <th>...</th>\n      <td>...</td>\n    </tr>\n    <tr>\n      <th>filhos</th>\n      <td>1</td>\n    </tr>\n    <tr>\n      <th>@sonhomanu</th>\n      <td>1</td>\n    </tr>\n    <tr>\n      <th>@michele_miss</th>\n      <td>1</td>\n    </tr>\n    <tr>\n      <th>nível</th>\n      <td>1</td>\n    </tr>\n    <tr>\n      <th>olá,</th>\n      <td>1</td>\n    </tr>\n  </tbody>\n</table>\n<p>1240 rows × 1 columns</p>\n</div>"
     },
     "execution_count": 144,
     "metadata": {},
     "output_type": "execute_result"
    }
   ],
   "source": [
    "print('para tweets irrelevantes')\n",
    "irel = ListWord(column_name='Treinamento').c_o_f(dados_treino_irel)\n",
    "irel.sort_values(by='# de ocorrências', ascending=False)"
   ],
   "metadata": {
    "collapsed": false,
    "pycharm": {
     "name": "#%%\n"
    }
   }
  },
  {
   "cell_type": "code",
   "execution_count": 145,
   "outputs": [],
   "source": [
    "irel_limp = RemoveWords(irel, '# de ocorrências', show_removed=True)\n",
    "irel_limp1 = RemoveWords(irel, '# de ocorrências', show_removed=True)\n",
    "irel_limp2 = RemoveWords(irel, '# de ocorrências', show_removed=True)\n",
    "irel_limp3 = RemoveWords(irel, '# de ocorrências', show_removed=True)\n",
    "irel_limp4 = RemoveWords(irel, '# de ocorrências', show_removed=True)\n",
    "irel_limp5 = RemoveWords(irel, '# de ocorrências', show_removed=True)\n",
    "irel_limp6 = RemoveWords(irel, '# de ocorrências', show_removed=True)"
   ],
   "metadata": {
    "collapsed": false,
    "pycharm": {
     "name": "#%%\n"
    }
   }
  },
  {
   "cell_type": "code",
   "execution_count": 146,
   "outputs": [
    {
     "name": "stdout",
     "output_type": "stream",
     "text": [
      "\n",
      " sem palavras com @\n",
      "['@legalnaay', '@zeliaduncan', '@dipirango', '@marcelomedici', '@sonicofficialjp', '@agenda2030_', '@youtube', '@joshrhcds', '@gildovigor', '@yizcut', '@nanahsantosss', '@baefeiix', '@heroi_romanesco', '@trajaza', '@garrafnha', '@charlidamelio', '@eusouluismelo', '@julhette', '@n12news', '@awencis', '@heliouchoaa', '@coreygamble', '@benicamilaa', '@butteerffllyy', '@alwaleed_talal', '@vinehciuslol', '@louvplacez', '@daianenem', '@dolcegabbana', '@grimes_fanha', '@anajuxl', '@feyrisnyan_nyan', '@nen_min_viiu', '@perryundo', '@chaeychuulover', '@cianecrf', '.@anygabriwiiy', '@jornaloglobo', '@', '@sereiasensitiva', '@marthapapaleo', '@sonhomanu', '@michele_miss', '@thiagomncc', '@yefobic', '@ei_angie', '@israelxxoo', '@diarioole', '@regiondemurcia', '@krisjenner', '@nassar_furat', '@thisismaxtrying', '@grana2burn', '@arianagrande', '@kxcio', '@showdavida', '@chiidemitadas', '(@corinthians019)', '@luizdavipaolilo', '@rosana', '@sweetenersdw', '@sweet_haroldo', '@rickylodge', '@gabzm07', '@jully02184332', '@mpercb', '@iwtfeels', '@jramonfernandez', '@danielaalmeida8', '@gordaopitchfork', '@gugachacra', '@paulovieirareal', '@fiuk.', '@cnnee', '@newtlark', '@dnl91_', '@locoaprendiendo', '@felipeneto', '@jovempannews', '@dantinhas', '@tovejepsen', '@cbrzit', '@cesarnebot', '@flaviamaynarte', '@giolimoes', '@lucianohuck', '@lucasdetea', '@btsmarxistas', '@ticorilofreire', '@julisides', '@twittermedia', '@diavaldetails', '@carlosalcaraz_1', '@ludmilla', '@brasil247', '@ecbahia', '@flwrstomin', '@domingao', '@laverdad_es', '@soyfdelrincon', '@aaguirredc']\n",
      "\n",
      " sem palavras com link\n",
      "['https://t.co/9etexc5sqe', 'https://t.co/q0bmgj8njv', 'https://t.co/uimpvulbln', 'https://t.co/noopncnwdb', 'https://t.co/z2bftnl7wl', 'https://t.co/ber6zmo52a', 'https://t.co/zph0idgn3e', 'https://t.co/nckw3xkjqh', 'https://t.co/amanm5ickw', 'https://t.co/hv07g9nigy', 'https://t.co/gtnuocghvy', 'https://t.co/qmupncchru', 'https://t.co/e0w8khaewi', 'https://t.co/azlin46w57', 'https://t.co/dupdvftq7c', 'https://t.co/eghuyvzzdu', 'https://t.co/srv1g1pmj7', 'https://t.co/4u8l3si1vm', 'https://t.co/3ut6k9dfrz', 'https://t.co/rqv5dwaflu', 'https://t.co/akuynhuxnb', 'https://t.co/pejwa3nnmt', 'https://t.co/sq3mjsd03v', 'https://t.co/utuxekz2ma', 'https://t.co/yyywbxbsr7', 'https://t.co/0gnbzlhmvf', 'https://t.co/utws0zlt17', 'https://t.co/clrwboao46', 'https://t.co/zbc9awdksm', 'https://t.co/4uw1d1nroz', 'https://t.co/c1fsvyik2v', 'https://t.co/gbrrrqdwpn', 'https://t.co/ujlorusq5l', 'https://t.co/qm9z1wggkx']\n",
      "\n",
      " sem pontuação nas palavras\n",
      "\n",
      " sem palavras com menos de 3 letras\n",
      "['tô', 'eu', '25', 'vá', 'te', '11', '.', 'há', 'em', 'o', 'q', 've', 'la', 'tá', ',', 'rt', 'no', 'aí', 'ô', 'mt', 'ou', 'so', '˚', 'só', '=', 'da', '@', 'e', 'aq', '3', 'né', '༘✶', 'ju', 'ze', 'de', 'ar', 'as', 'to', '20', 'se', 'a', '*', 'ep', 'dm', 'hj', '7', '/', 'oq', '⁀➷', 'na', 'tb', 'kk', '️', 'x', ':', 'os', 'ai', 'já', 'vc', 'cu', ':(', '4h', 'fã', 'me', 'b', 'n', '-', 'ia', 'tt', '5', 'ta', 'ao', 'do', 'pq', 'e,', 'jk', 'af', '!!', 'p', 'cá', 'tv', 'td', 'cm', 'vê', 'é', 'vi', 'ne', 'um', 'ja', 'di']\n",
      "\n",
      " sem palavras com mais de 3 ks juntos\n",
      "['', 'amg', '', '', '']\n",
      "\n",
      " sem palavras com sequencia de numero da ordem das unidades maior que 3 juntos\n",
      "['@agenda2030_', '@agenda2030_', 'k-12', '(@corinthians019)', '2019', '2019', '@jully02184332', '@jully02184332', '@jully02184332', '@jully02184332', '@jully02184332', '@jully02184332', '@brasil247']\n",
      "\n",
      " todos os filtros juntos\n",
      "remove_at ['@legalnaay', '@zeliaduncan', '@dipirango', '@marcelomedici', '@sonicofficialjp', '@agenda2030_', '@youtube', '@joshrhcds', '@gildovigor', '@yizcut', '@nanahsantosss', '@baefeiix', '@heroi_romanesco', '@trajaza', '@garrafnha', '@charlidamelio', '@eusouluismelo', '@julhette', '@n12news', '@awencis', '@heliouchoaa', '@coreygamble', '@benicamilaa', '@butteerffllyy', '@alwaleed_talal', '@vinehciuslol', '@louvplacez', '@daianenem', '@dolcegabbana', '@grimes_fanha', '@anajuxl', '@feyrisnyan_nyan', '@nen_min_viiu', '@perryundo', '@chaeychuulover', '@cianecrf', '.@anygabriwiiy', '@jornaloglobo', '@', '@sereiasensitiva', '@marthapapaleo', '@sonhomanu', '@michele_miss', '@thiagomncc', '@yefobic', '@ei_angie', '@israelxxoo', '@diarioole', '@regiondemurcia', '@krisjenner', '@nassar_furat', '@thisismaxtrying', '@grana2burn', '@arianagrande', '@kxcio', '@showdavida', '@chiidemitadas', '(@corinthians019)', '@luizdavipaolilo', '@rosana', '@sweetenersdw', '@sweet_haroldo', '@rickylodge', '@gabzm07', '@jully02184332', '@mpercb', '@iwtfeels', '@jramonfernandez', '@danielaalmeida8', '@gordaopitchfork', '@gugachacra', '@paulovieirareal', '@fiuk.', '@cnnee', '@newtlark', '@dnl91_', '@locoaprendiendo', '@felipeneto', '@jovempannews', '@dantinhas', '@tovejepsen', '@cbrzit', '@cesarnebot', '@flaviamaynarte', '@giolimoes', '@lucianohuck', '@lucasdetea', '@btsmarxistas', '@ticorilofreire', '@julisides', '@twittermedia', '@diavaldetails', '@carlosalcaraz_1', '@ludmilla', '@brasil247', '@ecbahia', '@flwrstomin', '@domingao', '@laverdad_es', '@soyfdelrincon', '@aaguirredc']\n",
      "remove_link ['@legalnaay', '@zeliaduncan', '@dipirango', '@marcelomedici', '@sonicofficialjp', '@agenda2030_', '@youtube', '@joshrhcds', '@gildovigor', '@yizcut', '@nanahsantosss', '@baefeiix', '@heroi_romanesco', '@trajaza', '@garrafnha', '@charlidamelio', '@eusouluismelo', '@julhette', '@n12news', '@awencis', '@heliouchoaa', '@coreygamble', '@benicamilaa', '@butteerffllyy', '@alwaleed_talal', '@vinehciuslol', '@louvplacez', '@daianenem', '@dolcegabbana', '@grimes_fanha', '@anajuxl', '@feyrisnyan_nyan', '@nen_min_viiu', '@perryundo', '@chaeychuulover', '@cianecrf', '.@anygabriwiiy', '@jornaloglobo', '@', '@sereiasensitiva', '@marthapapaleo', '@sonhomanu', '@michele_miss', '@thiagomncc', '@yefobic', '@ei_angie', '@israelxxoo', '@diarioole', '@regiondemurcia', '@krisjenner', '@nassar_furat', '@thisismaxtrying', '@grana2burn', '@arianagrande', '@kxcio', '@showdavida', '@chiidemitadas', '(@corinthians019)', '@luizdavipaolilo', '@rosana', '@sweetenersdw', '@sweet_haroldo', '@rickylodge', '@gabzm07', '@jully02184332', '@mpercb', '@iwtfeels', '@jramonfernandez', '@danielaalmeida8', '@gordaopitchfork', '@gugachacra', '@paulovieirareal', '@fiuk.', '@cnnee', '@newtlark', '@dnl91_', '@locoaprendiendo', '@felipeneto', '@jovempannews', '@dantinhas', '@tovejepsen', '@cbrzit', '@cesarnebot', '@flaviamaynarte', '@giolimoes', '@lucianohuck', '@lucasdetea', '@btsmarxistas', '@ticorilofreire', '@julisides', '@twittermedia', '@diavaldetails', '@carlosalcaraz_1', '@ludmilla', '@brasil247', '@ecbahia', '@flwrstomin', '@domingao', '@laverdad_es', '@soyfdelrincon', '@aaguirredc', 'https://t.co/9etexc5sqe', 'https://t.co/q0bmgj8njv', 'https://t.co/uimpvulbln', 'https://t.co/noopncnwdb', 'https://t.co/z2bftnl7wl', 'https://t.co/ber6zmo52a', 'https://t.co/zph0idgn3e', 'https://t.co/nckw3xkjqh', 'https://t.co/amanm5ickw', 'https://t.co/hv07g9nigy', 'https://t.co/gtnuocghvy', 'https://t.co/qmupncchru', 'https://t.co/e0w8khaewi', 'https://t.co/azlin46w57', 'https://t.co/dupdvftq7c', 'https://t.co/eghuyvzzdu', 'https://t.co/srv1g1pmj7', 'https://t.co/4u8l3si1vm', 'https://t.co/3ut6k9dfrz', 'https://t.co/rqv5dwaflu', 'https://t.co/akuynhuxnb', 'https://t.co/pejwa3nnmt', 'https://t.co/sq3mjsd03v', 'https://t.co/utuxekz2ma', 'https://t.co/yyywbxbsr7', 'https://t.co/0gnbzlhmvf', 'https://t.co/utws0zlt17', 'https://t.co/clrwboao46', 'https://t.co/zbc9awdksm', 'https://t.co/4uw1d1nroz', 'https://t.co/c1fsvyik2v', 'https://t.co/gbrrrqdwpn', 'https://t.co/ujlorusq5l', 'https://t.co/qm9z1wggkx']\n",
      "remove_ponc ['@legalnaay', '@zeliaduncan', '@dipirango', '@marcelomedici', '@sonicofficialjp', '@agenda2030_', '@youtube', '@joshrhcds', '@gildovigor', '@yizcut', '@nanahsantosss', '@baefeiix', '@heroi_romanesco', '@trajaza', '@garrafnha', '@charlidamelio', '@eusouluismelo', '@julhette', '@n12news', '@awencis', '@heliouchoaa', '@coreygamble', '@benicamilaa', '@butteerffllyy', '@alwaleed_talal', '@vinehciuslol', '@louvplacez', '@daianenem', '@dolcegabbana', '@grimes_fanha', '@anajuxl', '@feyrisnyan_nyan', '@nen_min_viiu', '@perryundo', '@chaeychuulover', '@cianecrf', '.@anygabriwiiy', '@jornaloglobo', '@', '@sereiasensitiva', '@marthapapaleo', '@sonhomanu', '@michele_miss', '@thiagomncc', '@yefobic', '@ei_angie', '@israelxxoo', '@diarioole', '@regiondemurcia', '@krisjenner', '@nassar_furat', '@thisismaxtrying', '@grana2burn', '@arianagrande', '@kxcio', '@showdavida', '@chiidemitadas', '(@corinthians019)', '@luizdavipaolilo', '@rosana', '@sweetenersdw', '@sweet_haroldo', '@rickylodge', '@gabzm07', '@jully02184332', '@mpercb', '@iwtfeels', '@jramonfernandez', '@danielaalmeida8', '@gordaopitchfork', '@gugachacra', '@paulovieirareal', '@fiuk.', '@cnnee', '@newtlark', '@dnl91_', '@locoaprendiendo', '@felipeneto', '@jovempannews', '@dantinhas', '@tovejepsen', '@cbrzit', '@cesarnebot', '@flaviamaynarte', '@giolimoes', '@lucianohuck', '@lucasdetea', '@btsmarxistas', '@ticorilofreire', '@julisides', '@twittermedia', '@diavaldetails', '@carlosalcaraz_1', '@ludmilla', '@brasil247', '@ecbahia', '@flwrstomin', '@domingao', '@laverdad_es', '@soyfdelrincon', '@aaguirredc', 'https://t.co/9etexc5sqe', 'https://t.co/q0bmgj8njv', 'https://t.co/uimpvulbln', 'https://t.co/noopncnwdb', 'https://t.co/z2bftnl7wl', 'https://t.co/ber6zmo52a', 'https://t.co/zph0idgn3e', 'https://t.co/nckw3xkjqh', 'https://t.co/amanm5ickw', 'https://t.co/hv07g9nigy', 'https://t.co/gtnuocghvy', 'https://t.co/qmupncchru', 'https://t.co/e0w8khaewi', 'https://t.co/azlin46w57', 'https://t.co/dupdvftq7c', 'https://t.co/eghuyvzzdu', 'https://t.co/srv1g1pmj7', 'https://t.co/4u8l3si1vm', 'https://t.co/3ut6k9dfrz', 'https://t.co/rqv5dwaflu', 'https://t.co/akuynhuxnb', 'https://t.co/pejwa3nnmt', 'https://t.co/sq3mjsd03v', 'https://t.co/utuxekz2ma', 'https://t.co/yyywbxbsr7', 'https://t.co/0gnbzlhmvf', 'https://t.co/utws0zlt17', 'https://t.co/clrwboao46', 'https://t.co/zbc9awdksm', 'https://t.co/4uw1d1nroz', 'https://t.co/c1fsvyik2v', 'https://t.co/gbrrrqdwpn', 'https://t.co/ujlorusq5l', 'https://t.co/qm9z1wggkx']\n",
      "remove_word_sts ['@legalnaay', '@zeliaduncan', '@dipirango', '@marcelomedici', '@sonicofficialjp', '@agenda2030_', '@youtube', '@joshrhcds', '@gildovigor', '@yizcut', '@nanahsantosss', '@baefeiix', '@heroi_romanesco', '@trajaza', '@garrafnha', '@charlidamelio', '@eusouluismelo', '@julhette', '@n12news', '@awencis', '@heliouchoaa', '@coreygamble', '@benicamilaa', '@butteerffllyy', '@alwaleed_talal', '@vinehciuslol', '@louvplacez', '@daianenem', '@dolcegabbana', '@grimes_fanha', '@anajuxl', '@feyrisnyan_nyan', '@nen_min_viiu', '@perryundo', '@chaeychuulover', '@cianecrf', '.@anygabriwiiy', '@jornaloglobo', '@', '@sereiasensitiva', '@marthapapaleo', '@sonhomanu', '@michele_miss', '@thiagomncc', '@yefobic', '@ei_angie', '@israelxxoo', '@diarioole', '@regiondemurcia', '@krisjenner', '@nassar_furat', '@thisismaxtrying', '@grana2burn', '@arianagrande', '@kxcio', '@showdavida', '@chiidemitadas', '(@corinthians019)', '@luizdavipaolilo', '@rosana', '@sweetenersdw', '@sweet_haroldo', '@rickylodge', '@gabzm07', '@jully02184332', '@mpercb', '@iwtfeels', '@jramonfernandez', '@danielaalmeida8', '@gordaopitchfork', '@gugachacra', '@paulovieirareal', '@fiuk.', '@cnnee', '@newtlark', '@dnl91_', '@locoaprendiendo', '@felipeneto', '@jovempannews', '@dantinhas', '@tovejepsen', '@cbrzit', '@cesarnebot', '@flaviamaynarte', '@giolimoes', '@lucianohuck', '@lucasdetea', '@btsmarxistas', '@ticorilofreire', '@julisides', '@twittermedia', '@diavaldetails', '@carlosalcaraz_1', '@ludmilla', '@brasil247', '@ecbahia', '@flwrstomin', '@domingao', '@laverdad_es', '@soyfdelrincon', '@aaguirredc', 'https://t.co/9etexc5sqe', 'https://t.co/q0bmgj8njv', 'https://t.co/uimpvulbln', 'https://t.co/noopncnwdb', 'https://t.co/z2bftnl7wl', 'https://t.co/ber6zmo52a', 'https://t.co/zph0idgn3e', 'https://t.co/nckw3xkjqh', 'https://t.co/amanm5ickw', 'https://t.co/hv07g9nigy', 'https://t.co/gtnuocghvy', 'https://t.co/qmupncchru', 'https://t.co/e0w8khaewi', 'https://t.co/azlin46w57', 'https://t.co/dupdvftq7c', 'https://t.co/eghuyvzzdu', 'https://t.co/srv1g1pmj7', 'https://t.co/4u8l3si1vm', 'https://t.co/3ut6k9dfrz', 'https://t.co/rqv5dwaflu', 'https://t.co/akuynhuxnb', 'https://t.co/pejwa3nnmt', 'https://t.co/sq3mjsd03v', 'https://t.co/utuxekz2ma', 'https://t.co/yyywbxbsr7', 'https://t.co/0gnbzlhmvf', 'https://t.co/utws0zlt17', 'https://t.co/clrwboao46', 'https://t.co/zbc9awdksm', 'https://t.co/4uw1d1nroz', 'https://t.co/c1fsvyik2v', 'https://t.co/gbrrrqdwpn', 'https://t.co/ujlorusq5l', 'https://t.co/qm9z1wggkx', 'tô', 'eu', '25', 'vá', 'te', '11', '\\x00', 'há', 'em', 'o', 'q', 've', 'la', 'tá', 'rt', 'no', 'aí', 'ô', 'mt', 'ou', 'so', '˚', 'só', 'da', 'e', 'aq', '3', 'né', '༘✶', 'ju', 'ze', 'de', 'ar', 'as', 'to', '20', 'se', 'a', 'ep', 'dm', 'hj', '7', 'oq', '⁀➷', 'na', 'tb', 'kk', '️', 'x', 'os', 'ai', 'já', 'vc', 'cu', '\\x00\\x00', '4h', 'fã', 'me', 'b', 'n', 'ia', 'tt', '5', 'ta', 'ao', 'do', 'pq', 'e\\x00', 'jk', 'af', 'p', 'cá', 'tv', 'td', 'cm', 'vê', 'é', 'vi', 'ne', 'um', 'ja', 'di']\n",
      "remove_laugh ['@legalnaay', '@zeliaduncan', '@dipirango', '@marcelomedici', '@sonicofficialjp', '@agenda2030_', '@youtube', '@joshrhcds', '@gildovigor', '@yizcut', '@nanahsantosss', '@baefeiix', '@heroi_romanesco', '@trajaza', '@garrafnha', '@charlidamelio', '@eusouluismelo', '@julhette', '@n12news', '@awencis', '@heliouchoaa', '@coreygamble', '@benicamilaa', '@butteerffllyy', '@alwaleed_talal', '@vinehciuslol', '@louvplacez', '@daianenem', '@dolcegabbana', '@grimes_fanha', '@anajuxl', '@feyrisnyan_nyan', '@nen_min_viiu', '@perryundo', '@chaeychuulover', '@cianecrf', '.@anygabriwiiy', '@jornaloglobo', '@', '@sereiasensitiva', '@marthapapaleo', '@sonhomanu', '@michele_miss', '@thiagomncc', '@yefobic', '@ei_angie', '@israelxxoo', '@diarioole', '@regiondemurcia', '@krisjenner', '@nassar_furat', '@thisismaxtrying', '@grana2burn', '@arianagrande', '@kxcio', '@showdavida', '@chiidemitadas', '(@corinthians019)', '@luizdavipaolilo', '@rosana', '@sweetenersdw', '@sweet_haroldo', '@rickylodge', '@gabzm07', '@jully02184332', '@mpercb', '@iwtfeels', '@jramonfernandez', '@danielaalmeida8', '@gordaopitchfork', '@gugachacra', '@paulovieirareal', '@fiuk.', '@cnnee', '@newtlark', '@dnl91_', '@locoaprendiendo', '@felipeneto', '@jovempannews', '@dantinhas', '@tovejepsen', '@cbrzit', '@cesarnebot', '@flaviamaynarte', '@giolimoes', '@lucianohuck', '@lucasdetea', '@btsmarxistas', '@ticorilofreire', '@julisides', '@twittermedia', '@diavaldetails', '@carlosalcaraz_1', '@ludmilla', '@brasil247', '@ecbahia', '@flwrstomin', '@domingao', '@laverdad_es', '@soyfdelrincon', '@aaguirredc', 'https://t.co/9etexc5sqe', 'https://t.co/q0bmgj8njv', 'https://t.co/uimpvulbln', 'https://t.co/noopncnwdb', 'https://t.co/z2bftnl7wl', 'https://t.co/ber6zmo52a', 'https://t.co/zph0idgn3e', 'https://t.co/nckw3xkjqh', 'https://t.co/amanm5ickw', 'https://t.co/hv07g9nigy', 'https://t.co/gtnuocghvy', 'https://t.co/qmupncchru', 'https://t.co/e0w8khaewi', 'https://t.co/azlin46w57', 'https://t.co/dupdvftq7c', 'https://t.co/eghuyvzzdu', 'https://t.co/srv1g1pmj7', 'https://t.co/4u8l3si1vm', 'https://t.co/3ut6k9dfrz', 'https://t.co/rqv5dwaflu', 'https://t.co/akuynhuxnb', 'https://t.co/pejwa3nnmt', 'https://t.co/sq3mjsd03v', 'https://t.co/utuxekz2ma', 'https://t.co/yyywbxbsr7', 'https://t.co/0gnbzlhmvf', 'https://t.co/utws0zlt17', 'https://t.co/clrwboao46', 'https://t.co/zbc9awdksm', 'https://t.co/4uw1d1nroz', 'https://t.co/c1fsvyik2v', 'https://t.co/gbrrrqdwpn', 'https://t.co/ujlorusq5l', 'https://t.co/qm9z1wggkx', 'tô', 'eu', '25', 'vá', 'te', '11', '\\x00', 'há', 'em', 'o', 'q', 've', 'la', 'tá', 'rt', 'no', 'aí', 'ô', 'mt', 'ou', 'so', '˚', 'só', 'da', 'e', 'aq', '3', 'né', '༘✶', 'ju', 'ze', 'de', 'ar', 'as', 'to', '20', 'se', 'a', 'ep', 'dm', 'hj', '7', 'oq', '⁀➷', 'na', 'tb', 'kk', '️', 'x', 'os', 'ai', 'já', 'vc', 'cu', '\\x00\\x00', '4h', 'fã', 'me', 'b', 'n', 'ia', 'tt', '5', 'ta', 'ao', 'do', 'pq', 'e\\x00', 'jk', 'af', 'p', 'cá', 'tv', 'td', 'cm', 'vê', 'é', 'vi', 'ne', 'um', 'ja', 'di', '', 'amg', '', '']\n",
      "remove_num_str ['@legalnaay', '@zeliaduncan', '@dipirango', '@marcelomedici', '@sonicofficialjp', '@agenda2030_', '@youtube', '@joshrhcds', '@gildovigor', '@yizcut', '@nanahsantosss', '@baefeiix', '@heroi_romanesco', '@trajaza', '@garrafnha', '@charlidamelio', '@eusouluismelo', '@julhette', '@n12news', '@awencis', '@heliouchoaa', '@coreygamble', '@benicamilaa', '@butteerffllyy', '@alwaleed_talal', '@vinehciuslol', '@louvplacez', '@daianenem', '@dolcegabbana', '@grimes_fanha', '@anajuxl', '@feyrisnyan_nyan', '@nen_min_viiu', '@perryundo', '@chaeychuulover', '@cianecrf', '.@anygabriwiiy', '@jornaloglobo', '@', '@sereiasensitiva', '@marthapapaleo', '@sonhomanu', '@michele_miss', '@thiagomncc', '@yefobic', '@ei_angie', '@israelxxoo', '@diarioole', '@regiondemurcia', '@krisjenner', '@nassar_furat', '@thisismaxtrying', '@grana2burn', '@arianagrande', '@kxcio', '@showdavida', '@chiidemitadas', '(@corinthians019)', '@luizdavipaolilo', '@rosana', '@sweetenersdw', '@sweet_haroldo', '@rickylodge', '@gabzm07', '@jully02184332', '@mpercb', '@iwtfeels', '@jramonfernandez', '@danielaalmeida8', '@gordaopitchfork', '@gugachacra', '@paulovieirareal', '@fiuk.', '@cnnee', '@newtlark', '@dnl91_', '@locoaprendiendo', '@felipeneto', '@jovempannews', '@dantinhas', '@tovejepsen', '@cbrzit', '@cesarnebot', '@flaviamaynarte', '@giolimoes', '@lucianohuck', '@lucasdetea', '@btsmarxistas', '@ticorilofreire', '@julisides', '@twittermedia', '@diavaldetails', '@carlosalcaraz_1', '@ludmilla', '@brasil247', '@ecbahia', '@flwrstomin', '@domingao', '@laverdad_es', '@soyfdelrincon', '@aaguirredc', 'https://t.co/9etexc5sqe', 'https://t.co/q0bmgj8njv', 'https://t.co/uimpvulbln', 'https://t.co/noopncnwdb', 'https://t.co/z2bftnl7wl', 'https://t.co/ber6zmo52a', 'https://t.co/zph0idgn3e', 'https://t.co/nckw3xkjqh', 'https://t.co/amanm5ickw', 'https://t.co/hv07g9nigy', 'https://t.co/gtnuocghvy', 'https://t.co/qmupncchru', 'https://t.co/e0w8khaewi', 'https://t.co/azlin46w57', 'https://t.co/dupdvftq7c', 'https://t.co/eghuyvzzdu', 'https://t.co/srv1g1pmj7', 'https://t.co/4u8l3si1vm', 'https://t.co/3ut6k9dfrz', 'https://t.co/rqv5dwaflu', 'https://t.co/akuynhuxnb', 'https://t.co/pejwa3nnmt', 'https://t.co/sq3mjsd03v', 'https://t.co/utuxekz2ma', 'https://t.co/yyywbxbsr7', 'https://t.co/0gnbzlhmvf', 'https://t.co/utws0zlt17', 'https://t.co/clrwboao46', 'https://t.co/zbc9awdksm', 'https://t.co/4uw1d1nroz', 'https://t.co/c1fsvyik2v', 'https://t.co/gbrrrqdwpn', 'https://t.co/ujlorusq5l', 'https://t.co/qm9z1wggkx', 'tô', 'eu', '25', 'vá', 'te', '11', '\\x00', 'há', 'em', 'o', 'q', 've', 'la', 'tá', 'rt', 'no', 'aí', 'ô', 'mt', 'ou', 'so', '˚', 'só', 'da', 'e', 'aq', '3', 'né', '༘✶', 'ju', 'ze', 'de', 'ar', 'as', 'to', '20', 'se', 'a', 'ep', 'dm', 'hj', '7', 'oq', '⁀➷', 'na', 'tb', 'kk', '️', 'x', 'os', 'ai', 'já', 'vc', 'cu', '\\x00\\x00', '4h', 'fã', 'me', 'b', 'n', 'ia', 'tt', '5', 'ta', 'ao', 'do', 'pq', 'e\\x00', 'jk', 'af', 'p', 'cá', 'tv', 'td', 'cm', 'vê', 'é', 'vi', 'ne', 'um', 'ja', 'di', '', 'amg', '', '', '2019', '2019']\n",
      "Total ['@legalnaay', '@zeliaduncan', '@dipirango', '@marcelomedici', '@sonicofficialjp', '@agenda2030_', '@youtube', '@joshrhcds', '@gildovigor', '@yizcut', '@nanahsantosss', '@baefeiix', '@heroi_romanesco', '@trajaza', '@garrafnha', '@charlidamelio', '@eusouluismelo', '@julhette', '@n12news', '@awencis', '@heliouchoaa', '@coreygamble', '@benicamilaa', '@butteerffllyy', '@alwaleed_talal', '@vinehciuslol', '@louvplacez', '@daianenem', '@dolcegabbana', '@grimes_fanha', '@anajuxl', '@feyrisnyan_nyan', '@nen_min_viiu', '@perryundo', '@chaeychuulover', '@cianecrf', '.@anygabriwiiy', '@jornaloglobo', '@', '@sereiasensitiva', '@marthapapaleo', '@sonhomanu', '@michele_miss', '@thiagomncc', '@yefobic', '@ei_angie', '@israelxxoo', '@diarioole', '@regiondemurcia', '@krisjenner', '@nassar_furat', '@thisismaxtrying', '@grana2burn', '@arianagrande', '@kxcio', '@showdavida', '@chiidemitadas', '(@corinthians019)', '@luizdavipaolilo', '@rosana', '@sweetenersdw', '@sweet_haroldo', '@rickylodge', '@gabzm07', '@jully02184332', '@mpercb', '@iwtfeels', '@jramonfernandez', '@danielaalmeida8', '@gordaopitchfork', '@gugachacra', '@paulovieirareal', '@fiuk.', '@cnnee', '@newtlark', '@dnl91_', '@locoaprendiendo', '@felipeneto', '@jovempannews', '@dantinhas', '@tovejepsen', '@cbrzit', '@cesarnebot', '@flaviamaynarte', '@giolimoes', '@lucianohuck', '@lucasdetea', '@btsmarxistas', '@ticorilofreire', '@julisides', '@twittermedia', '@diavaldetails', '@carlosalcaraz_1', '@ludmilla', '@brasil247', '@ecbahia', '@flwrstomin', '@domingao', '@laverdad_es', '@soyfdelrincon', '@aaguirredc', 'https://t.co/9etexc5sqe', 'https://t.co/q0bmgj8njv', 'https://t.co/uimpvulbln', 'https://t.co/noopncnwdb', 'https://t.co/z2bftnl7wl', 'https://t.co/ber6zmo52a', 'https://t.co/zph0idgn3e', 'https://t.co/nckw3xkjqh', 'https://t.co/amanm5ickw', 'https://t.co/hv07g9nigy', 'https://t.co/gtnuocghvy', 'https://t.co/qmupncchru', 'https://t.co/e0w8khaewi', 'https://t.co/azlin46w57', 'https://t.co/dupdvftq7c', 'https://t.co/eghuyvzzdu', 'https://t.co/srv1g1pmj7', 'https://t.co/4u8l3si1vm', 'https://t.co/3ut6k9dfrz', 'https://t.co/rqv5dwaflu', 'https://t.co/akuynhuxnb', 'https://t.co/pejwa3nnmt', 'https://t.co/sq3mjsd03v', 'https://t.co/utuxekz2ma', 'https://t.co/yyywbxbsr7', 'https://t.co/0gnbzlhmvf', 'https://t.co/utws0zlt17', 'https://t.co/clrwboao46', 'https://t.co/zbc9awdksm', 'https://t.co/4uw1d1nroz', 'https://t.co/c1fsvyik2v', 'https://t.co/gbrrrqdwpn', 'https://t.co/ujlorusq5l', 'https://t.co/qm9z1wggkx', 'tô', 'eu', '25', 'vá', 'te', '11', '\\x00', 'há', 'em', 'o', 'q', 've', 'la', 'tá', 'rt', 'no', 'aí', 'ô', 'mt', 'ou', 'so', '˚', 'só', 'da', 'e', 'aq', '3', 'né', '༘✶', 'ju', 'ze', 'de', 'ar', 'as', 'to', '20', 'se', 'a', 'ep', 'dm', 'hj', '7', 'oq', '⁀➷', 'na', 'tb', 'kk', '️', 'x', 'os', 'ai', 'já', 'vc', 'cu', '\\x00\\x00', '4h', 'fã', 'me', 'b', 'n', 'ia', 'tt', '5', 'ta', 'ao', 'do', 'pq', 'e\\x00', 'jk', 'af', 'p', 'cá', 'tv', 'td', 'cm', 'vê', 'é', 'vi', 'ne', 'um', 'ja', 'di', '', 'amg', '', '', '2019', '2019']\n"
     ]
    }
   ],
   "source": [
    "print('\\n sem palavras com @')\n",
    "qremove_at_irel = irel_limp1.remove_at()\n",
    "print('\\n sem palavras com link')\n",
    "qremove_link_irel =irel_limp.remove_link()\n",
    "print('\\n sem pontuação nas palavras')\n",
    "qremove_ponc_irel = irel_limp2.remove_ponc()\n",
    "print('\\n sem palavras com menos de 3 letras')\n",
    "qremove_word_sts_irel = irel_limp3.remove_word_sts(3)\n",
    "print('\\n sem palavras com mais de 3 ks juntos')\n",
    "qremove_laugh_irel = irel_limp4.remove_laugh(2, 5)\n",
    "print('\\n sem palavras com sequencia de numero da ordem das unidades maior que 3 juntos')\n",
    "qremove_num_str_irel = irel_limp5.remove_num_str(3)\n",
    "print('\\n todos os filtros juntos')\n",
    "qremove_options_irel = irel_limp6.remove_options(remove_at={True: '()'}, remove_link={True: '()'},\n",
    "                                    remove_ponc={True: '()'},remove_laugh={True: '(2, 5)'},\n",
    "                                    remove_word_sts={True: '(3)'}, remove_num_str={True: '(3)'})"
   ],
   "metadata": {
    "collapsed": false,
    "pycharm": {
     "name": "#%%\n"
    }
   }
  },
  {
   "cell_type": "markdown",
   "source": [
    "#### Antes de filtrar, todos os emojis e as palavras inseridas no começo são excluídos da filtragem e colocados de volta na vase de dados."
   ],
   "metadata": {
    "collapsed": false,
    "pycharm": {
     "name": "#%% md\n"
    }
   }
  },
  {
   "cell_type": "markdown",
   "source": [
    "#### dataframes com a frequencia de palavras relevantes e irrelevantes ao lado um do outro"
   ],
   "metadata": {
    "collapsed": false,
    "pycharm": {
     "name": "#%% md\n"
    }
   }
  },
  {
   "cell_type": "code",
   "execution_count": 147,
   "outputs": [],
   "source": [
    "# qremove_options_rel.sort_values(by='# de ocorrências', ascending=False)\n",
    "# NB.df_style(qremove_options_rel.sort_values(by='# de ocorrências', ascending=False).iloc[0:10], qremove_options_irel.sort_values(by='# de ocorrências', ascending=False).iloc[0:10],\n",
    "#             titulo1='Palavras em tweets relevantes', titulo2='Palavras em tweets irelevantes')\n",
    "# # try:\n",
    "# #     qremove_options_relS=qremove_options_rel.sort_values(by='# de ocorrências', ascending=False).style.set_table_attributes\\\n",
    "# #         (\"style='display:inline'\").set_table_styles(table_styles = [dict(selector=\"caption\",\n",
    "# #         props=[(\"text-align\", \"center\"),\n",
    "# #         (\"font-size\", \"110%\"),\n",
    "# #         (\"color\", 'black')])]).set_caption('Palavras em tweets relevantes')\n",
    "# #\n",
    "# #     qremove_options_irelS=qremove_options_irel.sort_values(by='# de ocorrências', ascending=False).style.set_table_attributes\\\n",
    "# #         (\"style='display:inline'\").set_table_styles(table_styles = [dict(selector=\"caption\",\n",
    "# #         props=[(\"text-align\", \"center\"),\n",
    "# #         (\"font-size\", \"110%\"),\n",
    "# #         (\"color\", 'black')])]).set_caption('Palavras em tweets irrelevantes')\n",
    "# # except Exception:\n",
    "# #     pass\n",
    "# # display_html(qremove_options_relS._repr_html_() + \"\\xa0\\xa0\\xa0\\xa0\\xa0\\xa0\\xa0\\xa0\\xa0\\xa0\\xa0\\xa0\" + qremove_options_irelS._repr_html_(), raw=True)"
   ],
   "metadata": {
    "collapsed": false,
    "pycharm": {
     "name": "#%%\n"
    }
   }
  },
  {
   "cell_type": "code",
   "execution_count": 148,
   "outputs": [
    {
     "data": {
      "text/html": "<style type=\"text/css\">\n#T_13c05_ caption {\n  text-align: center;\n  font-size: 120%;\n  color: black;\n}\n</style>\n<table id=\"T_13c05_\" style='display:inline'>\n  <caption>Palavras em tweets relevantes</caption>\n  <thead>\n    <tr>\n      <th class=\"blank level0\" >&nbsp;</th>\n      <th class=\"col_heading level0 col0\" ># de ocorrências</th>\n    </tr>\n  </thead>\n  <tbody>\n    <tr>\n      <th id=\"T_13c05_level0_row0\" class=\"row_heading level0 row0\" >a</th>\n      <td id=\"T_13c05_row0_col0\" class=\"data row0 col0\" >101</td>\n    </tr>\n    <tr>\n      <th id=\"T_13c05_level0_row1\" class=\"row_heading level0 row1\" >que</th>\n      <td id=\"T_13c05_row1_col0\" class=\"data row1 col0\" >93</td>\n    </tr>\n    <tr>\n      <th id=\"T_13c05_level0_row2\" class=\"row_heading level0 row2\" >o</th>\n      <td id=\"T_13c05_row2_col0\" class=\"data row2 col0\" >89</td>\n    </tr>\n    <tr>\n      <th id=\"T_13c05_level0_row3\" class=\"row_heading level0 row3\" >fantástico</th>\n      <td id=\"T_13c05_row3_col0\" class=\"data row3 col0\" >81</td>\n    </tr>\n    <tr>\n      <th id=\"T_13c05_level0_row4\" class=\"row_heading level0 row4\" >de</th>\n      <td id=\"T_13c05_row4_col0\" class=\"data row4 col0\" >76</td>\n    </tr>\n    <tr>\n      <th id=\"T_13c05_level0_row5\" class=\"row_heading level0 row5\" >do</th>\n      <td id=\"T_13c05_row5_col0\" class=\"data row5 col0\" >74</td>\n    </tr>\n    <tr>\n      <th id=\"T_13c05_level0_row6\" class=\"row_heading level0 row6\" >e</th>\n      <td id=\"T_13c05_row6_col0\" class=\"data row6 col0\" >72</td>\n    </tr>\n    <tr>\n      <th id=\"T_13c05_level0_row7\" class=\"row_heading level0 row7\" >no</th>\n      <td id=\"T_13c05_row7_col0\" class=\"data row7 col0\" >60</td>\n    </tr>\n    <tr>\n      <th id=\"T_13c05_level0_row8\" class=\"row_heading level0 row8\" >sobre</th>\n      <td id=\"T_13c05_row8_col0\" class=\"data row8 col0\" >46</td>\n    </tr>\n    <tr>\n      <th id=\"T_13c05_level0_row9\" class=\"row_heading level0 row9\" >é</th>\n      <td id=\"T_13c05_row9_col0\" class=\"data row9 col0\" >46</td>\n    </tr>\n  </tbody>\n</table>\n            <style type=\"text/css\">\n#T_12841_ caption {\n  text-align: center;\n  font-size: 120%;\n  color: black;\n}\n</style>\n<table id=\"T_12841_\" style='display:inline'>\n  <caption>Palavras em tweets irelevantes</caption>\n  <thead>\n    <tr>\n      <th class=\"blank level0\" >&nbsp;</th>\n      <th class=\"col_heading level0 col0\" ># de ocorrências</th>\n    </tr>\n  </thead>\n  <tbody>\n    <tr>\n      <th id=\"T_12841_level0_row0\" class=\"row_heading level0 row0\" >fantástico</th>\n      <td id=\"T_12841_row0_col0\" class=\"data row0 col0\" >98</td>\n    </tr>\n    <tr>\n      <th id=\"T_12841_level0_row1\" class=\"row_heading level0 row1\" >no</th>\n      <td id=\"T_12841_row1_col0\" class=\"data row1 col0\" >79</td>\n    </tr>\n    <tr>\n      <th id=\"T_12841_level0_row2\" class=\"row_heading level0 row2\" >o</th>\n      <td id=\"T_12841_row2_col0\" class=\"data row2 col0\" >75</td>\n    </tr>\n    <tr>\n      <th id=\"T_12841_level0_row3\" class=\"row_heading level0 row3\" >que</th>\n      <td id=\"T_12841_row3_col0\" class=\"data row3 col0\" >74</td>\n    </tr>\n    <tr>\n      <th id=\"T_12841_level0_row4\" class=\"row_heading level0 row4\" >a</th>\n      <td id=\"T_12841_row4_col0\" class=\"data row4 col0\" >67</td>\n    </tr>\n    <tr>\n      <th id=\"T_12841_level0_row5\" class=\"row_heading level0 row5\" >de</th>\n      <td id=\"T_12841_row5_col0\" class=\"data row5 col0\" >66</td>\n    </tr>\n    <tr>\n      <th id=\"T_12841_level0_row6\" class=\"row_heading level0 row6\" >e</th>\n      <td id=\"T_12841_row6_col0\" class=\"data row6 col0\" >60</td>\n    </tr>\n    <tr>\n      <th id=\"T_12841_level0_row7\" class=\"row_heading level0 row7\" >do</th>\n      <td id=\"T_12841_row7_col0\" class=\"data row7 col0\" >57</td>\n    </tr>\n    <tr>\n      <th id=\"T_12841_level0_row8\" class=\"row_heading level0 row8\" >é</th>\n      <td id=\"T_12841_row8_col0\" class=\"data row8 col0\" >39</td>\n    </tr>\n    <tr>\n      <th id=\"T_12841_level0_row9\" class=\"row_heading level0 row9\" >brasil</th>\n      <td id=\"T_12841_row9_col0\" class=\"data row9 col0\" >29</td>\n    </tr>\n  </tbody>\n</table>\n"
     },
     "metadata": {},
     "output_type": "display_data"
    }
   ],
   "source": [
    "qremove_link_rel.sort_values(by='# de ocorrências', ascending=False)\n",
    "NB.df_style(qremove_link_rel.sort_values(by='# de ocorrências', ascending=False).iloc[0:10], qremove_link_irel.sort_values(by='# de ocorrências', ascending=False).iloc[0:10],\n",
    "            titulo1='Palavras em tweets relevantes', titulo2='Palavras em tweets irelevantes')"
   ],
   "metadata": {
    "collapsed": false,
    "pycharm": {
     "name": "#%%\n"
    }
   }
  },
  {
   "cell_type": "code",
   "execution_count": 149,
   "outputs": [
    {
     "data": {
      "text/html": "<style type=\"text/css\">\n#T_79845_ caption {\n  text-align: center;\n  font-size: 120%;\n  color: black;\n}\n</style>\n<table id=\"T_79845_\" style='display:inline'>\n  <caption>Palavras em tweets relevantes</caption>\n  <thead>\n    <tr>\n      <th class=\"blank level0\" >&nbsp;</th>\n      <th class=\"col_heading level0 col0\" ># de ocorrências</th>\n    </tr>\n  </thead>\n  <tbody>\n    <tr>\n      <th id=\"T_79845_level0_row0\" class=\"row_heading level0 row0\" >que</th>\n      <td id=\"T_79845_row0_col0\" class=\"data row0 col0\" >93</td>\n    </tr>\n    <tr>\n      <th id=\"T_79845_level0_row1\" class=\"row_heading level0 row1\" >fantástico</th>\n      <td id=\"T_79845_row1_col0\" class=\"data row1 col0\" >81</td>\n    </tr>\n    <tr>\n      <th id=\"T_79845_level0_row2\" class=\"row_heading level0 row2\" >sobre</th>\n      <td id=\"T_79845_row2_col0\" class=\"data row2 col0\" >46</td>\n    </tr>\n    <tr>\n      <th id=\"T_79845_level0_row3\" class=\"row_heading level0 row3\" >matéria</th>\n      <td id=\"T_79845_row3_col0\" class=\"data row3 col0\" >42</td>\n    </tr>\n    <tr>\n      <th id=\"T_79845_level0_row4\" class=\"row_heading level0 row4\" >não</th>\n      <td id=\"T_79845_row4_col0\" class=\"data row4 col0\" >30</td>\n    </tr>\n    <tr>\n      <th id=\"T_79845_level0_row5\" class=\"row_heading level0 row5\" >\u0000fantastico</th>\n      <td id=\"T_79845_row5_col0\" class=\"data row5 col0\" >28</td>\n    </tr>\n    <tr>\n      <th id=\"T_79845_level0_row6\" class=\"row_heading level0 row6\" >com</th>\n      <td id=\"T_79845_row6_col0\" class=\"data row6 col0\" >23</td>\n    </tr>\n    <tr>\n      <th id=\"T_79845_level0_row7\" class=\"row_heading level0 row7\" >uma</th>\n      <td id=\"T_79845_row7_col0\" class=\"data row7 col0\" >22</td>\n    </tr>\n    <tr>\n      <th id=\"T_79845_level0_row8\" class=\"row_heading level0 row8\" >haters</th>\n      <td id=\"T_79845_row8_col0\" class=\"data row8 col0\" >20</td>\n    </tr>\n    <tr>\n      <th id=\"T_79845_level0_row9\" class=\"row_heading level0 row9\" >mais</th>\n      <td id=\"T_79845_row9_col0\" class=\"data row9 col0\" >18</td>\n    </tr>\n  </tbody>\n</table>\n            <style type=\"text/css\">\n#T_77a8d_ caption {\n  text-align: center;\n  font-size: 120%;\n  color: black;\n}\n</style>\n<table id=\"T_77a8d_\" style='display:inline'>\n  <caption>Palavras em tweets irelevantes</caption>\n  <thead>\n    <tr>\n      <th class=\"blank level0\" >&nbsp;</th>\n      <th class=\"col_heading level0 col0\" ># de ocorrências</th>\n    </tr>\n  </thead>\n  <tbody>\n    <tr>\n      <th id=\"T_77a8d_level0_row0\" class=\"row_heading level0 row0\" >fantástico</th>\n      <td id=\"T_77a8d_row0_col0\" class=\"data row0 col0\" >98</td>\n    </tr>\n    <tr>\n      <th id=\"T_77a8d_level0_row1\" class=\"row_heading level0 row1\" >que</th>\n      <td id=\"T_77a8d_row1_col0\" class=\"data row1 col0\" >74</td>\n    </tr>\n    <tr>\n      <th id=\"T_77a8d_level0_row2\" class=\"row_heading level0 row2\" >brasil</th>\n      <td id=\"T_77a8d_row2_col0\" class=\"data row2 col0\" >29</td>\n    </tr>\n    <tr>\n      <th id=\"T_77a8d_level0_row3\" class=\"row_heading level0 row3\" >com</th>\n      <td id=\"T_77a8d_row3_col0\" class=\"data row3 col0\" >28</td>\n    </tr>\n    <tr>\n      <th id=\"T_77a8d_level0_row4\" class=\"row_heading level0 row4\" >não</th>\n      <td id=\"T_77a8d_row4_col0\" class=\"data row4 col0\" >25</td>\n    </tr>\n    <tr>\n      <th id=\"T_77a8d_level0_row5\" class=\"row_heading level0 row5\" >\u0000armyselcaday</th>\n      <td id=\"T_77a8d_row5_col0\" class=\"data row5 col0\" >21</td>\n    </tr>\n    <tr>\n      <th id=\"T_77a8d_level0_row6\" class=\"row_heading level0 row6\" >globo</th>\n      <td id=\"T_77a8d_row6_col0\" class=\"data row6 col0\" >21</td>\n    </tr>\n    <tr>\n      <th id=\"T_77a8d_level0_row7\" class=\"row_heading level0 row7\" >fiuk</th>\n      <td id=\"T_77a8d_row7_col0\" class=\"data row7 col0\" >20</td>\n    </tr>\n    <tr>\n      <th id=\"T_77a8d_level0_row8\" class=\"row_heading level0 row8\" >matéria</th>\n      <td id=\"T_77a8d_row8_col0\" class=\"data row8 col0\" >20</td>\n    </tr>\n    <tr>\n      <th id=\"T_77a8d_level0_row9\" class=\"row_heading level0 row9\" >uma</th>\n      <td id=\"T_77a8d_row9_col0\" class=\"data row9 col0\" >19</td>\n    </tr>\n  </tbody>\n</table>\n"
     },
     "metadata": {},
     "output_type": "display_data"
    }
   ],
   "source": [
    "qremove_ponc_rel.sort_values(by='# de ocorrências', ascending=False)\n",
    "NB.df_style(qremove_options_rel.sort_values(by='# de ocorrências', ascending=False).iloc[0:10], qremove_options_irel.sort_values(by='# de ocorrências', ascending=False).iloc[0:10],\n",
    "            titulo1='Palavras em tweets relevantes', titulo2='Palavras em tweets irelevantes')"
   ],
   "metadata": {
    "collapsed": false,
    "pycharm": {
     "name": "#%%\n"
    }
   }
  },
  {
   "cell_type": "code",
   "execution_count": 150,
   "outputs": [
    {
     "data": {
      "text/html": "<style type=\"text/css\">\n#T_44032_ caption {\n  text-align: center;\n  font-size: 120%;\n  color: black;\n}\n</style>\n<table id=\"T_44032_\" style='display:inline'>\n  <caption>Palavras em tweets relevantes</caption>\n  <thead>\n    <tr>\n      <th class=\"blank level0\" >&nbsp;</th>\n      <th class=\"col_heading level0 col0\" ># de ocorrências</th>\n    </tr>\n  </thead>\n  <tbody>\n    <tr>\n      <th id=\"T_44032_level0_row0\" class=\"row_heading level0 row0\" >que</th>\n      <td id=\"T_44032_row0_col0\" class=\"data row0 col0\" >93</td>\n    </tr>\n    <tr>\n      <th id=\"T_44032_level0_row1\" class=\"row_heading level0 row1\" >fantástico</th>\n      <td id=\"T_44032_row1_col0\" class=\"data row1 col0\" >81</td>\n    </tr>\n    <tr>\n      <th id=\"T_44032_level0_row2\" class=\"row_heading level0 row2\" >sobre</th>\n      <td id=\"T_44032_row2_col0\" class=\"data row2 col0\" >46</td>\n    </tr>\n    <tr>\n      <th id=\"T_44032_level0_row3\" class=\"row_heading level0 row3\" >matéria</th>\n      <td id=\"T_44032_row3_col0\" class=\"data row3 col0\" >42</td>\n    </tr>\n    <tr>\n      <th id=\"T_44032_level0_row4\" class=\"row_heading level0 row4\" >não</th>\n      <td id=\"T_44032_row4_col0\" class=\"data row4 col0\" >30</td>\n    </tr>\n    <tr>\n      <th id=\"T_44032_level0_row5\" class=\"row_heading level0 row5\" >\u0000fantastico</th>\n      <td id=\"T_44032_row5_col0\" class=\"data row5 col0\" >28</td>\n    </tr>\n    <tr>\n      <th id=\"T_44032_level0_row6\" class=\"row_heading level0 row6\" >com</th>\n      <td id=\"T_44032_row6_col0\" class=\"data row6 col0\" >23</td>\n    </tr>\n    <tr>\n      <th id=\"T_44032_level0_row7\" class=\"row_heading level0 row7\" >uma</th>\n      <td id=\"T_44032_row7_col0\" class=\"data row7 col0\" >22</td>\n    </tr>\n    <tr>\n      <th id=\"T_44032_level0_row8\" class=\"row_heading level0 row8\" >haters</th>\n      <td id=\"T_44032_row8_col0\" class=\"data row8 col0\" >20</td>\n    </tr>\n    <tr>\n      <th id=\"T_44032_level0_row9\" class=\"row_heading level0 row9\" >mais</th>\n      <td id=\"T_44032_row9_col0\" class=\"data row9 col0\" >18</td>\n    </tr>\n  </tbody>\n</table>\n            <style type=\"text/css\">\n#T_7c3e9_ caption {\n  text-align: center;\n  font-size: 120%;\n  color: black;\n}\n</style>\n<table id=\"T_7c3e9_\" style='display:inline'>\n  <caption>Palavras em tweets irelevantes</caption>\n  <thead>\n    <tr>\n      <th class=\"blank level0\" >&nbsp;</th>\n      <th class=\"col_heading level0 col0\" ># de ocorrências</th>\n    </tr>\n  </thead>\n  <tbody>\n    <tr>\n      <th id=\"T_7c3e9_level0_row0\" class=\"row_heading level0 row0\" >fantástico</th>\n      <td id=\"T_7c3e9_row0_col0\" class=\"data row0 col0\" >98</td>\n    </tr>\n    <tr>\n      <th id=\"T_7c3e9_level0_row1\" class=\"row_heading level0 row1\" >que</th>\n      <td id=\"T_7c3e9_row1_col0\" class=\"data row1 col0\" >74</td>\n    </tr>\n    <tr>\n      <th id=\"T_7c3e9_level0_row2\" class=\"row_heading level0 row2\" >brasil</th>\n      <td id=\"T_7c3e9_row2_col0\" class=\"data row2 col0\" >29</td>\n    </tr>\n    <tr>\n      <th id=\"T_7c3e9_level0_row3\" class=\"row_heading level0 row3\" >com</th>\n      <td id=\"T_7c3e9_row3_col0\" class=\"data row3 col0\" >28</td>\n    </tr>\n    <tr>\n      <th id=\"T_7c3e9_level0_row4\" class=\"row_heading level0 row4\" >não</th>\n      <td id=\"T_7c3e9_row4_col0\" class=\"data row4 col0\" >25</td>\n    </tr>\n    <tr>\n      <th id=\"T_7c3e9_level0_row5\" class=\"row_heading level0 row5\" >\u0000armyselcaday</th>\n      <td id=\"T_7c3e9_row5_col0\" class=\"data row5 col0\" >21</td>\n    </tr>\n    <tr>\n      <th id=\"T_7c3e9_level0_row6\" class=\"row_heading level0 row6\" >globo</th>\n      <td id=\"T_7c3e9_row6_col0\" class=\"data row6 col0\" >21</td>\n    </tr>\n    <tr>\n      <th id=\"T_7c3e9_level0_row7\" class=\"row_heading level0 row7\" >fiuk</th>\n      <td id=\"T_7c3e9_row7_col0\" class=\"data row7 col0\" >20</td>\n    </tr>\n    <tr>\n      <th id=\"T_7c3e9_level0_row8\" class=\"row_heading level0 row8\" >matéria</th>\n      <td id=\"T_7c3e9_row8_col0\" class=\"data row8 col0\" >20</td>\n    </tr>\n    <tr>\n      <th id=\"T_7c3e9_level0_row9\" class=\"row_heading level0 row9\" >uma</th>\n      <td id=\"T_7c3e9_row9_col0\" class=\"data row9 col0\" >19</td>\n    </tr>\n  </tbody>\n</table>\n"
     },
     "metadata": {},
     "output_type": "display_data"
    }
   ],
   "source": [
    "qremove_word_sts_rel.sort_values(by='# de ocorrências', ascending=False)\n",
    "NB.df_style(qremove_options_rel.sort_values(by='# de ocorrências', ascending=False).iloc[0:10], qremove_options_irel.sort_values(by='# de ocorrências', ascending=False).iloc[0:10],\n",
    "            titulo1='Palavras em tweets relevantes', titulo2='Palavras em tweets irelevantes')"
   ],
   "metadata": {
    "collapsed": false,
    "pycharm": {
     "name": "#%%\n"
    }
   }
  },
  {
   "cell_type": "code",
   "execution_count": 151,
   "outputs": [
    {
     "data": {
      "text/html": "<style type=\"text/css\">\n#T_2a2b6_ caption {\n  text-align: center;\n  font-size: 120%;\n  color: black;\n}\n</style>\n<table id=\"T_2a2b6_\" style='display:inline'>\n  <caption>Palavras em tweets relevantes</caption>\n  <thead>\n    <tr>\n      <th class=\"blank level0\" >&nbsp;</th>\n      <th class=\"col_heading level0 col0\" ># de ocorrências</th>\n    </tr>\n  </thead>\n  <tbody>\n    <tr>\n      <th id=\"T_2a2b6_level0_row0\" class=\"row_heading level0 row0\" >que</th>\n      <td id=\"T_2a2b6_row0_col0\" class=\"data row0 col0\" >93</td>\n    </tr>\n    <tr>\n      <th id=\"T_2a2b6_level0_row1\" class=\"row_heading level0 row1\" >fantástico</th>\n      <td id=\"T_2a2b6_row1_col0\" class=\"data row1 col0\" >81</td>\n    </tr>\n    <tr>\n      <th id=\"T_2a2b6_level0_row2\" class=\"row_heading level0 row2\" >sobre</th>\n      <td id=\"T_2a2b6_row2_col0\" class=\"data row2 col0\" >46</td>\n    </tr>\n    <tr>\n      <th id=\"T_2a2b6_level0_row3\" class=\"row_heading level0 row3\" >matéria</th>\n      <td id=\"T_2a2b6_row3_col0\" class=\"data row3 col0\" >42</td>\n    </tr>\n    <tr>\n      <th id=\"T_2a2b6_level0_row4\" class=\"row_heading level0 row4\" >não</th>\n      <td id=\"T_2a2b6_row4_col0\" class=\"data row4 col0\" >30</td>\n    </tr>\n    <tr>\n      <th id=\"T_2a2b6_level0_row5\" class=\"row_heading level0 row5\" >\u0000fantastico</th>\n      <td id=\"T_2a2b6_row5_col0\" class=\"data row5 col0\" >28</td>\n    </tr>\n    <tr>\n      <th id=\"T_2a2b6_level0_row6\" class=\"row_heading level0 row6\" >com</th>\n      <td id=\"T_2a2b6_row6_col0\" class=\"data row6 col0\" >23</td>\n    </tr>\n    <tr>\n      <th id=\"T_2a2b6_level0_row7\" class=\"row_heading level0 row7\" >uma</th>\n      <td id=\"T_2a2b6_row7_col0\" class=\"data row7 col0\" >22</td>\n    </tr>\n    <tr>\n      <th id=\"T_2a2b6_level0_row8\" class=\"row_heading level0 row8\" >haters</th>\n      <td id=\"T_2a2b6_row8_col0\" class=\"data row8 col0\" >20</td>\n    </tr>\n    <tr>\n      <th id=\"T_2a2b6_level0_row9\" class=\"row_heading level0 row9\" >mais</th>\n      <td id=\"T_2a2b6_row9_col0\" class=\"data row9 col0\" >18</td>\n    </tr>\n  </tbody>\n</table>\n            <style type=\"text/css\">\n#T_e31fd_ caption {\n  text-align: center;\n  font-size: 120%;\n  color: black;\n}\n</style>\n<table id=\"T_e31fd_\" style='display:inline'>\n  <caption>Palavras em tweets irelevantes</caption>\n  <thead>\n    <tr>\n      <th class=\"blank level0\" >&nbsp;</th>\n      <th class=\"col_heading level0 col0\" ># de ocorrências</th>\n    </tr>\n  </thead>\n  <tbody>\n    <tr>\n      <th id=\"T_e31fd_level0_row0\" class=\"row_heading level0 row0\" >fantástico</th>\n      <td id=\"T_e31fd_row0_col0\" class=\"data row0 col0\" >98</td>\n    </tr>\n    <tr>\n      <th id=\"T_e31fd_level0_row1\" class=\"row_heading level0 row1\" >que</th>\n      <td id=\"T_e31fd_row1_col0\" class=\"data row1 col0\" >74</td>\n    </tr>\n    <tr>\n      <th id=\"T_e31fd_level0_row2\" class=\"row_heading level0 row2\" >brasil</th>\n      <td id=\"T_e31fd_row2_col0\" class=\"data row2 col0\" >29</td>\n    </tr>\n    <tr>\n      <th id=\"T_e31fd_level0_row3\" class=\"row_heading level0 row3\" >com</th>\n      <td id=\"T_e31fd_row3_col0\" class=\"data row3 col0\" >28</td>\n    </tr>\n    <tr>\n      <th id=\"T_e31fd_level0_row4\" class=\"row_heading level0 row4\" >não</th>\n      <td id=\"T_e31fd_row4_col0\" class=\"data row4 col0\" >25</td>\n    </tr>\n    <tr>\n      <th id=\"T_e31fd_level0_row5\" class=\"row_heading level0 row5\" >\u0000armyselcaday</th>\n      <td id=\"T_e31fd_row5_col0\" class=\"data row5 col0\" >21</td>\n    </tr>\n    <tr>\n      <th id=\"T_e31fd_level0_row6\" class=\"row_heading level0 row6\" >globo</th>\n      <td id=\"T_e31fd_row6_col0\" class=\"data row6 col0\" >21</td>\n    </tr>\n    <tr>\n      <th id=\"T_e31fd_level0_row7\" class=\"row_heading level0 row7\" >fiuk</th>\n      <td id=\"T_e31fd_row7_col0\" class=\"data row7 col0\" >20</td>\n    </tr>\n    <tr>\n      <th id=\"T_e31fd_level0_row8\" class=\"row_heading level0 row8\" >matéria</th>\n      <td id=\"T_e31fd_row8_col0\" class=\"data row8 col0\" >20</td>\n    </tr>\n    <tr>\n      <th id=\"T_e31fd_level0_row9\" class=\"row_heading level0 row9\" >uma</th>\n      <td id=\"T_e31fd_row9_col0\" class=\"data row9 col0\" >19</td>\n    </tr>\n  </tbody>\n</table>\n"
     },
     "metadata": {},
     "output_type": "display_data"
    }
   ],
   "source": [
    "qremove_laugh_rel.sort_values(by='# de ocorrências', ascending=False)\n",
    "NB.df_style(qremove_options_rel.sort_values(by='# de ocorrências', ascending=False).iloc[0:10], qremove_options_irel.sort_values(by='# de ocorrências', ascending=False).iloc[0:10],\n",
    "            titulo1='Palavras em tweets relevantes', titulo2='Palavras em tweets irelevantes')"
   ],
   "metadata": {
    "collapsed": false,
    "pycharm": {
     "name": "#%%\n"
    }
   }
  },
  {
   "cell_type": "code",
   "execution_count": 152,
   "outputs": [
    {
     "data": {
      "text/html": "<style type=\"text/css\">\n#T_eeeaa_ caption {\n  text-align: center;\n  font-size: 120%;\n  color: black;\n}\n</style>\n<table id=\"T_eeeaa_\" style='display:inline'>\n  <caption>Palavras em tweets relevantes</caption>\n  <thead>\n    <tr>\n      <th class=\"blank level0\" >&nbsp;</th>\n      <th class=\"col_heading level0 col0\" ># de ocorrências</th>\n    </tr>\n  </thead>\n  <tbody>\n    <tr>\n      <th id=\"T_eeeaa_level0_row0\" class=\"row_heading level0 row0\" >que</th>\n      <td id=\"T_eeeaa_row0_col0\" class=\"data row0 col0\" >93</td>\n    </tr>\n    <tr>\n      <th id=\"T_eeeaa_level0_row1\" class=\"row_heading level0 row1\" >fantástico</th>\n      <td id=\"T_eeeaa_row1_col0\" class=\"data row1 col0\" >81</td>\n    </tr>\n    <tr>\n      <th id=\"T_eeeaa_level0_row2\" class=\"row_heading level0 row2\" >sobre</th>\n      <td id=\"T_eeeaa_row2_col0\" class=\"data row2 col0\" >46</td>\n    </tr>\n    <tr>\n      <th id=\"T_eeeaa_level0_row3\" class=\"row_heading level0 row3\" >matéria</th>\n      <td id=\"T_eeeaa_row3_col0\" class=\"data row3 col0\" >42</td>\n    </tr>\n    <tr>\n      <th id=\"T_eeeaa_level0_row4\" class=\"row_heading level0 row4\" >não</th>\n      <td id=\"T_eeeaa_row4_col0\" class=\"data row4 col0\" >30</td>\n    </tr>\n    <tr>\n      <th id=\"T_eeeaa_level0_row5\" class=\"row_heading level0 row5\" >\u0000fantastico</th>\n      <td id=\"T_eeeaa_row5_col0\" class=\"data row5 col0\" >28</td>\n    </tr>\n    <tr>\n      <th id=\"T_eeeaa_level0_row6\" class=\"row_heading level0 row6\" >com</th>\n      <td id=\"T_eeeaa_row6_col0\" class=\"data row6 col0\" >23</td>\n    </tr>\n    <tr>\n      <th id=\"T_eeeaa_level0_row7\" class=\"row_heading level0 row7\" >uma</th>\n      <td id=\"T_eeeaa_row7_col0\" class=\"data row7 col0\" >22</td>\n    </tr>\n    <tr>\n      <th id=\"T_eeeaa_level0_row8\" class=\"row_heading level0 row8\" >haters</th>\n      <td id=\"T_eeeaa_row8_col0\" class=\"data row8 col0\" >20</td>\n    </tr>\n    <tr>\n      <th id=\"T_eeeaa_level0_row9\" class=\"row_heading level0 row9\" >mais</th>\n      <td id=\"T_eeeaa_row9_col0\" class=\"data row9 col0\" >18</td>\n    </tr>\n  </tbody>\n</table>\n            <style type=\"text/css\">\n#T_22572_ caption {\n  text-align: center;\n  font-size: 120%;\n  color: black;\n}\n</style>\n<table id=\"T_22572_\" style='display:inline'>\n  <caption>Palavras em tweets irelevantes</caption>\n  <thead>\n    <tr>\n      <th class=\"blank level0\" >&nbsp;</th>\n      <th class=\"col_heading level0 col0\" ># de ocorrências</th>\n    </tr>\n  </thead>\n  <tbody>\n    <tr>\n      <th id=\"T_22572_level0_row0\" class=\"row_heading level0 row0\" >fantástico</th>\n      <td id=\"T_22572_row0_col0\" class=\"data row0 col0\" >98</td>\n    </tr>\n    <tr>\n      <th id=\"T_22572_level0_row1\" class=\"row_heading level0 row1\" >que</th>\n      <td id=\"T_22572_row1_col0\" class=\"data row1 col0\" >74</td>\n    </tr>\n    <tr>\n      <th id=\"T_22572_level0_row2\" class=\"row_heading level0 row2\" >brasil</th>\n      <td id=\"T_22572_row2_col0\" class=\"data row2 col0\" >29</td>\n    </tr>\n    <tr>\n      <th id=\"T_22572_level0_row3\" class=\"row_heading level0 row3\" >com</th>\n      <td id=\"T_22572_row3_col0\" class=\"data row3 col0\" >28</td>\n    </tr>\n    <tr>\n      <th id=\"T_22572_level0_row4\" class=\"row_heading level0 row4\" >não</th>\n      <td id=\"T_22572_row4_col0\" class=\"data row4 col0\" >25</td>\n    </tr>\n    <tr>\n      <th id=\"T_22572_level0_row5\" class=\"row_heading level0 row5\" >\u0000armyselcaday</th>\n      <td id=\"T_22572_row5_col0\" class=\"data row5 col0\" >21</td>\n    </tr>\n    <tr>\n      <th id=\"T_22572_level0_row6\" class=\"row_heading level0 row6\" >globo</th>\n      <td id=\"T_22572_row6_col0\" class=\"data row6 col0\" >21</td>\n    </tr>\n    <tr>\n      <th id=\"T_22572_level0_row7\" class=\"row_heading level0 row7\" >fiuk</th>\n      <td id=\"T_22572_row7_col0\" class=\"data row7 col0\" >20</td>\n    </tr>\n    <tr>\n      <th id=\"T_22572_level0_row8\" class=\"row_heading level0 row8\" >matéria</th>\n      <td id=\"T_22572_row8_col0\" class=\"data row8 col0\" >20</td>\n    </tr>\n    <tr>\n      <th id=\"T_22572_level0_row9\" class=\"row_heading level0 row9\" >uma</th>\n      <td id=\"T_22572_row9_col0\" class=\"data row9 col0\" >19</td>\n    </tr>\n  </tbody>\n</table>\n"
     },
     "metadata": {},
     "output_type": "display_data"
    }
   ],
   "source": [
    "qremove_num_str_rel.sort_values(by='# de ocorrências', ascending=False)\n",
    "NB.df_style(qremove_options_rel.sort_values(by='# de ocorrências', ascending=False).iloc[0:10], qremove_options_irel.sort_values(by='# de ocorrências', ascending=False).iloc[0:10],\n",
    "            titulo1='Palavras em tweets relevantes', titulo2='Palavras em tweets irelevantes')"
   ],
   "metadata": {
    "collapsed": false,
    "pycharm": {
     "name": "#%%\n"
    }
   }
  },
  {
   "cell_type": "code",
   "execution_count": 153,
   "outputs": [
    {
     "data": {
      "text/html": "<style type=\"text/css\">\n#T_f0401_ caption {\n  text-align: center;\n  font-size: 120%;\n  color: black;\n}\n</style>\n<table id=\"T_f0401_\" style='display:inline'>\n  <caption>Palavras em tweets relevantes</caption>\n  <thead>\n    <tr>\n      <th class=\"blank level0\" >&nbsp;</th>\n      <th class=\"col_heading level0 col0\" ># de ocorrências</th>\n    </tr>\n  </thead>\n  <tbody>\n    <tr>\n      <th id=\"T_f0401_level0_row0\" class=\"row_heading level0 row0\" >que</th>\n      <td id=\"T_f0401_row0_col0\" class=\"data row0 col0\" >93</td>\n    </tr>\n    <tr>\n      <th id=\"T_f0401_level0_row1\" class=\"row_heading level0 row1\" >fantástico</th>\n      <td id=\"T_f0401_row1_col0\" class=\"data row1 col0\" >81</td>\n    </tr>\n    <tr>\n      <th id=\"T_f0401_level0_row2\" class=\"row_heading level0 row2\" >sobre</th>\n      <td id=\"T_f0401_row2_col0\" class=\"data row2 col0\" >46</td>\n    </tr>\n    <tr>\n      <th id=\"T_f0401_level0_row3\" class=\"row_heading level0 row3\" >matéria</th>\n      <td id=\"T_f0401_row3_col0\" class=\"data row3 col0\" >42</td>\n    </tr>\n    <tr>\n      <th id=\"T_f0401_level0_row4\" class=\"row_heading level0 row4\" >não</th>\n      <td id=\"T_f0401_row4_col0\" class=\"data row4 col0\" >30</td>\n    </tr>\n    <tr>\n      <th id=\"T_f0401_level0_row5\" class=\"row_heading level0 row5\" >\u0000fantastico</th>\n      <td id=\"T_f0401_row5_col0\" class=\"data row5 col0\" >28</td>\n    </tr>\n    <tr>\n      <th id=\"T_f0401_level0_row6\" class=\"row_heading level0 row6\" >com</th>\n      <td id=\"T_f0401_row6_col0\" class=\"data row6 col0\" >23</td>\n    </tr>\n    <tr>\n      <th id=\"T_f0401_level0_row7\" class=\"row_heading level0 row7\" >uma</th>\n      <td id=\"T_f0401_row7_col0\" class=\"data row7 col0\" >22</td>\n    </tr>\n    <tr>\n      <th id=\"T_f0401_level0_row8\" class=\"row_heading level0 row8\" >haters</th>\n      <td id=\"T_f0401_row8_col0\" class=\"data row8 col0\" >20</td>\n    </tr>\n    <tr>\n      <th id=\"T_f0401_level0_row9\" class=\"row_heading level0 row9\" >mais</th>\n      <td id=\"T_f0401_row9_col0\" class=\"data row9 col0\" >18</td>\n    </tr>\n  </tbody>\n</table>\n            <style type=\"text/css\">\n#T_c1f1a_ caption {\n  text-align: center;\n  font-size: 120%;\n  color: black;\n}\n</style>\n<table id=\"T_c1f1a_\" style='display:inline'>\n  <caption>Palavras em tweets irelevantes</caption>\n  <thead>\n    <tr>\n      <th class=\"blank level0\" >&nbsp;</th>\n      <th class=\"col_heading level0 col0\" ># de ocorrências</th>\n    </tr>\n  </thead>\n  <tbody>\n    <tr>\n      <th id=\"T_c1f1a_level0_row0\" class=\"row_heading level0 row0\" >fantástico</th>\n      <td id=\"T_c1f1a_row0_col0\" class=\"data row0 col0\" >98</td>\n    </tr>\n    <tr>\n      <th id=\"T_c1f1a_level0_row1\" class=\"row_heading level0 row1\" >que</th>\n      <td id=\"T_c1f1a_row1_col0\" class=\"data row1 col0\" >74</td>\n    </tr>\n    <tr>\n      <th id=\"T_c1f1a_level0_row2\" class=\"row_heading level0 row2\" >brasil</th>\n      <td id=\"T_c1f1a_row2_col0\" class=\"data row2 col0\" >29</td>\n    </tr>\n    <tr>\n      <th id=\"T_c1f1a_level0_row3\" class=\"row_heading level0 row3\" >com</th>\n      <td id=\"T_c1f1a_row3_col0\" class=\"data row3 col0\" >28</td>\n    </tr>\n    <tr>\n      <th id=\"T_c1f1a_level0_row4\" class=\"row_heading level0 row4\" >não</th>\n      <td id=\"T_c1f1a_row4_col0\" class=\"data row4 col0\" >25</td>\n    </tr>\n    <tr>\n      <th id=\"T_c1f1a_level0_row5\" class=\"row_heading level0 row5\" >\u0000armyselcaday</th>\n      <td id=\"T_c1f1a_row5_col0\" class=\"data row5 col0\" >21</td>\n    </tr>\n    <tr>\n      <th id=\"T_c1f1a_level0_row6\" class=\"row_heading level0 row6\" >globo</th>\n      <td id=\"T_c1f1a_row6_col0\" class=\"data row6 col0\" >21</td>\n    </tr>\n    <tr>\n      <th id=\"T_c1f1a_level0_row7\" class=\"row_heading level0 row7\" >fiuk</th>\n      <td id=\"T_c1f1a_row7_col0\" class=\"data row7 col0\" >20</td>\n    </tr>\n    <tr>\n      <th id=\"T_c1f1a_level0_row8\" class=\"row_heading level0 row8\" >matéria</th>\n      <td id=\"T_c1f1a_row8_col0\" class=\"data row8 col0\" >20</td>\n    </tr>\n    <tr>\n      <th id=\"T_c1f1a_level0_row9\" class=\"row_heading level0 row9\" >uma</th>\n      <td id=\"T_c1f1a_row9_col0\" class=\"data row9 col0\" >19</td>\n    </tr>\n  </tbody>\n</table>\n"
     },
     "metadata": {},
     "output_type": "display_data"
    }
   ],
   "source": [
    "qremove_options_rel.sort_values(by='# de ocorrências', ascending=False)\n",
    "NB.df_style(qremove_options_rel.sort_values(by='# de ocorrências', ascending=False).iloc[0:10], qremove_options_irel.sort_values(by='# de ocorrências', ascending=False).iloc[0:10],\n",
    "            titulo1='Palavras em tweets relevantes', titulo2='Palavras em tweets irelevantes')"
   ],
   "metadata": {
    "collapsed": false,
    "pycharm": {
     "name": "#%%\n"
    }
   }
  },
  {
   "cell_type": "markdown",
   "source": [
    "## frequencia relativa"
   ],
   "metadata": {
    "collapsed": false,
    "pycharm": {
     "name": "#%% md\n"
    }
   }
  },
  {
   "cell_type": "code",
   "execution_count": 154,
   "outputs": [],
   "source": [
    "\n",
    "# qremove_options1 = qremove_options.reset_index()\n",
    "# qremove_options1.sort_values(by='# de ocorrências', ascending=False)\n",
    "# qremove_options1 = pd.DataFrame(qremove_options1.value_counts(normalize=False))\n",
    "#qremove_options1.sort_values(by='# de ocorrências', ascending=False)\n",
    "# total_qremove_options = sum(qremove_options['# de ocorrências'])\n",
    "# pd.DataFrame(qremove_options.index)\n",
    "# qremove_options1\n",
    "# for frequencia, palavra in (qremove_options['# de ocorrências'], index_qremove_options['index']):\n",
    "#     qremove_options['frequência relativa']['palavra'] = frequencia * 100/total_qremove_options"
   ],
   "metadata": {
    "collapsed": false,
    "pycharm": {
     "name": "#%%\n"
    }
   }
  },
  {
   "cell_type": "markdown",
   "source": [
    "#### Caso alguma dessas listas de palavras retiradas seja do seu interesse para montar o classificador escolha-a agora. É recomandado escolher alguma lista para monta a base de dados de palavras irrelevantes.\n",
    "\n",
    "##### abaixo estaremos montando nossa base de dados de palavrai irrelevantes. Penas poderão ser usadas palavras removidas do dataframe."
   ],
   "metadata": {
    "collapsed": false,
    "pycharm": {
     "name": "#%% md\n"
    }
   }
  },
  {
   "cell_type": "code",
   "execution_count": 154,
   "outputs": [],
   "source": [],
   "metadata": {
    "collapsed": false,
    "pycharm": {
     "name": "#%%\n"
    }
   }
  },
  {
   "cell_type": "code",
   "execution_count": 155,
   "outputs": [
    {
     "data": {
      "text/plain": "'\\nEM DESENVOLVIMENTO - EM DESENVOLVIMENTO - EM DESENVOLVIMENTO - EM DESENVOLVIMENTO - EM DESENVOLVIMENTO\\nEM DESENVOLVIMENTO - EM DESENVOLVIMENTO - EM DESENVOLVIMENTO - EM DESENVOLVIMENTO - EM DESENVOLVIMENTO\\nEM DESENVOLVIMENTO - EM DESENVOLVIMENTO - EM DESENVOLVIMENTO - EM DESENVOLVIMENTO - EM DESENVOLVIMENTO\\nEM DESENVOLVIMENTO - EM DESENVOLVIMENTO - EM DESENVOLVIMENTO - EM DESENVOLVIMENTO - EM DESENVOLVIMENTO\\n'"
     },
     "execution_count": 155,
     "metadata": {},
     "output_type": "execute_result"
    }
   ],
   "source": [
    "'muito bom o programa'\n",
    "\n",
    "'''\n",
    "P(relevante/frase) = ((P(muito/relevante) * P(bom/relevante) ... * P(relevante)) + 1)/\n",
    "'''\n",
    "\n",
    "'''\n",
    "EM DESENVOLVIMENTO - EM DESENVOLVIMENTO - EM DESENVOLVIMENTO - EM DESENVOLVIMENTO - EM DESENVOLVIMENTO\n",
    "EM DESENVOLVIMENTO - EM DESENVOLVIMENTO - EM DESENVOLVIMENTO - EM DESENVOLVIMENTO - EM DESENVOLVIMENTO\n",
    "EM DESENVOLVIMENTO - EM DESENVOLVIMENTO - EM DESENVOLVIMENTO - EM DESENVOLVIMENTO - EM DESENVOLVIMENTO\n",
    "EM DESENVOLVIMENTO - EM DESENVOLVIMENTO - EM DESENVOLVIMENTO - EM DESENVOLVIMENTO - EM DESENVOLVIMENTO\n",
    "'''"
   ],
   "metadata": {
    "collapsed": false,
    "pycharm": {
     "name": "#%%\n"
    }
   }
  },
  {
   "cell_type": "code",
   "execution_count": 156,
   "outputs": [
    {
     "name": "stdout",
     "output_type": "stream",
     "text": [
      "NUMERO DE VEZES QUER APARECE A PALAVRA DEFINIDA NO INPUT DO COMEÇO POR DATAFRAME CRIADO\n",
      "\n",
      "89 qremove_link_rel\n",
      "108 qremove_link_irel\n",
      "89 qremove_at_rel\n",
      "108 qremove_at_irel\n",
      "89 qremove_ponc_rel\n",
      "108 qremove_ponc_irel\n",
      "89 qremove_word_sts_rel\n",
      "108 qremove_word_sts_irel\n",
      "89 qremove_laugh_rel\n",
      "108 qremove_laugh_irel\n",
      "89 qremove_num_str_rel\n",
      "108 qremove_num_str_irel\n",
      "89 qremove_options_rel\n",
      "108 qremove_options_irel\n"
     ]
    }
   ],
   "source": [
    "print(f\"\"\"NUMERO DE VEZES QUER APARECE A PALAVRA DEFINIDA NO INPUT DO COMEÇO POR DATAFRAME CRIADO\n",
    "\n",
    "{sum(qremove_link_rel['# de ocorrências'][[j for j in RemoveWords.list_desired_words]])} qremove_link_rel\n",
    "{sum(qremove_link_irel['# de ocorrências'][[j for j in RemoveWords.list_desired_words]])} qremove_link_irel\n",
    "{sum(qremove_at_rel['# de ocorrências'][[j for j in RemoveWords.list_desired_words]])} qremove_at_rel\n",
    "{sum(qremove_at_irel['# de ocorrências'][[j for j in RemoveWords.list_desired_words]])} qremove_at_irel\n",
    "{sum(qremove_ponc_rel['# de ocorrências'][[j for j in RemoveWords.list_desired_words]])} qremove_ponc_rel\n",
    "{sum(qremove_ponc_irel['# de ocorrências'][[j for j in RemoveWords.list_desired_words]])} qremove_ponc_irel\n",
    "{sum(qremove_word_sts_rel['# de ocorrências'][[j for j in RemoveWords.list_desired_words]])} qremove_word_sts_rel\n",
    "{sum(qremove_word_sts_irel['# de ocorrências'][[j for j in RemoveWords.list_desired_words]])} qremove_word_sts_irel\n",
    "{sum(qremove_laugh_rel['# de ocorrências'][[j for j in RemoveWords.list_desired_words]])} qremove_laugh_rel\n",
    "{sum(qremove_laugh_irel['# de ocorrências'][[j for j in RemoveWords.list_desired_words]])} qremove_laugh_irel\n",
    "{sum(qremove_num_str_rel['# de ocorrências'][[j for j in RemoveWords.list_desired_words]])} qremove_num_str_rel\n",
    "{sum(qremove_num_str_irel['# de ocorrências'][[j for j in RemoveWords.list_desired_words]])} qremove_num_str_irel\n",
    "{sum(qremove_options_rel['# de ocorrências'][[j for j in RemoveWords.list_desired_words]])} qremove_options_rel\n",
    "{sum(qremove_options_irel['# de ocorrências'][[j for j in RemoveWords.list_desired_words]])} qremove_options_irel\"\"\")"
   ],
   "metadata": {
    "collapsed": false,
    "pycharm": {
     "name": "#%%\n"
    }
   }
  },
  {
   "cell_type": "code",
   "execution_count": 157,
   "outputs": [],
   "source": [
    "# qremove_options_1 = qremove_options.sort_values(by='# de ocorrências', ascending=False)\n",
    "# qremove_options_1=qremove_options_1.loc[qremove_options_1['# de ocorrências'] > 50]\n",
    "# qremove_options_1\n",
    "#\n",
    "#"
   ],
   "metadata": {
    "collapsed": false,
    "pycharm": {
     "name": "#%%\n"
    }
   }
  },
  {
   "cell_type": "code",
   "execution_count": 158,
   "outputs": [],
   "source": [
    "# qremove_ponc_1=qremove_ponc.reset_index()\n",
    "# qremove_link_1=dados_treino.reset_index()\n",
    "# listapok = [\n",
    "# ['\\x00', '\\x00\\x00', '\\x00\\x00\\x00\\x00\\x00\\x00\\x00\\x00\\x00\\x00\\x00\\x00\\x00\\x00\\x00\\x00\\x00\\x00', '\\x00\\x00anygabriwiiy', '\\x00\\x00corinthians019\\x00', '\\x0011desetembro', '\\x0060', '\\x008diasprosuperspace', '\\x00aaguirredc', '\\x00agenda2030\\x00', '\\x00ajudei', '\\x00akinasunflower', '\\x00aliehnada', '\\x00aliexpress', '\\x00aliexpressbrasil', '\\x00alisson\\x00patinho', '\\x00alwaleed\\x00talal', '\\x00amp\\x00do', '\\x00anajuxl', '\\x00anaolivias', '\\x00angeikane', '\\x00anvisa', '\\x00ards', '\\x00arianagrande', '\\x00armyselcaday', '\\x00arsd', '\\x00ataldajessi', '\\x00awencis', '\\x00baefeiix', '\\x00bane\\x00', '\\x00benicamilaa', '\\x00besta', '\\x00bibibailas', '\\x00bonito\\x00\\x00\\x00\\x00\\x00', '\\x00brasil', '\\x00brasil247', '\\x00brasilxargentina', '\\x00braxarg', '\\x00bts\\x00twt', '\\x00btsmarxistas', '\\x00bundaawards', '\\x00bundasawards', '\\x00butteerffllyy', '\\x00calabocagalvao', '\\x00caladinho\\x00', '\\x00callmeoak\\x00', '\\x00campinas', '\\x00canção', '\\x00carecafdp', '\\x00carlosalcaraz\\x001', '\\x00carmenk29868410', '\\x00catolico', '\\x00cbrzit', '\\x00cesarnebot', '\\x00chaeychuulover', '\\x00charlidamelio', '\\x00chiidemitadas', '\\x00cianecrf', '\\x00cindilanti', '\\x00cnnee', '\\x00comedycentral', '\\x00copanfa', '\\x00coreygamble', '\\x00cosplayfantasia', '\\x00daianenem', '\\x00danielaalmeida8', '\\x00dantinhas', '\\x00diadosexoolla', '\\x00diarioole', '\\x00diavaldetails', '\\x00dipirango', '\\x00dnl91\\x00', '\\x00dolcegabbana', '\\x00domingao', '\\x00durma', '\\x00ecbahia', '\\x00ei\\x00angie', '\\x00elanemendes9', '\\x00esquerda', '\\x00esquerdasdv', '\\x00esquerdasegueesquerda', '\\x00eu', '\\x00eusouluismelo', '\\x00fantastico', '\\x00fantastico\\x00\\x00\\x00', '\\x00fantástico', '\\x00fbtrzz', '\\x00felipeneto', '\\x00feyrisnyan\\x00nyan', '\\x00filosofia', '\\x00fiuk\\x00', '\\x00flaviamaynarte', '\\x00flwrstomin', '\\x00forabolsonaro', '\\x00gabzm07', '\\x00garrafnha', '\\x00gec\\x00\\x00', '\\x00geconofantastico', '\\x00germana764', '\\x00gildovigor', '\\x00giolimoes', '\\x00globo', '\\x00globolixo', '\\x00globoplay', '\\x00gordaopitchfork', '\\x00grana2burn', '\\x00grimes\\x00fanha', '\\x00gritando\\x00', '\\x00gt\\x00acho\\x00lt\\x00', '\\x00gt\\x00meu\\x00lt\\x00', '\\x00gugachacra', '\\x00guiferreirattt', '\\x00heliouchoaa', '\\x00heroi\\x00romanesco', '\\x00holygah', '\\x00huayna\\x00tejo', '\\x00i9grls', '\\x00ilovethisgame', '\\x00incomum\\x00', '\\x00israelxxoo', '\\x00iucascomenta', '\\x00iwtfeels', '\\x00janeygodley', '\\x00jojo\\x00littletodd', '\\x00jornaloglobo', '\\x00joshrhcds', '\\x00jovempannews', '\\x00jramonfernandez', '\\x00julhette', '\\x00julisides', '\\x00jully02184332', '\\x00karendc99', '\\x00krisjenner', '\\x00kxcio', '\\x00kyhnoir', '\\x00lagareirosantos', '\\x00laverdad\\x00es', '\\x00leagueoflegends', '\\x00legalnaay', '\\x00leprechaun\\x003', '\\x00locoaprendiendo', '\\x00louvplacez', '\\x00lucasdetea', '\\x00luccasoliverra', '\\x00lucianohuck', '\\x00ludmilla', '\\x00luizdavipaolilo', '\\x00marcelomedici', '\\x00marthapapaleo', '\\x00michele\\x00miss', '\\x00minceauras', '\\x00mionzera', '\\x00mpercb', '\\x00n12news', '\\x00na', '\\x00nanahsantosss', '\\x00nassar\\x00furat', '\\x00nayibbukele', '\\x00nem', '\\x00nen\\x00min\\x00viiu', '\\x00newtlark', '\\x00nicolygfbpa', '\\x00nofapsetember', '\\x00notiktoktemtudo', '\\x00o', '\\x00oratoria', '\\x00paoladodeboche', '\\x00papafrancisco', '\\x00pas', '\\x00paulovieirareal', '\\x00países', '\\x00peitoawards', '\\x00peitosawards', '\\x00perryundo', '\\x00pintoaward', '\\x00pintoawards', '\\x00pintosaward', '\\x00pintosawards', '\\x00policeuniversity', '\\x00policeuniversityep8', '\\x00pricasoares', '\\x00professor', '\\x00rabaawards', '\\x00rabasawards', '\\x00rafakalimann\\x00', '\\x00regiondemurcia', '\\x00reprodução\\x00', '\\x00rickylodge', '\\x00rigolet63469189', '\\x00rogeria42332617', '\\x00rosana', '\\x00s\\x00', '\\x00samucatuita', '\\x00se', '\\x00segundadetremurasdv', '\\x00segundaesquadraosdv', '\\x00segundavanguardasdv', '\\x00sereiasensitiva', '\\x00serranegra', '\\x00setembroamarelo', '\\x00sexyenfermera69', '\\x00showdavida', '\\x00showdosfamosos', '\\x00sidadäo\\x00', '\\x00solteiro', '\\x00sonhomanu', '\\x00sonicofficialjp', '\\x00sonygiron', '\\x00soyfdelrincon', '\\x00sp', '\\x00sumir\\x00', '\\x00suzibutera', '\\x00sweet\\x00haroldo', '\\x00sweetenersdw', '\\x00taahdinoa', '\\x00teologia', '\\x00teoria', '\\x00thiagomncc', '\\x00thisismaxtrying', '\\x00ticorilofreire', '\\x00tovejepsen', '\\x00trajaza', '\\x00troconuds', '\\x00twittermedia', '\\x00umjuzeh', '\\x00vidasnegrasimportam', '\\x00vinehciuslol', '\\x00visitante6789', '\\x00vocenuncaestevesozinha', '\\x00xotasawards', '\\x00yefobic', '\\x00yizcut', '\\x00youtube', '\\x00zeliaduncan', '1', '11', '11\\x0009', '12\\x0000', '13\\x0000', '14\\x0000', '19\\x0000', '2', '20', '20\\x0000', '2016\\x0018', '2019', '2022\\x00', '25', '2753', '3', '30', '4h', '5', '500', '7', '7\\x009\\x00', '90s', 'a', 'aaaaaa', 'aassustador', 'abalado', 'abalar\\x00', 'abertamente', 'abismado', 'abordado', 'abordei', 'abraçar', 'absolutamente', 'absurda', 'absurdamente', 'acabar', 'acalmar', 'acervo', 'acha', 'acham\\x00vc', 'achando', 'achar\\x00', 'achava', 'achei', 'acho', 'acompanhar', 'acompanho\\x00', 'acontece', 'acontecer\\x00', 'aconteceu', 'aconteceu\\x00', 'acorda\\x00', 'acreditar', 'acredito', 'acredito\\x00', 'acusado', 'adentra', 'adianta', 'adms', 'adora', 'adorava', 'advogado', 'aew', 'af', 'afetada', 'afins\\x00', 'afirmando', 'afirmou', 'agora', 'agora\\x00', 'agorinha', 'agr', 'agredido', 'aguardem', 'ahhahahahahhaha\\x00\\x00\\x00', 'ai', 'ainda', 'ajuda', 'akjskaka', 'algo', 'alguem', 'algum', 'alguma', 'alguma\\x00', 'algumas', 'alguns', 'alguém', 'ali', 'aliexpress', 'aliás', 'alma', 'alterado', 'alvo', 'além', 'ama', 'amadorismo', 'amamos', 'amanhã', 'amar', 'amazônia', 'amazônia\\x00\\x00', 'ambiental\\x00', 'ambos', 'ameaça', 'amg\\x00', 'amgkk', 'amiga', 'amigo', 'amigo…', 'amo', 'amo\\x00', 'amor', 'amor\\x00\\x00\\x00', 'ana', 'angustiante\\x00', 'angústia', 'anime', 'anitta', 'anitters', 'ano', 'anomalias', 'anos', 'anos\\x00', 'antecedem', 'antes', 'anunciada', 'anunciar', 'anvisa', 'anônimas\\x00', 'ao', 'aos', 'apagando', 'apagaram', 'apago', 'aparece', 'aparecer', 'apareceram', 'apareceu', 'aparecia', 'aparentam', 'apareçam', 'aparição\\x00', 'apenas', 'aplaudiram', 'aplicando', 'apresentadora\\x00', 'apresentação', 'aq', 'aquela\\x00', 'aquele', 'aqueles', 'aqui', 'aquilo', 'ar', 'argentina', 'argentina\\x00', 'argentinaxbrasi\\x00\\x00\\x00', 'argentino', 'army', 'arrepiar', 'arthur\\x00', 'artistas', 'as', 'aspectos\\x00', 'assassino', 'assim', 'assista', 'assiste', 'assistem', 'assisti', 'assistido', 'assistindo', 'assistir', 'assistir\\x00', 'assistiram', 'assistirei', 'assistiu', 'assistiu\\x00', 'assisto', 'assite', 'assitir', 'associar', 'assumir', 'assunto\\x00', 'assuntos', 'assustava\\x00', 'atacar', 'ataque', 'ataques', 'atentado', 'atentado\\x00', 'atenção', 'ativa', 'atos\\x00', 'atrai', 'através', 'atualmente', 'até', 'auge', 'aumento', 'autoestima', 'avaliação', 'avô', 'azar', 'ação', 'aí', 'b', 'b\\x00', 'babados', 'babá', 'bagulho', 'baixaria', 'balaio', 'bandido\\x00', 'barulho', 'basket\\x00', 'batata', 'batendo', 'bater', 'bateu', 'bbb', 'bbb21', 'bcharts', 'bebê\\x00', 'beijando', 'bem', 'bem\\x00', 'bencic', 'bernardes', 'besta', 'bieber', 'biscoito', 'bizarra', 'bizarro', 'block', 'block\\x00', 'blogueiros\\x00', 'bloqueou', 'boa', 'boa\\x00', 'boas', 'bobby”', 'boderline', 'boderline\\x00', 'bolsonaro', 'bom', 'bomba', 'bombada', 'bombeiro\\x00', 'bonecos', 'bons', 'borrada', 'bosta', 'bota', 'brasil', 'brasil\\x00', 'brasileiro', 'brasília', 'broxa', 'bts', 'bueno', 'bulldog', 'busca', 'butantã', 'c', 'cabelo', 'cabeça\\x00', 'cachorros', 'cactos', 'cactos\\x00', 'cacura', 'cada', 'cadastro\\x00', 'cade', 'cadê', 'cagada', 'caindo\\x00\\x00\\x00', 'calcinhavac\\x00', 'call', 'calunia', 'cameron', 'caminhoneiros', 'canais\\x00', 'cancelamento\\x00', 'cancelou', 'cansei', 'canta\\x00\\x00\\x00\\x00', 'cantando', 'cantou', 'capitalismo\\x00', 'capucci', 'cara', 'cara\\x00me', 'caralho\\x00', 'caramba', 'caramba\\x00\\x00\\x00', 'carey', 'carioca', 'carreata', 'carreta', 'carros', 'cartas', 'carência', 'casa', 'caso', 'categoria', 'causa', 'caçar', 'caí', 'cedo', 'cega', 'center', 'center”', 'ceo', 'certa', 'certo', 'chama', 'chamado', 'chamando', 'chamar', 'chamassem', 'chamou', 'charlie', 'chegando', 'chegaram', 'chegou', 'choca', 'chocada', 'chocadas', 'chocado', 'chora', 'chorando', 'chorando\\x00', 'chorar', 'chorava', 'circo', 'cirurgia', 'claramente', 'claro', 'claro\\x00', 'clipe', 'cm', 'coisa', 'coisa\\x00', 'coisada', 'coisas', 'colapso', 'colocado', 'colocam', 'colocando', 'colocar', 'colocou', 'com', 'comentados', 'comentar', 'coments', 'comentário', 'comentários', 'começa', 'começando', 'como', 'compactuavam', 'comparado', 'completa', 'completará', 'completo', 'complexo\\x00', 'comportamento', 'comuna\\x00', 'concedeu', 'conceitual', 'concordar', 'condições', 'confirmado', 'conflito', 'conhecido', 'conmebol', 'consegue', 'conselho\\x00', 'consequência', 'consequências', 'consigo', 'conta', 'conta\\x00', 'contada', 'contando', 'conteúdo', 'continua', 'continuar', 'contra', 'contratempo', 'contribuem', 'conversa\\x00', 'conversou', 'convia', 'convidou', 'coragem', 'coração\\x00', 'corpos', 'corredor\\x00', 'corrupto\\x00\\x00\\x00', 'cortado\\x00', 'cortaram', 'corte', 'corujão\\x00\\x00', 'cospleys', 'cpf', 'crescer', 'criança\\x00', 'criei', 'crime', 'crime\\x00', 'criminoso', 'criminoso\\x00', 'cristina\\x00mãe', 'criticando', 'cronograma\\x00', 'críticas', 'cu', 'culpa', 'cumplices', 'cupons', 'curou', 'curtiu', 'cyberbullying\\x00', 'cá', 'cômica', 'd', 'da', 'dados', 'dando', 'daquela', 'daquela\\x00', 'daquele', 'dar', 'das', 'day', 'daí\\x00\\x00\\x00', 'de', 'debochada\\x00', 'debochando', 'decepcionado', 'decide', 'decidido', 'decorrência', 'defendendo', 'defender', 'definir', 'dei', 'deitar', 'deixa', 'deixar', 'dela', 'dele', 'dele\\x00', 'deles', 'delírios', 'demais', 'demais\\x00', 'denuncie', 'depende', 'depois', 'depois\\x00', 'depressiva\\x00', 'depressão', 'deram', 'descobriu', 'descrever\\x00', 'desde', 'deseja', 'desejo', 'desenvolver', 'desenvolvi', 'desesperador', 'desfecho', 'desinformação\\x00', 'desmotivando', 'desnecessários\\x00', 'dessa', 'dessas', 'desse', 'desserviço', 'desses', 'desses\\x00', 'destilam', 'destilar', 'deu', 'deu\\x00', 'deu\\x00\\x00', 'deus', 'deveria', 'deveriam', 'devia', 'di', 'dia', 'dias', 'difamação', 'diferente', 'diferença', 'digo', 'direita', 'direito', 'direção', 'dirá', 'disneylândia', 'disse', 'dissemina', 'disseram', 'disso', 'distúrbio', 'diva', 'diversas', 'divertido', 'divulgado', 'divulgar', 'divulgação', 'divulgação\\x00', 'diz', 'dizendo', 'dizer', 'dizer\\x00assistimos', 'dm', 'do', 'doc', 'documentário', 'doente\\x00', 'doentio\\x00', 'doeu', 'doida', 'dois', 'doja', 'domingo', 'domingão', 'dona', 'donas', 'dopado', 'dor', 'dormem\\x00', 'dormi\\x00', 'dormindo', 'dormir', 'dormir\\x00', 'dos', 'doses', 'dps', 'drama', 'durante', 'dá', 'dó\\x00', 'e', 'e\\x00', 'eca', 'editoria', 'efeito', 'eh', 'ela', 'ela\\x00', 'elas', 'ele', 'ele\\x00', 'eleito', 'eleições', 'eles', 'eles\\x00', 'elton', 'em', 'emocional', 'emoção\\x00', 'empatia', 'empatia\\x00', 'empreendedores', 'empresa', 'enaltecendo', 'encobrir', 'encontroo', 'energia', 'enfim\\x00', 'engaja\\x00', 'engajada', 'engajado', 'engajamento\\x00', 'engano\\x00', 'enorme', 'enormemente', 'enquanto', 'enrolando\\x00', 'entao', 'entender', 'entendi\\x00', 'entendia\\x00', 'entrando', 'entrar', 'entre', 'entrei', 'entrevista', 'entrevistada\\x00', 'entrevistado\\x00', 'entrevistados', 'entrevistando', 'então', 'envolvendo', 'ep', 'ep\\x00', 'episódio', 'equipe', 'equivocada\\x00', 'era', 'errada', 'errado', 'erros', 'escolha', 'escolhendo', 'escondem', 'escondendo', 'escrevi', 'escroto\\x00', 'escutando', 'escutar\\x00', 'espancada', 'espaço', 'esperando', 'esperanças', 'espero', 'esporte', 'esqueci', 'esquentar', 'essa', 'essas', 'esse', 'esses', 'esta\\x00', 'estao', 'estar', 'estas', 'estava', 'estavam', 'estive', 'esto', 'estou', 'estranha', 'estratégia', 'estresse', 'estufa', 'estupendo', 'está', 'estão', 'eteu', 'eu', 'eu\\x00', 'exata', 'exatos', 'exclusividade', 'exibida', 'exigir', 'existem', 'experimentar', 'experiência', 'explica', 'explicar', 'expliquem', 'exposed', 'expressão', 'expôs', 'extra', 'extrema', 'extremamente', 'exército', 'facção', 'faixas', 'fake', 'fakes', 'fala', 'falado', 'falam', 'falando', 'falano', 'falar', 'falaram', 'falassem', 'falhou', 'falo', 'falou', 'falso', 'falta', 'faltou', 'fama\\x00', 'famosinhes', 'famoso', 'famoso\\x00', 'famosos', 'famosos\\x00', 'família\\x00', 'fanbase', 'fanfiqueiros', 'fantastico', 'fantastico\\x00', 'fantásticas\\x00', 'fantástico', 'fantástico\\x00', 'fantástico\\x00\\x00', 'fantástico\\x00\\x00\\x00', 'fantástico\\x00\\x00\\x00\\x00', 'fantástico\\x00\\x00\\x00\\x00\\x00', 'fantástico\\x00\\x00\\x00\\x00como', 'fantástico\\x0020', 'fantástico…', 'fato', 'faustão', 'faustão\\x00', 'favor\\x00', 'faz', 'fazem\\x00', 'fazemos\\x00\\x00\\x00', 'fazendo', 'fazer', 'fazia', 'federal', 'feia', 'feita', 'feito\\x00', 'feitos', 'felicidade', 'feliz', 'ferrer', 'ferrou', 'feto', 'fez', 'fica', 'ficado', 'ficar', 'ficaram', 'ficarem', 'ficou', 'figurinista', 'filha', 'filho', 'filhos', 'filmes\\x00', 'fim\\x00', 'final', 'fingindo', 'fingir', 'fiquei', 'fiuk', 'fiuk\\x00', 'fizeram', 'flash', 'floresta', 'foda', 'fofoca', 'fofos', 'foi', 'folvlorica', 'fome', 'foram', 'forma', 'formado\\x00', 'fosse', 'fracassada', 'frita', 'fulana', 'funcionam', 'fundo\\x00', 'funk\\x00', 'fátima', 'fã', 'fãs', 'fé', 'fórum', 'fóruns\\x00', 'g1', 'g3co', 'gabi', 'gado', 'galera', 'galera\\x00', 'galvão', 'gambiarra\\x00', 'gamer\\x00', 'ganhar', 'garantir', 'gases', 'gatilho', 'gay', 'geco', 'geco\\x00', 'gelou', 'gente', 'gente\\x00', 'geralmente', 'geração', 'gigante\\x00', 'gladson', 'globesta\\x00', 'globo', 'globo\\x00', 'globoplay', 'glória', 'gnt', 'gol', 'golpes', 'gossip', 'gosta', 'gosta\\x00', 'gostou\\x00', 'grande', 'gratis', 'gratuitamente', 'gratuito', 'gravar', 'graves', 'graça', 'graça\\x00', 'greg', 'gregorio', 'groove', 'gêmea', 'gêmeas', 'gêmeas\\x00', 'hate', 'hate\\x00', 'hateando', 'hater', 'hater\\x00', 'haters', 'haters\\x00', 'haters\\x00\\x00\\x00', 'haters\\x00\\x00\\x00desconfio', 'haters…', 'hatters\\x00', 'havia', 'hein\\x00\\x00', 'hernanes', 'heter', 'hino', 'hipocrisia', 'hipócritas\\x00', 'história', 'história\\x00', 'hj', 'hj\\x00', 'hoje', 'hoje\\x00', 'homofobia', 'homofobia\\x00', 'hora', 'hora\\x00', 'horror', 'horário', 'houveram', 'https\\x00\\x00\\x00t\\x00co\\x000gnbzlhmvf', 'https\\x00\\x00\\x00t\\x00co\\x002g5rzmj7lc', 'https\\x00\\x00\\x00t\\x00co\\x003mnumgjnpo', 'https\\x00\\x00\\x00t\\x00co\\x003ut6k9dfrz', 'https\\x00\\x00\\x00t\\x00co\\x004u8l3si1vm', 'https\\x00\\x00\\x00t\\x00co\\x004uw1d1nroz', 'https\\x00\\x00\\x00t\\x00co\\x009etexc5sqe', 'https\\x00\\x00\\x00t\\x00co\\x00akuynhuxnb', 'https\\x00\\x00\\x00t\\x00co\\x00amanm5ickw', 'https\\x00\\x00\\x00t\\x00co\\x00amiida4vis', 'https\\x00\\x00\\x00t\\x00co\\x00azlin46w57', 'https\\x00\\x00\\x00t\\x00co\\x00ber6zmo52a', 'https\\x00\\x00\\x00t\\x00co\\x00bnygubofk3', 'https\\x00\\x00\\x00t\\x00co\\x00c1fsvyik2v', 'https\\x00\\x00\\x00t\\x00co\\x00clrwboao46', 'https\\x00\\x00\\x00t\\x00co\\x00cxeowynenn', 'https\\x00\\x00\\x00t\\x00co\\x00d0nod1m7ie', 'https\\x00\\x00\\x00t\\x00co\\x00d4baci8bz6', 'https\\x00\\x00\\x00t\\x00co\\x00dllkhjipvm', 'https\\x00\\x00\\x00t\\x00co\\x00dupdvftq7c', 'https\\x00\\x00\\x00t\\x00co\\x00e0w8khaewi', 'https\\x00\\x00\\x00t\\x00co\\x00eghuyvzzdu', 'https\\x00\\x00\\x00t\\x00co\\x00enwp4lzgfh', 'https\\x00\\x00\\x00t\\x00co\\x00gbrrrqdwpn', 'https\\x00\\x00\\x00t\\x00co\\x00ggkuy1mf8h', 'https\\x00\\x00\\x00t\\x00co\\x00gtnuocghvy', 'https\\x00\\x00\\x00t\\x00co\\x00hv07g9nigy', 'https\\x00\\x00\\x00t\\x00co\\x00iivcccaqdq', 'https\\x00\\x00\\x00t\\x00co\\x00ilawqna3hr', 'https\\x00\\x00\\x00t\\x00co\\x00lhj6na4czi', 'https\\x00\\x00\\x00t\\x00co\\x00lteczkjncl', 'https\\x00\\x00\\x00t\\x00co\\x00m452fp3otx', 'https\\x00\\x00\\x00t\\x00co\\x00migcpww47b', 'https\\x00\\x00\\x00t\\x00co\\x00nckw3xkjqh', 'https\\x00\\x00\\x00t\\x00co\\x00ngrpyd3kt9', 'https\\x00\\x00\\x00t\\x00co\\x00noopncnwdb', 'https\\x00\\x00\\x00t\\x00co\\x00ocbbfprb0m', 'https\\x00\\x00\\x00t\\x00co\\x00ofbsmyizdz', 'https\\x00\\x00\\x00t\\x00co\\x00oiv8oqtomo', 'https\\x00\\x00\\x00t\\x00co\\x00pbri3e2x2a', 'https\\x00\\x00\\x00t\\x00co\\x00pejwa3nnmt', 'https\\x00\\x00\\x00t\\x00co\\x00q0bmgj8njv', 'https\\x00\\x00\\x00t\\x00co\\x00q9hq6emny1', 'https\\x00\\x00\\x00t\\x00co\\x00qcngys4t7l', 'https\\x00\\x00\\x00t\\x00co\\x00qgi8bymna4', 'https\\x00\\x00\\x00t\\x00co\\x00qm9z1wggkx', 'https\\x00\\x00\\x00t\\x00co\\x00qmupncchru', 'https\\x00\\x00\\x00t\\x00co\\x00qxkzk1gnun', 'https\\x00\\x00\\x00t\\x00co\\x00qxllqvamqz', 'https\\x00\\x00\\x00t\\x00co\\x00r64ebjqjfu', 'https\\x00\\x00\\x00t\\x00co\\x00rivrnjbkhq', 'https\\x00\\x00\\x00t\\x00co\\x00rqv5dwaflu', 'https\\x00\\x00\\x00t\\x00co\\x00ryrt3mkxw0', 'https\\x00\\x00\\x00t\\x00co\\x00slvyrcbjhg', 'https\\x00\\x00\\x00t\\x00co\\x00sq3mjsd03v', 'https\\x00\\x00\\x00t\\x00co\\x00srv1g1pmj7', 'https\\x00\\x00\\x00t\\x00co\\x00t0ygkm2lzt', 'https\\x00\\x00\\x00t\\x00co\\x00t1ubqqhsrb', 'https\\x00\\x00\\x00t\\x00co\\x00ubfl867efg', 'https\\x00\\x00\\x00t\\x00co\\x00udoxdrskyn', 'https\\x00\\x00\\x00t\\x00co\\x00uimpvulbln', 'https\\x00\\x00\\x00t\\x00co\\x00ujlorusq5l', 'https\\x00\\x00\\x00t\\x00co\\x00utuxekz2ma', 'https\\x00\\x00\\x00t\\x00co\\x00utws0zlt17', 'https\\x00\\x00\\x00t\\x00co\\x00wmnop82tet', 'https\\x00\\x00\\x00t\\x00co\\x00wwvovsx8fr', 'https\\x00\\x00\\x00t\\x00co\\x00xpx8umvb1m', 'https\\x00\\x00\\x00t\\x00co\\x00ywls3cscvb', 'https\\x00\\x00\\x00t\\x00co\\x00yyywbxbsr7', 'https\\x00\\x00\\x00t\\x00co\\x00z2bftnl7wl', 'https\\x00\\x00\\x00t\\x00co\\x00zbc9awdksm', 'https\\x00\\x00\\x00t\\x00co\\x00zbxnko3tjc', 'https\\x00\\x00\\x00t\\x00co\\x00zph0idgn3e', 'https\\x00\\x00\\x00t\\x00co\\x00zuyivpnudu', 'hugo', 'humana\\x00', 'humanas\\x00\\x00\\x00\\x00\\x00\\x00\\x00\\x00\\x00', 'humano\\x00', 'humilha', 'humorado', 'há', 'i', 'ia', 'idade', 'ideia', 'identidade', 'identificar', 'identificação', 'identitarismo', 'idéia', 'ig', 'ignorar', 'iguais', 'igual', 'imagem', 'imagens', 'imagina', 'imaginava', 'imperialistas', 'importa', 'importante', 'impossível\\x00', 'imprensa', 'impressionado', 'inaceitável', 'inadequado', 'incentiva', 'incitando', 'inconstitucionais\\x00', 'incrível', 'infartar', 'infeliz\\x00', 'infelizmente', 'infelizmente\\x00\\x00\\x00', 'influencer', 'influencers', 'informação', 'infância', 'inglaterra', 'inibir', 'injustamente\\x00', 'insano\\x00', 'insta', 'instagram', 'instante', 'instas', 'insuportavél', 'insônia', 'inteiro', 'interessante', 'interferiu', 'internacionais', 'internet', 'internet\\x00', 'inveja', 'invejam\\x00', 'inventou', 'invisível', 'inédita', 'inúmeras', 'ir', 'irei', 'irmãos', 'irresponsável', 'isso', 'isso\\x00', 'isso\\x00\\x00\\x00\\x00\\x00', 'isto', 'ja', 'jair', 'janeiro', 'jantada', 'jeito', 'jesus', 'jk', 'joga', 'jogam', 'jogando', 'jogar\\x00', 'jogo', 'jogo\\x00', 'jogo\\x00\\x00\\x00', 'jogos', 'jogou', 'jornal\\x00\\x00\\x00\\x00\\x00\\x00\\x00\\x00', 'jornalistas', 'josé', 'jovem', 'joão', 'ju', 'ju\\x00', 'julia', 'juliete', 'juliette', 'justamente', 'justin', 'justiça', 'já', 'k\\x0012', 'ketchup', 'kiketacontecendo', 'kk', 'kkkk', 'kkkkkk', 'kkkkkkk', 'kkkkkkkk', 'kkkkkkkkk', 'kkkkkkkkkk', 'kkkkkkkkkkkk', 'kkkkkkkkkkkkk', 'kkkkkkkkkkkkkkkk', 'kpop', 'kuroko', 'la', 'lacrar', 'lamaçal\\x00', 'lance', 'lança', 'lançado', 'lançar', 'lançaram', 'lastima', 'laudo\\x00', 'lema', 'lembrar', 'leonel', 'lesou', 'leva', 'levem', 'levo', 'liderança', 'lidos', 'likes', 'linda', 'lindo\\x00', 'link', 'livro', 'lixo', 'lixão\\x00', 'logo', 'loucaaaa', 'loucuras', 'luas', 'ludd', 'lugar\\x00', 'lutinha\\x00', 'luz', 'lá', 'lá\\x00', 'm\\x00tar\\x00', 'maior', 'maioria', 'mais', 'mal', 'mal\\x00', 'malandro', 'maldade\\x00', 'maldosa\\x00', 'maldosa\\x00\\x00', 'maluco\\x00', 'manca', 'mandam', 'mandar', 'maneira\\x00', 'manhã', 'manifestação', 'manipulado\\x00', 'mano', 'mano\\x00', 'manu', 'mao', 'maravilhoso', 'marcar', 'margareth', 'mari', 'maria', 'mariah', 'maricona', 'martelo\\x00', 'mas', 'mas\\x00', 'massacrado', 'matar', 'materia', 'maturidade\\x00', 'matéria', 'matéria\\x00', 'mbappé', 'mcgyver\\x00', 'mds', 'me', 'mecanismos', 'medonhas\\x00', 'meio', 'melhor', 'melhor\\x00\\x00', 'melhorem', 'melinda', 'memorial', 'menezes', 'menina', 'menino', 'menos', 'mentira', 'mentiras', 'mentiroso', 'merda', 'merda\\x00', 'merece', 'merecia', 'meses', 'mesma', 'mesmo', 'mesmo\\x00', 'messi', 'meu', 'meus', 'mexe', 'mexe\\x00', 'mico', 'mil', 'miley\\x00', 'militantes', 'mim', 'minha', 'minoria', 'minutos', 'misturou', 'mlr', 'mn', 'mobilizações', 'modelos', 'modernos', 'momento', 'momento\\x00', 'monte', 'moral', 'morram', 'morrendo', 'morrer\\x00', 'morreram', 'morte', 'mortos', 'mostrados', 'mostrar', 'mostrem', 'mostrou', 'motivo', 'msm', 'msm\\x00', 'mt', 'mta', 'mudar', 'muita', 'muitas', 'muito', 'muito\\x00', 'muitos', 'mulher', 'multiroes', 'mundinho', 'mundo', 'mundo\\x00', 'musica\\x00', 'mágica', 'más', 'máximo', 'mãe', 'médico', 'mínimo', 'mó', 'música', 'músicas', 'n', 'na', 'na\\x00\\x00sta', 'nada', 'nada\\x00', 'nadaa', 'namorado', 'nao', 'naquela', 'nas', 'nasci', 'nasci\\x00', 'nathalia', 'nathalia\\x00', 'nathalieu\\x00', 'nato\\x00', 'nayeon', 'nda', 'ne', 'necessária\\x00\\x00\\x00', 'negativamente', 'negligência', 'negocio', 'negra', 'negócio', 'nele', 'neles', 'nem', 'nenhuma', 'neoliberal\\x00', 'nera\\x00', 'nessa', 'nesse', 'nesta', 'neste', 'new', 'neymar', 'ngc', 'ninguém', 'no', 'noite', 'noite\\x00', 'noites', 'nojo', 'nojo\\x00', 'nome', 'nordestina', 'normalmente', 'nos', 'nossa', 'nosso', 'nossos', 'nova', 'novamente\\x00\\x00\\x00', 'novelas', 'novidade', 'novo', 'novos', 'noção\\x00', 'num', 'numa', 'nunca', 'nunk', 'não', 'não\\x00', 'né', 'nível', 'nível\\x00', 'números', 'o', 'obrigado', 'obrigação', 'ocorrido', 'ocultou', 'odd\\x00', 'odiador\\x00', 'odio', 'oferecendo', 'olha', 'olhando', 'olá', 'olá\\x00', 'onde', 'ontem', 'opinião', 'opção', 'oq', 'oque', 'organizações', 'orgasmo', 'orgulho', 'orgulhosa', 'orientação', 'os', 'ou', 'ouriçadas', 'outra', 'outras', 'outro', 'outros', 'outros\\x00', 'ouvi', 'ouvidos', 'ouço', 'oôo', 'p', 'paciente', 'paga', 'pagar', 'palavras\\x00', 'palco', 'pano', 'papo', 'para', 'parabenizar', 'parabéns', 'parar', 'parece', 'parecer', 'pariu', 'parte', 'participava', 'partir', 'parto\\x00', 'passada\\x00', 'passado', 'passado\\x00', 'passadores', 'passando', 'passar', 'passaram', 'passava', 'passei', 'passeio', 'passivamente', 'passo', 'passou', 'patroa', 'patroa\\x00', 'pau', 'paulo', 'paysandu', 'paz', 'país', 'país\\x00', 'pedia', 'pedindo', 'pedir', 'pedófilia', 'peitos\\x00\\x00\\x00', 'pela', 'pele', 'pelo', 'pena', 'penal\\x00', 'pensando', 'pensativo', 'penso', 'pequenos', 'perca\\x00', 'perderam', 'perdeu', 'perdi', 'perdida', 'perdoo', 'perfeitamente', 'perfeito\\x00', 'perfil', 'perfil\\x00', 'perfis', 'perguntam', 'perigo', 'permissão', 'persegue', 'personagem', 'personagens', 'perto', 'perto\\x00', 'pessoa', 'pessoas', 'pessoas\\x00', 'pingo', 'pior', 'piorzinha', 'piovani', 'pitt', 'planeta', 'plano', 'planos', 'playstation\\x00', 'pls', 'plástica', 'po', 'pobre', 'podcast', 'pode', 'poder', 'poderia', 'podiam', 'podre', 'podres', 'podridão\\x00\\x00\\x00', 'polêmica', 'polícia', 'política', 'pontas', 'pop', 'por', 'porque', 'porquê', 'porra', 'porrada', 'portugal', 'porém', 'pos', 'possa', 'possivel', 'possível', 'postado', 'postando', 'postaram', 'postaram\\x00', 'postaria', 'posto\\x00', 'pouca', 'pouco', 'poupa', 'povo', 'poxa', 'pq', 'pqp', 'pra', 'pras', 'pratica\\x00', 'prazer', 'preciso', 'preferido', 'prefiro', 'prender', 'preocupa', 'preocupar', 'preocupação', 'preparar', 'preservação', 'prestar', 'primeira', 'primeiro', 'print', 'pro', 'pro\\x00wrestling', 'problema', 'problemas', 'processada', 'processar', 'professor', 'profissionais', 'profissão', 'profundo', 'programa', 'programado\\x00', 'programação', 'prol', 'promoções', 'pronunciou', 'proposta', 'propósito', 'pros', 'protect', 'protocolos', 'provar', 'provavelmente', 'própria', 'próprio', 'próprios', 'próxima', 'próximo', 'psg', 'psicológico', 'psicopata\\x00', 'publicação', 'pudesse', 'puro', 'puseram', 'puta', 'puts', 'páginas', 'público', 'q', 'qm', 'qndo', 'qria', 'quadrada\\x00', 'quadro', 'quais', 'qual', 'qualquer', 'quando', 'quanto', 'quarteto', 'que', 'que\\x00', 'que\\x00\\x00\\x00', 'quebrar', 'quem', 'quer', 'querem', 'querendo', 'querer', 'queria', 'quero', 'questão', 'quis', 'quisesse\\x00', 'rachadinhas', 'racismo', 'rafa\\x00\\x00\\x00', 'rapidamente', 'reagir', 'reais\\x00', 'real', 'real\\x00', 'realmente', 'reanata', 'recebe', 'reclamando', 'reconhecendo\\x00', 'recorde', 'rede', 'redendo', 'redes', 'redondinho', 'registrar', 'rejeição', 'relato', 'relação', 'remetem', 'remix', 'renan\\x00', 'renata', 'rengoku', 'replicando', 'reportagem', 'reprovam', 'respeito', 'respiro', 'respondendo', 'respondendo\\x00', 'resposta', 'revelando', 'revendo', 'revistado', 'ri', 'rico', 'ricos', 'ridícula', 'ridículo', 'rio', 'rodando', 'rogeria', 'rolando', 'rolar', 'rolo', 'rolou\\x00\\x00\\x00', 'rolê', 'rolê\\x00', 'roupas', 'rousier\\x00', 'rp', 'rs”', 'rt', 'ruim', 'sabe', 'sabem', 'sabendo', 'saber', 'sabe…', 'sacanas', 'sacrificar', 'sai', 'saiam', 'sair', 'saiu', 'saldar', 'santa', 'santo', 'sao', 'sapatos', 'sarah', 'sarcástica', 'sariette', 'sariettes', 'sdds', 'se', 'segredo', 'segue', 'seguida', 'seguir\\x00', 'segund', 'segundo', 'sei', 'seja\\x00', 'sejam', 'selena', 'sem', 'semana', 'sempre', 'sendo', 'sensacionalista\\x00\\x00\\x00', 'sente', 'sentirem', 'separando', 'sequelados', 'sequer', 'ser', 'seria', 'seria\\x00', 'serii', 'serra', 'sertanejo', 'será', 'serão', 'setembro', 'setembro\\x00', 'seu', 'seus', 'show', 'siga', 'significa', 'sim', 'simm\\x00', 'simplesmente', 'sinal', 'sincera', 'single', 'sisimplesmente', 'sistema', 'skates', 'sllk', 'slogan', 'smiler', 'so', 'sob', 'sobre', 'socar', 'sociais', 'social', 'social\\x00', 'socooorro', 'socorro', 'sofrendo\\x00', 'sofreno', 'sofreu', 'soft', 'sofá\\x00', 'sol', 'soltaram', 'solto', 'solução', 'sono', 'sou', 'space', 'spotify\\x00', 'stories\\x00', 'story\\x00', 'stream', 'streamar', 'streaming', 'sua', 'suas\\x00', 'subcelebridade', 'subiu', 'subsolo', 'suco', 'sumiu', 'superficial', 'surtada\\x00', 'survivor', 'swiatek', 'são', 'série', 'séries\\x00', 'sério', 'sériooooo', 'só', 'ta', 'tacando', 'tacar', 'tais', 'tal', 'talento', 'tals\\x00', 'talvez', 'também', 'tampada\\x00', 'tampando', 'tanta', 'tanto', 'tao', 'tarde\\x00', 'tarem', 'tava', 'tavam', 'tb', 'tbm', 'tbm\\x00', 'td', 'tdo', 'te', 'telegram\\x00', 'televisão', 'tem', 'tem\\x00', 'tema', 'tempo', 'tempo\\x00', 'temporada\\x00', 'tempos', 'tendo', 'tenebrosa', 'tenha', 'tenham', 'tenho', 'tentando', 'ter', 'terem', 'teria', 'terrorista', 'testemunho', 'teu', 'teus', 'teve', 'texto', 'textão', 'threads', 'tiktok', 'tinha', 'tinham', 'tipo', 'tipo\\x00', 'tipos', 'tira', 'tirar', 'tirou', 'tive', 'tiveram', 'tivesse', 'tl', 'tmb\\x00', 'tml\\x00', 'to', 'toa', 'toda', 'todas', 'todo', 'todo\\x00', 'todos', 'tomara', 'top', 'torres', 'total', 'totalmente', 'trabalhador', 'trabalho', 'trabalhou', 'trade', 'trading', 'tragédia', 'traiu', 'trancou', 'transbordando', 'transtorno', 'trapalhões', 'traria', 'tratado', 'tratados', 'tratam', 'tratar\\x00', 'tratável', 'tremenda', 'trends', 'treta', 'trevoso', 'triste', 'triste\\x00', 'troco', 'trolls', 'trás', 'tt', 'tt\\x00\\x00\\x00', 'ttk', 'tudo', 'tuitando', 'tuíre', 'tv', 'tweet', 'tweets', 'twitter', 'twitter\\x00', 'tá', 'tão', 'tô', 'ultima', 'um', 'uma', 'uma\\x00', 'umas', 'unem', 'usa', 'usar', 'usso', 'usuário', 'vacilos', 'vai', 'vale', 'vamos', 'vc', 'vcs', 've', 'veeeeeey', 'vei', 'veio', 'veja', 'vejo', 'velho', 'vem', 'vendo', 'venezuela', 'ver', 'verdade', 'verdade\\x00', 'verdadeiro', 'vergonha', 'veria', 'veriam', 'verificado', 'vez', 'vezes', 'vi', 'via', 'vida', 'vida\\x00', 'vida\\x00\\x00\\x00\\x00', 'video', 'videogames', 'videos', 'vim', 'vir', 'virado', 'viralizou', 'virar', 'virei', 'visto', 'vitima', 'viu', 'viva', 'vivenciaram', 'viveu\\x00', 'vivido', 'voce', 'você', 'vocês', 'volta', 'vom', 'vontade', 'votação\\x00', 'vou', 'vsf', 'vá', 'várias', 'vários', 'vão', 'véi\\x00', 'vê', 'vídeo', 'vídeos\\x00', 'vítima', 'world', 'wtc', 'x', 'x\\x00xa', 'xande', 'xandy', 'xenofobicos', 'xenofóbico', 'xiita', 'xinga', 'xotinha', 'ze', 'zoado', 'zé', '¡fantástico', '¡será', 'à', 'álbum', 'é', 'é\\x00', 'ñ', 'ódio', 'ótima', 'ô', 'última', 'últimas', 'últimos', 'único', '˚', '༘✶', '“ah\\x00', '“desespero”', '“fantástico', '“haters”', '“orgulho”', '“world', '…', '…eu', '⁀➷', '⋆｡˚', '♀', '❤', '️', '🎥', '🏻', '🏼', '👀', '👈', '👉', '👏', '👏🏼', '👾', '💚', '💜', '🔥', '🗣', '😀', '😂', '😅', '😏', '😐', '😔', '😞', '😡', '😥', '😯', '😱', '😲', '🙄', '🤔', '🤡', '🤢', '🤣', '🤦', '🤦🏼\\u200d♀️', '🤷', '🤷🏻\\u200d♀️', '🥺', '🧐']\n",
    "#\n",
    "# ]\n",
    "# for wordsss in qremove_ponc_1['index']:\n",
    "#     if wordsss not in qremove_link_1['index']:\n",
    "#         listapok.append(wordsss)\n",
    "# print(listapok)\n",
    "#\n",
    "# print()\n",
    "#"
   ],
   "metadata": {
    "collapsed": false,
    "pycharm": {
     "name": "#%%\n"
    }
   }
  },
  {
   "cell_type": "code",
   "execution_count": 159,
   "outputs": [],
   "source": [
    "# a = [j for j in RemoveWords.list_desired_words]\n",
    "# print(a)\n"
   ],
   "metadata": {
    "collapsed": false,
    "pycharm": {
     "name": "#%%\n"
    }
   }
  }
 ],
 "metadata": {
  "kernelspec": {
   "display_name": "Python 3 (ipykernel)",
   "language": "python",
   "name": "python3"
  },
  "language_info": {
   "codemirror_mode": {
    "name": "ipython",
    "version": 3
   },
   "file_extension": ".py",
   "mimetype": "text/x-python",
   "name": "python",
   "nbconvert_exporter": "python",
   "pygments_lexer": "ipython3",
   "version": "3.8.3"
  }
 },
 "nbformat": 4,
 "nbformat_minor": 1
}