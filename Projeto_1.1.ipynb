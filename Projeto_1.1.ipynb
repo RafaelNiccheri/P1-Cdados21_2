{
 "cells": [
  {
   "cell_type": "markdown",
   "source": [
    "\\### arrumado\n",
    "#### __*ARRUMADO ~~A FUNÇÃO REMOVE_PONC ESTA QUEBRADA E ESTA REMOVENDO A PALAVRA PS5 (ISSO OBVIAMENTE NÃO ERA PARA OCORRER). COMO NOSSO PRODUTO NÃO É PS5 ISSO PODE NÃO PARECER UM PROBLEMA, NO ENTANTO, COMO NAO SEI SE ELA ESTA COMETENDO MAIS ERROS RECOMENDO NAO USA-LA.~~*__\n",
    "\n",
    "\n",
    "#### __*A variável Object_of_Study é uma variável reservada nessa biblioteca e nao pode ser substituída por nada para a biblioteca funcionar. Ela é ser escolhida ao rodar o programa pela primeira vez, para muda-la reinicie o kernel e/ou o python console dependendo do typo de arquivo.*__\n",
    "\n",
    "### Pra que serve a variável global object_of_study? :\n",
    "### Ela serve para definir o objeto alvo do estudo e evitar sua remoção da base de dados durante os vários tipo diferente de filtragens diferentes.\n",
    "\n",
    "### O arquivo classe_funcoes não apresenta nenhuma falha que interfira com outras bibliotecas/arquivos, no entanto, vale notar que dois malpractices (sei la como se fala em português) foram cometidos\n",
    "- #### primeiro: importar com a estrutura \"from _____ import *\"\n",
    "  - #### eu considero este apenas um agravante ao anterior sendo ele: declarar uma variável global fora da proteção de arquivo\n",
    "- #### segundo: usar try e except para tornar uma parte de um arquivo isolada. A estrutura foi explicada com detalhes no arquivo classes_funcoes\n",
    "### Contudo, todas as medidas de precaução foram tomadas para que nenhuma dessas práticas/agravantes gerem problemas\n",
    "#### Para quem ler for ver o método usado e invetado (até onde eu saiba) por para isolar partes de códigos por favor usem apenas em última instância, pois ele é um erro gravíssimo. Eu uso ele só é o único modo de fazer isso sem a IDE marcar o código como isolado e grifar tudo de amarelo"
   ],
   "metadata": {
    "collapsed": false
   }
  },
  {
   "cell_type": "code",
   "execution_count": 1,
   "metadata": {},
   "outputs": [
    {
     "name": "stdout",
     "output_type": "stream",
     "text": [
      "Classes_funcoes é uma mini biblioteca feita para um projeto de Ciência de Dados com a principal função de\n",
      "deixar mais fácil a interação entre a biblioteca pandas e a biblioteca emoji (esse era o intuito pelo\n",
      "menos mas acabamos fazendo uma biblioteca para o projeto inteiro). Além das biblioteca citadas anteriormente,\n",
      "ela requer as bibliotecas numpy, operator, functools e string. Quase certeza que todas estão disponíveis com pip\n",
      "install\n"
     ]
    }
   ],
   "source": [
    "from classes_funcoes import *\n",
    "import string\n",
    "import emoji\n",
    "import pandas as pd"
   ]
  },
  {
   "cell_type": "code",
   "execution_count": 2,
   "metadata": {
    "pycharm": {
     "name": "#%%\n"
    }
   },
   "outputs": [
    {
     "data": {
      "text/plain": "                                           Treinamento  Unnamed: 1\n0    @cbrzit amg, ele apareceu no fantástico????? o...           0\n1    #fantastico\\n\\nreportagem sobre os haters\\nmat...           1\n2                      @karendc99 me parece fantástico           1\n3    o quarteto fantástico tá diferente 🗣, amo!\\n#a...           1\n4    foda que os haters ouvidos pelo fantástico apa...           1\n..                                                 ...         ...\n295            @anajuxl foi no fantástico de hoje vida           0\n296  eu acho que eles lançaram o clipe agora porque...           0\n297  @sweetenersdw amigo quando sai sua entrevista ...           0\n298  @daianenem https://t.co/qmupncchru #notiktokte...           0\n299     o hater do fantástico? https://t.co/nckw3xkjqh           0\n\n[300 rows x 2 columns]",
      "text/html": "<div>\n<style scoped>\n    .dataframe tbody tr th:only-of-type {\n        vertical-align: middle;\n    }\n\n    .dataframe tbody tr th {\n        vertical-align: top;\n    }\n\n    .dataframe thead th {\n        text-align: right;\n    }\n</style>\n<table border=\"1\" class=\"dataframe\">\n  <thead>\n    <tr style=\"text-align: right;\">\n      <th></th>\n      <th>Treinamento</th>\n      <th>Unnamed: 1</th>\n    </tr>\n  </thead>\n  <tbody>\n    <tr>\n      <th>0</th>\n      <td>@cbrzit amg, ele apareceu no fantástico????? o...</td>\n      <td>0</td>\n    </tr>\n    <tr>\n      <th>1</th>\n      <td>#fantastico\\n\\nreportagem sobre os haters\\nmat...</td>\n      <td>1</td>\n    </tr>\n    <tr>\n      <th>2</th>\n      <td>@karendc99 me parece fantástico</td>\n      <td>1</td>\n    </tr>\n    <tr>\n      <th>3</th>\n      <td>o quarteto fantástico tá diferente 🗣, amo!\\n#a...</td>\n      <td>1</td>\n    </tr>\n    <tr>\n      <th>4</th>\n      <td>foda que os haters ouvidos pelo fantástico apa...</td>\n      <td>1</td>\n    </tr>\n    <tr>\n      <th>...</th>\n      <td>...</td>\n      <td>...</td>\n    </tr>\n    <tr>\n      <th>295</th>\n      <td>@anajuxl foi no fantástico de hoje vida</td>\n      <td>0</td>\n    </tr>\n    <tr>\n      <th>296</th>\n      <td>eu acho que eles lançaram o clipe agora porque...</td>\n      <td>0</td>\n    </tr>\n    <tr>\n      <th>297</th>\n      <td>@sweetenersdw amigo quando sai sua entrevista ...</td>\n      <td>0</td>\n    </tr>\n    <tr>\n      <th>298</th>\n      <td>@daianenem https://t.co/qmupncchru #notiktokte...</td>\n      <td>0</td>\n    </tr>\n    <tr>\n      <th>299</th>\n      <td>o hater do fantástico? https://t.co/nckw3xkjqh</td>\n      <td>0</td>\n    </tr>\n  </tbody>\n</table>\n<p>300 rows × 2 columns</p>\n</div>"
     },
     "execution_count": 2,
     "metadata": {},
     "output_type": "execute_result"
    }
   ],
   "source": [
    "dados_treino = pd.read_excel(f'{Object_of_Study}.xlsx')\n",
    "dados_treino_1=dados_treino\n",
    "dados_treino"
   ]
  },
  {
   "cell_type": "code",
   "execution_count": 3,
   "metadata": {
    "pycharm": {
     "name": "#%%\n"
    },
    "scrolled": false
   },
   "outputs": [
    {
     "data": {
      "text/plain": "              # de ocorrências\nfantástico                 179\na                          168\nque                        167\no                          164\nde                         142\n...                        ...\nbolsonaro                    1\npodre                        1\n@benicamilaa                 1\nroupas                       1\nexperiência                  1\n\n[2234 rows x 1 columns]",
      "text/html": "<div>\n<style scoped>\n    .dataframe tbody tr th:only-of-type {\n        vertical-align: middle;\n    }\n\n    .dataframe tbody tr th {\n        vertical-align: top;\n    }\n\n    .dataframe thead th {\n        text-align: right;\n    }\n</style>\n<table border=\"1\" class=\"dataframe\">\n  <thead>\n    <tr style=\"text-align: right;\">\n      <th></th>\n      <th># de ocorrências</th>\n    </tr>\n  </thead>\n  <tbody>\n    <tr>\n      <th>fantástico</th>\n      <td>179</td>\n    </tr>\n    <tr>\n      <th>a</th>\n      <td>168</td>\n    </tr>\n    <tr>\n      <th>que</th>\n      <td>167</td>\n    </tr>\n    <tr>\n      <th>o</th>\n      <td>164</td>\n    </tr>\n    <tr>\n      <th>de</th>\n      <td>142</td>\n    </tr>\n    <tr>\n      <th>...</th>\n      <td>...</td>\n    </tr>\n    <tr>\n      <th>bolsonaro</th>\n      <td>1</td>\n    </tr>\n    <tr>\n      <th>podre</th>\n      <td>1</td>\n    </tr>\n    <tr>\n      <th>@benicamilaa</th>\n      <td>1</td>\n    </tr>\n    <tr>\n      <th>roupas</th>\n      <td>1</td>\n    </tr>\n    <tr>\n      <th>experiência</th>\n      <td>1</td>\n    </tr>\n  </tbody>\n</table>\n<p>2234 rows × 1 columns</p>\n</div>"
     },
     "execution_count": 3,
     "metadata": {},
     "output_type": "execute_result"
    }
   ],
   "source": [
    "p = ListWord(column_name='Treinamento').c_o_f(dados_treino)\n",
    "p.sort_values(by='# de ocorrências', ascending=False)"
   ]
  },
  {
   "cell_type": "code",
   "execution_count": 4,
   "outputs": [],
   "source": [
    "mn = RemoveWords(p, '# de ocorrências', show_removed=True)\n",
    "mn1 = RemoveWords(p, '# de ocorrências', show_removed=True)\n",
    "mn2 = RemoveWords(p, '# de ocorrências', show_removed=True)\n",
    "mn3 = RemoveWords(p, '# de ocorrências', show_removed=True)\n",
    "mn4 = RemoveWords(p, '# de ocorrências', show_removed=True)\n",
    "mn5 = RemoveWords(p, '# de ocorrências', show_removed=True)\n",
    "mn6 = RemoveWords(p, '# de ocorrências', show_removed=True)"
   ],
   "metadata": {
    "collapsed": false,
    "pycharm": {
     "name": "#%%\n"
    }
   }
  },
  {
   "cell_type": "markdown",
   "source": [
    "#### Antes de filtrar, todos os emojis e a/frase palavra designada como o object_of_study são excluídos da filtragem e colocados de volta na vase de dados. A palavra designada como object_of_study é definhada ao executar o codigo pela primeira vez else paras redefini-la é preciso reiniciar o ‘kernel’."
   ],
   "metadata": {
    "collapsed": false,
    "pycharm": {
     "name": "#%% md\n"
    }
   }
  },
  {
   "cell_type": "code",
   "execution_count": 5,
   "outputs": [
    {
     "name": "stdout",
     "output_type": "stream",
     "text": [
      "sem palavras com @\n",
      "['@trajaza', '@julisides', '@i9grls', '@sonicofficialjp', '.@anygabriwiiy', '@rigolet63469189', '@domingao', '@taahdinoa', '@lagareirosantos', '@showdavida', '@angeikane', '@paoladodeboche', '@gordaopitchfork', '@ecbahia', '@dolcegabbana', '@thisismaxtrying', '@n12news', '@perryundo', '@fiuk.', '@akinasunflower', '@ei_angie', '@pricasoares', '@', '@iucascomenta', '@israelxxoo', '@gugachacra', '@kxcio', '@newtlark', '@dantinhas', '@tovejepsen', '@marcelomedici', '@youtube', '@nayibbukele', '@cindilanti', '@julhette', '@arianagrande', '@butteerffllyy', '@luccasoliverra', '@twittermedia', '@ticorilofreire', '@yefobic', '@laverdad_es', '@alwaleed_talal', '@alisson_patinho', '@diavaldetails', '@daianenem', '@brasil247', '@paulovieirareal', '@awencis', '@zeliaduncan', '@jovempannews', '@nicolygfbpa', '@legalnaay', '@feyrisnyan_nyan', '@dipirango', '@germana764', '@yizcut', '@callmeoak_', '@cbrzit', '@sweet_haroldo', '@sexyenfermera69', '@grimes_fanha', '@benicamilaa', '@flwrstomin', '@visitante6789', '@chiidemitadas', '@dnl91_', '@jornaloglobo', '@baefeiix', '@cosplayfantasia', '@minceauras', '@lucianohuck', '@louvplacez', '@flaviamaynarte', '@bibibailas', '@soyfdelrincon', '@charlidamelio', '@iwtfeels', '@anaolivias', '@rogeria42332617', '@eusouluismelo', '@cnnee', '@jully02184332', '@nanahsantosss', '@suzibutera', '@leprechaun_3', '@krisjenner', '@thiagomncc', '@chaeychuulover', '@guiferreirattt', '@gildovigor', '@jramonfernandez', '@cesarnebot', '@coreygamble', '@kyhnoir', '@sonhomanu', '@luizdavipaolilo', '@marthapapaleo', '@huayna_tejo', '@samucatuita', '@fbtrzz', '@umjuzeh', '@ludmilla', '@danielaalmeida8', '@agenda2030_', '@vinehciuslol', '@janeygodley', '@cianecrf', '@carmenk29868410', '@sereiasensitiva', '@giolimoes', '@rosana', '@karendc99', '@bts_twt', '@rafakalimann_', '@elanemendes9', '@jojo_littletodd', '@sweetenersdw', '@grana2burn', '@lucasdetea', '@holygah', '@anajuxl', '@ataldajessi', '@regiondemurcia', '@locoaprendiendo', '@btsmarxistas', '@carlosalcaraz_1', '@diarioole', '@garrafnha', '@joshrhcds', '@aaguirredc', '@aliehnada', '@heliouchoaa', '@nen_min_viiu', '@rickylodge', '@nassar_furat', '@michele_miss', '@gabzm07', '@mpercb', '@felipeneto', '@heroi_romanesco', '(@corinthians019)', '@sonygiron']\n",
      "\n",
      " sem palavras com link\n",
      "['https://t.co/dupdvftq7c', 'https://t.co/ofbsmyizdz', 'https://t.co/bnygubofk3', 'https://t.co/gtnuocghvy', 'https://t.co/udoxdrskyn', 'https://t.co/qmupncchru', 'https://t.co/qgi8bymna4', 'https://t.co/sq3mjsd03v', 'https://t.co/qcngys4t7l', 'https://t.co/m452fp3otx', 'https://t.co/ocbbfprb0m', 'https://t.co/zbc9awdksm', 'https://t.co/cxeowynenn', 'https://t.co/clrwboao46', 'https://t.co/xpx8umvb1m', 'https://t.co/lhj6na4czi', 'https://t.co/r64ebjqjfu', 'https://t.co/iivcccaqdq', 'https://t.co/zuyivpnudu', 'https://t.co/d4baci8bz6', 'https://t.co/ilawqna3hr', 'https://t.co/3ut6k9dfrz', 'https://t.co/eghuyvzzdu', 'https://t.co/hv07g9nigy', 'https://t.co/azlin46w57', 'https://t.co/dllkhjipvm', 'https://t.co/4u8l3si1vm', 'https://t.co/utws0zlt17', 'https://t.co/t1ubqqhsrb', 'https://t.co/amiida4vis', 'https://t.co/t0ygkm2lzt', 'https://t.co/amanm5ickw', 'https://t.co/2g5rzmj7lc', 'https://t.co/ywls3cscvb', 'https://t.co/4uw1d1nroz', 'https://t.co/pejwa3nnmt', 'https://t.co/rivrnjbkhq', 'https://t.co/9etexc5sqe', 'https://t.co/oiv8oqtomo', 'https://t.co/zph0idgn3e', 'https://t.co/pbri3e2x2a', 'https://t.co/uimpvulbln', 'https://t.co/slvyrcbjhg', 'https://t.co/ggkuy1mf8h', 'https://t.co/srv1g1pmj7', 'https://t.co/q0bmgj8njv', 'https://t.co/wmnop82tet', 'https://t.co/3mnumgjnpo', 'https://t.co/zbxnko3tjc', 'https://t.co/qxllqvamqz', 'https://t.co/lteczkjncl', 'https://t.co/nckw3xkjqh', 'https://t.co/c1fsvyik2v', 'https://t.co/ubfl867efg', 'https://t.co/q9hq6emny1', 'https://t.co/yyywbxbsr7', 'https://t.co/migcpww47b', 'https://t.co/qxkzk1gnun', 'https://t.co/z2bftnl7wl', 'https://t.co/ngrpyd3kt9', 'https://t.co/rqv5dwaflu', 'https://t.co/akuynhuxnb', 'https://t.co/ryrt3mkxw0', 'https://t.co/e0w8khaewi', 'https://t.co/0gnbzlhmvf', 'https://t.co/wwvovsx8fr', 'https://t.co/gbrrrqdwpn', 'https://t.co/noopncnwdb', 'https://t.co/ber6zmo52a', 'https://t.co/qm9z1wggkx', 'https://t.co/enwp4lzgfh', 'https://t.co/d0nod1m7ie', 'https://t.co/ujlorusq5l', 'https://t.co/utuxekz2ma']\n",
      "\n",
      " sem pontuação nas palavras\n",
      "\n",
      " sem palavras com menos de 3 letras\n",
      "['cu', 'pq', 'né', 'tá', 'vc', 'b', 'ia', 'eh', 'dá', '⁀➷', 'ze', 'fã', 'ar', '༘✶', 'o', '20', '=', '|', 'e', '25', 'ô', 'só', 'mn', '@', '\"o', 'hj', 'po', 'n', '7', 'ir', 'a', '5', 'tl', '!!', 'vê', 'd', 'um', 'aq', 'di', 'tb', 'la', 'ju', 'há', ':(', 'cm', 'qm', 'do', 'q', 'se', 'e,', 'tt', 'fé', 'tô', ':', 've', 'ja', '#', 'x', 'eu', '2', 'já', 'ig', 'as', '˚', 'os', '30', 'da', 'na', 'i', 'ri', 'tv', '…', 'mt', '11', 'no', 'vi', '?!', 'to', 'lá', 'g1', 'ao', 'dm', 'de', 'p', 'c', 'aí', '3', ',', 'vá', 'rp', '*', '+', 'ep', 'à', 'é', '/', 'cá', 'te', 'ne', '.', 'so', '1', 'me', 'ñ', 'rt', '-', 'kk', 'td', 'em', 'é.', 'b,', 'af', 'ai', '️', 'zé', 'mó', '!', 'ou', '4h', 'jk', 'ta', 'oq']\n",
      "\n",
      " sem palavras com mais de 3 ks juntos\n",
      "['', '', '', '', '', '', '', '', '']\n",
      "\n",
      " sem palavras com sequencia de numeros da ordem das unidades maior que 3 juntos\n",
      "['@rigolet63469189', '@rigolet63469189', '@rigolet63469189', '@rigolet63469189', '@rigolet63469189', '@rigolet63469189', 'https://t.co/m452fp3otx', '2019', '2019', 'k-12', '@brasil247', '2022.', '2022.', '@germana764', '@visitante6789', '@visitante6789', '@rogeria42332617', '@rogeria42332617', '@rogeria42332617', '@rogeria42332617', '@rogeria42332617', '@rogeria42332617', '@jully02184332', '@jully02184332', '@jully02184332', '@jully02184332', '@jully02184332', '@jully02184332', '2753', '2753', 'https://t.co/ubfl867efg', '@agenda2030_', '@agenda2030_', '@carmenk29868410', '@carmenk29868410', '@carmenk29868410', '@carmenk29868410', '@carmenk29868410', '@carmenk29868410', '2016/18', '2016/18', '(@corinthians019)']\n",
      "\n",
      " todos os filtros juntos\n",
      "['@trajaza', '@julisides', '@i9grls', '@sonicofficialjp', '.@anygabriwiiy', '@rigolet63469189', '@domingao', '@taahdinoa', '@lagareirosantos', '@showdavida', '@angeikane', '@paoladodeboche', '@gordaopitchfork', '@ecbahia', '@dolcegabbana', '@thisismaxtrying', '@n12news', '@perryundo', '@fiuk.', '@akinasunflower', '@ei_angie', '@pricasoares', '@', '@iucascomenta', '@israelxxoo', '@gugachacra', '@kxcio', '@newtlark', '@dantinhas', '@tovejepsen', '@marcelomedici', '@youtube', '@nayibbukele', '@cindilanti', '@julhette', '@arianagrande', '@butteerffllyy', '@luccasoliverra', '@twittermedia', '@ticorilofreire', '@yefobic', '@laverdad_es', '@alwaleed_talal', '@alisson_patinho', '@diavaldetails', '@daianenem', '@brasil247', '@paulovieirareal', '@awencis', '@zeliaduncan', '@jovempannews', '@nicolygfbpa', '@legalnaay', '@feyrisnyan_nyan', '@dipirango', '@germana764', '@yizcut', '@callmeoak_', '@cbrzit', '@sweet_haroldo', '@sexyenfermera69', '@grimes_fanha', '@benicamilaa', '@flwrstomin', '@visitante6789', '@chiidemitadas', '@dnl91_', '@jornaloglobo', '@baefeiix', '@cosplayfantasia', '@minceauras', '@lucianohuck', '@louvplacez', '@flaviamaynarte', '@bibibailas', '@soyfdelrincon', '@charlidamelio', '@iwtfeels', '@anaolivias', '@rogeria42332617', '@eusouluismelo', '@cnnee', '@jully02184332', '@nanahsantosss', '@suzibutera', '@leprechaun_3', '@krisjenner', '@thiagomncc', '@chaeychuulover', '@guiferreirattt', '@gildovigor', '@jramonfernandez', '@cesarnebot', '@coreygamble', '@kyhnoir', '@sonhomanu', '@luizdavipaolilo', '@marthapapaleo', '@huayna_tejo', '@samucatuita', '@fbtrzz', '@umjuzeh', '@ludmilla', '@danielaalmeida8', '@agenda2030_', '@vinehciuslol', '@janeygodley', '@cianecrf', '@carmenk29868410', '@sereiasensitiva', '@giolimoes', '@rosana', '@karendc99', '@bts_twt', '@rafakalimann_', '@elanemendes9', '@jojo_littletodd', '@sweetenersdw', '@grana2burn', '@lucasdetea', '@holygah', '@anajuxl', '@ataldajessi', '@regiondemurcia', '@locoaprendiendo', '@btsmarxistas', '@carlosalcaraz_1', '@diarioole', '@garrafnha', '@joshrhcds', '@aaguirredc', '@aliehnada', '@heliouchoaa', '@nen_min_viiu', '@rickylodge', '@nassar_furat', '@michele_miss', '@gabzm07', '@mpercb', '@felipeneto', '@heroi_romanesco', '(@corinthians019)', '@sonygiron', 'https://t.co/dupdvftq7c', 'https://t.co/ofbsmyizdz', 'https://t.co/bnygubofk3', 'https://t.co/gtnuocghvy', 'https://t.co/udoxdrskyn', 'https://t.co/qmupncchru', 'https://t.co/qgi8bymna4', 'https://t.co/sq3mjsd03v', 'https://t.co/qcngys4t7l', 'https://t.co/m452fp3otx', 'https://t.co/ocbbfprb0m', 'https://t.co/zbc9awdksm', 'https://t.co/cxeowynenn', 'https://t.co/clrwboao46', 'https://t.co/xpx8umvb1m', 'https://t.co/lhj6na4czi', 'https://t.co/r64ebjqjfu', 'https://t.co/iivcccaqdq', 'https://t.co/zuyivpnudu', 'https://t.co/d4baci8bz6', 'https://t.co/ilawqna3hr', 'https://t.co/3ut6k9dfrz', 'https://t.co/eghuyvzzdu', 'https://t.co/hv07g9nigy', 'https://t.co/azlin46w57', 'https://t.co/dllkhjipvm', 'https://t.co/4u8l3si1vm', 'https://t.co/utws0zlt17', 'https://t.co/t1ubqqhsrb', 'https://t.co/amiida4vis', 'https://t.co/t0ygkm2lzt', 'https://t.co/amanm5ickw', 'https://t.co/2g5rzmj7lc', 'https://t.co/ywls3cscvb', 'https://t.co/4uw1d1nroz', 'https://t.co/pejwa3nnmt', 'https://t.co/rivrnjbkhq', 'https://t.co/9etexc5sqe', 'https://t.co/oiv8oqtomo', 'https://t.co/zph0idgn3e', 'https://t.co/pbri3e2x2a', 'https://t.co/uimpvulbln', 'https://t.co/slvyrcbjhg', 'https://t.co/ggkuy1mf8h', 'https://t.co/srv1g1pmj7', 'https://t.co/q0bmgj8njv', 'https://t.co/wmnop82tet', 'https://t.co/3mnumgjnpo', 'https://t.co/zbxnko3tjc', 'https://t.co/qxllqvamqz', 'https://t.co/lteczkjncl', 'https://t.co/nckw3xkjqh', 'https://t.co/c1fsvyik2v', 'https://t.co/ubfl867efg', 'https://t.co/q9hq6emny1', 'https://t.co/yyywbxbsr7', 'https://t.co/migcpww47b', 'https://t.co/qxkzk1gnun', 'https://t.co/z2bftnl7wl', 'https://t.co/ngrpyd3kt9', 'https://t.co/rqv5dwaflu', 'https://t.co/akuynhuxnb', 'https://t.co/ryrt3mkxw0', 'https://t.co/e0w8khaewi', 'https://t.co/0gnbzlhmvf', 'https://t.co/wwvovsx8fr', 'https://t.co/gbrrrqdwpn', 'https://t.co/noopncnwdb', 'https://t.co/ber6zmo52a', 'https://t.co/qm9z1wggkx', 'https://t.co/enwp4lzgfh', 'https://t.co/d0nod1m7ie', 'https://t.co/ujlorusq5l', 'https://t.co/utuxekz2ma', 'cu', 'pq', 'né', 'tá', 'vc', 'b', 'ia', 'eh', 'dá', '⁀➷', 'ze', 'fã', 'ar', '༘✶', 'o', '20', '\\x00', 'e', '25', 'ô', 'só', 'mn', '\\x00o', 'hj', 'po', 'n', '7', 'ir', 'a', '5', 'tl', '\\x00\\x00', 'vê', 'd', 'um', 'aq', 'di', 'tb', 'la', 'ju', 'há', 'cm', 'qm', 'do', 'q', 'se', 'e\\x00', 'tt', 'fé', 'tô', 've', 'ja', 'x', 'eu', '2', 'já', 'ig', 'as', '˚', 'os', '30', 'da', 'na', 'i', 'ri', 'tv', '…', 'mt', '11', 'no', 'vi', 'to', 'lá', 'g1', 'ao', 'dm', 'de', 'p', 'c', 'aí', '3', 'vá', 'rp', 'ep', 'à', 'é', 'cá', 'te', 'ne', 'so', '1', 'me', 'ñ', 'rt', 'kk', 'td', 'em', 'é\\x00', 'b\\x00', 'af', 'ai', '️', 'zé', 'mó', 'ou', '4h', 'jk', 'ta', 'oq', '', '', '', '', '', '', '', '', '', '2019', '2019', '2022\\x00', '2022\\x00', '2753', '2753', '2016\\x0018', '2016\\x0018']\n"
     ]
    }
   ],
   "source": [
    "print('sem palavras com @')\n",
    "qremove_at = mn1.remove_at()\n",
    "print('\\n sem palavras com link')\n",
    "qremove_link =mn.remove_link()\n",
    "print('\\n sem pontuação nas palavras')\n",
    "qremove_ponc = mn2.remove_ponc()\n",
    "print('\\n sem palavras com menos de 3 letras')\n",
    "qremove_word_sts = mn3.remove_word_sts(3)\n",
    "print('\\n sem palavras com mais de 3 ks juntos')\n",
    "qremove_laugh = mn4.remove_laugh(4, 5)\n",
    "print('\\n sem palavras com sequencia de numeros da ordem das unidades maior que 3 juntos')\n",
    "qremove_num_str = mn5.remove_num_str(3)\n",
    "print('\\n todos os filtros juntos')\n",
    "qremove_options = mn6.remove_options(remove_at={True: '()'}, remove_link={True: '()'},\n",
    "                                    remove_ponc={True: '()'},remove_laugh={True: '(4, 3)'},\n",
    "                                    remove_word_sts={True: '(3)'}, remove_num_str={True: '(3)'})\n"
   ],
   "metadata": {
    "collapsed": false,
    "pycharm": {
     "name": "#%%\n"
    }
   }
  },
  {
   "cell_type": "code",
   "execution_count": 5,
   "outputs": [],
   "source": [],
   "metadata": {
    "collapsed": false,
    "pycharm": {
     "name": "#%%\n"
    }
   }
  },
  {
   "cell_type": "code",
   "execution_count": 6,
   "outputs": [
    {
     "name": "stdout",
     "output_type": "stream",
     "text": [
      "<class 'classes_funcoes.RemoveWords'>\n"
     ]
    }
   ],
   "source": [
    "print(type(mn))"
   ],
   "metadata": {
    "collapsed": false,
    "pycharm": {
     "name": "#%%\n"
    }
   }
  },
  {
   "cell_type": "code",
   "execution_count": 7,
   "outputs": [
    {
     "data": {
      "text/plain": "<classes_funcoes.RemoveWords at 0x16e30644220>"
     },
     "execution_count": 7,
     "metadata": {},
     "output_type": "execute_result"
    }
   ],
   "source": [
    "mn\n",
    "# print(len(qremove_options['# de ocorrências']))"
   ],
   "metadata": {
    "collapsed": false,
    "pycharm": {
     "name": "#%%\n"
    }
   }
  },
  {
   "cell_type": "code",
   "execution_count": 8,
   "outputs": [
    {
     "name": "stdout",
     "output_type": "stream",
     "text": [
      "NUMERO DE VEZES QUER APARECE A PALAVRA DEFINIDA NO INPUT DO COMEÇO POR DATAFRAME CRIADO\n",
      "\n",
      "18 qremove_link\n",
      "18 qremove_at\n",
      "18 qremove_ponc\n",
      "18 qremove_word_sts\n",
      "18 qremove_laugh\n",
      "18 qremove_num_str\n",
      "18 qremove_options\n"
     ]
    }
   ],
   "source": [
    "print(f\"\"\"NUMERO DE VEZES QUER APARECE A PALAVRA DEFINIDA NO INPUT DO COMEÇO POR DATAFRAME CRIADO\n",
    "\n",
    "{qremove_link['# de ocorrências'][Object_of_Study]} qremove_link\n",
    "{qremove_at['# de ocorrências'][Object_of_Study]} qremove_at\n",
    "{qremove_ponc['# de ocorrências'][Object_of_Study]} qremove_ponc\n",
    "{qremove_word_sts['# de ocorrências'][Object_of_Study]} qremove_word_sts\n",
    "{qremove_laugh['# de ocorrências'][Object_of_Study]} qremove_laugh\n",
    "{qremove_num_str['# de ocorrências'][Object_of_Study]} qremove_num_str\n",
    "{qremove_options['# de ocorrências'][Object_of_Study]} qremove_options\"\"\")"
   ],
   "metadata": {
    "collapsed": false,
    "pycharm": {
     "name": "#%%\n"
    }
   }
  },
  {
   "cell_type": "code",
   "execution_count": 9,
   "outputs": [
    {
     "data": {
      "text/plain": "            # de ocorrências\nfantástico               179\nque                      167\nmatéria                   62\nsobre                     59\nnão                       55\ncom                       51",
      "text/html": "<div>\n<style scoped>\n    .dataframe tbody tr th:only-of-type {\n        vertical-align: middle;\n    }\n\n    .dataframe tbody tr th {\n        vertical-align: top;\n    }\n\n    .dataframe thead th {\n        text-align: right;\n    }\n</style>\n<table border=\"1\" class=\"dataframe\">\n  <thead>\n    <tr style=\"text-align: right;\">\n      <th></th>\n      <th># de ocorrências</th>\n    </tr>\n  </thead>\n  <tbody>\n    <tr>\n      <th>fantástico</th>\n      <td>179</td>\n    </tr>\n    <tr>\n      <th>que</th>\n      <td>167</td>\n    </tr>\n    <tr>\n      <th>matéria</th>\n      <td>62</td>\n    </tr>\n    <tr>\n      <th>sobre</th>\n      <td>59</td>\n    </tr>\n    <tr>\n      <th>não</th>\n      <td>55</td>\n    </tr>\n    <tr>\n      <th>com</th>\n      <td>51</td>\n    </tr>\n  </tbody>\n</table>\n</div>"
     },
     "execution_count": 9,
     "metadata": {},
     "output_type": "execute_result"
    }
   ],
   "source": [
    "qremove_options_1 = qremove_options.sort_values(by='# de ocorrências', ascending=False)\n",
    "qremove_options_1=qremove_options_1.loc[qremove_options_1['# de ocorrências'] > 50]\n",
    "qremove_options_1\n"
   ],
   "metadata": {
    "collapsed": false,
    "pycharm": {
     "name": "#%%\n"
    }
   }
  },
  {
   "cell_type": "code",
   "execution_count": 10,
   "outputs": [
    {
     "name": "stdout",
     "output_type": "stream",
     "text": [
      "['\\x00', '\\x00\\x00', '\\x00\\x00\\x00\\x00\\x00\\x00\\x00\\x00\\x00\\x00\\x00\\x00\\x00\\x00\\x00\\x00\\x00\\x00', '\\x00\\x00anygabriwiiy', '\\x00\\x00corinthians019\\x00', '\\x0011desetembro', '\\x0060', '\\x008diasprosuperspace', '\\x00aaguirredc', '\\x00agenda2030\\x00', '\\x00ajudei', '\\x00akinasunflower', '\\x00aliehnada', '\\x00aliexpress', '\\x00aliexpressbrasil', '\\x00alisson\\x00patinho', '\\x00alwaleed\\x00talal', '\\x00amp\\x00do', '\\x00anajuxl', '\\x00anaolivias', '\\x00angeikane', '\\x00anvisa', '\\x00ards', '\\x00arianagrande', '\\x00armyselcaday', '\\x00arsd', '\\x00ataldajessi', '\\x00awencis', '\\x00baefeiix', '\\x00bane\\x00', '\\x00benicamilaa', '\\x00besta', '\\x00bibibailas', '\\x00bonito\\x00\\x00\\x00\\x00\\x00', '\\x00brasil', '\\x00brasil247', '\\x00brasilxargentina', '\\x00braxarg', '\\x00bts\\x00twt', '\\x00btsmarxistas', '\\x00bundaawards', '\\x00bundasawards', '\\x00butteerffllyy', '\\x00calabocagalvao', '\\x00caladinho\\x00', '\\x00callmeoak\\x00', '\\x00campinas', '\\x00canção', '\\x00carecafdp', '\\x00carlosalcaraz\\x001', '\\x00carmenk29868410', '\\x00catolico', '\\x00cbrzit', '\\x00cesarnebot', '\\x00chaeychuulover', '\\x00charlidamelio', '\\x00chiidemitadas', '\\x00cianecrf', '\\x00cindilanti', '\\x00cnnee', '\\x00comedycentral', '\\x00copanfa', '\\x00coreygamble', '\\x00cosplayfantasia', '\\x00daianenem', '\\x00danielaalmeida8', '\\x00dantinhas', '\\x00diadosexoolla', '\\x00diarioole', '\\x00diavaldetails', '\\x00dipirango', '\\x00dnl91\\x00', '\\x00dolcegabbana', '\\x00domingao', '\\x00durma', '\\x00ecbahia', '\\x00ei\\x00angie', '\\x00elanemendes9', '\\x00esquerda', '\\x00esquerdasdv', '\\x00esquerdasegueesquerda', '\\x00eu', '\\x00eusouluismelo', '\\x00fantastico', '\\x00fantastico\\x00\\x00\\x00', '\\x00fantástico', '\\x00fbtrzz', '\\x00felipeneto', '\\x00feyrisnyan\\x00nyan', '\\x00filosofia', '\\x00fiuk\\x00', '\\x00flaviamaynarte', '\\x00flwrstomin', '\\x00forabolsonaro', '\\x00gabzm07', '\\x00garrafnha', '\\x00gec\\x00\\x00', '\\x00geconofantastico', '\\x00germana764', '\\x00gildovigor', '\\x00giolimoes', '\\x00globo', '\\x00globolixo', '\\x00globoplay', '\\x00gordaopitchfork', '\\x00grana2burn', '\\x00grimes\\x00fanha', '\\x00gritando\\x00', '\\x00gt\\x00acho\\x00lt\\x00', '\\x00gt\\x00meu\\x00lt\\x00', '\\x00gugachacra', '\\x00guiferreirattt', '\\x00heliouchoaa', '\\x00heroi\\x00romanesco', '\\x00holygah', '\\x00huayna\\x00tejo', '\\x00i9grls', '\\x00ilovethisgame', '\\x00incomum\\x00', '\\x00israelxxoo', '\\x00iucascomenta', '\\x00iwtfeels', '\\x00janeygodley', '\\x00jojo\\x00littletodd', '\\x00jornaloglobo', '\\x00joshrhcds', '\\x00jovempannews', '\\x00jramonfernandez', '\\x00julhette', '\\x00julisides', '\\x00jully02184332', '\\x00karendc99', '\\x00krisjenner', '\\x00kxcio', '\\x00kyhnoir', '\\x00lagareirosantos', '\\x00laverdad\\x00es', '\\x00leagueoflegends', '\\x00legalnaay', '\\x00leprechaun\\x003', '\\x00locoaprendiendo', '\\x00louvplacez', '\\x00lucasdetea', '\\x00luccasoliverra', '\\x00lucianohuck', '\\x00ludmilla', '\\x00luizdavipaolilo', '\\x00marcelomedici', '\\x00marthapapaleo', '\\x00michele\\x00miss', '\\x00minceauras', '\\x00mionzera', '\\x00mpercb', '\\x00n12news', '\\x00na', '\\x00nanahsantosss', '\\x00nassar\\x00furat', '\\x00nayibbukele', '\\x00nem', '\\x00nen\\x00min\\x00viiu', '\\x00newtlark', '\\x00nicolygfbpa', '\\x00nofapsetember', '\\x00notiktoktemtudo', '\\x00o', '\\x00oratoria', '\\x00paoladodeboche', '\\x00papafrancisco', '\\x00pas', '\\x00paulovieirareal', '\\x00países', '\\x00peitoawards', '\\x00peitosawards', '\\x00perryundo', '\\x00pintoaward', '\\x00pintoawards', '\\x00pintosaward', '\\x00pintosawards', '\\x00policeuniversity', '\\x00policeuniversityep8', '\\x00pricasoares', '\\x00professor', '\\x00rabaawards', '\\x00rabasawards', '\\x00rafakalimann\\x00', '\\x00regiondemurcia', '\\x00reprodução\\x00', '\\x00rickylodge', '\\x00rigolet63469189', '\\x00rogeria42332617', '\\x00rosana', '\\x00s\\x00', '\\x00samucatuita', '\\x00se', '\\x00segundadetremurasdv', '\\x00segundaesquadraosdv', '\\x00segundavanguardasdv', '\\x00sereiasensitiva', '\\x00serranegra', '\\x00setembroamarelo', '\\x00sexyenfermera69', '\\x00showdavida', '\\x00showdosfamosos', '\\x00sidadäo\\x00', '\\x00solteiro', '\\x00sonhomanu', '\\x00sonicofficialjp', '\\x00sonygiron', '\\x00soyfdelrincon', '\\x00sp', '\\x00sumir\\x00', '\\x00suzibutera', '\\x00sweet\\x00haroldo', '\\x00sweetenersdw', '\\x00taahdinoa', '\\x00teologia', '\\x00teoria', '\\x00thiagomncc', '\\x00thisismaxtrying', '\\x00ticorilofreire', '\\x00tovejepsen', '\\x00trajaza', '\\x00troconuds', '\\x00twittermedia', '\\x00umjuzeh', '\\x00vidasnegrasimportam', '\\x00vinehciuslol', '\\x00visitante6789', '\\x00vocenuncaestevesozinha', '\\x00xotasawards', '\\x00yefobic', '\\x00yizcut', '\\x00youtube', '\\x00zeliaduncan', '1', '11', '11\\x0009', '12\\x0000', '13\\x0000', '14\\x0000', '19\\x0000', '2', '20', '20\\x0000', '2016\\x0018', '2019', '2022\\x00', '25', '2753', '3', '30', '4h', '5', '500', '7', '7\\x009\\x00', '90s', 'a', 'aaaaaa', 'aassustador', 'abalado', 'abalar\\x00', 'abertamente', 'abismado', 'abordado', 'abordei', 'abraçar', 'absolutamente', 'absurda', 'absurdamente', 'acabar', 'acalmar', 'acervo', 'acha', 'acham\\x00vc', 'achando', 'achar\\x00', 'achava', 'achei', 'acho', 'acompanhar', 'acompanho\\x00', 'acontece', 'acontecer\\x00', 'aconteceu', 'aconteceu\\x00', 'acorda\\x00', 'acreditar', 'acredito', 'acredito\\x00', 'acusado', 'adentra', 'adianta', 'adms', 'adora', 'adorava', 'advogado', 'aew', 'af', 'afetada', 'afins\\x00', 'afirmando', 'afirmou', 'agora', 'agora\\x00', 'agorinha', 'agr', 'agredido', 'aguardem', 'ahhahahahahhaha\\x00\\x00\\x00', 'ai', 'ainda', 'ajuda', 'akjskaka', 'algo', 'alguem', 'algum', 'alguma', 'alguma\\x00', 'algumas', 'alguns', 'alguém', 'ali', 'aliexpress', 'aliás', 'alma', 'alterado', 'alvo', 'além', 'ama', 'amadorismo', 'amamos', 'amanhã', 'amar', 'amazônia', 'amazônia\\x00\\x00', 'ambiental\\x00', 'ambos', 'ameaça', 'amg\\x00', 'amgkk', 'amiga', 'amigo', 'amigo…', 'amo', 'amo\\x00', 'amor', 'amor\\x00\\x00\\x00', 'ana', 'angustiante\\x00', 'angústia', 'anime', 'anitta', 'anitters', 'ano', 'anomalias', 'anos', 'anos\\x00', 'antecedem', 'antes', 'anunciada', 'anunciar', 'anvisa', 'anônimas\\x00', 'ao', 'aos', 'apagando', 'apagaram', 'apago', 'aparece', 'aparecer', 'apareceram', 'apareceu', 'aparecia', 'aparentam', 'apareçam', 'aparição\\x00', 'apenas', 'aplaudiram', 'aplicando', 'apresentadora\\x00', 'apresentação', 'aq', 'aquela\\x00', 'aquele', 'aqueles', 'aqui', 'aquilo', 'ar', 'argentina', 'argentina\\x00', 'argentinaxbrasi\\x00\\x00\\x00', 'argentino', 'army', 'arrepiar', 'arthur\\x00', 'artistas', 'as', 'aspectos\\x00', 'assassino', 'assim', 'assista', 'assiste', 'assistem', 'assisti', 'assistido', 'assistindo', 'assistir', 'assistir\\x00', 'assistiram', 'assistirei', 'assistiu', 'assistiu\\x00', 'assisto', 'assite', 'assitir', 'associar', 'assumir', 'assunto\\x00', 'assuntos', 'assustava\\x00', 'atacar', 'ataque', 'ataques', 'atentado', 'atentado\\x00', 'atenção', 'ativa', 'atos\\x00', 'atrai', 'através', 'atualmente', 'até', 'auge', 'aumento', 'autoestima', 'avaliação', 'avô', 'azar', 'ação', 'aí', 'b', 'b\\x00', 'babados', 'babá', 'bagulho', 'baixaria', 'balaio', 'bandido\\x00', 'barulho', 'basket\\x00', 'batata', 'batendo', 'bater', 'bateu', 'bbb', 'bbb21', 'bcharts', 'bebê\\x00', 'beijando', 'bem', 'bem\\x00', 'bencic', 'bernardes', 'besta', 'bieber', 'biscoito', 'bizarra', 'bizarro', 'block', 'block\\x00', 'blogueiros\\x00', 'bloqueou', 'boa', 'boa\\x00', 'boas', 'bobby”', 'boderline', 'boderline\\x00', 'bolsonaro', 'bom', 'bomba', 'bombada', 'bombeiro\\x00', 'bonecos', 'bons', 'borrada', 'bosta', 'bota', 'brasil', 'brasil\\x00', 'brasileiro', 'brasília', 'broxa', 'bts', 'bueno', 'bulldog', 'busca', 'butantã', 'c', 'cabelo', 'cabeça\\x00', 'cachorros', 'cactos', 'cactos\\x00', 'cacura', 'cada', 'cadastro\\x00', 'cade', 'cadê', 'cagada', 'caindo\\x00\\x00\\x00', 'calcinhavac\\x00', 'call', 'calunia', 'cameron', 'caminhoneiros', 'canais\\x00', 'cancelamento\\x00', 'cancelou', 'cansei', 'canta\\x00\\x00\\x00\\x00', 'cantando', 'cantou', 'capitalismo\\x00', 'capucci', 'cara', 'cara\\x00me', 'caralho\\x00', 'caramba', 'caramba\\x00\\x00\\x00', 'carey', 'carioca', 'carreata', 'carreta', 'carros', 'cartas', 'carência', 'casa', 'caso', 'categoria', 'causa', 'caçar', 'caí', 'cedo', 'cega', 'center', 'center”', 'ceo', 'certa', 'certo', 'chama', 'chamado', 'chamando', 'chamar', 'chamassem', 'chamou', 'charlie', 'chegando', 'chegaram', 'chegou', 'choca', 'chocada', 'chocadas', 'chocado', 'chora', 'chorando', 'chorando\\x00', 'chorar', 'chorava', 'circo', 'cirurgia', 'claramente', 'claro', 'claro\\x00', 'clipe', 'cm', 'coisa', 'coisa\\x00', 'coisada', 'coisas', 'colapso', 'colocado', 'colocam', 'colocando', 'colocar', 'colocou', 'com', 'comentados', 'comentar', 'coments', 'comentário', 'comentários', 'começa', 'começando', 'como', 'compactuavam', 'comparado', 'completa', 'completará', 'completo', 'complexo\\x00', 'comportamento', 'comuna\\x00', 'concedeu', 'conceitual', 'concordar', 'condições', 'confirmado', 'conflito', 'conhecido', 'conmebol', 'consegue', 'conselho\\x00', 'consequência', 'consequências', 'consigo', 'conta', 'conta\\x00', 'contada', 'contando', 'conteúdo', 'continua', 'continuar', 'contra', 'contratempo', 'contribuem', 'conversa\\x00', 'conversou', 'convia', 'convidou', 'coragem', 'coração\\x00', 'corpos', 'corredor\\x00', 'corrupto\\x00\\x00\\x00', 'cortado\\x00', 'cortaram', 'corte', 'corujão\\x00\\x00', 'cospleys', 'cpf', 'crescer', 'criança\\x00', 'criei', 'crime', 'crime\\x00', 'criminoso', 'criminoso\\x00', 'cristina\\x00mãe', 'criticando', 'cronograma\\x00', 'críticas', 'cu', 'culpa', 'cumplices', 'cupons', 'curou', 'curtiu', 'cyberbullying\\x00', 'cá', 'cômica', 'd', 'da', 'dados', 'dando', 'daquela', 'daquela\\x00', 'daquele', 'dar', 'das', 'day', 'daí\\x00\\x00\\x00', 'de', 'debochada\\x00', 'debochando', 'decepcionado', 'decide', 'decidido', 'decorrência', 'defendendo', 'defender', 'definir', 'dei', 'deitar', 'deixa', 'deixar', 'dela', 'dele', 'dele\\x00', 'deles', 'delírios', 'demais', 'demais\\x00', 'denuncie', 'depende', 'depois', 'depois\\x00', 'depressiva\\x00', 'depressão', 'deram', 'descobriu', 'descrever\\x00', 'desde', 'deseja', 'desejo', 'desenvolver', 'desenvolvi', 'desesperador', 'desfecho', 'desinformação\\x00', 'desmotivando', 'desnecessários\\x00', 'dessa', 'dessas', 'desse', 'desserviço', 'desses', 'desses\\x00', 'destilam', 'destilar', 'deu', 'deu\\x00', 'deu\\x00\\x00', 'deus', 'deveria', 'deveriam', 'devia', 'di', 'dia', 'dias', 'difamação', 'diferente', 'diferença', 'digo', 'direita', 'direito', 'direção', 'dirá', 'disneylândia', 'disse', 'dissemina', 'disseram', 'disso', 'distúrbio', 'diva', 'diversas', 'divertido', 'divulgado', 'divulgar', 'divulgação', 'divulgação\\x00', 'diz', 'dizendo', 'dizer', 'dizer\\x00assistimos', 'dm', 'do', 'doc', 'documentário', 'doente\\x00', 'doentio\\x00', 'doeu', 'doida', 'dois', 'doja', 'domingo', 'domingão', 'dona', 'donas', 'dopado', 'dor', 'dormem\\x00', 'dormi\\x00', 'dormindo', 'dormir', 'dormir\\x00', 'dos', 'doses', 'dps', 'drama', 'durante', 'dá', 'dó\\x00', 'e', 'e\\x00', 'eca', 'editoria', 'efeito', 'eh', 'ela', 'ela\\x00', 'elas', 'ele', 'ele\\x00', 'eleito', 'eleições', 'eles', 'eles\\x00', 'elton', 'em', 'emocional', 'emoção\\x00', 'empatia', 'empatia\\x00', 'empreendedores', 'empresa', 'enaltecendo', 'encobrir', 'encontroo', 'energia', 'enfim\\x00', 'engaja\\x00', 'engajada', 'engajado', 'engajamento\\x00', 'engano\\x00', 'enorme', 'enormemente', 'enquanto', 'enrolando\\x00', 'entao', 'entender', 'entendi\\x00', 'entendia\\x00', 'entrando', 'entrar', 'entre', 'entrei', 'entrevista', 'entrevistada\\x00', 'entrevistado\\x00', 'entrevistados', 'entrevistando', 'então', 'envolvendo', 'ep', 'ep\\x00', 'episódio', 'equipe', 'equivocada\\x00', 'era', 'errada', 'errado', 'erros', 'escolha', 'escolhendo', 'escondem', 'escondendo', 'escrevi', 'escroto\\x00', 'escutando', 'escutar\\x00', 'espancada', 'espaço', 'esperando', 'esperanças', 'espero', 'esporte', 'esqueci', 'esquentar', 'essa', 'essas', 'esse', 'esses', 'esta\\x00', 'estao', 'estar', 'estas', 'estava', 'estavam', 'estive', 'esto', 'estou', 'estranha', 'estratégia', 'estresse', 'estufa', 'estupendo', 'está', 'estão', 'eteu', 'eu', 'eu\\x00', 'exata', 'exatos', 'exclusividade', 'exibida', 'exigir', 'existem', 'experimentar', 'experiência', 'explica', 'explicar', 'expliquem', 'exposed', 'expressão', 'expôs', 'extra', 'extrema', 'extremamente', 'exército', 'facção', 'faixas', 'fake', 'fakes', 'fala', 'falado', 'falam', 'falando', 'falano', 'falar', 'falaram', 'falassem', 'falhou', 'falo', 'falou', 'falso', 'falta', 'faltou', 'fama\\x00', 'famosinhes', 'famoso', 'famoso\\x00', 'famosos', 'famosos\\x00', 'família\\x00', 'fanbase', 'fanfiqueiros', 'fantastico', 'fantastico\\x00', 'fantásticas\\x00', 'fantástico', 'fantástico\\x00', 'fantástico\\x00\\x00', 'fantástico\\x00\\x00\\x00', 'fantástico\\x00\\x00\\x00\\x00', 'fantástico\\x00\\x00\\x00\\x00\\x00', 'fantástico\\x00\\x00\\x00\\x00como', 'fantástico\\x0020', 'fantástico…', 'fato', 'faustão', 'faustão\\x00', 'favor\\x00', 'faz', 'fazem\\x00', 'fazemos\\x00\\x00\\x00', 'fazendo', 'fazer', 'fazia', 'federal', 'feia', 'feita', 'feito\\x00', 'feitos', 'felicidade', 'feliz', 'ferrer', 'ferrou', 'feto', 'fez', 'fica', 'ficado', 'ficar', 'ficaram', 'ficarem', 'ficou', 'figurinista', 'filha', 'filho', 'filhos', 'filmes\\x00', 'fim\\x00', 'final', 'fingindo', 'fingir', 'fiquei', 'fiuk', 'fiuk\\x00', 'fizeram', 'flash', 'floresta', 'foda', 'fofoca', 'fofos', 'foi', 'folvlorica', 'fome', 'foram', 'forma', 'formado\\x00', 'fosse', 'fracassada', 'frita', 'fulana', 'funcionam', 'fundo\\x00', 'funk\\x00', 'fátima', 'fã', 'fãs', 'fé', 'fórum', 'fóruns\\x00', 'g1', 'g3co', 'gabi', 'gado', 'galera', 'galera\\x00', 'galvão', 'gambiarra\\x00', 'gamer\\x00', 'ganhar', 'garantir', 'gases', 'gatilho', 'gay', 'geco', 'geco\\x00', 'gelou', 'gente', 'gente\\x00', 'geralmente', 'geração', 'gigante\\x00', 'gladson', 'globesta\\x00', 'globo', 'globo\\x00', 'globoplay', 'glória', 'gnt', 'gol', 'golpes', 'gossip', 'gosta', 'gosta\\x00', 'gostou\\x00', 'grande', 'gratis', 'gratuitamente', 'gratuito', 'gravar', 'graves', 'graça', 'graça\\x00', 'greg', 'gregorio', 'groove', 'gêmea', 'gêmeas', 'gêmeas\\x00', 'hate', 'hate\\x00', 'hateando', 'hater', 'hater\\x00', 'haters', 'haters\\x00', 'haters\\x00\\x00\\x00', 'haters\\x00\\x00\\x00desconfio', 'haters…', 'hatters\\x00', 'havia', 'hein\\x00\\x00', 'hernanes', 'heter', 'hino', 'hipocrisia', 'hipócritas\\x00', 'história', 'história\\x00', 'hj', 'hj\\x00', 'hoje', 'hoje\\x00', 'homofobia', 'homofobia\\x00', 'hora', 'hora\\x00', 'horror', 'horário', 'houveram', 'https\\x00\\x00\\x00t\\x00co\\x000gnbzlhmvf', 'https\\x00\\x00\\x00t\\x00co\\x002g5rzmj7lc', 'https\\x00\\x00\\x00t\\x00co\\x003mnumgjnpo', 'https\\x00\\x00\\x00t\\x00co\\x003ut6k9dfrz', 'https\\x00\\x00\\x00t\\x00co\\x004u8l3si1vm', 'https\\x00\\x00\\x00t\\x00co\\x004uw1d1nroz', 'https\\x00\\x00\\x00t\\x00co\\x009etexc5sqe', 'https\\x00\\x00\\x00t\\x00co\\x00akuynhuxnb', 'https\\x00\\x00\\x00t\\x00co\\x00amanm5ickw', 'https\\x00\\x00\\x00t\\x00co\\x00amiida4vis', 'https\\x00\\x00\\x00t\\x00co\\x00azlin46w57', 'https\\x00\\x00\\x00t\\x00co\\x00ber6zmo52a', 'https\\x00\\x00\\x00t\\x00co\\x00bnygubofk3', 'https\\x00\\x00\\x00t\\x00co\\x00c1fsvyik2v', 'https\\x00\\x00\\x00t\\x00co\\x00clrwboao46', 'https\\x00\\x00\\x00t\\x00co\\x00cxeowynenn', 'https\\x00\\x00\\x00t\\x00co\\x00d0nod1m7ie', 'https\\x00\\x00\\x00t\\x00co\\x00d4baci8bz6', 'https\\x00\\x00\\x00t\\x00co\\x00dllkhjipvm', 'https\\x00\\x00\\x00t\\x00co\\x00dupdvftq7c', 'https\\x00\\x00\\x00t\\x00co\\x00e0w8khaewi', 'https\\x00\\x00\\x00t\\x00co\\x00eghuyvzzdu', 'https\\x00\\x00\\x00t\\x00co\\x00enwp4lzgfh', 'https\\x00\\x00\\x00t\\x00co\\x00gbrrrqdwpn', 'https\\x00\\x00\\x00t\\x00co\\x00ggkuy1mf8h', 'https\\x00\\x00\\x00t\\x00co\\x00gtnuocghvy', 'https\\x00\\x00\\x00t\\x00co\\x00hv07g9nigy', 'https\\x00\\x00\\x00t\\x00co\\x00iivcccaqdq', 'https\\x00\\x00\\x00t\\x00co\\x00ilawqna3hr', 'https\\x00\\x00\\x00t\\x00co\\x00lhj6na4czi', 'https\\x00\\x00\\x00t\\x00co\\x00lteczkjncl', 'https\\x00\\x00\\x00t\\x00co\\x00m452fp3otx', 'https\\x00\\x00\\x00t\\x00co\\x00migcpww47b', 'https\\x00\\x00\\x00t\\x00co\\x00nckw3xkjqh', 'https\\x00\\x00\\x00t\\x00co\\x00ngrpyd3kt9', 'https\\x00\\x00\\x00t\\x00co\\x00noopncnwdb', 'https\\x00\\x00\\x00t\\x00co\\x00ocbbfprb0m', 'https\\x00\\x00\\x00t\\x00co\\x00ofbsmyizdz', 'https\\x00\\x00\\x00t\\x00co\\x00oiv8oqtomo', 'https\\x00\\x00\\x00t\\x00co\\x00pbri3e2x2a', 'https\\x00\\x00\\x00t\\x00co\\x00pejwa3nnmt', 'https\\x00\\x00\\x00t\\x00co\\x00q0bmgj8njv', 'https\\x00\\x00\\x00t\\x00co\\x00q9hq6emny1', 'https\\x00\\x00\\x00t\\x00co\\x00qcngys4t7l', 'https\\x00\\x00\\x00t\\x00co\\x00qgi8bymna4', 'https\\x00\\x00\\x00t\\x00co\\x00qm9z1wggkx', 'https\\x00\\x00\\x00t\\x00co\\x00qmupncchru', 'https\\x00\\x00\\x00t\\x00co\\x00qxkzk1gnun', 'https\\x00\\x00\\x00t\\x00co\\x00qxllqvamqz', 'https\\x00\\x00\\x00t\\x00co\\x00r64ebjqjfu', 'https\\x00\\x00\\x00t\\x00co\\x00rivrnjbkhq', 'https\\x00\\x00\\x00t\\x00co\\x00rqv5dwaflu', 'https\\x00\\x00\\x00t\\x00co\\x00ryrt3mkxw0', 'https\\x00\\x00\\x00t\\x00co\\x00slvyrcbjhg', 'https\\x00\\x00\\x00t\\x00co\\x00sq3mjsd03v', 'https\\x00\\x00\\x00t\\x00co\\x00srv1g1pmj7', 'https\\x00\\x00\\x00t\\x00co\\x00t0ygkm2lzt', 'https\\x00\\x00\\x00t\\x00co\\x00t1ubqqhsrb', 'https\\x00\\x00\\x00t\\x00co\\x00ubfl867efg', 'https\\x00\\x00\\x00t\\x00co\\x00udoxdrskyn', 'https\\x00\\x00\\x00t\\x00co\\x00uimpvulbln', 'https\\x00\\x00\\x00t\\x00co\\x00ujlorusq5l', 'https\\x00\\x00\\x00t\\x00co\\x00utuxekz2ma', 'https\\x00\\x00\\x00t\\x00co\\x00utws0zlt17', 'https\\x00\\x00\\x00t\\x00co\\x00wmnop82tet', 'https\\x00\\x00\\x00t\\x00co\\x00wwvovsx8fr', 'https\\x00\\x00\\x00t\\x00co\\x00xpx8umvb1m', 'https\\x00\\x00\\x00t\\x00co\\x00ywls3cscvb', 'https\\x00\\x00\\x00t\\x00co\\x00yyywbxbsr7', 'https\\x00\\x00\\x00t\\x00co\\x00z2bftnl7wl', 'https\\x00\\x00\\x00t\\x00co\\x00zbc9awdksm', 'https\\x00\\x00\\x00t\\x00co\\x00zbxnko3tjc', 'https\\x00\\x00\\x00t\\x00co\\x00zph0idgn3e', 'https\\x00\\x00\\x00t\\x00co\\x00zuyivpnudu', 'hugo', 'humana\\x00', 'humanas\\x00\\x00\\x00\\x00\\x00\\x00\\x00\\x00\\x00', 'humano\\x00', 'humilha', 'humorado', 'há', 'i', 'ia', 'idade', 'ideia', 'identidade', 'identificar', 'identificação', 'identitarismo', 'idéia', 'ig', 'ignorar', 'iguais', 'igual', 'imagem', 'imagens', 'imagina', 'imaginava', 'imperialistas', 'importa', 'importante', 'impossível\\x00', 'imprensa', 'impressionado', 'inaceitável', 'inadequado', 'incentiva', 'incitando', 'inconstitucionais\\x00', 'incrível', 'infartar', 'infeliz\\x00', 'infelizmente', 'infelizmente\\x00\\x00\\x00', 'influencer', 'influencers', 'informação', 'infância', 'inglaterra', 'inibir', 'injustamente\\x00', 'insano\\x00', 'insta', 'instagram', 'instante', 'instas', 'insuportavél', 'insônia', 'inteiro', 'interessante', 'interferiu', 'internacionais', 'internet', 'internet\\x00', 'inveja', 'invejam\\x00', 'inventou', 'invisível', 'inédita', 'inúmeras', 'ir', 'irei', 'irmãos', 'irresponsável', 'isso', 'isso\\x00', 'isso\\x00\\x00\\x00\\x00\\x00', 'isto', 'ja', 'jair', 'janeiro', 'jantada', 'jeito', 'jesus', 'jk', 'joga', 'jogam', 'jogando', 'jogar\\x00', 'jogo', 'jogo\\x00', 'jogo\\x00\\x00\\x00', 'jogos', 'jogou', 'jornal\\x00\\x00\\x00\\x00\\x00\\x00\\x00\\x00', 'jornalistas', 'josé', 'jovem', 'joão', 'ju', 'ju\\x00', 'julia', 'juliete', 'juliette', 'justamente', 'justin', 'justiça', 'já', 'k\\x0012', 'ketchup', 'kiketacontecendo', 'kk', 'kkkk', 'kkkkkk', 'kkkkkkk', 'kkkkkkkk', 'kkkkkkkkk', 'kkkkkkkkkk', 'kkkkkkkkkkkk', 'kkkkkkkkkkkkk', 'kkkkkkkkkkkkkkkk', 'kpop', 'kuroko', 'la', 'lacrar', 'lamaçal\\x00', 'lance', 'lança', 'lançado', 'lançar', 'lançaram', 'lastima', 'laudo\\x00', 'lema', 'lembrar', 'leonel', 'lesou', 'leva', 'levem', 'levo', 'liderança', 'lidos', 'likes', 'linda', 'lindo\\x00', 'link', 'livro', 'lixo', 'lixão\\x00', 'logo', 'loucaaaa', 'loucuras', 'luas', 'ludd', 'lugar\\x00', 'lutinha\\x00', 'luz', 'lá', 'lá\\x00', 'm\\x00tar\\x00', 'maior', 'maioria', 'mais', 'mal', 'mal\\x00', 'malandro', 'maldade\\x00', 'maldosa\\x00', 'maldosa\\x00\\x00', 'maluco\\x00', 'manca', 'mandam', 'mandar', 'maneira\\x00', 'manhã', 'manifestação', 'manipulado\\x00', 'mano', 'mano\\x00', 'manu', 'mao', 'maravilhoso', 'marcar', 'margareth', 'mari', 'maria', 'mariah', 'maricona', 'martelo\\x00', 'mas', 'mas\\x00', 'massacrado', 'matar', 'materia', 'maturidade\\x00', 'matéria', 'matéria\\x00', 'mbappé', 'mcgyver\\x00', 'mds', 'me', 'mecanismos', 'medonhas\\x00', 'meio', 'melhor', 'melhor\\x00\\x00', 'melhorem', 'melinda', 'memorial', 'menezes', 'menina', 'menino', 'menos', 'mentira', 'mentiras', 'mentiroso', 'merda', 'merda\\x00', 'merece', 'merecia', 'meses', 'mesma', 'mesmo', 'mesmo\\x00', 'messi', 'meu', 'meus', 'mexe', 'mexe\\x00', 'mico', 'mil', 'miley\\x00', 'militantes', 'mim', 'minha', 'minoria', 'minutos', 'misturou', 'mlr', 'mn', 'mobilizações', 'modelos', 'modernos', 'momento', 'momento\\x00', 'monte', 'moral', 'morram', 'morrendo', 'morrer\\x00', 'morreram', 'morte', 'mortos', 'mostrados', 'mostrar', 'mostrem', 'mostrou', 'motivo', 'msm', 'msm\\x00', 'mt', 'mta', 'mudar', 'muita', 'muitas', 'muito', 'muito\\x00', 'muitos', 'mulher', 'multiroes', 'mundinho', 'mundo', 'mundo\\x00', 'musica\\x00', 'mágica', 'más', 'máximo', 'mãe', 'médico', 'mínimo', 'mó', 'música', 'músicas', 'n', 'na', 'na\\x00\\x00sta', 'nada', 'nada\\x00', 'nadaa', 'namorado', 'nao', 'naquela', 'nas', 'nasci', 'nasci\\x00', 'nathalia', 'nathalia\\x00', 'nathalieu\\x00', 'nato\\x00', 'nayeon', 'nda', 'ne', 'necessária\\x00\\x00\\x00', 'negativamente', 'negligência', 'negocio', 'negra', 'negócio', 'nele', 'neles', 'nem', 'nenhuma', 'neoliberal\\x00', 'nera\\x00', 'nessa', 'nesse', 'nesta', 'neste', 'new', 'neymar', 'ngc', 'ninguém', 'no', 'noite', 'noite\\x00', 'noites', 'nojo', 'nojo\\x00', 'nome', 'nordestina', 'normalmente', 'nos', 'nossa', 'nosso', 'nossos', 'nova', 'novamente\\x00\\x00\\x00', 'novelas', 'novidade', 'novo', 'novos', 'noção\\x00', 'num', 'numa', 'nunca', 'nunk', 'não', 'não\\x00', 'né', 'nível', 'nível\\x00', 'números', 'o', 'obrigado', 'obrigação', 'ocorrido', 'ocultou', 'odd\\x00', 'odiador\\x00', 'odio', 'oferecendo', 'olha', 'olhando', 'olá', 'olá\\x00', 'onde', 'ontem', 'opinião', 'opção', 'oq', 'oque', 'organizações', 'orgasmo', 'orgulho', 'orgulhosa', 'orientação', 'os', 'ou', 'ouriçadas', 'outra', 'outras', 'outro', 'outros', 'outros\\x00', 'ouvi', 'ouvidos', 'ouço', 'oôo', 'p', 'paciente', 'paga', 'pagar', 'palavras\\x00', 'palco', 'pano', 'papo', 'para', 'parabenizar', 'parabéns', 'parar', 'parece', 'parecer', 'pariu', 'parte', 'participava', 'partir', 'parto\\x00', 'passada\\x00', 'passado', 'passado\\x00', 'passadores', 'passando', 'passar', 'passaram', 'passava', 'passei', 'passeio', 'passivamente', 'passo', 'passou', 'patroa', 'patroa\\x00', 'pau', 'paulo', 'paysandu', 'paz', 'país', 'país\\x00', 'pedia', 'pedindo', 'pedir', 'pedófilia', 'peitos\\x00\\x00\\x00', 'pela', 'pele', 'pelo', 'pena', 'penal\\x00', 'pensando', 'pensativo', 'penso', 'pequenos', 'perca\\x00', 'perderam', 'perdeu', 'perdi', 'perdida', 'perdoo', 'perfeitamente', 'perfeito\\x00', 'perfil', 'perfil\\x00', 'perfis', 'perguntam', 'perigo', 'permissão', 'persegue', 'personagem', 'personagens', 'perto', 'perto\\x00', 'pessoa', 'pessoas', 'pessoas\\x00', 'pingo', 'pior', 'piorzinha', 'piovani', 'pitt', 'planeta', 'plano', 'planos', 'playstation\\x00', 'pls', 'plástica', 'po', 'pobre', 'podcast', 'pode', 'poder', 'poderia', 'podiam', 'podre', 'podres', 'podridão\\x00\\x00\\x00', 'polêmica', 'polícia', 'política', 'pontas', 'pop', 'por', 'porque', 'porquê', 'porra', 'porrada', 'portugal', 'porém', 'pos', 'possa', 'possivel', 'possível', 'postado', 'postando', 'postaram', 'postaram\\x00', 'postaria', 'posto\\x00', 'pouca', 'pouco', 'poupa', 'povo', 'poxa', 'pq', 'pqp', 'pra', 'pras', 'pratica\\x00', 'prazer', 'preciso', 'preferido', 'prefiro', 'prender', 'preocupa', 'preocupar', 'preocupação', 'preparar', 'preservação', 'prestar', 'primeira', 'primeiro', 'print', 'pro', 'pro\\x00wrestling', 'problema', 'problemas', 'processada', 'processar', 'professor', 'profissionais', 'profissão', 'profundo', 'programa', 'programado\\x00', 'programação', 'prol', 'promoções', 'pronunciou', 'proposta', 'propósito', 'pros', 'protect', 'protocolos', 'provar', 'provavelmente', 'própria', 'próprio', 'próprios', 'próxima', 'próximo', 'psg', 'psicológico', 'psicopata\\x00', 'publicação', 'pudesse', 'puro', 'puseram', 'puta', 'puts', 'páginas', 'público', 'q', 'qm', 'qndo', 'qria', 'quadrada\\x00', 'quadro', 'quais', 'qual', 'qualquer', 'quando', 'quanto', 'quarteto', 'que', 'que\\x00', 'que\\x00\\x00\\x00', 'quebrar', 'quem', 'quer', 'querem', 'querendo', 'querer', 'queria', 'quero', 'questão', 'quis', 'quisesse\\x00', 'rachadinhas', 'racismo', 'rafa\\x00\\x00\\x00', 'rapidamente', 'reagir', 'reais\\x00', 'real', 'real\\x00', 'realmente', 'reanata', 'recebe', 'reclamando', 'reconhecendo\\x00', 'recorde', 'rede', 'redendo', 'redes', 'redondinho', 'registrar', 'rejeição', 'relato', 'relação', 'remetem', 'remix', 'renan\\x00', 'renata', 'rengoku', 'replicando', 'reportagem', 'reprovam', 'respeito', 'respiro', 'respondendo', 'respondendo\\x00', 'resposta', 'revelando', 'revendo', 'revistado', 'ri', 'rico', 'ricos', 'ridícula', 'ridículo', 'rio', 'rodando', 'rogeria', 'rolando', 'rolar', 'rolo', 'rolou\\x00\\x00\\x00', 'rolê', 'rolê\\x00', 'roupas', 'rousier\\x00', 'rp', 'rs”', 'rt', 'ruim', 'sabe', 'sabem', 'sabendo', 'saber', 'sabe…', 'sacanas', 'sacrificar', 'sai', 'saiam', 'sair', 'saiu', 'saldar', 'santa', 'santo', 'sao', 'sapatos', 'sarah', 'sarcástica', 'sariette', 'sariettes', 'sdds', 'se', 'segredo', 'segue', 'seguida', 'seguir\\x00', 'segund', 'segundo', 'sei', 'seja\\x00', 'sejam', 'selena', 'sem', 'semana', 'sempre', 'sendo', 'sensacionalista\\x00\\x00\\x00', 'sente', 'sentirem', 'separando', 'sequelados', 'sequer', 'ser', 'seria', 'seria\\x00', 'serii', 'serra', 'sertanejo', 'será', 'serão', 'setembro', 'setembro\\x00', 'seu', 'seus', 'show', 'siga', 'significa', 'sim', 'simm\\x00', 'simplesmente', 'sinal', 'sincera', 'single', 'sisimplesmente', 'sistema', 'skates', 'sllk', 'slogan', 'smiler', 'so', 'sob', 'sobre', 'socar', 'sociais', 'social', 'social\\x00', 'socooorro', 'socorro', 'sofrendo\\x00', 'sofreno', 'sofreu', 'soft', 'sofá\\x00', 'sol', 'soltaram', 'solto', 'solução', 'sono', 'sou', 'space', 'spotify\\x00', 'stories\\x00', 'story\\x00', 'stream', 'streamar', 'streaming', 'sua', 'suas\\x00', 'subcelebridade', 'subiu', 'subsolo', 'suco', 'sumiu', 'superficial', 'surtada\\x00', 'survivor', 'swiatek', 'são', 'série', 'séries\\x00', 'sério', 'sériooooo', 'só', 'ta', 'tacando', 'tacar', 'tais', 'tal', 'talento', 'tals\\x00', 'talvez', 'também', 'tampada\\x00', 'tampando', 'tanta', 'tanto', 'tao', 'tarde\\x00', 'tarem', 'tava', 'tavam', 'tb', 'tbm', 'tbm\\x00', 'td', 'tdo', 'te', 'telegram\\x00', 'televisão', 'tem', 'tem\\x00', 'tema', 'tempo', 'tempo\\x00', 'temporada\\x00', 'tempos', 'tendo', 'tenebrosa', 'tenha', 'tenham', 'tenho', 'tentando', 'ter', 'terem', 'teria', 'terrorista', 'testemunho', 'teu', 'teus', 'teve', 'texto', 'textão', 'threads', 'tiktok', 'tinha', 'tinham', 'tipo', 'tipo\\x00', 'tipos', 'tira', 'tirar', 'tirou', 'tive', 'tiveram', 'tivesse', 'tl', 'tmb\\x00', 'tml\\x00', 'to', 'toa', 'toda', 'todas', 'todo', 'todo\\x00', 'todos', 'tomara', 'top', 'torres', 'total', 'totalmente', 'trabalhador', 'trabalho', 'trabalhou', 'trade', 'trading', 'tragédia', 'traiu', 'trancou', 'transbordando', 'transtorno', 'trapalhões', 'traria', 'tratado', 'tratados', 'tratam', 'tratar\\x00', 'tratável', 'tremenda', 'trends', 'treta', 'trevoso', 'triste', 'triste\\x00', 'troco', 'trolls', 'trás', 'tt', 'tt\\x00\\x00\\x00', 'ttk', 'tudo', 'tuitando', 'tuíre', 'tv', 'tweet', 'tweets', 'twitter', 'twitter\\x00', 'tá', 'tão', 'tô', 'ultima', 'um', 'uma', 'uma\\x00', 'umas', 'unem', 'usa', 'usar', 'usso', 'usuário', 'vacilos', 'vai', 'vale', 'vamos', 'vc', 'vcs', 've', 'veeeeeey', 'vei', 'veio', 'veja', 'vejo', 'velho', 'vem', 'vendo', 'venezuela', 'ver', 'verdade', 'verdade\\x00', 'verdadeiro', 'vergonha', 'veria', 'veriam', 'verificado', 'vez', 'vezes', 'vi', 'via', 'vida', 'vida\\x00', 'vida\\x00\\x00\\x00\\x00', 'video', 'videogames', 'videos', 'vim', 'vir', 'virado', 'viralizou', 'virar', 'virei', 'visto', 'vitima', 'viu', 'viva', 'vivenciaram', 'viveu\\x00', 'vivido', 'voce', 'você', 'vocês', 'volta', 'vom', 'vontade', 'votação\\x00', 'vou', 'vsf', 'vá', 'várias', 'vários', 'vão', 'véi\\x00', 'vê', 'vídeo', 'vídeos\\x00', 'vítima', 'world', 'wtc', 'x', 'x\\x00xa', 'xande', 'xandy', 'xenofobicos', 'xenofóbico', 'xiita', 'xinga', 'xotinha', 'ze', 'zoado', 'zé', '¡fantástico', '¡será', 'à', 'álbum', 'é', 'é\\x00', 'ñ', 'ódio', 'ótima', 'ô', 'última', 'últimas', 'últimos', 'único', '˚', '༘✶', '“ah\\x00', '“desespero”', '“fantástico', '“haters”', '“orgulho”', '“world', '…', '…eu', '⁀➷', '⋆｡˚', '♀', '❤', '️', '🎥', '🏻', '🏼', '👀', '👈', '👉', '👏', '👏🏼', '👾', '💚', '💜', '🔥', '🗣', '😀', '😂', '😅', '😏', '😐', '😔', '😞', '😡', '😥', '😯', '😱', '😲', '🙄', '🤔', '🤡', '🤢', '🤣', '🤦', '🤦🏼\\u200d♀️', '🤷', '🤷🏻\\u200d♀️', '🥺', '🧐']\n",
      "\n"
     ]
    }
   ],
   "source": [
    "qremove_ponc_1=qremove_ponc.reset_index()\n",
    "qremove_link_1=dados_treino.reset_index()\n",
    "listapok = []\n",
    "for wordsss in qremove_ponc_1['index']:\n",
    "    if wordsss not in qremove_link_1['index']:\n",
    "        listapok.append(wordsss)\n",
    "print(listapok)\n",
    "\n",
    "print()"
   ],
   "metadata": {
    "collapsed": false,
    "pycharm": {
     "name": "#%%\n"
    }
   }
  },
  {
   "cell_type": "code",
   "execution_count": 10,
   "outputs": [],
   "source": [],
   "metadata": {
    "collapsed": false,
    "pycharm": {
     "name": "#%%\n"
    }
   }
  }
 ],
 "metadata": {
  "kernelspec": {
   "display_name": "Python 3 (ipykernel)",
   "language": "python",
   "name": "python3"
  },
  "language_info": {
   "codemirror_mode": {
    "name": "ipython",
    "version": 3
   },
   "file_extension": ".py",
   "mimetype": "text/x-python",
   "name": "python",
   "nbconvert_exporter": "python",
   "pygments_lexer": "ipython3",
   "version": "3.8.3"
  }
 },
 "nbformat": 4,
 "nbformat_minor": 1
}