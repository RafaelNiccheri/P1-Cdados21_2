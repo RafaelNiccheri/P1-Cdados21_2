{
 "cells": [
  {
   "cell_type": "markdown",
   "source": [
    "### arrumado\n",
    "#### __*ARRUMADO ~~A FUNÇÃO REMOVE_PONC ESTA QUEBRADA E ESTA REMOVENDO A PALAVRA PS5 (ISSO OBVIAMENTE NÃO ERA PARA OCORRER). COMO NOSSO PRODUTO NÃO É PS5 ISSO PODE NÃO PARECER UM PROBLEMA, NO ENTANTO, COMO NAO SEI SE ELA ESTA COMETENDO MAIS ERROS RECOMENDO NAO USA-LA.~~*__\n",
    "\n",
    "\n",
    "#### __*A variável Object_of_Study é uma variável reservada nessa biblioteca e nao pode ser substituída por nada para a biblioteca funcionar. Ela é ser escolhida ao rodar o programa pela primeira vez, para muda-la reinicie o kernel e/ou o python console dependendo do typo de arquivo.*__\n",
    "\n",
    "### Pra que serve a variável global object_of_study? :\n",
    "### Ela serve para definir o objeto alvo do estudo e evitar sua remoção da base de dados durante os vários tipo diferente de filtragens diferentes.\n",
    "\n",
    "### O arquivo classe_funcoes não apresenta nenhuma falha que interfira com outras bibliotecas/arquivos, no entanto, vale notar que dois malpractices (sei la como se fala em português) foram cometidos\n",
    "- #### primeiro: importar com a estrutura \"from _____ import *\"\n",
    "  - #### eu considero este apenas um agravante ao anterior sendo ele: declarar uma variável global fora da proteção de arquivo\n",
    "- #### segundo: usar try e except para tornar uma parte de um arquivo isolada. A estrutura foi explicada com detalhes no arquivo classes_funcoes\n",
    "### Contudo, todas as medidas de precaução foram tomadas para que nenhuma dessas práticas/agravantes gerem problemas\n",
    "#### Para quem ler for ver o método usado e invetado (até onde eu saiba) por para isolar partes de códigos por favor usem apenas em última instância, pois ele é um erro gravíssimo. Eu uso ele só é o único modo de fazer isso sem a IDE marcar o código como isolado e grifar tudo de amarelo"
   ],
   "metadata": {
    "collapsed": false
   }
  },
  {
   "cell_type": "code",
   "execution_count": 242,
   "metadata": {},
   "outputs": [],
   "source": [
    "#from classes_funcoes import *\n",
    "from em_desenvolvimento import *\n",
    "import html_css as hc\n",
    "import string\n",
    "import emoji\n",
    "import pandas as pd\n",
    "from IPython.core.display import display_html"
   ]
  },
  {
   "cell_type": "code",
   "execution_count": 243,
   "metadata": {
    "pycharm": {
     "name": "#%%\n"
    }
   },
   "outputs": [],
   "source": [
    "dados_treino = pd.read_excel(f'{Object_of_Study}.xlsx')\n",
    "dados_treino_1=dados_treino\n",
    "\n",
    "dados_treino_rell = dados_treino.loc[dados_treino['Unnamed: 1'] == 1]\n",
    "dados_treino_rel = dados_treino_rell.reset_index()\n",
    "\n",
    "dados_treino_nrel = dados_treino.loc[dados_treino['Unnamed: 1'] == 0]\n",
    "dados_treino_irel = dados_treino_nrel.reset_index()"
   ]
  },
  {
   "cell_type": "code",
   "execution_count": 244,
   "outputs": [
    {
     "data": {
      "text/plain": "<pandas.io.formats.style.Styler at 0x1d975560e80>",
      "text/html": "<style type=\"text/css\">\n#T_2c24d_ td:hover {\n  text-align: center;\n  font-size: 120%;\n  font-weight: bold;\n  color: black;\n  background-color: #ffffb3;\n}\n#T_2c24d_ .index_name {\n  font-style: italic;\n  color: black;\n  font-weight: normal;\n}\n#T_2c24d_ th:not(.index_name) {\n  background-color: #000066;\n  color: white;\n}\n</style>\n<table id=\"T_2c24d_\">\n  <caption>Todos os Tweets</caption>\n  <thead>\n    <tr>\n      <th class=\"blank level0\" >&nbsp;</th>\n      <th class=\"col_heading level0 col1\" colspan=\"2\">Tweets relevantes</th>\n      <th class=\"col_heading level0 col4\" colspan=\"2\">Tweets irrelevantes</th>\n    </tr>\n    <tr>\n      <th class=\"blank level1\" >&nbsp;</th>\n      <th class=\"col_heading level1 col1\" >Treinamento</th>\n      <th class=\"col_heading level1 col2\" >Unnamed: 1</th>\n      <th class=\"col_heading level1 col4\" >Treinamento</th>\n      <th class=\"col_heading level1 col5\" >Unnamed: 1</th>\n    </tr>\n  </thead>\n  <tbody>\n    <tr>\n      <th id=\"T_2c24d_level0_row0\" class=\"row_heading level0 row0\" >0</th>\n      <td id=\"T_2c24d_row0_col1\" class=\"data row0 col1\" >#fantastico\n\nreportagem sobre os haters\nmatéria completa\n\nhttps://t.co/rivrnjbkhq</td>\n      <td id=\"T_2c24d_row0_col2\" class=\"data row0 col2\" >1</td>\n      <td id=\"T_2c24d_row0_col4\" class=\"data row0 col4\" >@cbrzit amg, ele apareceu no fantástico????? oq rolou???</td>\n      <td id=\"T_2c24d_row0_col5\" class=\"data row0 col5\" >0</td>\n    </tr>\n    <tr>\n      <th id=\"T_2c24d_level0_row1\" class=\"row_heading level0 row1\" >1</th>\n      <td id=\"T_2c24d_row1_col1\" class=\"data row1 col1\" >@karendc99 me parece fantástico</td>\n      <td id=\"T_2c24d_row1_col2\" class=\"data row1 col2\" >1</td>\n      <td id=\"T_2c24d_row1_col4\" class=\"data row1 col4\" >@benicamilaa amiga q sdds suas. como esta? uma reportagem no fantastico sobre hater, e @ q a gente bem sabe o passado, chocadas e textão só falta pedir #pas e vamos saldar o sol😂😂</td>\n      <td id=\"T_2c24d_row1_col5\" class=\"data row1 col5\" >0</td>\n    </tr>\n    <tr>\n      <th id=\"T_2c24d_level0_row2\" class=\"row_heading level0 row2\" >2</th>\n      <td id=\"T_2c24d_row2_col1\" class=\"data row2 col1\" >o quarteto fantástico tá diferente 🗣, amo!\n#armyselcaday #arsd @bts_twt 💜 https://t.co/ocbbfprb0m</td>\n      <td id=\"T_2c24d_row2_col2\" class=\"data row2 col2\" >1</td>\n      <td id=\"T_2c24d_row2_col4\" class=\"data row2 col4\" >caramba... é angustiante.\nhttps://t.co/noopncnwdb</td>\n      <td id=\"T_2c24d_row2_col5\" class=\"data row2 col5\" >0</td>\n    </tr>\n    <tr>\n      <th id=\"T_2c24d_level0_row3\" class=\"row_heading level0 row3\" >3</th>\n      <td id=\"T_2c24d_row3_col1\" class=\"data row3 col1\" >foda que os haters ouvidos pelo fantástico aparentam ser pessoas com depressão ou outros problemas graves de autoestima e se escondem por trás desse ódio todo a pessoas que, no fundo, eles provavelmente invejam. dó.</td>\n      <td id=\"T_2c24d_row3_col2\" class=\"data row3 col2\" >1</td>\n      <td id=\"T_2c24d_row3_col4\" class=\"data row3 col4\" >essa história do menino que se * é muito mal contada #fantástico</td>\n      <td id=\"T_2c24d_row3_col5\" class=\"data row3 col5\" >0</td>\n    </tr>\n    <tr>\n      <th id=\"T_2c24d_level0_row4\" class=\"row_heading level0 row4\" >4</th>\n      <td id=\"T_2c24d_row4_col1\" class=\"data row4 col1\" >o geco no fantástico eu vou infartar</td>\n      <td id=\"T_2c24d_row4_col2\" class=\"data row4 col2\" >1</td>\n      <td id=\"T_2c24d_row4_col4\" class=\"data row4 col4\" >então realmente foi ao ar a matéria sobre os haters / trolls no fantástico. o que penso sobre essa gente: vão se tratar.</td>\n      <td id=\"T_2c24d_row4_col5\" class=\"data row4 col5\" >0</td>\n    </tr>\n    <tr>\n      <th id=\"T_2c24d_level0_row5\" class=\"row_heading level0 row5\" >5</th>\n      <td id=\"T_2c24d_row5_col1\" class=\"data row5 col1\" >haters - fantástico conversou com haters: \"eu acho divertido ser maldosa.\" https://t.co/cxeowynenn</td>\n      <td id=\"T_2c24d_row5_col2\" class=\"data row5 col2\" >1</td>\n      <td id=\"T_2c24d_row5_col4\" class=\"data row5 col4\" >entrei no tt é o povo tá assim com a matéria de haters no fantástico. https://t.co/zph0idgn3e</td>\n      <td id=\"T_2c24d_row5_col5\" class=\"data row5 col5\" >0</td>\n    </tr>\n    <tr>\n      <th id=\"T_2c24d_level0_row6\" class=\"row_heading level0 row6\" >6</th>\n      <td id=\"T_2c24d_row6_col1\" class=\"data row6 col1\" >2753 pessoas morreram no world trade center em decorrência do atentado, no brasil já morreram mais de 500 mil e o assassino ainda tá solto #fantastico</td>\n      <td id=\"T_2c24d_row6_col2\" class=\"data row6 col2\" >1</td>\n      <td id=\"T_2c24d_row6_col4\" class=\"data row6 col4\" >@iwtfeels porque dia 11 faz 20 anos do atentado e passou uma matéria no fantástico</td>\n      <td id=\"T_2c24d_row6_col5\" class=\"data row6 col5\" >0</td>\n    </tr>\n    <tr>\n      <th id=\"T_2c24d_level0_row7\" class=\"row_heading level0 row7\" >7</th>\n      <td id=\"T_2c24d_row7_col1\" class=\"data row7 col1\" >@ludmilla se só pudesse ter lançado uma musica, qual seria? https://t.co/qmupncchru #notiktoktemtudo anvisa #domingao #showdosfamosos #armyselcaday faustão messi #ards #copanfa inglaterra globo glória groove xandy hernanes galvão bueno sariette no fantástico margareth</td>\n      <td id=\"T_2c24d_row7_col2\" class=\"data row7 col2\" >1</td>\n      <td id=\"T_2c24d_row7_col4\" class=\"data row7 col4\" >@sonicofficialjp fantástico</td>\n      <td id=\"T_2c24d_row7_col5\" class=\"data row7 col5\" >0</td>\n    </tr>\n    <tr>\n      <th id=\"T_2c24d_level0_row8\" class=\"row_heading level0 row8\" >8</th>\n      <td id=\"T_2c24d_row8_col1\" class=\"data row8 col1\" >@pricasoares problemas na infância com rejeição ou sei lá. carência de atenção enorme se prestar a sair no fantástico dizendo que ama comentar maldade. distúrbio enorme isso aí</td>\n      <td id=\"T_2c24d_row8_col2\" class=\"data row8 col2\" >1</td>\n      <td id=\"T_2c24d_row8_col4\" class=\"data row8 col4\" >@danielaalmeida8 @garrafnha aí vai ser outra gambiarra, sem estar programado. se a globo quisesse, passava no fantástico, papo sem noção.</td>\n      <td id=\"T_2c24d_row8_col5\" class=\"data row8 col5\" >0</td>\n    </tr>\n    <tr>\n      <th id=\"T_2c24d_level0_row9\" class=\"row_heading level0 row9\" >9</th>\n      <td id=\"T_2c24d_row9_col1\" class=\"data row9 col1\" >vei e serii vou tira print d todo esse ódio gratuito q vcs me joga i bota no fantástico falano q esto sofreno hate por se nordestina me aguardem https://t.co/t1ubqqhsrb</td>\n      <td id=\"T_2c24d_row9_col2\" class=\"data row9 col2\" >1</td>\n      <td id=\"T_2c24d_row9_col4\" class=\"data row9 col4\" >˚ ༘✶ ⋆｡˚ ⁀➷\n\n       olá, tudo bem? meu nome é charlie rousier. eu sou gamer, streaming e atualmente o mais novo ceo da maior empresa de videogames do mundo. a playstation. com o tempo, passei a streamar meus próprios jogos pra divulgação, e foi fantástico. vamos jogar? 👾 https://t.co/pejwa3nnmt https://t.co/dupdvftq7c</td>\n      <td id=\"T_2c24d_row9_col5\" class=\"data row9 col5\" >0</td>\n    </tr>\n  </tbody>\n</table>\n"
     },
     "execution_count": 244,
     "metadata": {},
     "output_type": "execute_result"
    }
   ],
   "source": [
    "dados_treino_juntos = hc.unite_dataframes_col(dados_treino_rel.iloc[0:10], dados_treino_irel.iloc[0:10], 'Tweets relevantes', 'Tweets irrelevantes')\n",
    "dados_treino_juntos = dados_treino_juntos.style.hide_columns([('Tweets relevantes', 'index'), ('Tweets irrelevantes', 'index')])\n",
    "dados_treino_juntos.set_table_styles([hc.css1, hc.css2, hc.css3]).set_caption('Todos os Tweets')\n",
    "# try:\n",
    "#     dados_treino_relS=dados_treino_rel.style.set_table_attributes\\\n",
    "#         (\"style='display:inline'\").set_table_styles(table_styles = [dict(selector=\"caption\",\n",
    "#         props=[(\"text-align\", \"center\"),\n",
    "#         (\"font-size\", \"120%\"),\n",
    "#         (\"color\", 'black')])]).set_caption('Tweets relevantes')\n",
    "#\n",
    "#     dados_treino_irelS=dados_treino_irel.iloc[0:20].style.set_table_attributes\\\n",
    "#         (\"style='display:inline'\").set_table_styles(table_styles = [dict(selector=\"caption\",\n",
    "#         props=[(\"text-align\", \"center\"),\n",
    "#         (\"font-size\", \"120%\"),\n",
    "#         (\"color\", 'black')])]).set_caption('Tweets irrelevantes')\n",
    "# except Exception:\n",
    "#     pass\n",
    "# display_html(dados_treino_relS._repr_html_() + \"\\xa0\\xa0\\xa0\\xa0\\xa0\\xa0\\xa0\\xa0\\xa0\\xa0\\xa0\\xa0\" + dados_treino_irelS._repr_html_(), raw=True)"
   ],
   "metadata": {
    "collapsed": false,
    "pycharm": {
     "name": "#%%\n"
    }
   }
  },
  {
   "cell_type": "markdown",
   "source": [
    "## tweets relevantes\n",
    "### separando e contando as palvras e os emojis"
   ],
   "metadata": {
    "collapsed": false,
    "pycharm": {
     "name": "#%% md\n"
    }
   }
  },
  {
   "cell_type": "code",
   "execution_count": 245,
   "metadata": {
    "pycharm": {
     "name": "#%%\n"
    },
    "scrolled": false
   },
   "outputs": [
    {
     "data": {
      "text/plain": "<pandas.io.formats.style.Styler at 0x1d9756b9e20>",
      "text/html": "<style type=\"text/css\">\n#T_588f5_ td:hover {\n  text-align: center;\n  font-size: 120%;\n  font-weight: bold;\n  color: black;\n  background-color: #ffffb3;\n}\n#T_588f5_ .index_name {\n  font-style: italic;\n  color: black;\n  font-weight: normal;\n}\n#T_588f5_ th:not(.index_name) {\n  background-color: #000066;\n  color: white;\n}\n</style>\n<table id=\"T_588f5_\">\n  <caption>Tweets relevantes</caption>\n  <thead>\n    <tr>\n      <th class=\"blank level0\" >&nbsp;</th>\n      <th class=\"col_heading level0 col0\" ># de ocorrências</th>\n    </tr>\n  </thead>\n  <tbody>\n    <tr>\n      <th id=\"T_588f5_level0_row0\" class=\"row_heading level0 row0\" >a</th>\n      <td id=\"T_588f5_row0_col0\" class=\"data row0 col0\" >101</td>\n    </tr>\n    <tr>\n      <th id=\"T_588f5_level0_row1\" class=\"row_heading level0 row1\" >que</th>\n      <td id=\"T_588f5_row1_col0\" class=\"data row1 col0\" >93</td>\n    </tr>\n    <tr>\n      <th id=\"T_588f5_level0_row2\" class=\"row_heading level0 row2\" >o</th>\n      <td id=\"T_588f5_row2_col0\" class=\"data row2 col0\" >89</td>\n    </tr>\n    <tr>\n      <th id=\"T_588f5_level0_row3\" class=\"row_heading level0 row3\" >fantástico</th>\n      <td id=\"T_588f5_row3_col0\" class=\"data row3 col0\" >81</td>\n    </tr>\n    <tr>\n      <th id=\"T_588f5_level0_row4\" class=\"row_heading level0 row4\" >de</th>\n      <td id=\"T_588f5_row4_col0\" class=\"data row4 col0\" >76</td>\n    </tr>\n    <tr>\n      <th id=\"T_588f5_level0_row5\" class=\"row_heading level0 row5\" >do</th>\n      <td id=\"T_588f5_row5_col0\" class=\"data row5 col0\" >74</td>\n    </tr>\n    <tr>\n      <th id=\"T_588f5_level0_row6\" class=\"row_heading level0 row6\" >e</th>\n      <td id=\"T_588f5_row6_col0\" class=\"data row6 col0\" >72</td>\n    </tr>\n    <tr>\n      <th id=\"T_588f5_level0_row7\" class=\"row_heading level0 row7\" >no</th>\n      <td id=\"T_588f5_row7_col0\" class=\"data row7 col0\" >60</td>\n    </tr>\n    <tr>\n      <th id=\"T_588f5_level0_row8\" class=\"row_heading level0 row8\" >é</th>\n      <td id=\"T_588f5_row8_col0\" class=\"data row8 col0\" >46</td>\n    </tr>\n    <tr>\n      <th id=\"T_588f5_level0_row9\" class=\"row_heading level0 row9\" >sobre</th>\n      <td id=\"T_588f5_row9_col0\" class=\"data row9 col0\" >46</td>\n    </tr>\n  </tbody>\n</table>\n"
     },
     "execution_count": 245,
     "metadata": {},
     "output_type": "execute_result"
    }
   ],
   "source": [
    "rel = ListWord(column_name='Treinamento').c_o_f(dados_treino_rel)\n",
    "rel.sort_values(by='# de ocorrências', ascending=False).iloc[0:10].style.set_table_styles([hc.css1, hc.css2, hc.css3]).set_caption('Tweets relevantes')\n"
   ]
  },
  {
   "cell_type": "markdown",
   "source": [
    "### Limpando o DataFrame"
   ],
   "metadata": {
    "collapsed": false,
    "pycharm": {
     "name": "#%% md\n"
    }
   }
  },
  {
   "cell_type": "code",
   "execution_count": 246,
   "outputs": [],
   "source": [
    "rel_limp = RemoveWords(rel, '# de ocorrências', show_removed=True)\n",
    "rel_limp1 = RemoveWords(rel, '# de ocorrências', show_removed=True)\n",
    "rel_limp2 = RemoveWords(rel, '# de ocorrências', show_removed=True)\n",
    "rel_limp3 = RemoveWords(rel, '# de ocorrências', show_removed=True)\n",
    "rel_limp4 = RemoveWords(rel, '# de ocorrências', show_removed=True)\n",
    "rel_limp5 = RemoveWords(rel, '# de ocorrências', show_removed=True)\n",
    "rel_limp6 = RemoveWords(rel, '# de ocorrências', show_removed=True)\n"
   ],
   "metadata": {
    "collapsed": false,
    "pycharm": {
     "name": "#%%\n"
    }
   }
  },
  {
   "cell_type": "markdown",
   "source": [
    "#### palavras removidas"
   ],
   "metadata": {
    "collapsed": false,
    "pycharm": {
     "name": "#%% md\n"
    }
   }
  },
  {
   "cell_type": "code",
   "execution_count": 247,
   "outputs": [
    {
     "name": "stdout",
     "output_type": "stream",
     "text": [
      "\n",
      " sem palavras com @\n",
      "['@jojo_littletodd', '@cosplayfantasia', '@sexyenfermera69', '@i9grls', '@showdavida', '@fbtrzz', '@carmenk29868410', '@angeikane', '@nayibbukele', '@huayna_tejo', '@cindilanti', '@luccasoliverra', '@lagareirosantos', '@aliehnada', '@callmeoak_', '@bts_twt', '@jornaloglobo', '@nicolygfbpa', '@iucascomenta', '@rogeria42332617', '@anaolivias', '@bibibailas', '@germana764', '@umjuzeh', '@elanemendes9', '@holygah', '@visitante6789', '@sonygiron', '@akinasunflower', '@sonhomanu', '@samucatuita', '@karendc99', '@taahdinoa', '@kyhnoir', '@rafakalimann_', '@alisson_patinho', '@janeygodley', '@guiferreirattt', '@suzibutera', '@ludmilla', '@paoladodeboche', '@leprechaun_3', '@pricasoares', '@ataldajessi', '@minceauras', '@rigolet63469189']\n",
      "\n",
      " sem palavras com link\n",
      "['https://t.co/zuyivpnudu', 'https://t.co/3mnumgjnpo', 'https://t.co/ubfl867efg', 'https://t.co/lteczkjncl', 'https://t.co/t1ubqqhsrb', 'https://t.co/iivcccaqdq', 'https://t.co/ilawqna3hr', 'https://t.co/ryrt3mkxw0', 'https://t.co/migcpww47b', 'https://t.co/cxeowynenn', 'https://t.co/t0ygkm2lzt', 'https://t.co/d0nod1m7ie', 'https://t.co/qxkzk1gnun', 'https://t.co/lhj6na4czi', 'https://t.co/ofbsmyizdz', 'https://t.co/qxllqvamqz', 'https://t.co/dllkhjipvm', 'https://t.co/ngrpyd3kt9', 'https://t.co/udoxdrskyn', 'https://t.co/wwvovsx8fr', 'https://t.co/oiv8oqtomo', 'https://t.co/qmupncchru', 'https://t.co/qcngys4t7l', 'https://t.co/ywls3cscvb', 'https://t.co/d4baci8bz6', 'https://t.co/r64ebjqjfu', 'https://t.co/bnygubofk3', 'https://t.co/slvyrcbjhg', 'https://t.co/enwp4lzgfh', 'https://t.co/amiida4vis', 'https://t.co/ggkuy1mf8h', 'https://t.co/qgi8bymna4', 'https://t.co/xpx8umvb1m', 'https://t.co/2g5rzmj7lc', 'https://t.co/zbxnko3tjc', 'https://t.co/wmnop82tet', 'https://t.co/q9hq6emny1', 'https://t.co/pbri3e2x2a', 'https://t.co/ocbbfprb0m', 'https://t.co/rivrnjbkhq', 'https://t.co/m452fp3otx']\n",
      "\n",
      " sem pontuação nas palavras\n",
      "\n",
      " sem palavras com menos de 3 letras\n",
      "['b', 'so', '1', '…', 'd', '*', 'fã', 'p', '+', 'qm', 'na', 'hj', 'os', 'ou', '.', 'ao', 'mn', '20', 'mó', 'ta', 'é', ',', 'po', 'zé', 'ar', 'ig', 'c', 'te', '-', 'vi', 'vê', '?!', 'aí', 'a', 'aq', 'i', 'o', 'e,', 'já', 'no', 'tá', 'ir', '7', 'to', 'eu', '#', 'pq', 'vc', 'dá', 'fé', '|', 'mt', '\"o', 'de', '!', 'as', 'me', 'ja', 'b,', 'tb', 'né', 'rp', 'tl', 'há', 'é.', 'um', 'ia', 'tô', 'à', 'do', 'só', 'ñ', 'lá', 'da', 'n', 'e', 'g1', 'ri', '2', 'q', 'ju', '30', 'se', 'tt', 'em', 'ai', 'eh', '11']\n",
      "\n",
      " sem palavras com mais de 3 ks juntos\n",
      "['', '', '', '', '', '', '', '']\n",
      "\n",
      " sem palavras com sequencia de numero da ordem das unidades maior que 3 juntos\n",
      "['2016/18', '2016/18', 'https://t.co/ubfl867efg', '@carmenk29868410', '@carmenk29868410', '@carmenk29868410', '@carmenk29868410', '@carmenk29868410', '@carmenk29868410', '@rogeria42332617', '@rogeria42332617', '@rogeria42332617', '@rogeria42332617', '@rogeria42332617', '@rogeria42332617', '2753', '2753', '2022.', '2022.', '@germana764', '@visitante6789', '@visitante6789', 'https://t.co/m452fp3otx', '@rigolet63469189', '@rigolet63469189', '@rigolet63469189', '@rigolet63469189', '@rigolet63469189', '@rigolet63469189']\n",
      "\n",
      " todos os filtros juntos\n",
      "remove_at ['@jojo_littletodd', '@cosplayfantasia', '@sexyenfermera69', '@i9grls', '@showdavida', '@fbtrzz', '@carmenk29868410', '@angeikane', '@nayibbukele', '@huayna_tejo', '@cindilanti', '@luccasoliverra', '@lagareirosantos', '@aliehnada', '@callmeoak_', '@bts_twt', '@jornaloglobo', '@nicolygfbpa', '@iucascomenta', '@rogeria42332617', '@anaolivias', '@bibibailas', '@germana764', '@umjuzeh', '@elanemendes9', '@holygah', '@visitante6789', '@sonygiron', '@akinasunflower', '@sonhomanu', '@samucatuita', '@karendc99', '@taahdinoa', '@kyhnoir', '@rafakalimann_', '@alisson_patinho', '@janeygodley', '@guiferreirattt', '@suzibutera', '@ludmilla', '@paoladodeboche', '@leprechaun_3', '@pricasoares', '@ataldajessi', '@minceauras', '@rigolet63469189']\n",
      "remove_link ['@jojo_littletodd', '@cosplayfantasia', '@sexyenfermera69', '@i9grls', '@showdavida', '@fbtrzz', '@carmenk29868410', '@angeikane', '@nayibbukele', '@huayna_tejo', '@cindilanti', '@luccasoliverra', '@lagareirosantos', '@aliehnada', '@callmeoak_', '@bts_twt', '@jornaloglobo', '@nicolygfbpa', '@iucascomenta', '@rogeria42332617', '@anaolivias', '@bibibailas', '@germana764', '@umjuzeh', '@elanemendes9', '@holygah', '@visitante6789', '@sonygiron', '@akinasunflower', '@sonhomanu', '@samucatuita', '@karendc99', '@taahdinoa', '@kyhnoir', '@rafakalimann_', '@alisson_patinho', '@janeygodley', '@guiferreirattt', '@suzibutera', '@ludmilla', '@paoladodeboche', '@leprechaun_3', '@pricasoares', '@ataldajessi', '@minceauras', '@rigolet63469189', 'https://t.co/zuyivpnudu', 'https://t.co/3mnumgjnpo', 'https://t.co/ubfl867efg', 'https://t.co/lteczkjncl', 'https://t.co/t1ubqqhsrb', 'https://t.co/iivcccaqdq', 'https://t.co/ilawqna3hr', 'https://t.co/ryrt3mkxw0', 'https://t.co/migcpww47b', 'https://t.co/cxeowynenn', 'https://t.co/t0ygkm2lzt', 'https://t.co/d0nod1m7ie', 'https://t.co/qxkzk1gnun', 'https://t.co/lhj6na4czi', 'https://t.co/ofbsmyizdz', 'https://t.co/qxllqvamqz', 'https://t.co/dllkhjipvm', 'https://t.co/ngrpyd3kt9', 'https://t.co/udoxdrskyn', 'https://t.co/wwvovsx8fr', 'https://t.co/oiv8oqtomo', 'https://t.co/qmupncchru', 'https://t.co/qcngys4t7l', 'https://t.co/ywls3cscvb', 'https://t.co/d4baci8bz6', 'https://t.co/r64ebjqjfu', 'https://t.co/bnygubofk3', 'https://t.co/slvyrcbjhg', 'https://t.co/enwp4lzgfh', 'https://t.co/amiida4vis', 'https://t.co/ggkuy1mf8h', 'https://t.co/qgi8bymna4', 'https://t.co/xpx8umvb1m', 'https://t.co/2g5rzmj7lc', 'https://t.co/zbxnko3tjc', 'https://t.co/wmnop82tet', 'https://t.co/q9hq6emny1', 'https://t.co/pbri3e2x2a', 'https://t.co/ocbbfprb0m', 'https://t.co/rivrnjbkhq', 'https://t.co/m452fp3otx']\n",
      "remove_ponc ['@jojo_littletodd', '@cosplayfantasia', '@sexyenfermera69', '@i9grls', '@showdavida', '@fbtrzz', '@carmenk29868410', '@angeikane', '@nayibbukele', '@huayna_tejo', '@cindilanti', '@luccasoliverra', '@lagareirosantos', '@aliehnada', '@callmeoak_', '@bts_twt', '@jornaloglobo', '@nicolygfbpa', '@iucascomenta', '@rogeria42332617', '@anaolivias', '@bibibailas', '@germana764', '@umjuzeh', '@elanemendes9', '@holygah', '@visitante6789', '@sonygiron', '@akinasunflower', '@sonhomanu', '@samucatuita', '@karendc99', '@taahdinoa', '@kyhnoir', '@rafakalimann_', '@alisson_patinho', '@janeygodley', '@guiferreirattt', '@suzibutera', '@ludmilla', '@paoladodeboche', '@leprechaun_3', '@pricasoares', '@ataldajessi', '@minceauras', '@rigolet63469189', 'https://t.co/zuyivpnudu', 'https://t.co/3mnumgjnpo', 'https://t.co/ubfl867efg', 'https://t.co/lteczkjncl', 'https://t.co/t1ubqqhsrb', 'https://t.co/iivcccaqdq', 'https://t.co/ilawqna3hr', 'https://t.co/ryrt3mkxw0', 'https://t.co/migcpww47b', 'https://t.co/cxeowynenn', 'https://t.co/t0ygkm2lzt', 'https://t.co/d0nod1m7ie', 'https://t.co/qxkzk1gnun', 'https://t.co/lhj6na4czi', 'https://t.co/ofbsmyizdz', 'https://t.co/qxllqvamqz', 'https://t.co/dllkhjipvm', 'https://t.co/ngrpyd3kt9', 'https://t.co/udoxdrskyn', 'https://t.co/wwvovsx8fr', 'https://t.co/oiv8oqtomo', 'https://t.co/qmupncchru', 'https://t.co/qcngys4t7l', 'https://t.co/ywls3cscvb', 'https://t.co/d4baci8bz6', 'https://t.co/r64ebjqjfu', 'https://t.co/bnygubofk3', 'https://t.co/slvyrcbjhg', 'https://t.co/enwp4lzgfh', 'https://t.co/amiida4vis', 'https://t.co/ggkuy1mf8h', 'https://t.co/qgi8bymna4', 'https://t.co/xpx8umvb1m', 'https://t.co/2g5rzmj7lc', 'https://t.co/zbxnko3tjc', 'https://t.co/wmnop82tet', 'https://t.co/q9hq6emny1', 'https://t.co/pbri3e2x2a', 'https://t.co/ocbbfprb0m', 'https://t.co/rivrnjbkhq', 'https://t.co/m452fp3otx']\n",
      "remove_word_sts ['@jojo_littletodd', '@cosplayfantasia', '@sexyenfermera69', '@i9grls', '@showdavida', '@fbtrzz', '@carmenk29868410', '@angeikane', '@nayibbukele', '@huayna_tejo', '@cindilanti', '@luccasoliverra', '@lagareirosantos', '@aliehnada', '@callmeoak_', '@bts_twt', '@jornaloglobo', '@nicolygfbpa', '@iucascomenta', '@rogeria42332617', '@anaolivias', '@bibibailas', '@germana764', '@umjuzeh', '@elanemendes9', '@holygah', '@visitante6789', '@sonygiron', '@akinasunflower', '@sonhomanu', '@samucatuita', '@karendc99', '@taahdinoa', '@kyhnoir', '@rafakalimann_', '@alisson_patinho', '@janeygodley', '@guiferreirattt', '@suzibutera', '@ludmilla', '@paoladodeboche', '@leprechaun_3', '@pricasoares', '@ataldajessi', '@minceauras', '@rigolet63469189', 'https://t.co/zuyivpnudu', 'https://t.co/3mnumgjnpo', 'https://t.co/ubfl867efg', 'https://t.co/lteczkjncl', 'https://t.co/t1ubqqhsrb', 'https://t.co/iivcccaqdq', 'https://t.co/ilawqna3hr', 'https://t.co/ryrt3mkxw0', 'https://t.co/migcpww47b', 'https://t.co/cxeowynenn', 'https://t.co/t0ygkm2lzt', 'https://t.co/d0nod1m7ie', 'https://t.co/qxkzk1gnun', 'https://t.co/lhj6na4czi', 'https://t.co/ofbsmyizdz', 'https://t.co/qxllqvamqz', 'https://t.co/dllkhjipvm', 'https://t.co/ngrpyd3kt9', 'https://t.co/udoxdrskyn', 'https://t.co/wwvovsx8fr', 'https://t.co/oiv8oqtomo', 'https://t.co/qmupncchru', 'https://t.co/qcngys4t7l', 'https://t.co/ywls3cscvb', 'https://t.co/d4baci8bz6', 'https://t.co/r64ebjqjfu', 'https://t.co/bnygubofk3', 'https://t.co/slvyrcbjhg', 'https://t.co/enwp4lzgfh', 'https://t.co/amiida4vis', 'https://t.co/ggkuy1mf8h', 'https://t.co/qgi8bymna4', 'https://t.co/xpx8umvb1m', 'https://t.co/2g5rzmj7lc', 'https://t.co/zbxnko3tjc', 'https://t.co/wmnop82tet', 'https://t.co/q9hq6emny1', 'https://t.co/pbri3e2x2a', 'https://t.co/ocbbfprb0m', 'https://t.co/rivrnjbkhq', 'https://t.co/m452fp3otx', 'b', 'so', '1', '…', 'd', '\\x00', 'fã', 'p', 'qm', 'na', 'hj', 'os', 'ou', 'ao', 'mn', '20', 'mó', 'ta', 'é', 'po', 'zé', 'ar', 'ig', 'c', 'te', 'vi', 'vê', '\\x00\\x00', 'aí', 'a', 'aq', 'i', 'o', 'e\\x00', 'já', 'no', 'tá', 'ir', '7', 'to', 'eu', 'pq', 'vc', 'dá', 'fé', 'mt', '\\x00o', 'de', 'as', 'me', 'ja', 'b\\x00', 'tb', 'né', 'rp', 'tl', 'há', 'é\\x00', 'um', 'ia', 'tô', 'à', 'do', 'só', 'ñ', 'lá', 'da', 'n', 'e', 'g1', 'ri', '2', 'q', 'ju', '30', 'se', 'tt', 'em', 'ai', 'eh', '11']\n",
      "remove_laugh ['@jojo_littletodd', '@cosplayfantasia', '@sexyenfermera69', '@i9grls', '@showdavida', '@fbtrzz', '@carmenk29868410', '@angeikane', '@nayibbukele', '@huayna_tejo', '@cindilanti', '@luccasoliverra', '@lagareirosantos', '@aliehnada', '@callmeoak_', '@bts_twt', '@jornaloglobo', '@nicolygfbpa', '@iucascomenta', '@rogeria42332617', '@anaolivias', '@bibibailas', '@germana764', '@umjuzeh', '@elanemendes9', '@holygah', '@visitante6789', '@sonygiron', '@akinasunflower', '@sonhomanu', '@samucatuita', '@karendc99', '@taahdinoa', '@kyhnoir', '@rafakalimann_', '@alisson_patinho', '@janeygodley', '@guiferreirattt', '@suzibutera', '@ludmilla', '@paoladodeboche', '@leprechaun_3', '@pricasoares', '@ataldajessi', '@minceauras', '@rigolet63469189', 'https://t.co/zuyivpnudu', 'https://t.co/3mnumgjnpo', 'https://t.co/ubfl867efg', 'https://t.co/lteczkjncl', 'https://t.co/t1ubqqhsrb', 'https://t.co/iivcccaqdq', 'https://t.co/ilawqna3hr', 'https://t.co/ryrt3mkxw0', 'https://t.co/migcpww47b', 'https://t.co/cxeowynenn', 'https://t.co/t0ygkm2lzt', 'https://t.co/d0nod1m7ie', 'https://t.co/qxkzk1gnun', 'https://t.co/lhj6na4czi', 'https://t.co/ofbsmyizdz', 'https://t.co/qxllqvamqz', 'https://t.co/dllkhjipvm', 'https://t.co/ngrpyd3kt9', 'https://t.co/udoxdrskyn', 'https://t.co/wwvovsx8fr', 'https://t.co/oiv8oqtomo', 'https://t.co/qmupncchru', 'https://t.co/qcngys4t7l', 'https://t.co/ywls3cscvb', 'https://t.co/d4baci8bz6', 'https://t.co/r64ebjqjfu', 'https://t.co/bnygubofk3', 'https://t.co/slvyrcbjhg', 'https://t.co/enwp4lzgfh', 'https://t.co/amiida4vis', 'https://t.co/ggkuy1mf8h', 'https://t.co/qgi8bymna4', 'https://t.co/xpx8umvb1m', 'https://t.co/2g5rzmj7lc', 'https://t.co/zbxnko3tjc', 'https://t.co/wmnop82tet', 'https://t.co/q9hq6emny1', 'https://t.co/pbri3e2x2a', 'https://t.co/ocbbfprb0m', 'https://t.co/rivrnjbkhq', 'https://t.co/m452fp3otx', 'b', 'so', '1', '…', 'd', '\\x00', 'fã', 'p', 'qm', 'na', 'hj', 'os', 'ou', 'ao', 'mn', '20', 'mó', 'ta', 'é', 'po', 'zé', 'ar', 'ig', 'c', 'te', 'vi', 'vê', '\\x00\\x00', 'aí', 'a', 'aq', 'i', 'o', 'e\\x00', 'já', 'no', 'tá', 'ir', '7', 'to', 'eu', 'pq', 'vc', 'dá', 'fé', 'mt', '\\x00o', 'de', 'as', 'me', 'ja', 'b\\x00', 'tb', 'né', 'rp', 'tl', 'há', 'é\\x00', 'um', 'ia', 'tô', 'à', 'do', 'só', 'ñ', 'lá', 'da', 'n', 'e', 'g1', 'ri', '2', 'q', 'ju', '30', 'se', 'tt', 'em', 'ai', 'eh', '11', '', '', '', '', '', '', '', '']\n",
      "remove_num_str ['@jojo_littletodd', '@cosplayfantasia', '@sexyenfermera69', '@i9grls', '@showdavida', '@fbtrzz', '@carmenk29868410', '@angeikane', '@nayibbukele', '@huayna_tejo', '@cindilanti', '@luccasoliverra', '@lagareirosantos', '@aliehnada', '@callmeoak_', '@bts_twt', '@jornaloglobo', '@nicolygfbpa', '@iucascomenta', '@rogeria42332617', '@anaolivias', '@bibibailas', '@germana764', '@umjuzeh', '@elanemendes9', '@holygah', '@visitante6789', '@sonygiron', '@akinasunflower', '@sonhomanu', '@samucatuita', '@karendc99', '@taahdinoa', '@kyhnoir', '@rafakalimann_', '@alisson_patinho', '@janeygodley', '@guiferreirattt', '@suzibutera', '@ludmilla', '@paoladodeboche', '@leprechaun_3', '@pricasoares', '@ataldajessi', '@minceauras', '@rigolet63469189', 'https://t.co/zuyivpnudu', 'https://t.co/3mnumgjnpo', 'https://t.co/ubfl867efg', 'https://t.co/lteczkjncl', 'https://t.co/t1ubqqhsrb', 'https://t.co/iivcccaqdq', 'https://t.co/ilawqna3hr', 'https://t.co/ryrt3mkxw0', 'https://t.co/migcpww47b', 'https://t.co/cxeowynenn', 'https://t.co/t0ygkm2lzt', 'https://t.co/d0nod1m7ie', 'https://t.co/qxkzk1gnun', 'https://t.co/lhj6na4czi', 'https://t.co/ofbsmyizdz', 'https://t.co/qxllqvamqz', 'https://t.co/dllkhjipvm', 'https://t.co/ngrpyd3kt9', 'https://t.co/udoxdrskyn', 'https://t.co/wwvovsx8fr', 'https://t.co/oiv8oqtomo', 'https://t.co/qmupncchru', 'https://t.co/qcngys4t7l', 'https://t.co/ywls3cscvb', 'https://t.co/d4baci8bz6', 'https://t.co/r64ebjqjfu', 'https://t.co/bnygubofk3', 'https://t.co/slvyrcbjhg', 'https://t.co/enwp4lzgfh', 'https://t.co/amiida4vis', 'https://t.co/ggkuy1mf8h', 'https://t.co/qgi8bymna4', 'https://t.co/xpx8umvb1m', 'https://t.co/2g5rzmj7lc', 'https://t.co/zbxnko3tjc', 'https://t.co/wmnop82tet', 'https://t.co/q9hq6emny1', 'https://t.co/pbri3e2x2a', 'https://t.co/ocbbfprb0m', 'https://t.co/rivrnjbkhq', 'https://t.co/m452fp3otx', 'b', 'so', '1', '…', 'd', '\\x00', 'fã', 'p', 'qm', 'na', 'hj', 'os', 'ou', 'ao', 'mn', '20', 'mó', 'ta', 'é', 'po', 'zé', 'ar', 'ig', 'c', 'te', 'vi', 'vê', '\\x00\\x00', 'aí', 'a', 'aq', 'i', 'o', 'e\\x00', 'já', 'no', 'tá', 'ir', '7', 'to', 'eu', 'pq', 'vc', 'dá', 'fé', 'mt', '\\x00o', 'de', 'as', 'me', 'ja', 'b\\x00', 'tb', 'né', 'rp', 'tl', 'há', 'é\\x00', 'um', 'ia', 'tô', 'à', 'do', 'só', 'ñ', 'lá', 'da', 'n', 'e', 'g1', 'ri', '2', 'q', 'ju', '30', 'se', 'tt', 'em', 'ai', 'eh', '11', '', '', '', '', '', '', '', '', '2016\\x0018', '2016\\x0018', '2753', '2753', '2022\\x00', '2022\\x00']\n",
      "Total ['@jojo_littletodd', '@cosplayfantasia', '@sexyenfermera69', '@i9grls', '@showdavida', '@fbtrzz', '@carmenk29868410', '@angeikane', '@nayibbukele', '@huayna_tejo', '@cindilanti', '@luccasoliverra', '@lagareirosantos', '@aliehnada', '@callmeoak_', '@bts_twt', '@jornaloglobo', '@nicolygfbpa', '@iucascomenta', '@rogeria42332617', '@anaolivias', '@bibibailas', '@germana764', '@umjuzeh', '@elanemendes9', '@holygah', '@visitante6789', '@sonygiron', '@akinasunflower', '@sonhomanu', '@samucatuita', '@karendc99', '@taahdinoa', '@kyhnoir', '@rafakalimann_', '@alisson_patinho', '@janeygodley', '@guiferreirattt', '@suzibutera', '@ludmilla', '@paoladodeboche', '@leprechaun_3', '@pricasoares', '@ataldajessi', '@minceauras', '@rigolet63469189', 'https://t.co/zuyivpnudu', 'https://t.co/3mnumgjnpo', 'https://t.co/ubfl867efg', 'https://t.co/lteczkjncl', 'https://t.co/t1ubqqhsrb', 'https://t.co/iivcccaqdq', 'https://t.co/ilawqna3hr', 'https://t.co/ryrt3mkxw0', 'https://t.co/migcpww47b', 'https://t.co/cxeowynenn', 'https://t.co/t0ygkm2lzt', 'https://t.co/d0nod1m7ie', 'https://t.co/qxkzk1gnun', 'https://t.co/lhj6na4czi', 'https://t.co/ofbsmyizdz', 'https://t.co/qxllqvamqz', 'https://t.co/dllkhjipvm', 'https://t.co/ngrpyd3kt9', 'https://t.co/udoxdrskyn', 'https://t.co/wwvovsx8fr', 'https://t.co/oiv8oqtomo', 'https://t.co/qmupncchru', 'https://t.co/qcngys4t7l', 'https://t.co/ywls3cscvb', 'https://t.co/d4baci8bz6', 'https://t.co/r64ebjqjfu', 'https://t.co/bnygubofk3', 'https://t.co/slvyrcbjhg', 'https://t.co/enwp4lzgfh', 'https://t.co/amiida4vis', 'https://t.co/ggkuy1mf8h', 'https://t.co/qgi8bymna4', 'https://t.co/xpx8umvb1m', 'https://t.co/2g5rzmj7lc', 'https://t.co/zbxnko3tjc', 'https://t.co/wmnop82tet', 'https://t.co/q9hq6emny1', 'https://t.co/pbri3e2x2a', 'https://t.co/ocbbfprb0m', 'https://t.co/rivrnjbkhq', 'https://t.co/m452fp3otx', 'b', 'so', '1', '…', 'd', '\\x00', 'fã', 'p', 'qm', 'na', 'hj', 'os', 'ou', 'ao', 'mn', '20', 'mó', 'ta', 'é', 'po', 'zé', 'ar', 'ig', 'c', 'te', 'vi', 'vê', '\\x00\\x00', 'aí', 'a', 'aq', 'i', 'o', 'e\\x00', 'já', 'no', 'tá', 'ir', '7', 'to', 'eu', 'pq', 'vc', 'dá', 'fé', 'mt', '\\x00o', 'de', 'as', 'me', 'ja', 'b\\x00', 'tb', 'né', 'rp', 'tl', 'há', 'é\\x00', 'um', 'ia', 'tô', 'à', 'do', 'só', 'ñ', 'lá', 'da', 'n', 'e', 'g1', 'ri', '2', 'q', 'ju', '30', 'se', 'tt', 'em', 'ai', 'eh', '11', '', '', '', '', '', '', '', '', '2016\\x0018', '2016\\x0018', '2753', '2753', '2022\\x00', '2022\\x00']\n"
     ]
    }
   ],
   "source": [
    "print('\\n sem palavras com @')\n",
    "qremove_at_rel = rel_limp1.remove_at()\n",
    "print('\\n sem palavras com link')\n",
    "qremove_link_rel =rel_limp.remove_link()\n",
    "print('\\n sem pontuação nas palavras')\n",
    "qremove_ponc_rel = rel_limp2.remove_ponc()\n",
    "print('\\n sem palavras com menos de 3 letras')\n",
    "qremove_word_sts_rel = rel_limp3.remove_word_sts(3)\n",
    "print('\\n sem palavras com mais de 3 ks juntos')\n",
    "qremove_laugh_rel = rel_limp4.remove_laugh(2, 5)\n",
    "print('\\n sem palavras com sequencia de numero da ordem das unidades maior que 3 juntos')\n",
    "qremove_num_str_rel = rel_limp5.remove_num_str(3)\n",
    "print('\\n todos os filtros juntos')\n",
    "qremove_options_rel = rel_limp6.remove_options(remove_at={True: '()'}, remove_link={True: '()'},\n",
    "                                    remove_ponc={True: '()'},remove_laugh={True: '(2, 5)'},\n",
    "                                    remove_word_sts={True: '(3)'}, remove_num_str={True: '(3)'})"
   ],
   "metadata": {
    "collapsed": false,
    "pycharm": {
     "name": "#%%\n"
    }
   }
  },
  {
   "cell_type": "markdown",
   "source": [
    "## tweets relevantes\n",
    "### separando e contando as palvras e os emojis"
   ],
   "metadata": {
    "collapsed": false,
    "pycharm": {
     "name": "#%% md\n"
    }
   }
  },
  {
   "cell_type": "code",
   "execution_count": 248,
   "outputs": [
    {
     "data": {
      "text/plain": "<pandas.io.formats.style.Styler at 0x1d9757f5220>",
      "text/html": "<style type=\"text/css\">\n#T_9679c_ td:hover {\n  text-align: center;\n  font-size: 120%;\n  font-weight: bold;\n  color: black;\n  background-color: #ffffb3;\n}\n#T_9679c_ .index_name {\n  font-style: italic;\n  color: black;\n  font-weight: normal;\n}\n#T_9679c_ th:not(.index_name) {\n  background-color: #000066;\n  color: white;\n}\n</style>\n<table id=\"T_9679c_\">\n  <caption>Tweets irrelevantes</caption>\n  <thead>\n    <tr>\n      <th class=\"blank level0\" >&nbsp;</th>\n      <th class=\"col_heading level0 col0\" ># de ocorrências</th>\n    </tr>\n  </thead>\n  <tbody>\n    <tr>\n      <th id=\"T_9679c_level0_row0\" class=\"row_heading level0 row0\" >fantástico</th>\n      <td id=\"T_9679c_row0_col0\" class=\"data row0 col0\" >98</td>\n    </tr>\n    <tr>\n      <th id=\"T_9679c_level0_row1\" class=\"row_heading level0 row1\" >no</th>\n      <td id=\"T_9679c_row1_col0\" class=\"data row1 col0\" >79</td>\n    </tr>\n    <tr>\n      <th id=\"T_9679c_level0_row2\" class=\"row_heading level0 row2\" >o</th>\n      <td id=\"T_9679c_row2_col0\" class=\"data row2 col0\" >75</td>\n    </tr>\n    <tr>\n      <th id=\"T_9679c_level0_row3\" class=\"row_heading level0 row3\" >que</th>\n      <td id=\"T_9679c_row3_col0\" class=\"data row3 col0\" >74</td>\n    </tr>\n    <tr>\n      <th id=\"T_9679c_level0_row4\" class=\"row_heading level0 row4\" >a</th>\n      <td id=\"T_9679c_row4_col0\" class=\"data row4 col0\" >67</td>\n    </tr>\n    <tr>\n      <th id=\"T_9679c_level0_row5\" class=\"row_heading level0 row5\" >de</th>\n      <td id=\"T_9679c_row5_col0\" class=\"data row5 col0\" >66</td>\n    </tr>\n    <tr>\n      <th id=\"T_9679c_level0_row6\" class=\"row_heading level0 row6\" >e</th>\n      <td id=\"T_9679c_row6_col0\" class=\"data row6 col0\" >60</td>\n    </tr>\n    <tr>\n      <th id=\"T_9679c_level0_row7\" class=\"row_heading level0 row7\" >do</th>\n      <td id=\"T_9679c_row7_col0\" class=\"data row7 col0\" >57</td>\n    </tr>\n    <tr>\n      <th id=\"T_9679c_level0_row8\" class=\"row_heading level0 row8\" >é</th>\n      <td id=\"T_9679c_row8_col0\" class=\"data row8 col0\" >39</td>\n    </tr>\n    <tr>\n      <th id=\"T_9679c_level0_row9\" class=\"row_heading level0 row9\" >brasil</th>\n      <td id=\"T_9679c_row9_col0\" class=\"data row9 col0\" >29</td>\n    </tr>\n  </tbody>\n</table>\n"
     },
     "execution_count": 248,
     "metadata": {},
     "output_type": "execute_result"
    }
   ],
   "source": [
    "irel = ListWord(column_name='Treinamento').c_o_f(dados_treino_irel)\n",
    "irel.sort_values(by='# de ocorrências', ascending=False)\n",
    "irel.sort_values(by='# de ocorrências', ascending=False).iloc[0:10].style.set_table_styles([hc.css1, hc.css2, hc.css3]).set_caption('Tweets irrelevantes')"
   ],
   "metadata": {
    "collapsed": false,
    "pycharm": {
     "name": "#%%\n"
    }
   }
  },
  {
   "cell_type": "markdown",
   "source": [
    "### Limpando o DataFrame"
   ],
   "metadata": {
    "collapsed": false,
    "pycharm": {
     "name": "#%% md\n"
    }
   }
  },
  {
   "cell_type": "code",
   "execution_count": 249,
   "outputs": [],
   "source": [
    "irel_limp = RemoveWords(irel, '# de ocorrências', show_removed=True)\n",
    "irel_limp1 = RemoveWords(irel, '# de ocorrências', show_removed=True)\n",
    "irel_limp2 = RemoveWords(irel, '# de ocorrências', show_removed=True)\n",
    "irel_limp3 = RemoveWords(irel, '# de ocorrências', show_removed=True)\n",
    "irel_limp4 = RemoveWords(irel, '# de ocorrências', show_removed=True)\n",
    "irel_limp5 = RemoveWords(irel, '# de ocorrências', show_removed=True)\n",
    "irel_limp6 = RemoveWords(irel, '# de ocorrências', show_removed=True)"
   ],
   "metadata": {
    "collapsed": false,
    "pycharm": {
     "name": "#%%\n"
    }
   }
  },
  {
   "cell_type": "markdown",
   "source": [
    "#### palavras removidas"
   ],
   "metadata": {
    "collapsed": false,
    "pycharm": {
     "name": "#%% md\n"
    }
   }
  },
  {
   "cell_type": "code",
   "execution_count": 250,
   "outputs": [
    {
     "name": "stdout",
     "output_type": "stream",
     "text": [
      "\n",
      " sem palavras com @\n",
      "['@dolcegabbana', '@thisismaxtrying', '@ei_angie', '@twittermedia', '(@corinthians019)', '@luizdavipaolilo', '@joshrhcds', '@', '@julhette', '@lucasdetea', '@mpercb', '@carlosalcaraz_1', '@feyrisnyan_nyan', '@thiagomncc', '@charlidamelio', '@showdavida', '@coreygamble', '@anajuxl', '@tovejepsen', '@locoaprendiendo', '@heroi_romanesco', '@laverdad_es', '@danielaalmeida8', '@israelxxoo', '@nanahsantosss', '@paulovieirareal', '@louvplacez', '@nassar_furat', '@n12news', '@jully02184332', '@sweetenersdw', '@dantinhas', '@felipeneto', '@ecbahia', '@butteerffllyy', '@gugachacra', '@gordaopitchfork', '@baefeiix', '@brasil247', '@btsmarxistas', '@chiidemitadas', '@dipirango', '@flwrstomin', '@sonicofficialjp', '@fiuk.', '@rosana', '@rickylodge', '@trajaza', '@dnl91_', '@jovempannews', '@zeliaduncan', '@cianecrf', '@eusouluismelo', '@jornaloglobo', '@legalnaay', '@newtlark', '@daianenem', '@benicamilaa', '@garrafnha', '@nen_min_viiu', '@diavaldetails', '@flaviamaynarte', '@vinehciuslol', '@marcelomedici', '@domingao', '@michele_miss', '@awencis', '@sonhomanu', '@krisjenner', '@sereiasensitiva', '@regiondemurcia', '@youtube', '@grana2burn', '@perryundo', '@kxcio', '.@anygabriwiiy', '@cesarnebot', '@arianagrande', '@marthapapaleo', '@jramonfernandez', '@aaguirredc', '@diarioole', '@gildovigor', '@cnnee', '@julisides', '@iwtfeels', '@soyfdelrincon', '@gabzm07', '@giolimoes', '@ludmilla', '@alwaleed_talal', '@cbrzit', '@heliouchoaa', '@yizcut', '@ticorilofreire', '@agenda2030_', '@chaeychuulover', '@sweet_haroldo', '@lucianohuck', '@yefobic', '@grimes_fanha']\n",
      "\n",
      " sem palavras com link\n",
      "['https://t.co/4u8l3si1vm', 'https://t.co/sq3mjsd03v', 'https://t.co/yyywbxbsr7', 'https://t.co/nckw3xkjqh', 'https://t.co/gtnuocghvy', 'https://t.co/utws0zlt17', 'https://t.co/0gnbzlhmvf', 'https://t.co/gbrrrqdwpn', 'https://t.co/utuxekz2ma', 'https://t.co/pejwa3nnmt', 'https://t.co/ujlorusq5l', 'https://t.co/eghuyvzzdu', 'https://t.co/z2bftnl7wl', 'https://t.co/noopncnwdb', 'https://t.co/rqv5dwaflu', 'https://t.co/zbc9awdksm', 'https://t.co/e0w8khaewi', 'https://t.co/dupdvftq7c', 'https://t.co/clrwboao46', 'https://t.co/srv1g1pmj7', 'https://t.co/qmupncchru', 'https://t.co/hv07g9nigy', 'https://t.co/akuynhuxnb', 'https://t.co/c1fsvyik2v', 'https://t.co/3ut6k9dfrz', 'https://t.co/4uw1d1nroz', 'https://t.co/zph0idgn3e', 'https://t.co/ber6zmo52a', 'https://t.co/q0bmgj8njv', 'https://t.co/9etexc5sqe', 'https://t.co/amanm5ickw', 'https://t.co/qm9z1wggkx', 'https://t.co/azlin46w57', 'https://t.co/uimpvulbln']\n",
      "\n",
      " sem pontuação nas palavras\n",
      "\n",
      " sem palavras com menos de 3 letras\n",
      "[':', 'b', 'so', '*', 'fã', 'p', '˚', '@', 'na', 'hj', 'rt', 'os', 'ou', '.', 'ze', 'ao', '20', 'ta', 'é', '!!', ',', 'jk', 'tv', '3', 'ar', 'kk', 'te', '-', 'vi', 'vê', 'aí', 'td', '25', 'oq', 'ô', 'a', 'aq', 'o', 'la', 'e,', 'já', 'no', 'tá', ':(', '7', 'to', 'eu', 'pq', '️', 'vc', 'mt', '༘✶', 'x', 'de', 'as', 've', '/', 'ne', 'me', 'ja', 'vá', 'tb', 'né', '4h', 'há', 'um', 'ia', 'tô', 'do', 'só', 'cá', '5', 'cu', '⁀➷', 'af', 'da', 'n', 'e', 'ep', 'q', 'cm', 'ju', 'se', 'di', 'tt', '=', 'dm', 'em', 'ai', '11']\n",
      "\n",
      " sem palavras com mais de 3 ks juntos\n",
      "['amg', '', '', '', '']\n",
      "\n",
      " sem palavras com sequencia de numero da ordem das unidades maior que 3 juntos\n",
      "['k-12', '(@corinthians019)', '@jully02184332', '@jully02184332', '@jully02184332', '@jully02184332', '@jully02184332', '@jully02184332', '@brasil247', '2019', '2019', '@agenda2030_', '@agenda2030_']\n",
      "\n",
      " todos os filtros juntos\n",
      "remove_at ['@dolcegabbana', '@thisismaxtrying', '@ei_angie', '@twittermedia', '(@corinthians019)', '@luizdavipaolilo', '@joshrhcds', '@', '@julhette', '@lucasdetea', '@mpercb', '@carlosalcaraz_1', '@feyrisnyan_nyan', '@thiagomncc', '@charlidamelio', '@showdavida', '@coreygamble', '@anajuxl', '@tovejepsen', '@locoaprendiendo', '@heroi_romanesco', '@laverdad_es', '@danielaalmeida8', '@israelxxoo', '@nanahsantosss', '@paulovieirareal', '@louvplacez', '@nassar_furat', '@n12news', '@jully02184332', '@sweetenersdw', '@dantinhas', '@felipeneto', '@ecbahia', '@butteerffllyy', '@gugachacra', '@gordaopitchfork', '@baefeiix', '@brasil247', '@btsmarxistas', '@chiidemitadas', '@dipirango', '@flwrstomin', '@sonicofficialjp', '@fiuk.', '@rosana', '@rickylodge', '@trajaza', '@dnl91_', '@jovempannews', '@zeliaduncan', '@cianecrf', '@eusouluismelo', '@jornaloglobo', '@legalnaay', '@newtlark', '@daianenem', '@benicamilaa', '@garrafnha', '@nen_min_viiu', '@diavaldetails', '@flaviamaynarte', '@vinehciuslol', '@marcelomedici', '@domingao', '@michele_miss', '@awencis', '@sonhomanu', '@krisjenner', '@sereiasensitiva', '@regiondemurcia', '@youtube', '@grana2burn', '@perryundo', '@kxcio', '.@anygabriwiiy', '@cesarnebot', '@arianagrande', '@marthapapaleo', '@jramonfernandez', '@aaguirredc', '@diarioole', '@gildovigor', '@cnnee', '@julisides', '@iwtfeels', '@soyfdelrincon', '@gabzm07', '@giolimoes', '@ludmilla', '@alwaleed_talal', '@cbrzit', '@heliouchoaa', '@yizcut', '@ticorilofreire', '@agenda2030_', '@chaeychuulover', '@sweet_haroldo', '@lucianohuck', '@yefobic', '@grimes_fanha']\n",
      "remove_link ['@dolcegabbana', '@thisismaxtrying', '@ei_angie', '@twittermedia', '(@corinthians019)', '@luizdavipaolilo', '@joshrhcds', '@', '@julhette', '@lucasdetea', '@mpercb', '@carlosalcaraz_1', '@feyrisnyan_nyan', '@thiagomncc', '@charlidamelio', '@showdavida', '@coreygamble', '@anajuxl', '@tovejepsen', '@locoaprendiendo', '@heroi_romanesco', '@laverdad_es', '@danielaalmeida8', '@israelxxoo', '@nanahsantosss', '@paulovieirareal', '@louvplacez', '@nassar_furat', '@n12news', '@jully02184332', '@sweetenersdw', '@dantinhas', '@felipeneto', '@ecbahia', '@butteerffllyy', '@gugachacra', '@gordaopitchfork', '@baefeiix', '@brasil247', '@btsmarxistas', '@chiidemitadas', '@dipirango', '@flwrstomin', '@sonicofficialjp', '@fiuk.', '@rosana', '@rickylodge', '@trajaza', '@dnl91_', '@jovempannews', '@zeliaduncan', '@cianecrf', '@eusouluismelo', '@jornaloglobo', '@legalnaay', '@newtlark', '@daianenem', '@benicamilaa', '@garrafnha', '@nen_min_viiu', '@diavaldetails', '@flaviamaynarte', '@vinehciuslol', '@marcelomedici', '@domingao', '@michele_miss', '@awencis', '@sonhomanu', '@krisjenner', '@sereiasensitiva', '@regiondemurcia', '@youtube', '@grana2burn', '@perryundo', '@kxcio', '.@anygabriwiiy', '@cesarnebot', '@arianagrande', '@marthapapaleo', '@jramonfernandez', '@aaguirredc', '@diarioole', '@gildovigor', '@cnnee', '@julisides', '@iwtfeels', '@soyfdelrincon', '@gabzm07', '@giolimoes', '@ludmilla', '@alwaleed_talal', '@cbrzit', '@heliouchoaa', '@yizcut', '@ticorilofreire', '@agenda2030_', '@chaeychuulover', '@sweet_haroldo', '@lucianohuck', '@yefobic', '@grimes_fanha', 'https://t.co/4u8l3si1vm', 'https://t.co/sq3mjsd03v', 'https://t.co/yyywbxbsr7', 'https://t.co/nckw3xkjqh', 'https://t.co/gtnuocghvy', 'https://t.co/utws0zlt17', 'https://t.co/0gnbzlhmvf', 'https://t.co/gbrrrqdwpn', 'https://t.co/utuxekz2ma', 'https://t.co/pejwa3nnmt', 'https://t.co/ujlorusq5l', 'https://t.co/eghuyvzzdu', 'https://t.co/z2bftnl7wl', 'https://t.co/noopncnwdb', 'https://t.co/rqv5dwaflu', 'https://t.co/zbc9awdksm', 'https://t.co/e0w8khaewi', 'https://t.co/dupdvftq7c', 'https://t.co/clrwboao46', 'https://t.co/srv1g1pmj7', 'https://t.co/qmupncchru', 'https://t.co/hv07g9nigy', 'https://t.co/akuynhuxnb', 'https://t.co/c1fsvyik2v', 'https://t.co/3ut6k9dfrz', 'https://t.co/4uw1d1nroz', 'https://t.co/zph0idgn3e', 'https://t.co/ber6zmo52a', 'https://t.co/q0bmgj8njv', 'https://t.co/9etexc5sqe', 'https://t.co/amanm5ickw', 'https://t.co/qm9z1wggkx', 'https://t.co/azlin46w57', 'https://t.co/uimpvulbln']\n",
      "remove_ponc ['@dolcegabbana', '@thisismaxtrying', '@ei_angie', '@twittermedia', '(@corinthians019)', '@luizdavipaolilo', '@joshrhcds', '@', '@julhette', '@lucasdetea', '@mpercb', '@carlosalcaraz_1', '@feyrisnyan_nyan', '@thiagomncc', '@charlidamelio', '@showdavida', '@coreygamble', '@anajuxl', '@tovejepsen', '@locoaprendiendo', '@heroi_romanesco', '@laverdad_es', '@danielaalmeida8', '@israelxxoo', '@nanahsantosss', '@paulovieirareal', '@louvplacez', '@nassar_furat', '@n12news', '@jully02184332', '@sweetenersdw', '@dantinhas', '@felipeneto', '@ecbahia', '@butteerffllyy', '@gugachacra', '@gordaopitchfork', '@baefeiix', '@brasil247', '@btsmarxistas', '@chiidemitadas', '@dipirango', '@flwrstomin', '@sonicofficialjp', '@fiuk.', '@rosana', '@rickylodge', '@trajaza', '@dnl91_', '@jovempannews', '@zeliaduncan', '@cianecrf', '@eusouluismelo', '@jornaloglobo', '@legalnaay', '@newtlark', '@daianenem', '@benicamilaa', '@garrafnha', '@nen_min_viiu', '@diavaldetails', '@flaviamaynarte', '@vinehciuslol', '@marcelomedici', '@domingao', '@michele_miss', '@awencis', '@sonhomanu', '@krisjenner', '@sereiasensitiva', '@regiondemurcia', '@youtube', '@grana2burn', '@perryundo', '@kxcio', '.@anygabriwiiy', '@cesarnebot', '@arianagrande', '@marthapapaleo', '@jramonfernandez', '@aaguirredc', '@diarioole', '@gildovigor', '@cnnee', '@julisides', '@iwtfeels', '@soyfdelrincon', '@gabzm07', '@giolimoes', '@ludmilla', '@alwaleed_talal', '@cbrzit', '@heliouchoaa', '@yizcut', '@ticorilofreire', '@agenda2030_', '@chaeychuulover', '@sweet_haroldo', '@lucianohuck', '@yefobic', '@grimes_fanha', 'https://t.co/4u8l3si1vm', 'https://t.co/sq3mjsd03v', 'https://t.co/yyywbxbsr7', 'https://t.co/nckw3xkjqh', 'https://t.co/gtnuocghvy', 'https://t.co/utws0zlt17', 'https://t.co/0gnbzlhmvf', 'https://t.co/gbrrrqdwpn', 'https://t.co/utuxekz2ma', 'https://t.co/pejwa3nnmt', 'https://t.co/ujlorusq5l', 'https://t.co/eghuyvzzdu', 'https://t.co/z2bftnl7wl', 'https://t.co/noopncnwdb', 'https://t.co/rqv5dwaflu', 'https://t.co/zbc9awdksm', 'https://t.co/e0w8khaewi', 'https://t.co/dupdvftq7c', 'https://t.co/clrwboao46', 'https://t.co/srv1g1pmj7', 'https://t.co/qmupncchru', 'https://t.co/hv07g9nigy', 'https://t.co/akuynhuxnb', 'https://t.co/c1fsvyik2v', 'https://t.co/3ut6k9dfrz', 'https://t.co/4uw1d1nroz', 'https://t.co/zph0idgn3e', 'https://t.co/ber6zmo52a', 'https://t.co/q0bmgj8njv', 'https://t.co/9etexc5sqe', 'https://t.co/amanm5ickw', 'https://t.co/qm9z1wggkx', 'https://t.co/azlin46w57', 'https://t.co/uimpvulbln']\n",
      "remove_word_sts ['@dolcegabbana', '@thisismaxtrying', '@ei_angie', '@twittermedia', '(@corinthians019)', '@luizdavipaolilo', '@joshrhcds', '@', '@julhette', '@lucasdetea', '@mpercb', '@carlosalcaraz_1', '@feyrisnyan_nyan', '@thiagomncc', '@charlidamelio', '@showdavida', '@coreygamble', '@anajuxl', '@tovejepsen', '@locoaprendiendo', '@heroi_romanesco', '@laverdad_es', '@danielaalmeida8', '@israelxxoo', '@nanahsantosss', '@paulovieirareal', '@louvplacez', '@nassar_furat', '@n12news', '@jully02184332', '@sweetenersdw', '@dantinhas', '@felipeneto', '@ecbahia', '@butteerffllyy', '@gugachacra', '@gordaopitchfork', '@baefeiix', '@brasil247', '@btsmarxistas', '@chiidemitadas', '@dipirango', '@flwrstomin', '@sonicofficialjp', '@fiuk.', '@rosana', '@rickylodge', '@trajaza', '@dnl91_', '@jovempannews', '@zeliaduncan', '@cianecrf', '@eusouluismelo', '@jornaloglobo', '@legalnaay', '@newtlark', '@daianenem', '@benicamilaa', '@garrafnha', '@nen_min_viiu', '@diavaldetails', '@flaviamaynarte', '@vinehciuslol', '@marcelomedici', '@domingao', '@michele_miss', '@awencis', '@sonhomanu', '@krisjenner', '@sereiasensitiva', '@regiondemurcia', '@youtube', '@grana2burn', '@perryundo', '@kxcio', '.@anygabriwiiy', '@cesarnebot', '@arianagrande', '@marthapapaleo', '@jramonfernandez', '@aaguirredc', '@diarioole', '@gildovigor', '@cnnee', '@julisides', '@iwtfeels', '@soyfdelrincon', '@gabzm07', '@giolimoes', '@ludmilla', '@alwaleed_talal', '@cbrzit', '@heliouchoaa', '@yizcut', '@ticorilofreire', '@agenda2030_', '@chaeychuulover', '@sweet_haroldo', '@lucianohuck', '@yefobic', '@grimes_fanha', 'https://t.co/4u8l3si1vm', 'https://t.co/sq3mjsd03v', 'https://t.co/yyywbxbsr7', 'https://t.co/nckw3xkjqh', 'https://t.co/gtnuocghvy', 'https://t.co/utws0zlt17', 'https://t.co/0gnbzlhmvf', 'https://t.co/gbrrrqdwpn', 'https://t.co/utuxekz2ma', 'https://t.co/pejwa3nnmt', 'https://t.co/ujlorusq5l', 'https://t.co/eghuyvzzdu', 'https://t.co/z2bftnl7wl', 'https://t.co/noopncnwdb', 'https://t.co/rqv5dwaflu', 'https://t.co/zbc9awdksm', 'https://t.co/e0w8khaewi', 'https://t.co/dupdvftq7c', 'https://t.co/clrwboao46', 'https://t.co/srv1g1pmj7', 'https://t.co/qmupncchru', 'https://t.co/hv07g9nigy', 'https://t.co/akuynhuxnb', 'https://t.co/c1fsvyik2v', 'https://t.co/3ut6k9dfrz', 'https://t.co/4uw1d1nroz', 'https://t.co/zph0idgn3e', 'https://t.co/ber6zmo52a', 'https://t.co/q0bmgj8njv', 'https://t.co/9etexc5sqe', 'https://t.co/amanm5ickw', 'https://t.co/qm9z1wggkx', 'https://t.co/azlin46w57', 'https://t.co/uimpvulbln', '\\x00', 'b', 'so', 'fã', 'p', '˚', 'na', 'hj', 'rt', 'os', 'ou', 'ze', 'ao', '20', 'ta', 'é', '\\x00\\x00', 'jk', 'tv', '3', 'ar', 'kk', 'te', 'vi', 'vê', 'aí', 'td', '25', 'oq', 'ô', 'a', 'aq', 'o', 'la', 'e\\x00', 'já', 'no', 'tá', '7', 'to', 'eu', 'pq', '️', 'vc', 'mt', '༘✶', 'x', 'de', 'as', 've', 'ne', 'me', 'ja', 'vá', 'tb', 'né', '4h', 'há', 'um', 'ia', 'tô', 'do', 'só', 'cá', '5', 'cu', '⁀➷', 'af', 'da', 'n', 'e', 'ep', 'q', 'cm', 'ju', 'se', 'di', 'tt', 'dm', 'em', 'ai', '11']\n",
      "remove_laugh ['@dolcegabbana', '@thisismaxtrying', '@ei_angie', '@twittermedia', '(@corinthians019)', '@luizdavipaolilo', '@joshrhcds', '@', '@julhette', '@lucasdetea', '@mpercb', '@carlosalcaraz_1', '@feyrisnyan_nyan', '@thiagomncc', '@charlidamelio', '@showdavida', '@coreygamble', '@anajuxl', '@tovejepsen', '@locoaprendiendo', '@heroi_romanesco', '@laverdad_es', '@danielaalmeida8', '@israelxxoo', '@nanahsantosss', '@paulovieirareal', '@louvplacez', '@nassar_furat', '@n12news', '@jully02184332', '@sweetenersdw', '@dantinhas', '@felipeneto', '@ecbahia', '@butteerffllyy', '@gugachacra', '@gordaopitchfork', '@baefeiix', '@brasil247', '@btsmarxistas', '@chiidemitadas', '@dipirango', '@flwrstomin', '@sonicofficialjp', '@fiuk.', '@rosana', '@rickylodge', '@trajaza', '@dnl91_', '@jovempannews', '@zeliaduncan', '@cianecrf', '@eusouluismelo', '@jornaloglobo', '@legalnaay', '@newtlark', '@daianenem', '@benicamilaa', '@garrafnha', '@nen_min_viiu', '@diavaldetails', '@flaviamaynarte', '@vinehciuslol', '@marcelomedici', '@domingao', '@michele_miss', '@awencis', '@sonhomanu', '@krisjenner', '@sereiasensitiva', '@regiondemurcia', '@youtube', '@grana2burn', '@perryundo', '@kxcio', '.@anygabriwiiy', '@cesarnebot', '@arianagrande', '@marthapapaleo', '@jramonfernandez', '@aaguirredc', '@diarioole', '@gildovigor', '@cnnee', '@julisides', '@iwtfeels', '@soyfdelrincon', '@gabzm07', '@giolimoes', '@ludmilla', '@alwaleed_talal', '@cbrzit', '@heliouchoaa', '@yizcut', '@ticorilofreire', '@agenda2030_', '@chaeychuulover', '@sweet_haroldo', '@lucianohuck', '@yefobic', '@grimes_fanha', 'https://t.co/4u8l3si1vm', 'https://t.co/sq3mjsd03v', 'https://t.co/yyywbxbsr7', 'https://t.co/nckw3xkjqh', 'https://t.co/gtnuocghvy', 'https://t.co/utws0zlt17', 'https://t.co/0gnbzlhmvf', 'https://t.co/gbrrrqdwpn', 'https://t.co/utuxekz2ma', 'https://t.co/pejwa3nnmt', 'https://t.co/ujlorusq5l', 'https://t.co/eghuyvzzdu', 'https://t.co/z2bftnl7wl', 'https://t.co/noopncnwdb', 'https://t.co/rqv5dwaflu', 'https://t.co/zbc9awdksm', 'https://t.co/e0w8khaewi', 'https://t.co/dupdvftq7c', 'https://t.co/clrwboao46', 'https://t.co/srv1g1pmj7', 'https://t.co/qmupncchru', 'https://t.co/hv07g9nigy', 'https://t.co/akuynhuxnb', 'https://t.co/c1fsvyik2v', 'https://t.co/3ut6k9dfrz', 'https://t.co/4uw1d1nroz', 'https://t.co/zph0idgn3e', 'https://t.co/ber6zmo52a', 'https://t.co/q0bmgj8njv', 'https://t.co/9etexc5sqe', 'https://t.co/amanm5ickw', 'https://t.co/qm9z1wggkx', 'https://t.co/azlin46w57', 'https://t.co/uimpvulbln', '\\x00', 'b', 'so', 'fã', 'p', '˚', 'na', 'hj', 'rt', 'os', 'ou', 'ze', 'ao', '20', 'ta', 'é', '\\x00\\x00', 'jk', 'tv', '3', 'ar', 'kk', 'te', 'vi', 'vê', 'aí', 'td', '25', 'oq', 'ô', 'a', 'aq', 'o', 'la', 'e\\x00', 'já', 'no', 'tá', '7', 'to', 'eu', 'pq', '️', 'vc', 'mt', '༘✶', 'x', 'de', 'as', 've', 'ne', 'me', 'ja', 'vá', 'tb', 'né', '4h', 'há', 'um', 'ia', 'tô', 'do', 'só', 'cá', '5', 'cu', '⁀➷', 'af', 'da', 'n', 'e', 'ep', 'q', 'cm', 'ju', 'se', 'di', 'tt', 'dm', 'em', 'ai', '11', 'amg', '', '', '']\n",
      "remove_num_str ['@dolcegabbana', '@thisismaxtrying', '@ei_angie', '@twittermedia', '(@corinthians019)', '@luizdavipaolilo', '@joshrhcds', '@', '@julhette', '@lucasdetea', '@mpercb', '@carlosalcaraz_1', '@feyrisnyan_nyan', '@thiagomncc', '@charlidamelio', '@showdavida', '@coreygamble', '@anajuxl', '@tovejepsen', '@locoaprendiendo', '@heroi_romanesco', '@laverdad_es', '@danielaalmeida8', '@israelxxoo', '@nanahsantosss', '@paulovieirareal', '@louvplacez', '@nassar_furat', '@n12news', '@jully02184332', '@sweetenersdw', '@dantinhas', '@felipeneto', '@ecbahia', '@butteerffllyy', '@gugachacra', '@gordaopitchfork', '@baefeiix', '@brasil247', '@btsmarxistas', '@chiidemitadas', '@dipirango', '@flwrstomin', '@sonicofficialjp', '@fiuk.', '@rosana', '@rickylodge', '@trajaza', '@dnl91_', '@jovempannews', '@zeliaduncan', '@cianecrf', '@eusouluismelo', '@jornaloglobo', '@legalnaay', '@newtlark', '@daianenem', '@benicamilaa', '@garrafnha', '@nen_min_viiu', '@diavaldetails', '@flaviamaynarte', '@vinehciuslol', '@marcelomedici', '@domingao', '@michele_miss', '@awencis', '@sonhomanu', '@krisjenner', '@sereiasensitiva', '@regiondemurcia', '@youtube', '@grana2burn', '@perryundo', '@kxcio', '.@anygabriwiiy', '@cesarnebot', '@arianagrande', '@marthapapaleo', '@jramonfernandez', '@aaguirredc', '@diarioole', '@gildovigor', '@cnnee', '@julisides', '@iwtfeels', '@soyfdelrincon', '@gabzm07', '@giolimoes', '@ludmilla', '@alwaleed_talal', '@cbrzit', '@heliouchoaa', '@yizcut', '@ticorilofreire', '@agenda2030_', '@chaeychuulover', '@sweet_haroldo', '@lucianohuck', '@yefobic', '@grimes_fanha', 'https://t.co/4u8l3si1vm', 'https://t.co/sq3mjsd03v', 'https://t.co/yyywbxbsr7', 'https://t.co/nckw3xkjqh', 'https://t.co/gtnuocghvy', 'https://t.co/utws0zlt17', 'https://t.co/0gnbzlhmvf', 'https://t.co/gbrrrqdwpn', 'https://t.co/utuxekz2ma', 'https://t.co/pejwa3nnmt', 'https://t.co/ujlorusq5l', 'https://t.co/eghuyvzzdu', 'https://t.co/z2bftnl7wl', 'https://t.co/noopncnwdb', 'https://t.co/rqv5dwaflu', 'https://t.co/zbc9awdksm', 'https://t.co/e0w8khaewi', 'https://t.co/dupdvftq7c', 'https://t.co/clrwboao46', 'https://t.co/srv1g1pmj7', 'https://t.co/qmupncchru', 'https://t.co/hv07g9nigy', 'https://t.co/akuynhuxnb', 'https://t.co/c1fsvyik2v', 'https://t.co/3ut6k9dfrz', 'https://t.co/4uw1d1nroz', 'https://t.co/zph0idgn3e', 'https://t.co/ber6zmo52a', 'https://t.co/q0bmgj8njv', 'https://t.co/9etexc5sqe', 'https://t.co/amanm5ickw', 'https://t.co/qm9z1wggkx', 'https://t.co/azlin46w57', 'https://t.co/uimpvulbln', '\\x00', 'b', 'so', 'fã', 'p', '˚', 'na', 'hj', 'rt', 'os', 'ou', 'ze', 'ao', '20', 'ta', 'é', '\\x00\\x00', 'jk', 'tv', '3', 'ar', 'kk', 'te', 'vi', 'vê', 'aí', 'td', '25', 'oq', 'ô', 'a', 'aq', 'o', 'la', 'e\\x00', 'já', 'no', 'tá', '7', 'to', 'eu', 'pq', '️', 'vc', 'mt', '༘✶', 'x', 'de', 'as', 've', 'ne', 'me', 'ja', 'vá', 'tb', 'né', '4h', 'há', 'um', 'ia', 'tô', 'do', 'só', 'cá', '5', 'cu', '⁀➷', 'af', 'da', 'n', 'e', 'ep', 'q', 'cm', 'ju', 'se', 'di', 'tt', 'dm', 'em', 'ai', '11', 'amg', '', '', '', '2019', '2019']\n",
      "Total ['@dolcegabbana', '@thisismaxtrying', '@ei_angie', '@twittermedia', '(@corinthians019)', '@luizdavipaolilo', '@joshrhcds', '@', '@julhette', '@lucasdetea', '@mpercb', '@carlosalcaraz_1', '@feyrisnyan_nyan', '@thiagomncc', '@charlidamelio', '@showdavida', '@coreygamble', '@anajuxl', '@tovejepsen', '@locoaprendiendo', '@heroi_romanesco', '@laverdad_es', '@danielaalmeida8', '@israelxxoo', '@nanahsantosss', '@paulovieirareal', '@louvplacez', '@nassar_furat', '@n12news', '@jully02184332', '@sweetenersdw', '@dantinhas', '@felipeneto', '@ecbahia', '@butteerffllyy', '@gugachacra', '@gordaopitchfork', '@baefeiix', '@brasil247', '@btsmarxistas', '@chiidemitadas', '@dipirango', '@flwrstomin', '@sonicofficialjp', '@fiuk.', '@rosana', '@rickylodge', '@trajaza', '@dnl91_', '@jovempannews', '@zeliaduncan', '@cianecrf', '@eusouluismelo', '@jornaloglobo', '@legalnaay', '@newtlark', '@daianenem', '@benicamilaa', '@garrafnha', '@nen_min_viiu', '@diavaldetails', '@flaviamaynarte', '@vinehciuslol', '@marcelomedici', '@domingao', '@michele_miss', '@awencis', '@sonhomanu', '@krisjenner', '@sereiasensitiva', '@regiondemurcia', '@youtube', '@grana2burn', '@perryundo', '@kxcio', '.@anygabriwiiy', '@cesarnebot', '@arianagrande', '@marthapapaleo', '@jramonfernandez', '@aaguirredc', '@diarioole', '@gildovigor', '@cnnee', '@julisides', '@iwtfeels', '@soyfdelrincon', '@gabzm07', '@giolimoes', '@ludmilla', '@alwaleed_talal', '@cbrzit', '@heliouchoaa', '@yizcut', '@ticorilofreire', '@agenda2030_', '@chaeychuulover', '@sweet_haroldo', '@lucianohuck', '@yefobic', '@grimes_fanha', 'https://t.co/4u8l3si1vm', 'https://t.co/sq3mjsd03v', 'https://t.co/yyywbxbsr7', 'https://t.co/nckw3xkjqh', 'https://t.co/gtnuocghvy', 'https://t.co/utws0zlt17', 'https://t.co/0gnbzlhmvf', 'https://t.co/gbrrrqdwpn', 'https://t.co/utuxekz2ma', 'https://t.co/pejwa3nnmt', 'https://t.co/ujlorusq5l', 'https://t.co/eghuyvzzdu', 'https://t.co/z2bftnl7wl', 'https://t.co/noopncnwdb', 'https://t.co/rqv5dwaflu', 'https://t.co/zbc9awdksm', 'https://t.co/e0w8khaewi', 'https://t.co/dupdvftq7c', 'https://t.co/clrwboao46', 'https://t.co/srv1g1pmj7', 'https://t.co/qmupncchru', 'https://t.co/hv07g9nigy', 'https://t.co/akuynhuxnb', 'https://t.co/c1fsvyik2v', 'https://t.co/3ut6k9dfrz', 'https://t.co/4uw1d1nroz', 'https://t.co/zph0idgn3e', 'https://t.co/ber6zmo52a', 'https://t.co/q0bmgj8njv', 'https://t.co/9etexc5sqe', 'https://t.co/amanm5ickw', 'https://t.co/qm9z1wggkx', 'https://t.co/azlin46w57', 'https://t.co/uimpvulbln', '\\x00', 'b', 'so', 'fã', 'p', '˚', 'na', 'hj', 'rt', 'os', 'ou', 'ze', 'ao', '20', 'ta', 'é', '\\x00\\x00', 'jk', 'tv', '3', 'ar', 'kk', 'te', 'vi', 'vê', 'aí', 'td', '25', 'oq', 'ô', 'a', 'aq', 'o', 'la', 'e\\x00', 'já', 'no', 'tá', '7', 'to', 'eu', 'pq', '️', 'vc', 'mt', '༘✶', 'x', 'de', 'as', 've', 'ne', 'me', 'ja', 'vá', 'tb', 'né', '4h', 'há', 'um', 'ia', 'tô', 'do', 'só', 'cá', '5', 'cu', '⁀➷', 'af', 'da', 'n', 'e', 'ep', 'q', 'cm', 'ju', 'se', 'di', 'tt', 'dm', 'em', 'ai', '11', 'amg', '', '', '', '2019', '2019']\n"
     ]
    }
   ],
   "source": [
    "print('\\n sem palavras com @')\n",
    "qremove_at_irel = irel_limp1.remove_at()\n",
    "print('\\n sem palavras com link')\n",
    "qremove_link_irel =irel_limp.remove_link()\n",
    "print('\\n sem pontuação nas palavras')\n",
    "qremove_ponc_irel = irel_limp2.remove_ponc()\n",
    "print('\\n sem palavras com menos de 3 letras')\n",
    "qremove_word_sts_irel = irel_limp3.remove_word_sts(3)\n",
    "print('\\n sem palavras com mais de 3 ks juntos')\n",
    "qremove_laugh_irel = irel_limp4.remove_laugh(2, 5)\n",
    "print('\\n sem palavras com sequencia de numero da ordem das unidades maior que 3 juntos')\n",
    "qremove_num_str_irel = irel_limp5.remove_num_str(3)\n",
    "print('\\n todos os filtros juntos')\n",
    "qremove_options_irel = irel_limp6.remove_options(remove_at={True: '()'}, remove_link={True: '()'},\n",
    "                                    remove_ponc={True: '()'},remove_laugh={True: '(2, 5)'},\n",
    "                                    remove_word_sts={True: '(3)'}, remove_num_str={True: '(3)'})"
   ],
   "metadata": {
    "collapsed": false,
    "pycharm": {
     "name": "#%%\n"
    }
   }
  },
  {
   "cell_type": "markdown",
   "source": [
    "#### Antes de filtrar, todos os emojis e as palavras inseridas no começo são excluídos da filtragem e colocados de volta na vase de dados."
   ],
   "metadata": {
    "collapsed": false,
    "pycharm": {
     "name": "#%% md\n"
    }
   }
  },
  {
   "cell_type": "markdown",
   "source": [
    "#### dataframes com a frequencia de palavras relevantes e irrelevantes ao lado um do outro"
   ],
   "metadata": {
    "collapsed": false,
    "pycharm": {
     "name": "#%% md\n"
    }
   }
  },
  {
   "cell_type": "code",
   "execution_count": 251,
   "outputs": [],
   "source": [
    "# qremove_options_rel.sort_values(by='# de ocorrências', ascending=False)\n",
    "# hc.df_style(qremove_options_rel.sort_values(by='# de ocorrências', ascending=False).iloc[0:10], qremove_options_irel.sort_values(by='# de ocorrências', ascending=False).iloc[0:10],\n",
    "#             titulo1='Palavras em tweets relevantes', titulo2='Palavras em tweets irelevantes')\n",
    "# # try:\n",
    "# #     qremove_options_relS=qremove_options_rel.sort_values(by='# de ocorrências', ascending=False).style.set_table_attributes\\\n",
    "# #         (\"style='display:inline'\").set_table_styles(table_styles = [dict(selector=\"caption\",\n",
    "# #         props=[(\"text-align\", \"center\"),\n",
    "# #         (\"font-size\", \"110%\"),\n",
    "# #         (\"color\", 'black')])]).set_caption('Palavras em tweets relevantes')\n",
    "# #\n",
    "# #     qremove_options_irelS=qremove_options_irel.sort_values(by='# de ocorrências', ascending=False).style.set_table_attributes\\\n",
    "# #         (\"style='display:inline'\").set_table_styles(table_styles = [dict(selector=\"caption\",\n",
    "# #         props=[(\"text-align\", \"center\"),\n",
    "# #         (\"font-size\", \"110%\"),\n",
    "# #         (\"color\", 'black')])]).set_caption('Palavras em tweets irrelevantes')\n",
    "# # except Exception:\n",
    "# #     pass\n",
    "# # display_html(qremove_options_relS._repr_html_() + \"\\xa0\\xa0\\xa0\\xa0\\xa0\\xa0\\xa0\\xa0\\xa0\\xa0\\xa0\\xa0\" + qremove_options_irelS._repr_html_(), raw=True)"
   ],
   "metadata": {
    "collapsed": false,
    "pycharm": {
     "name": "#%%\n"
    }
   }
  },
  {
   "cell_type": "code",
   "execution_count": 252,
   "outputs": [
    {
     "data": {
      "text/plain": "<pandas.io.formats.style.Styler at 0x1d975a596a0>",
      "text/html": "<style type=\"text/css\">\n#T_faede_ td:hover {\n  text-align: center;\n  font-size: 120%;\n  font-weight: bold;\n  color: black;\n  background-color: #ffffb3;\n}\n#T_faede_ .index_name {\n  font-style: italic;\n  color: black;\n  font-weight: normal;\n}\n#T_faede_ th:not(.index_name) {\n  background-color: #000066;\n  color: white;\n}\n</style>\n<table id=\"T_faede_\">\n  <caption>Tweets relevantes e irrelevantes irrelevantes filtrados apenas pelas palavras que sao links</caption>\n  <thead>\n    <tr>\n      <th class=\"blank level0\" >&nbsp;</th>\n      <th class=\"col_heading level0 col0\" >Palavras em tweets relevantes</th>\n      <th class=\"col_heading level0 col1\" >Palavras em tweets irrelevantes</th>\n    </tr>\n    <tr>\n      <th class=\"blank level1\" >&nbsp;</th>\n      <th class=\"col_heading level1 col0\" ># de ocorrências</th>\n      <th class=\"col_heading level1 col1\" ># de ocorrências</th>\n    </tr>\n  </thead>\n  <tbody>\n    <tr>\n      <th id=\"T_faede_level0_row0\" class=\"row_heading level0 row0\" >a</th>\n      <td id=\"T_faede_row0_col0\" class=\"data row0 col0\" >101.000000</td>\n      <td id=\"T_faede_row0_col1\" class=\"data row0 col1\" >67.000000</td>\n    </tr>\n    <tr>\n      <th id=\"T_faede_level0_row1\" class=\"row_heading level0 row1\" >que</th>\n      <td id=\"T_faede_row1_col0\" class=\"data row1 col0\" >93.000000</td>\n      <td id=\"T_faede_row1_col1\" class=\"data row1 col1\" >74.000000</td>\n    </tr>\n    <tr>\n      <th id=\"T_faede_level0_row2\" class=\"row_heading level0 row2\" >o</th>\n      <td id=\"T_faede_row2_col0\" class=\"data row2 col0\" >89.000000</td>\n      <td id=\"T_faede_row2_col1\" class=\"data row2 col1\" >75.000000</td>\n    </tr>\n    <tr>\n      <th id=\"T_faede_level0_row3\" class=\"row_heading level0 row3\" >fantástico</th>\n      <td id=\"T_faede_row3_col0\" class=\"data row3 col0\" >81.000000</td>\n      <td id=\"T_faede_row3_col1\" class=\"data row3 col1\" >98.000000</td>\n    </tr>\n    <tr>\n      <th id=\"T_faede_level0_row4\" class=\"row_heading level0 row4\" >de</th>\n      <td id=\"T_faede_row4_col0\" class=\"data row4 col0\" >76.000000</td>\n      <td id=\"T_faede_row4_col1\" class=\"data row4 col1\" >66.000000</td>\n    </tr>\n    <tr>\n      <th id=\"T_faede_level0_row5\" class=\"row_heading level0 row5\" >do</th>\n      <td id=\"T_faede_row5_col0\" class=\"data row5 col0\" >74.000000</td>\n      <td id=\"T_faede_row5_col1\" class=\"data row5 col1\" >57.000000</td>\n    </tr>\n    <tr>\n      <th id=\"T_faede_level0_row6\" class=\"row_heading level0 row6\" >e</th>\n      <td id=\"T_faede_row6_col0\" class=\"data row6 col0\" >72.000000</td>\n      <td id=\"T_faede_row6_col1\" class=\"data row6 col1\" >60.000000</td>\n    </tr>\n    <tr>\n      <th id=\"T_faede_level0_row7\" class=\"row_heading level0 row7\" >no</th>\n      <td id=\"T_faede_row7_col0\" class=\"data row7 col0\" >60.000000</td>\n      <td id=\"T_faede_row7_col1\" class=\"data row7 col1\" >79.000000</td>\n    </tr>\n    <tr>\n      <th id=\"T_faede_level0_row8\" class=\"row_heading level0 row8\" >sobre</th>\n      <td id=\"T_faede_row8_col0\" class=\"data row8 col0\" >46.000000</td>\n      <td id=\"T_faede_row8_col1\" class=\"data row8 col1\" >nan</td>\n    </tr>\n    <tr>\n      <th id=\"T_faede_level0_row9\" class=\"row_heading level0 row9\" >é</th>\n      <td id=\"T_faede_row9_col0\" class=\"data row9 col0\" >46.000000</td>\n      <td id=\"T_faede_row9_col1\" class=\"data row9 col1\" >39.000000</td>\n    </tr>\n    <tr>\n      <th id=\"T_faede_level0_row10\" class=\"row_heading level0 row10\" >brasil</th>\n      <td id=\"T_faede_row10_col0\" class=\"data row10 col0\" >nan</td>\n      <td id=\"T_faede_row10_col1\" class=\"data row10 col1\" >29.000000</td>\n    </tr>\n  </tbody>\n</table>\n"
     },
     "execution_count": 252,
     "metadata": {},
     "output_type": "execute_result"
    }
   ],
   "source": [
    "qremove_link_rel.sort_values(by='# de ocorrências', ascending=False)\n",
    "hc.unite_dataframes_col(qremove_link_rel.sort_values(by='# de ocorrências', ascending=False).iloc[0:10],\n",
    "                        qremove_link_irel.sort_values(by='# de ocorrências', ascending=False).iloc[0:10],\n",
    "                        'Palavras em tweets relevantes', 'Palavras em tweets irrelevantes')\\\n",
    "    .style.set_table_styles([hc.css1, hc.css2, hc.css3]).set_caption('Tweets relevantes e irrelevantes irrelevantes filtrados apenas pelas palavras que sao links')"
   ],
   "metadata": {
    "collapsed": false,
    "pycharm": {
     "name": "#%%\n"
    }
   }
  },
  {
   "cell_type": "code",
   "execution_count": 253,
   "outputs": [
    {
     "data": {
      "text/plain": "<pandas.io.formats.style.Styler at 0x1d975557eb0>",
      "text/html": "<style type=\"text/css\">\n#T_0ead0_ td:hover {\n  text-align: center;\n  font-size: 120%;\n  font-weight: bold;\n  color: black;\n  background-color: #ffffb3;\n}\n#T_0ead0_ .index_name {\n  font-style: italic;\n  color: black;\n  font-weight: normal;\n}\n#T_0ead0_ th:not(.index_name) {\n  background-color: #000066;\n  color: white;\n}\n</style>\n<table id=\"T_0ead0_\">\n  <caption>Tweets relevantes e irrelevantes irrelevantes filtrados apenas pelas palavras que contem @</caption>\n  <thead>\n    <tr>\n      <th class=\"blank level0\" >&nbsp;</th>\n      <th class=\"col_heading level0 col0\" >Palavras em tweets relevantes</th>\n      <th class=\"col_heading level0 col1\" >Palavras em tweets irrelevantes</th>\n    </tr>\n    <tr>\n      <th class=\"blank level1\" >&nbsp;</th>\n      <th class=\"col_heading level1 col0\" ># de ocorrências</th>\n      <th class=\"col_heading level1 col1\" ># de ocorrências</th>\n    </tr>\n  </thead>\n  <tbody>\n    <tr>\n      <th id=\"T_0ead0_level0_row0\" class=\"row_heading level0 row0\" >a</th>\n      <td id=\"T_0ead0_row0_col0\" class=\"data row0 col0\" >101.000000</td>\n      <td id=\"T_0ead0_row0_col1\" class=\"data row0 col1\" >67.000000</td>\n    </tr>\n    <tr>\n      <th id=\"T_0ead0_level0_row1\" class=\"row_heading level0 row1\" >que</th>\n      <td id=\"T_0ead0_row1_col0\" class=\"data row1 col0\" >93.000000</td>\n      <td id=\"T_0ead0_row1_col1\" class=\"data row1 col1\" >74.000000</td>\n    </tr>\n    <tr>\n      <th id=\"T_0ead0_level0_row2\" class=\"row_heading level0 row2\" >o</th>\n      <td id=\"T_0ead0_row2_col0\" class=\"data row2 col0\" >89.000000</td>\n      <td id=\"T_0ead0_row2_col1\" class=\"data row2 col1\" >75.000000</td>\n    </tr>\n    <tr>\n      <th id=\"T_0ead0_level0_row3\" class=\"row_heading level0 row3\" >fantástico</th>\n      <td id=\"T_0ead0_row3_col0\" class=\"data row3 col0\" >81.000000</td>\n      <td id=\"T_0ead0_row3_col1\" class=\"data row3 col1\" >98.000000</td>\n    </tr>\n    <tr>\n      <th id=\"T_0ead0_level0_row4\" class=\"row_heading level0 row4\" >de</th>\n      <td id=\"T_0ead0_row4_col0\" class=\"data row4 col0\" >76.000000</td>\n      <td id=\"T_0ead0_row4_col1\" class=\"data row4 col1\" >66.000000</td>\n    </tr>\n    <tr>\n      <th id=\"T_0ead0_level0_row5\" class=\"row_heading level0 row5\" >do</th>\n      <td id=\"T_0ead0_row5_col0\" class=\"data row5 col0\" >74.000000</td>\n      <td id=\"T_0ead0_row5_col1\" class=\"data row5 col1\" >57.000000</td>\n    </tr>\n    <tr>\n      <th id=\"T_0ead0_level0_row6\" class=\"row_heading level0 row6\" >e</th>\n      <td id=\"T_0ead0_row6_col0\" class=\"data row6 col0\" >72.000000</td>\n      <td id=\"T_0ead0_row6_col1\" class=\"data row6 col1\" >60.000000</td>\n    </tr>\n    <tr>\n      <th id=\"T_0ead0_level0_row7\" class=\"row_heading level0 row7\" >no</th>\n      <td id=\"T_0ead0_row7_col0\" class=\"data row7 col0\" >60.000000</td>\n      <td id=\"T_0ead0_row7_col1\" class=\"data row7 col1\" >79.000000</td>\n    </tr>\n    <tr>\n      <th id=\"T_0ead0_level0_row8\" class=\"row_heading level0 row8\" >sobre</th>\n      <td id=\"T_0ead0_row8_col0\" class=\"data row8 col0\" >46.000000</td>\n      <td id=\"T_0ead0_row8_col1\" class=\"data row8 col1\" >nan</td>\n    </tr>\n    <tr>\n      <th id=\"T_0ead0_level0_row9\" class=\"row_heading level0 row9\" >é</th>\n      <td id=\"T_0ead0_row9_col0\" class=\"data row9 col0\" >46.000000</td>\n      <td id=\"T_0ead0_row9_col1\" class=\"data row9 col1\" >39.000000</td>\n    </tr>\n    <tr>\n      <th id=\"T_0ead0_level0_row10\" class=\"row_heading level0 row10\" >brasil</th>\n      <td id=\"T_0ead0_row10_col0\" class=\"data row10 col0\" >nan</td>\n      <td id=\"T_0ead0_row10_col1\" class=\"data row10 col1\" >29.000000</td>\n    </tr>\n  </tbody>\n</table>\n"
     },
     "execution_count": 253,
     "metadata": {},
     "output_type": "execute_result"
    }
   ],
   "source": [
    "qremove_ponc_rel.sort_values(by='# de ocorrências', ascending=False)\n",
    "hc.unite_dataframes_col(qremove_ponc_rel.sort_values(by='# de ocorrências', ascending=False).iloc[0:10],\n",
    "                        qremove_ponc_irel.sort_values(by='# de ocorrências', ascending=False).iloc[0:10],\n",
    "                        'Palavras em tweets relevantes', 'Palavras em tweets irrelevantes')\\\n",
    "    .style.set_table_styles([hc.css1, hc.css2, hc.css3]).set_caption('Tweets relevantes e irrelevantes irrelevantes filtrados apenas pelas palavras que contem @')"
   ],
   "metadata": {
    "collapsed": false,
    "pycharm": {
     "name": "#%%\n"
    }
   }
  },
  {
   "cell_type": "code",
   "execution_count": 254,
   "outputs": [
    {
     "data": {
      "text/plain": "<pandas.io.formats.style.Styler at 0x1d974f95400>",
      "text/html": "<style type=\"text/css\">\n#T_bf48b_ td:hover {\n  text-align: center;\n  font-size: 120%;\n  font-weight: bold;\n  color: black;\n  background-color: #ffffb3;\n}\n#T_bf48b_ .index_name {\n  font-style: italic;\n  color: black;\n  font-weight: normal;\n}\n#T_bf48b_ th:not(.index_name) {\n  background-color: #000066;\n  color: white;\n}\n</style>\n<table id=\"T_bf48b_\">\n  <caption>Tweets relevantes e irrelevantes irrelevantes filtrados apenas pelas palavras menores que 3</caption>\n  <thead>\n    <tr>\n      <th class=\"blank level0\" >&nbsp;</th>\n      <th class=\"col_heading level0 col0\" >Palavras em tweets relevantes</th>\n      <th class=\"col_heading level0 col1\" >Palavras em tweets irrelevantes</th>\n    </tr>\n    <tr>\n      <th class=\"blank level1\" >&nbsp;</th>\n      <th class=\"col_heading level1 col0\" ># de ocorrências</th>\n      <th class=\"col_heading level1 col1\" ># de ocorrências</th>\n    </tr>\n  </thead>\n  <tbody>\n    <tr>\n      <th id=\"T_bf48b_level0_row0\" class=\"row_heading level0 row0\" >que</th>\n      <td id=\"T_bf48b_row0_col0\" class=\"data row0 col0\" >93.000000</td>\n      <td id=\"T_bf48b_row0_col1\" class=\"data row0 col1\" >74.000000</td>\n    </tr>\n    <tr>\n      <th id=\"T_bf48b_level0_row1\" class=\"row_heading level0 row1\" >fantástico</th>\n      <td id=\"T_bf48b_row1_col0\" class=\"data row1 col0\" >81.000000</td>\n      <td id=\"T_bf48b_row1_col1\" class=\"data row1 col1\" >98.000000</td>\n    </tr>\n    <tr>\n      <th id=\"T_bf48b_level0_row2\" class=\"row_heading level0 row2\" >sobre</th>\n      <td id=\"T_bf48b_row2_col0\" class=\"data row2 col0\" >46.000000</td>\n      <td id=\"T_bf48b_row2_col1\" class=\"data row2 col1\" >nan</td>\n    </tr>\n    <tr>\n      <th id=\"T_bf48b_level0_row3\" class=\"row_heading level0 row3\" >matéria</th>\n      <td id=\"T_bf48b_row3_col0\" class=\"data row3 col0\" >42.000000</td>\n      <td id=\"T_bf48b_row3_col1\" class=\"data row3 col1\" >20.000000</td>\n    </tr>\n    <tr>\n      <th id=\"T_bf48b_level0_row4\" class=\"row_heading level0 row4\" >não</th>\n      <td id=\"T_bf48b_row4_col0\" class=\"data row4 col0\" >30.000000</td>\n      <td id=\"T_bf48b_row4_col1\" class=\"data row4 col1\" >25.000000</td>\n    </tr>\n    <tr>\n      <th id=\"T_bf48b_level0_row5\" class=\"row_heading level0 row5\" >#fantastico</th>\n      <td id=\"T_bf48b_row5_col0\" class=\"data row5 col0\" >28.000000</td>\n      <td id=\"T_bf48b_row5_col1\" class=\"data row5 col1\" >nan</td>\n    </tr>\n    <tr>\n      <th id=\"T_bf48b_level0_row6\" class=\"row_heading level0 row6\" >com</th>\n      <td id=\"T_bf48b_row6_col0\" class=\"data row6 col0\" >23.000000</td>\n      <td id=\"T_bf48b_row6_col1\" class=\"data row6 col1\" >28.000000</td>\n    </tr>\n    <tr>\n      <th id=\"T_bf48b_level0_row7\" class=\"row_heading level0 row7\" >uma</th>\n      <td id=\"T_bf48b_row7_col0\" class=\"data row7 col0\" >22.000000</td>\n      <td id=\"T_bf48b_row7_col1\" class=\"data row7 col1\" >nan</td>\n    </tr>\n    <tr>\n      <th id=\"T_bf48b_level0_row8\" class=\"row_heading level0 row8\" >haters</th>\n      <td id=\"T_bf48b_row8_col0\" class=\"data row8 col0\" >20.000000</td>\n      <td id=\"T_bf48b_row8_col1\" class=\"data row8 col1\" >nan</td>\n    </tr>\n    <tr>\n      <th id=\"T_bf48b_level0_row9\" class=\"row_heading level0 row9\" >mais</th>\n      <td id=\"T_bf48b_row9_col0\" class=\"data row9 col0\" >18.000000</td>\n      <td id=\"T_bf48b_row9_col1\" class=\"data row9 col1\" >nan</td>\n    </tr>\n    <tr>\n      <th id=\"T_bf48b_level0_row10\" class=\"row_heading level0 row10\" >brasil</th>\n      <td id=\"T_bf48b_row10_col0\" class=\"data row10 col0\" >nan</td>\n      <td id=\"T_bf48b_row10_col1\" class=\"data row10 col1\" >29.000000</td>\n    </tr>\n    <tr>\n      <th id=\"T_bf48b_level0_row11\" class=\"row_heading level0 row11\" >#armyselcaday</th>\n      <td id=\"T_bf48b_row11_col0\" class=\"data row11 col0\" >nan</td>\n      <td id=\"T_bf48b_row11_col1\" class=\"data row11 col1\" >21.000000</td>\n    </tr>\n    <tr>\n      <th id=\"T_bf48b_level0_row12\" class=\"row_heading level0 row12\" >globo</th>\n      <td id=\"T_bf48b_row12_col0\" class=\"data row12 col0\" >nan</td>\n      <td id=\"T_bf48b_row12_col1\" class=\"data row12 col1\" >21.000000</td>\n    </tr>\n    <tr>\n      <th id=\"T_bf48b_level0_row13\" class=\"row_heading level0 row13\" >fiuk</th>\n      <td id=\"T_bf48b_row13_col0\" class=\"data row13 col0\" >nan</td>\n      <td id=\"T_bf48b_row13_col1\" class=\"data row13 col1\" >20.000000</td>\n    </tr>\n    <tr>\n      <th id=\"T_bf48b_level0_row14\" class=\"row_heading level0 row14\" >messi</th>\n      <td id=\"T_bf48b_row14_col0\" class=\"data row14 col0\" >nan</td>\n      <td id=\"T_bf48b_row14_col1\" class=\"data row14 col1\" >19.000000</td>\n    </tr>\n  </tbody>\n</table>\n"
     },
     "execution_count": 254,
     "metadata": {},
     "output_type": "execute_result"
    }
   ],
   "source": [
    "qremove_word_sts_rel.sort_values(by='# de ocorrências', ascending=False)\n",
    "hc.unite_dataframes_col(qremove_word_sts_rel.sort_values(by='# de ocorrências', ascending=False).iloc[0:10],\n",
    "                        qremove_word_sts_irel.sort_values(by='# de ocorrências', ascending=False).iloc[0:10],\n",
    "                        'Palavras em tweets relevantes', 'Palavras em tweets irrelevantes')\\\n",
    "    .style.set_table_styles([hc.css1, hc.css2, hc.css3]).set_caption('Tweets relevantes e irrelevantes irrelevantes filtrados apenas pelas palavras menores que 3')"
   ],
   "metadata": {
    "collapsed": false,
    "pycharm": {
     "name": "#%%\n"
    }
   }
  },
  {
   "cell_type": "code",
   "execution_count": 255,
   "outputs": [
    {
     "data": {
      "text/plain": "<pandas.io.formats.style.Styler at 0x1d975560f70>",
      "text/html": "<style type=\"text/css\">\n#T_07533_ td:hover {\n  text-align: center;\n  font-size: 120%;\n  font-weight: bold;\n  color: black;\n  background-color: #ffffb3;\n}\n#T_07533_ .index_name {\n  font-style: italic;\n  color: black;\n  font-weight: normal;\n}\n#T_07533_ th:not(.index_name) {\n  background-color: #000066;\n  color: white;\n}\n</style>\n<table id=\"T_07533_\">\n  <caption>Tweets relevantes e irrelevantes irrelevantesfiltrados apenas pelas palavras com mais de 2 k's juntos e que os k's constituem mais de 5% da palavra</caption>\n  <thead>\n    <tr>\n      <th class=\"blank level0\" >&nbsp;</th>\n      <th class=\"col_heading level0 col0\" >Palavras em tweets relevantes</th>\n      <th class=\"col_heading level0 col1\" >Palavras em tweets irrelevantes</th>\n    </tr>\n    <tr>\n      <th class=\"blank level1\" >&nbsp;</th>\n      <th class=\"col_heading level1 col0\" ># de ocorrências</th>\n      <th class=\"col_heading level1 col1\" ># de ocorrências</th>\n    </tr>\n  </thead>\n  <tbody>\n    <tr>\n      <th id=\"T_07533_level0_row0\" class=\"row_heading level0 row0\" >a</th>\n      <td id=\"T_07533_row0_col0\" class=\"data row0 col0\" >101.000000</td>\n      <td id=\"T_07533_row0_col1\" class=\"data row0 col1\" >67.000000</td>\n    </tr>\n    <tr>\n      <th id=\"T_07533_level0_row1\" class=\"row_heading level0 row1\" >que</th>\n      <td id=\"T_07533_row1_col0\" class=\"data row1 col0\" >93.000000</td>\n      <td id=\"T_07533_row1_col1\" class=\"data row1 col1\" >74.000000</td>\n    </tr>\n    <tr>\n      <th id=\"T_07533_level0_row2\" class=\"row_heading level0 row2\" >o</th>\n      <td id=\"T_07533_row2_col0\" class=\"data row2 col0\" >89.000000</td>\n      <td id=\"T_07533_row2_col1\" class=\"data row2 col1\" >75.000000</td>\n    </tr>\n    <tr>\n      <th id=\"T_07533_level0_row3\" class=\"row_heading level0 row3\" >fantástico</th>\n      <td id=\"T_07533_row3_col0\" class=\"data row3 col0\" >81.000000</td>\n      <td id=\"T_07533_row3_col1\" class=\"data row3 col1\" >98.000000</td>\n    </tr>\n    <tr>\n      <th id=\"T_07533_level0_row4\" class=\"row_heading level0 row4\" >de</th>\n      <td id=\"T_07533_row4_col0\" class=\"data row4 col0\" >76.000000</td>\n      <td id=\"T_07533_row4_col1\" class=\"data row4 col1\" >66.000000</td>\n    </tr>\n    <tr>\n      <th id=\"T_07533_level0_row5\" class=\"row_heading level0 row5\" >do</th>\n      <td id=\"T_07533_row5_col0\" class=\"data row5 col0\" >74.000000</td>\n      <td id=\"T_07533_row5_col1\" class=\"data row5 col1\" >57.000000</td>\n    </tr>\n    <tr>\n      <th id=\"T_07533_level0_row6\" class=\"row_heading level0 row6\" >e</th>\n      <td id=\"T_07533_row6_col0\" class=\"data row6 col0\" >72.000000</td>\n      <td id=\"T_07533_row6_col1\" class=\"data row6 col1\" >60.000000</td>\n    </tr>\n    <tr>\n      <th id=\"T_07533_level0_row7\" class=\"row_heading level0 row7\" >no</th>\n      <td id=\"T_07533_row7_col0\" class=\"data row7 col0\" >60.000000</td>\n      <td id=\"T_07533_row7_col1\" class=\"data row7 col1\" >79.000000</td>\n    </tr>\n    <tr>\n      <th id=\"T_07533_level0_row8\" class=\"row_heading level0 row8\" >sobre</th>\n      <td id=\"T_07533_row8_col0\" class=\"data row8 col0\" >46.000000</td>\n      <td id=\"T_07533_row8_col1\" class=\"data row8 col1\" >nan</td>\n    </tr>\n    <tr>\n      <th id=\"T_07533_level0_row9\" class=\"row_heading level0 row9\" >é</th>\n      <td id=\"T_07533_row9_col0\" class=\"data row9 col0\" >46.000000</td>\n      <td id=\"T_07533_row9_col1\" class=\"data row9 col1\" >39.000000</td>\n    </tr>\n    <tr>\n      <th id=\"T_07533_level0_row10\" class=\"row_heading level0 row10\" >brasil</th>\n      <td id=\"T_07533_row10_col0\" class=\"data row10 col0\" >nan</td>\n      <td id=\"T_07533_row10_col1\" class=\"data row10 col1\" >29.000000</td>\n    </tr>\n  </tbody>\n</table>\n"
     },
     "execution_count": 255,
     "metadata": {},
     "output_type": "execute_result"
    }
   ],
   "source": [
    "qremove_laugh_rel.sort_values(by='# de ocorrências', ascending=False)\n",
    "hc.unite_dataframes_col(qremove_laugh_rel.sort_values(by='# de ocorrências', ascending=False).iloc[0:10],\n",
    "                        qremove_laugh_irel.sort_values(by='# de ocorrências', ascending=False).iloc[0:10],\n",
    "                        'Palavras em tweets relevantes', 'Palavras em tweets irrelevantes')\\\n",
    "    .style.set_table_styles([hc.css1, hc.css2, hc.css3]).set_caption(\"Tweets relevantes e irrelevantes irrelevantes\"\n",
    "                                                                     \"filtrados apenas pelas palavras com mais de 2 k's juntos e que os k's constituem mais de 5% da palavra\")"
   ],
   "metadata": {
    "collapsed": false,
    "pycharm": {
     "name": "#%%\n"
    }
   }
  },
  {
   "cell_type": "code",
   "execution_count": 256,
   "outputs": [
    {
     "data": {
      "text/plain": "<pandas.io.formats.style.Styler at 0x1d975af51c0>",
      "text/html": "<style type=\"text/css\">\n#T_f7d5e_ td:hover {\n  text-align: center;\n  font-size: 120%;\n  font-weight: bold;\n  color: black;\n  background-color: #ffffb3;\n}\n#T_f7d5e_ .index_name {\n  font-style: italic;\n  color: black;\n  font-weight: normal;\n}\n#T_f7d5e_ th:not(.index_name) {\n  background-color: #000066;\n  color: white;\n}\n</style>\n<table id=\"T_f7d5e_\">\n  <caption>Tweets relevantes e irrelevantes irrelevantes filtrados apenas pelas palavras com uma sequencia de números maior que 3</caption>\n  <thead>\n    <tr>\n      <th class=\"blank level0\" >&nbsp;</th>\n      <th class=\"col_heading level0 col0\" >Palavras em tweets relevantes</th>\n      <th class=\"col_heading level0 col1\" >Palavras em tweets irrelevantes</th>\n    </tr>\n    <tr>\n      <th class=\"blank level1\" >&nbsp;</th>\n      <th class=\"col_heading level1 col0\" ># de ocorrências</th>\n      <th class=\"col_heading level1 col1\" ># de ocorrências</th>\n    </tr>\n  </thead>\n  <tbody>\n    <tr>\n      <th id=\"T_f7d5e_level0_row0\" class=\"row_heading level0 row0\" >a</th>\n      <td id=\"T_f7d5e_row0_col0\" class=\"data row0 col0\" >101.000000</td>\n      <td id=\"T_f7d5e_row0_col1\" class=\"data row0 col1\" >67.000000</td>\n    </tr>\n    <tr>\n      <th id=\"T_f7d5e_level0_row1\" class=\"row_heading level0 row1\" >que</th>\n      <td id=\"T_f7d5e_row1_col0\" class=\"data row1 col0\" >93.000000</td>\n      <td id=\"T_f7d5e_row1_col1\" class=\"data row1 col1\" >74.000000</td>\n    </tr>\n    <tr>\n      <th id=\"T_f7d5e_level0_row2\" class=\"row_heading level0 row2\" >o</th>\n      <td id=\"T_f7d5e_row2_col0\" class=\"data row2 col0\" >89.000000</td>\n      <td id=\"T_f7d5e_row2_col1\" class=\"data row2 col1\" >75.000000</td>\n    </tr>\n    <tr>\n      <th id=\"T_f7d5e_level0_row3\" class=\"row_heading level0 row3\" >fantástico</th>\n      <td id=\"T_f7d5e_row3_col0\" class=\"data row3 col0\" >81.000000</td>\n      <td id=\"T_f7d5e_row3_col1\" class=\"data row3 col1\" >98.000000</td>\n    </tr>\n    <tr>\n      <th id=\"T_f7d5e_level0_row4\" class=\"row_heading level0 row4\" >de</th>\n      <td id=\"T_f7d5e_row4_col0\" class=\"data row4 col0\" >76.000000</td>\n      <td id=\"T_f7d5e_row4_col1\" class=\"data row4 col1\" >66.000000</td>\n    </tr>\n    <tr>\n      <th id=\"T_f7d5e_level0_row5\" class=\"row_heading level0 row5\" >do</th>\n      <td id=\"T_f7d5e_row5_col0\" class=\"data row5 col0\" >74.000000</td>\n      <td id=\"T_f7d5e_row5_col1\" class=\"data row5 col1\" >57.000000</td>\n    </tr>\n    <tr>\n      <th id=\"T_f7d5e_level0_row6\" class=\"row_heading level0 row6\" >e</th>\n      <td id=\"T_f7d5e_row6_col0\" class=\"data row6 col0\" >72.000000</td>\n      <td id=\"T_f7d5e_row6_col1\" class=\"data row6 col1\" >60.000000</td>\n    </tr>\n    <tr>\n      <th id=\"T_f7d5e_level0_row7\" class=\"row_heading level0 row7\" >no</th>\n      <td id=\"T_f7d5e_row7_col0\" class=\"data row7 col0\" >60.000000</td>\n      <td id=\"T_f7d5e_row7_col1\" class=\"data row7 col1\" >79.000000</td>\n    </tr>\n    <tr>\n      <th id=\"T_f7d5e_level0_row8\" class=\"row_heading level0 row8\" >é</th>\n      <td id=\"T_f7d5e_row8_col0\" class=\"data row8 col0\" >46.000000</td>\n      <td id=\"T_f7d5e_row8_col1\" class=\"data row8 col1\" >39.000000</td>\n    </tr>\n    <tr>\n      <th id=\"T_f7d5e_level0_row9\" class=\"row_heading level0 row9\" >sobre</th>\n      <td id=\"T_f7d5e_row9_col0\" class=\"data row9 col0\" >46.000000</td>\n      <td id=\"T_f7d5e_row9_col1\" class=\"data row9 col1\" >nan</td>\n    </tr>\n    <tr>\n      <th id=\"T_f7d5e_level0_row10\" class=\"row_heading level0 row10\" >brasil</th>\n      <td id=\"T_f7d5e_row10_col0\" class=\"data row10 col0\" >nan</td>\n      <td id=\"T_f7d5e_row10_col1\" class=\"data row10 col1\" >29.000000</td>\n    </tr>\n  </tbody>\n</table>\n"
     },
     "execution_count": 256,
     "metadata": {},
     "output_type": "execute_result"
    }
   ],
   "source": [
    "qremove_num_str_rel.sort_values(by='# de ocorrências', ascending=False)\n",
    "hc.unite_dataframes_col(qremove_num_str_rel.sort_values(by='# de ocorrências', ascending=False).iloc[0:10],\n",
    "                        qremove_num_str_irel.sort_values(by='# de ocorrências', ascending=False).iloc[0:10],\n",
    "                        'Palavras em tweets relevantes', 'Palavras em tweets irrelevantes')\\\n",
    "    .style.set_table_styles([hc.css1, hc.css2, hc.css3]).set_caption(\"Tweets relevantes e irrelevantes irrelevantes filtrados apenas pelas palavras com uma sequencia de números maior que 3\")"
   ],
   "metadata": {
    "collapsed": false,
    "pycharm": {
     "name": "#%%\n"
    }
   }
  },
  {
   "cell_type": "code",
   "execution_count": 257,
   "outputs": [
    {
     "data": {
      "text/plain": "<pandas.io.formats.style.Styler at 0x1d975a59cd0>",
      "text/html": "<style type=\"text/css\">\n#T_cbb9d_ td:hover {\n  text-align: center;\n  font-size: 120%;\n  font-weight: bold;\n  color: black;\n  background-color: #ffffb3;\n}\n#T_cbb9d_ .index_name {\n  font-style: italic;\n  color: black;\n  font-weight: normal;\n}\n#T_cbb9d_ th:not(.index_name) {\n  background-color: #000066;\n  color: white;\n}\n</style>\n<table id=\"T_cbb9d_\">\n  <caption>Tweets relevantes e irrelevantes irrelevantes com filtros variados</caption>\n  <thead>\n    <tr>\n      <th class=\"blank level0\" >&nbsp;</th>\n      <th class=\"col_heading level0 col0\" >Palavras em tweets relevantes</th>\n      <th class=\"col_heading level0 col1\" >Palavras em tweets irrelevantes</th>\n      <th class=\"col_heading level0 col2\" >todos os tweets</th>\n    </tr>\n    <tr>\n      <th class=\"blank level1\" >&nbsp;</th>\n      <th class=\"col_heading level1 col0\" ># de ocorrências</th>\n      <th class=\"col_heading level1 col1\" ># de ocorrências</th>\n      <th class=\"col_heading level1 col2\" ># de ocorrências</th>\n    </tr>\n  </thead>\n  <tbody>\n    <tr>\n      <th id=\"T_cbb9d_level0_row0\" class=\"row_heading level0 row0\" >que</th>\n      <td id=\"T_cbb9d_row0_col0\" class=\"data row0 col0\" >93.000000</td>\n      <td id=\"T_cbb9d_row0_col1\" class=\"data row0 col1\" >74.000000</td>\n      <td id=\"T_cbb9d_row0_col2\" class=\"data row0 col2\" >167.000000</td>\n    </tr>\n    <tr>\n      <th id=\"T_cbb9d_level0_row1\" class=\"row_heading level0 row1\" >fantástico</th>\n      <td id=\"T_cbb9d_row1_col0\" class=\"data row1 col0\" >81.000000</td>\n      <td id=\"T_cbb9d_row1_col1\" class=\"data row1 col1\" >98.000000</td>\n      <td id=\"T_cbb9d_row1_col2\" class=\"data row1 col2\" >179.000000</td>\n    </tr>\n    <tr>\n      <th id=\"T_cbb9d_level0_row2\" class=\"row_heading level0 row2\" >sobre</th>\n      <td id=\"T_cbb9d_row2_col0\" class=\"data row2 col0\" >46.000000</td>\n      <td id=\"T_cbb9d_row2_col1\" class=\"data row2 col1\" >0.000000</td>\n      <td id=\"T_cbb9d_row2_col2\" class=\"data row2 col2\" >46.000000</td>\n    </tr>\n    <tr>\n      <th id=\"T_cbb9d_level0_row3\" class=\"row_heading level0 row3\" >matéria</th>\n      <td id=\"T_cbb9d_row3_col0\" class=\"data row3 col0\" >42.000000</td>\n      <td id=\"T_cbb9d_row3_col1\" class=\"data row3 col1\" >20.000000</td>\n      <td id=\"T_cbb9d_row3_col2\" class=\"data row3 col2\" >62.000000</td>\n    </tr>\n    <tr>\n      <th id=\"T_cbb9d_level0_row4\" class=\"row_heading level0 row4\" >não</th>\n      <td id=\"T_cbb9d_row4_col0\" class=\"data row4 col0\" >30.000000</td>\n      <td id=\"T_cbb9d_row4_col1\" class=\"data row4 col1\" >25.000000</td>\n      <td id=\"T_cbb9d_row4_col2\" class=\"data row4 col2\" >55.000000</td>\n    </tr>\n    <tr>\n      <th id=\"T_cbb9d_level0_row5\" class=\"row_heading level0 row5\" >\u0000fantastico</th>\n      <td id=\"T_cbb9d_row5_col0\" class=\"data row5 col0\" >28.000000</td>\n      <td id=\"T_cbb9d_row5_col1\" class=\"data row5 col1\" >0.000000</td>\n      <td id=\"T_cbb9d_row5_col2\" class=\"data row5 col2\" >28.000000</td>\n    </tr>\n    <tr>\n      <th id=\"T_cbb9d_level0_row6\" class=\"row_heading level0 row6\" >com</th>\n      <td id=\"T_cbb9d_row6_col0\" class=\"data row6 col0\" >23.000000</td>\n      <td id=\"T_cbb9d_row6_col1\" class=\"data row6 col1\" >28.000000</td>\n      <td id=\"T_cbb9d_row6_col2\" class=\"data row6 col2\" >51.000000</td>\n    </tr>\n    <tr>\n      <th id=\"T_cbb9d_level0_row7\" class=\"row_heading level0 row7\" >uma</th>\n      <td id=\"T_cbb9d_row7_col0\" class=\"data row7 col0\" >22.000000</td>\n      <td id=\"T_cbb9d_row7_col1\" class=\"data row7 col1\" >19.000000</td>\n      <td id=\"T_cbb9d_row7_col2\" class=\"data row7 col2\" >41.000000</td>\n    </tr>\n    <tr>\n      <th id=\"T_cbb9d_level0_row8\" class=\"row_heading level0 row8\" >haters</th>\n      <td id=\"T_cbb9d_row8_col0\" class=\"data row8 col0\" >20.000000</td>\n      <td id=\"T_cbb9d_row8_col1\" class=\"data row8 col1\" >0.000000</td>\n      <td id=\"T_cbb9d_row8_col2\" class=\"data row8 col2\" >20.000000</td>\n    </tr>\n    <tr>\n      <th id=\"T_cbb9d_level0_row9\" class=\"row_heading level0 row9\" >mais</th>\n      <td id=\"T_cbb9d_row9_col0\" class=\"data row9 col0\" >18.000000</td>\n      <td id=\"T_cbb9d_row9_col1\" class=\"data row9 col1\" >0.000000</td>\n      <td id=\"T_cbb9d_row9_col2\" class=\"data row9 col2\" >18.000000</td>\n    </tr>\n    <tr>\n      <th id=\"T_cbb9d_level0_row10\" class=\"row_heading level0 row10\" >brasil</th>\n      <td id=\"T_cbb9d_row10_col0\" class=\"data row10 col0\" >0.000000</td>\n      <td id=\"T_cbb9d_row10_col1\" class=\"data row10 col1\" >29.000000</td>\n      <td id=\"T_cbb9d_row10_col2\" class=\"data row10 col2\" >29.000000</td>\n    </tr>\n    <tr>\n      <th id=\"T_cbb9d_level0_row11\" class=\"row_heading level0 row11\" >\u0000armyselcaday</th>\n      <td id=\"T_cbb9d_row11_col0\" class=\"data row11 col0\" >0.000000</td>\n      <td id=\"T_cbb9d_row11_col1\" class=\"data row11 col1\" >21.000000</td>\n      <td id=\"T_cbb9d_row11_col2\" class=\"data row11 col2\" >21.000000</td>\n    </tr>\n    <tr>\n      <th id=\"T_cbb9d_level0_row12\" class=\"row_heading level0 row12\" >globo</th>\n      <td id=\"T_cbb9d_row12_col0\" class=\"data row12 col0\" >0.000000</td>\n      <td id=\"T_cbb9d_row12_col1\" class=\"data row12 col1\" >21.000000</td>\n      <td id=\"T_cbb9d_row12_col2\" class=\"data row12 col2\" >21.000000</td>\n    </tr>\n    <tr>\n      <th id=\"T_cbb9d_level0_row13\" class=\"row_heading level0 row13\" >fiuk</th>\n      <td id=\"T_cbb9d_row13_col0\" class=\"data row13 col0\" >0.000000</td>\n      <td id=\"T_cbb9d_row13_col1\" class=\"data row13 col1\" >20.000000</td>\n      <td id=\"T_cbb9d_row13_col2\" class=\"data row13 col2\" >20.000000</td>\n    </tr>\n  </tbody>\n</table>\n"
     },
     "execution_count": 257,
     "metadata": {},
     "output_type": "execute_result"
    }
   ],
   "source": [
    "qremove_options_rel.sort_values(by='# de ocorrências', ascending=False)\n",
    "qremove_options_unidos = hc.unite_dataframes_col(qremove_options_rel.sort_values(by='# de ocorrências', ascending=False).iloc[0:10],\n",
    "                        qremove_options_irel.sort_values(by='# de ocorrências', ascending=False).iloc[0:10],\n",
    "                        'Palavras em tweets relevantes', 'Palavras em tweets irrelevantes', replace_NAN=0)\n",
    "qremove_options_unidos[('todos os tweets', '# de ocorrências')] = qremove_options_unidos[('Palavras em tweets relevantes', '# de ocorrências')] + qremove_options_unidos[('Palavras em tweets irrelevantes', '# de ocorrências')]\n",
    "\n",
    "qremove_options_unidos.style.set_table_styles([hc.css1, hc.css2, hc.css3]).set_caption(\"Tweets relevantes e irrelevantes irrelevantes com filtros variados\")"
   ],
   "metadata": {
    "collapsed": false,
    "pycharm": {
     "name": "#%%\n"
    }
   }
  },
  {
   "cell_type": "markdown",
   "source": [
    "# Naive-Bayes"
   ],
   "metadata": {
    "collapsed": false
   }
  },
  {
   "cell_type": "markdown",
   "source": [
    "### Palavras dado que:"
   ],
   "metadata": {
    "collapsed": false
   }
  },
  {
   "cell_type": "markdown",
   "source": [
    "#### relevante P(palavra/relevante)"
   ],
   "metadata": {
    "collapsed": false
   }
  },
  {
   "cell_type": "code",
   "execution_count": 258,
   "outputs": [
    {
     "name": "stdout",
     "output_type": "stream",
     "text": [
      "2335 Total_palavras_rel\n",
      "1172 Total_palavras_unicas_rel\n"
     ]
    },
    {
     "data": {
      "text/plain": "\u000011desetembro    0.000855\n\u0000ajudei          0.000570\n\u0000ards            0.000570\n\u0000armyselcaday    0.000855\n\u0000arsd            0.000570\n                   ...   \n🤢                0.001426\n🤣                0.001996\n🤦                0.000570\n🤦🏼‍♀️            0.000570\n🧐                0.000855\nName: prob palavras, Length: 1172, dtype: float64"
     },
     "execution_count": 258,
     "metadata": {},
     "output_type": "execute_result"
    }
   ],
   "source": [
    "Total_palavras_rel = qremove_options_rel['# de ocorrências'].sum()\n",
    "print(Total_palavras_rel, 'Total_palavras_rel')\n",
    "Total_palavras_unicas_rel = qremove_options_rel.reset_index()['index'].value_counts().sum()\n",
    "print(Total_palavras_unicas_rel, 'Total_palavras_unicas_rel')\n",
    "\n",
    "qremove_options_rel['prob palavras'] = (qremove_options_rel['# de ocorrências'] + 1)/(Total_palavras_rel + Total_palavras_unicas_rel)\n",
    "\n",
    "qremove_options_rel['prob palavras']"
   ],
   "metadata": {
    "collapsed": false,
    "pycharm": {
     "name": "#%%\n"
    }
   }
  },
  {
   "cell_type": "markdown",
   "source": [
    "##### irrelevante P(palavra/irrelevante)"
   ],
   "metadata": {
    "collapsed": false,
    "pycharm": {
     "name": "#%% md\n"
    }
   }
  },
  {
   "cell_type": "code",
   "execution_count": 259,
   "outputs": [
    {
     "name": "stdout",
     "output_type": "stream",
     "text": [
      "1001 Total_palavras_unicas_irel\n",
      "2367 Total_palavras_irel\n"
     ]
    },
    {
     "data": {
      "text/plain": "\u0000\u0000\u0000\u0000\u0000\u0000\u0000\u0000\u0000\u0000\u0000\u0000\u0000\u0000\u0000\u0000\u0000\u0000     0.000594\n\u000060                    0.000594\n\u00008diasprosuperspace    0.000891\n\u0000aliexpress            0.000594\n\u0000aliexpressbrasil      0.000594\n                         ...   \n🤔                      0.000891\n🤡                      0.002672\n🤷                      0.000594\n🤷🏻‍♀️                  0.000594\n🥺                      0.000891\nName: prob palavras, Length: 1001, dtype: float64"
     },
     "execution_count": 259,
     "metadata": {},
     "output_type": "execute_result"
    }
   ],
   "source": [
    "Total_palavras_unicas_irel = qremove_options_irel.reset_index()['index'].value_counts().sum()\n",
    "print(Total_palavras_unicas_irel, 'Total_palavras_unicas_irel')\n",
    "\n",
    "Total_palavras_irel = qremove_options_irel['# de ocorrências'].sum()\n",
    "print(Total_palavras_irel, 'Total_palavras_irel')\n",
    "\n",
    "qremove_options_irel['prob palavras'] = (qremove_options_irel['# de ocorrências'] + 1)/(Total_palavras_irel + Total_palavras_unicas_irel)\n",
    "\n",
    "qremove_options_irel['prob palavras']"
   ],
   "metadata": {
    "collapsed": false,
    "pycharm": {
     "name": "#%%\n"
    }
   }
  },
  {
   "cell_type": "code",
   "execution_count": 282,
   "outputs": [
    {
     "data": {
      "text/plain": "<pandas.io.formats.style.Styler at 0x1d975c4ec40>",
      "text/html": "<style type=\"text/css\">\n#T_bee29_ td:hover {\n  text-align: center;\n  font-size: 120%;\n  font-weight: bold;\n  color: black;\n  background-color: #ffffb3;\n}\n#T_bee29_ .index_name {\n  font-style: italic;\n  color: black;\n  font-weight: normal;\n}\n#T_bee29_ th:not(.index_name) {\n  background-color: #000066;\n  color: white;\n}\n</style>\n<table id=\"T_bee29_\">\n  <caption>Tweets relevantes e irrelevantes irrelevantes com as probabilidades das palavras</caption>\n  <thead>\n    <tr>\n      <th class=\"blank level0\" >&nbsp;</th>\n      <th class=\"col_heading level0 col0\" colspan=\"2\">Palavras em tweets relevantes</th>\n      <th class=\"col_heading level0 col2\" colspan=\"2\">Palavras em tweets irrelevantes</th>\n      <th class=\"col_heading level0 col4\" colspan=\"2\">todos os tweets</th>\n    </tr>\n    <tr>\n      <th class=\"blank level1\" >&nbsp;</th>\n      <th class=\"col_heading level1 col0\" ># de ocorrências</th>\n      <th class=\"col_heading level1 col1\" >prob palavras</th>\n      <th class=\"col_heading level1 col2\" ># de ocorrências</th>\n      <th class=\"col_heading level1 col3\" >prob palavras</th>\n      <th class=\"col_heading level1 col4\" ># de ocorrências</th>\n      <th class=\"col_heading level1 col5\" >prob palavras</th>\n    </tr>\n  </thead>\n  <tbody>\n    <tr>\n      <th id=\"T_bee29_level0_row0\" class=\"row_heading level0 row0\" >fantástico</th>\n      <td id=\"T_bee29_row0_col0\" class=\"data row0 col0\" >81.000000</td>\n      <td id=\"T_bee29_row0_col1\" class=\"data row0 col1\" >0.023382</td>\n      <td id=\"T_bee29_row0_col2\" class=\"data row0 col2\" >98.000000</td>\n      <td id=\"T_bee29_row0_col3\" class=\"data row0 col3\" >0.029394</td>\n      <td id=\"T_bee29_row0_col4\" class=\"data row0 col4\" >179.000000</td>\n      <td id=\"T_bee29_row0_col5\" class=\"data row0 col5\" >0.052776</td>\n    </tr>\n    <tr>\n      <th id=\"T_bee29_level0_row1\" class=\"row_heading level0 row1\" >que</th>\n      <td id=\"T_bee29_row1_col0\" class=\"data row1 col0\" >93.000000</td>\n      <td id=\"T_bee29_row1_col1\" class=\"data row1 col1\" >0.026804</td>\n      <td id=\"T_bee29_row1_col2\" class=\"data row1 col2\" >74.000000</td>\n      <td id=\"T_bee29_row1_col3\" class=\"data row1 col3\" >0.022268</td>\n      <td id=\"T_bee29_row1_col4\" class=\"data row1 col4\" >167.000000</td>\n      <td id=\"T_bee29_row1_col5\" class=\"data row1 col5\" >0.049072</td>\n    </tr>\n    <tr>\n      <th id=\"T_bee29_level0_row2\" class=\"row_heading level0 row2\" >matéria</th>\n      <td id=\"T_bee29_row2_col0\" class=\"data row2 col0\" >42.000000</td>\n      <td id=\"T_bee29_row2_col1\" class=\"data row2 col1\" >0.012261</td>\n      <td id=\"T_bee29_row2_col2\" class=\"data row2 col2\" >20.000000</td>\n      <td id=\"T_bee29_row2_col3\" class=\"data row2 col3\" >0.006235</td>\n      <td id=\"T_bee29_row2_col4\" class=\"data row2 col4\" >62.000000</td>\n      <td id=\"T_bee29_row2_col5\" class=\"data row2 col5\" >0.018496</td>\n    </tr>\n    <tr>\n      <th id=\"T_bee29_level0_row3\" class=\"row_heading level0 row3\" >não</th>\n      <td id=\"T_bee29_row3_col0\" class=\"data row3 col0\" >30.000000</td>\n      <td id=\"T_bee29_row3_col1\" class=\"data row3 col1\" >0.008839</td>\n      <td id=\"T_bee29_row3_col2\" class=\"data row3 col2\" >25.000000</td>\n      <td id=\"T_bee29_row3_col3\" class=\"data row3 col3\" >0.007720</td>\n      <td id=\"T_bee29_row3_col4\" class=\"data row3 col4\" >55.000000</td>\n      <td id=\"T_bee29_row3_col5\" class=\"data row3 col5\" >0.016559</td>\n    </tr>\n    <tr>\n      <th id=\"T_bee29_level0_row4\" class=\"row_heading level0 row4\" >com</th>\n      <td id=\"T_bee29_row4_col0\" class=\"data row4 col0\" >23.000000</td>\n      <td id=\"T_bee29_row4_col1\" class=\"data row4 col1\" >0.006843</td>\n      <td id=\"T_bee29_row4_col2\" class=\"data row4 col2\" >28.000000</td>\n      <td id=\"T_bee29_row4_col3\" class=\"data row4 col3\" >0.008610</td>\n      <td id=\"T_bee29_row4_col4\" class=\"data row4 col4\" >51.000000</td>\n      <td id=\"T_bee29_row4_col5\" class=\"data row4 col5\" >0.015454</td>\n    </tr>\n    <tr>\n      <th id=\"T_bee29_level0_row5\" class=\"row_heading level0 row5\" >sobre</th>\n      <td id=\"T_bee29_row5_col0\" class=\"data row5 col0\" >46.000000</td>\n      <td id=\"T_bee29_row5_col1\" class=\"data row5 col1\" >0.013402</td>\n      <td id=\"T_bee29_row5_col2\" class=\"data row5 col2\" >0.000000</td>\n      <td id=\"T_bee29_row5_col3\" class=\"data row5 col3\" >0.000000</td>\n      <td id=\"T_bee29_row5_col4\" class=\"data row5 col4\" >46.000000</td>\n      <td id=\"T_bee29_row5_col5\" class=\"data row5 col5\" >0.013402</td>\n    </tr>\n    <tr>\n      <th id=\"T_bee29_level0_row6\" class=\"row_heading level0 row6\" >uma</th>\n      <td id=\"T_bee29_row6_col0\" class=\"data row6 col0\" >22.000000</td>\n      <td id=\"T_bee29_row6_col1\" class=\"data row6 col1\" >0.006558</td>\n      <td id=\"T_bee29_row6_col2\" class=\"data row6 col2\" >19.000000</td>\n      <td id=\"T_bee29_row6_col3\" class=\"data row6 col3\" >0.005938</td>\n      <td id=\"T_bee29_row6_col4\" class=\"data row6 col4\" >41.000000</td>\n      <td id=\"T_bee29_row6_col5\" class=\"data row6 col5\" >0.012497</td>\n    </tr>\n    <tr>\n      <th id=\"T_bee29_level0_row7\" class=\"row_heading level0 row7\" >brasil</th>\n      <td id=\"T_bee29_row7_col0\" class=\"data row7 col0\" >0.000000</td>\n      <td id=\"T_bee29_row7_col1\" class=\"data row7 col1\" >0.000000</td>\n      <td id=\"T_bee29_row7_col2\" class=\"data row7 col2\" >29.000000</td>\n      <td id=\"T_bee29_row7_col3\" class=\"data row7 col3\" >0.008907</td>\n      <td id=\"T_bee29_row7_col4\" class=\"data row7 col4\" >29.000000</td>\n      <td id=\"T_bee29_row7_col5\" class=\"data row7 col5\" >0.008907</td>\n    </tr>\n    <tr>\n      <th id=\"T_bee29_level0_row8\" class=\"row_heading level0 row8\" >\u0000fantastico</th>\n      <td id=\"T_bee29_row8_col0\" class=\"data row8 col0\" >28.000000</td>\n      <td id=\"T_bee29_row8_col1\" class=\"data row8 col1\" >0.008269</td>\n      <td id=\"T_bee29_row8_col2\" class=\"data row8 col2\" >0.000000</td>\n      <td id=\"T_bee29_row8_col3\" class=\"data row8 col3\" >0.000000</td>\n      <td id=\"T_bee29_row8_col4\" class=\"data row8 col4\" >28.000000</td>\n      <td id=\"T_bee29_row8_col5\" class=\"data row8 col5\" >0.008269</td>\n    </tr>\n    <tr>\n      <th id=\"T_bee29_level0_row9\" class=\"row_heading level0 row9\" >\u0000armyselcaday</th>\n      <td id=\"T_bee29_row9_col0\" class=\"data row9 col0\" >0.000000</td>\n      <td id=\"T_bee29_row9_col1\" class=\"data row9 col1\" >0.000000</td>\n      <td id=\"T_bee29_row9_col2\" class=\"data row9 col2\" >21.000000</td>\n      <td id=\"T_bee29_row9_col3\" class=\"data row9 col3\" >0.006532</td>\n      <td id=\"T_bee29_row9_col4\" class=\"data row9 col4\" >21.000000</td>\n      <td id=\"T_bee29_row9_col5\" class=\"data row9 col5\" >0.006532</td>\n    </tr>\n    <tr>\n      <th id=\"T_bee29_level0_row10\" class=\"row_heading level0 row10\" >globo</th>\n      <td id=\"T_bee29_row10_col0\" class=\"data row10 col0\" >0.000000</td>\n      <td id=\"T_bee29_row10_col1\" class=\"data row10 col1\" >0.000000</td>\n      <td id=\"T_bee29_row10_col2\" class=\"data row10 col2\" >21.000000</td>\n      <td id=\"T_bee29_row10_col3\" class=\"data row10 col3\" >0.006532</td>\n      <td id=\"T_bee29_row10_col4\" class=\"data row10 col4\" >21.000000</td>\n      <td id=\"T_bee29_row10_col5\" class=\"data row10 col5\" >0.006532</td>\n    </tr>\n    <tr>\n      <th id=\"T_bee29_level0_row11\" class=\"row_heading level0 row11\" >haters</th>\n      <td id=\"T_bee29_row11_col0\" class=\"data row11 col0\" >20.000000</td>\n      <td id=\"T_bee29_row11_col1\" class=\"data row11 col1\" >0.005988</td>\n      <td id=\"T_bee29_row11_col2\" class=\"data row11 col2\" >0.000000</td>\n      <td id=\"T_bee29_row11_col3\" class=\"data row11 col3\" >0.000000</td>\n      <td id=\"T_bee29_row11_col4\" class=\"data row11 col4\" >20.000000</td>\n      <td id=\"T_bee29_row11_col5\" class=\"data row11 col5\" >0.005988</td>\n    </tr>\n    <tr>\n      <th id=\"T_bee29_level0_row12\" class=\"row_heading level0 row12\" >fiuk</th>\n      <td id=\"T_bee29_row12_col0\" class=\"data row12 col0\" >0.000000</td>\n      <td id=\"T_bee29_row12_col1\" class=\"data row12 col1\" >0.000000</td>\n      <td id=\"T_bee29_row12_col2\" class=\"data row12 col2\" >20.000000</td>\n      <td id=\"T_bee29_row12_col3\" class=\"data row12 col3\" >0.006235</td>\n      <td id=\"T_bee29_row12_col4\" class=\"data row12 col4\" >20.000000</td>\n      <td id=\"T_bee29_row12_col5\" class=\"data row12 col5\" >0.006235</td>\n    </tr>\n    <tr>\n      <th id=\"T_bee29_level0_row13\" class=\"row_heading level0 row13\" >mais</th>\n      <td id=\"T_bee29_row13_col0\" class=\"data row13 col0\" >18.000000</td>\n      <td id=\"T_bee29_row13_col1\" class=\"data row13 col1\" >0.005418</td>\n      <td id=\"T_bee29_row13_col2\" class=\"data row13 col2\" >0.000000</td>\n      <td id=\"T_bee29_row13_col3\" class=\"data row13 col3\" >0.000000</td>\n      <td id=\"T_bee29_row13_col4\" class=\"data row13 col4\" >18.000000</td>\n      <td id=\"T_bee29_row13_col5\" class=\"data row13 col5\" >0.005418</td>\n    </tr>\n  </tbody>\n</table>\n"
     },
     "execution_count": 282,
     "metadata": {},
     "output_type": "execute_result"
    }
   ],
   "source": [
    "qremove_options_unidos_comprob = hc.unite_dataframes_col(qremove_options_rel.sort_values(by='# de ocorrências', ascending=False).iloc[0:10],\n",
    "                        qremove_options_irel.sort_values(by='# de ocorrências', ascending=False).iloc[0:10],\n",
    "                        'Palavras em tweets relevantes', 'Palavras em tweets irrelevantes', replace_NAN=0)\n",
    "qremove_options_unidos_comprob[('todos os tweets', '# de ocorrências')] = qremove_options_unidos_comprob\\\n",
    "[('Palavras em tweets relevantes', '# de ocorrências')] + qremove_options_unidos_comprob\\\n",
    "[('Palavras em tweets irrelevantes', '# de ocorrências')]\n",
    "qremove_options_unidos_comprob[('todos os tweets', 'prob palavras')] = qremove_options_unidos_comprob\\\n",
    "[('Palavras em tweets relevantes', 'prob palavras')] + qremove_options_unidos_comprob\\\n",
    "[('Palavras em tweets irrelevantes', 'prob palavras')]\n",
    "qremove_options_unidos_comprob.sort_values(by=('todos os tweets', '# de ocorrências'), ascending=False).style.set_table_styles([hc.css1, hc.css2, hc.css3]).set_caption\\\n",
    "    (\"Tweets relevantes e irrelevantes irrelevantes com as probabilidades das palavras\")"
   ],
   "metadata": {
    "collapsed": false,
    "pycharm": {
     "name": "#%%\n"
    }
   }
  },
  {
   "cell_type": "markdown",
   "source": [
    "#### Todas as palavras P(relevante) e P(irrelevante)"
   ],
   "metadata": {
    "collapsed": false
   }
  },
  {
   "cell_type": "code",
   "execution_count": 261,
   "outputs": [
    {
     "name": "stdout",
     "output_type": "stream",
     "text": [
      "4702 Total_palavras\n",
      "2173 Total_palavras_unicas\n",
      "0.510109090909091 prob_rel\n",
      "0.4898909090909091 prob_irel\n"
     ]
    }
   ],
   "source": [
    "Total_palavras = Total_palavras_irel + Total_palavras_rel\n",
    "print(Total_palavras_irel+Total_palavras_rel, 'Total_palavras')\n",
    "\n",
    "Total_palavras_unicas = Total_palavras_unicas_irel + Total_palavras_unicas_rel\n",
    "print(Total_palavras_unicas, 'Total_palavras_unicas')\n",
    "\n",
    "prob_rel_qremove_options = (Total_palavras_rel + Total_palavras_unicas_rel)/( Total_palavras + Total_palavras_unicas)# * 0)#Total_palavras_unicas)\n",
    "print(prob_rel_qremove_options, 'prob_rel')\n",
    "\n",
    "prob_irel_qremove_options = (Total_palavras_irel + Total_palavras_unicas_irel)/( Total_palavras + Total_palavras_unicas)# * 0)#Total_palavras_unicas)\n",
    "print(prob_irel_qremove_options, 'prob_irel')"
   ],
   "metadata": {
    "collapsed": false,
    "pycharm": {
     "name": "#%%\n"
    }
   }
  },
  {
   "cell_type": "code",
   "execution_count": 262,
   "outputs": [
    {
     "data": {
      "text/plain": "0.9999999999999999"
     },
     "execution_count": 262,
     "metadata": {},
     "output_type": "execute_result"
    }
   ],
   "source": [
    "qremove_options_rel['prob palavras'].sort_values(ascending=False).sum()"
   ],
   "metadata": {
    "collapsed": false,
    "pycharm": {
     "name": "#%%\n"
    }
   }
  },
  {
   "cell_type": "code",
   "execution_count": 263,
   "outputs": [
    {
     "data": {
      "text/plain": "1.0"
     },
     "execution_count": 263,
     "metadata": {},
     "output_type": "execute_result"
    }
   ],
   "source": [
    "qremove_options_irel['prob palavras'].sort_values(ascending=False).sum()"
   ],
   "metadata": {
    "collapsed": false,
    "pycharm": {
     "name": "#%%\n"
    }
   }
  },
  {
   "cell_type": "code",
   "execution_count": 264,
   "outputs": [
    {
     "data": {
      "text/plain": "'\\nEM DESENVOLVIMENTO - EM DESENVOLVIMENTO - EM DESENVOLVIMENTO - EM DESENVOLVIMENTO - EM DESENVOLVIMENTO\\nEM DESENVOLVIMENTO - EM DESENVOLVIMENTO - EM DESENVOLVIMENTO - EM DESENVOLVIMENTO - EM DESENVOLVIMENTO\\nEM DESENVOLVIMENTO - EM DESENVOLVIMENTO - EM DESENVOLVIMENTO - EM DESENVOLVIMENTO - EM DESENVOLVIMENTO\\nEM DESENVOLVIMENTO - EM DESENVOLVIMENTO - EM DESENVOLVIMENTO - EM DESENVOLVIMENTO - EM DESENVOLVIMENTO\\n'"
     },
     "execution_count": 264,
     "metadata": {},
     "output_type": "execute_result"
    }
   ],
   "source": [
    "frase = 'muito bom o programa'\n",
    "\n",
    "'''\n",
    "frase = muito bom o programa\n",
    "P(relevante/frase) = (P(muito/relevante) * P(bom/relevante) ... * P(relevante))\n",
    "'''\n",
    "\n",
    "'''\n",
    "EM DESENVOLVIMENTO - EM DESENVOLVIMENTO - EM DESENVOLVIMENTO - EM DESENVOLVIMENTO - EM DESENVOLVIMENTO\n",
    "EM DESENVOLVIMENTO - EM DESENVOLVIMENTO - EM DESENVOLVIMENTO - EM DESENVOLVIMENTO - EM DESENVOLVIMENTO\n",
    "EM DESENVOLVIMENTO - EM DESENVOLVIMENTO - EM DESENVOLVIMENTO - EM DESENVOLVIMENTO - EM DESENVOLVIMENTO\n",
    "EM DESENVOLVIMENTO - EM DESENVOLVIMENTO - EM DESENVOLVIMENTO - EM DESENVOLVIMENTO - EM DESENVOLVIMENTO\n",
    "'''\n"
   ],
   "metadata": {
    "collapsed": false,
    "pycharm": {
     "name": "#%%\n"
    }
   }
  },
  {
   "cell_type": "code",
   "execution_count": 265,
   "outputs": [
    {
     "name": "stdout",
     "output_type": "stream",
     "text": [
      "NUMERO DE VEZES QUER APARECE A PALAVRA DEFINIDA NO INPUT DO COMEÇO POR DATAFRAME CRIADO\n",
      "\n",
      "89 qremove_link_rel\n",
      "108 qremove_link_irel\n",
      "89 qremove_at_rel\n",
      "108 qremove_at_irel\n",
      "89 qremove_ponc_rel\n",
      "108 qremove_ponc_irel\n",
      "89 qremove_word_sts_rel\n",
      "108 qremove_word_sts_irel\n",
      "89 qremove_laugh_rel\n",
      "108 qremove_laugh_irel\n",
      "89 qremove_num_str_rel\n",
      "108 qremove_num_str_irel\n",
      "89 qremove_options_rel\n",
      "108 qremove_options_irel\n"
     ]
    }
   ],
   "source": [
    "print(f\"\"\"NUMERO DE VEZES QUER APARECE A PALAVRA DEFINIDA NO INPUT DO COMEÇO POR DATAFRAME CRIADO\n",
    "\n",
    "{sum(qremove_link_rel['# de ocorrências'][[j for j in RemoveWords.list_desired_words]])} qremove_link_rel\n",
    "{sum(qremove_link_irel['# de ocorrências'][[j for j in RemoveWords.list_desired_words]])} qremove_link_irel\n",
    "{sum(qremove_at_rel['# de ocorrências'][[j for j in RemoveWords.list_desired_words]])} qremove_at_rel\n",
    "{sum(qremove_at_irel['# de ocorrências'][[j for j in RemoveWords.list_desired_words]])} qremove_at_irel\n",
    "{sum(qremove_ponc_rel['# de ocorrências'][[j for j in RemoveWords.list_desired_words]])} qremove_ponc_rel\n",
    "{sum(qremove_ponc_irel['# de ocorrências'][[j for j in RemoveWords.list_desired_words]])} qremove_ponc_irel\n",
    "{sum(qremove_word_sts_rel['# de ocorrências'][[j for j in RemoveWords.list_desired_words]])} qremove_word_sts_rel\n",
    "{sum(qremove_word_sts_irel['# de ocorrências'][[j for j in RemoveWords.list_desired_words]])} qremove_word_sts_irel\n",
    "{sum(qremove_laugh_rel['# de ocorrências'][[j for j in RemoveWords.list_desired_words]])} qremove_laugh_rel\n",
    "{sum(qremove_laugh_irel['# de ocorrências'][[j for j in RemoveWords.list_desired_words]])} qremove_laugh_irel\n",
    "{sum(qremove_num_str_rel['# de ocorrências'][[j for j in RemoveWords.list_desired_words]])} qremove_num_str_rel\n",
    "{sum(qremove_num_str_irel['# de ocorrências'][[j for j in RemoveWords.list_desired_words]])} qremove_num_str_irel\n",
    "{sum(qremove_options_rel['# de ocorrências'][[j for j in RemoveWords.list_desired_words]])} qremove_options_rel\n",
    "{sum(qremove_options_irel['# de ocorrências'][[j for j in RemoveWords.list_desired_words]])} qremove_options_irel\"\"\")"
   ],
   "metadata": {
    "collapsed": false,
    "pycharm": {
     "name": "#%%\n"
    }
   }
  },
  {
   "cell_type": "code",
   "execution_count": 266,
   "outputs": [],
   "source": [
    "# qremove_options_1 = qremove_options.sort_values(by='# de ocorrências', ascending=False)\n",
    "# qremove_options_1=qremove_options_1.loc[qremove_options_1['# de ocorrências'] > 50]\n",
    "# qremove_options_1\n",
    "#\n",
    "#"
   ],
   "metadata": {
    "collapsed": false,
    "pycharm": {
     "name": "#%%\n"
    }
   }
  },
  {
   "cell_type": "code",
   "execution_count": 268,
   "outputs": [],
   "source": [
    "# a = [j for j in RemoveWords.list_desired_words]\n",
    "# print(a)"
   ],
   "metadata": {
    "collapsed": false,
    "pycharm": {
     "name": "#%%\n"
    }
   }
  },
  {
   "cell_type": "code",
   "execution_count": null,
   "outputs": [],
   "source": [
    "\n",
    "import pandas as pd\n",
    "\n",
    "# Creating Data frames\n",
    "df1 = {'A': [1, 2, 3, 4],\n",
    "         'B': ['abc', 'def', 'efg', 'ghi']}\n",
    "df2 = {'A': [1, 2, 3, 4 ],\n",
    "         'B': ['Geeks', 'For', 'efg', 'ghi'],\n",
    "         'C':['Nikhil', 'Rishabh', 'Rahul', 'Shubham']}\n",
    "\n",
    "d1 = pd.DataFrame(df1)\n",
    "d2 = pd.DataFrame(df2)\n",
    "\n",
    "# Calling merge() function\n",
    "int_df = pd.concat([d1, d2])"
   ],
   "metadata": {
    "collapsed": false,
    "pycharm": {
     "name": "#%%\n"
    }
   }
  },
  {
   "cell_type": "code",
   "execution_count": 270,
   "outputs": [
    {
     "data": {
      "text/plain": "<pandas.io.formats.style.Styler at 0x1d975a42310>",
      "text/html": "<style type=\"text/css\">\n#T_e5e05_ td:hover {\n  text-align: center;\n  font-size: 120%;\n  font-weight: bold;\n  color: black;\n  background-color: #ffffb3;\n}\n</style>\n<table id=\"T_e5e05_\">\n  <thead>\n    <tr>\n      <th class=\"blank level0\" >&nbsp;</th>\n      <th class=\"col_heading level0 col0\" >A</th>\n      <th class=\"col_heading level0 col1\" >B</th>\n    </tr>\n  </thead>\n  <tbody>\n    <tr>\n      <th id=\"T_e5e05_level0_row0\" class=\"row_heading level0 row0\" >0</th>\n      <td id=\"T_e5e05_row0_col0\" class=\"data row0 col0\" >1</td>\n      <td id=\"T_e5e05_row0_col1\" class=\"data row0 col1\" >abc</td>\n    </tr>\n    <tr>\n      <th id=\"T_e5e05_level0_row1\" class=\"row_heading level0 row1\" >1</th>\n      <td id=\"T_e5e05_row1_col0\" class=\"data row1 col0\" >2</td>\n      <td id=\"T_e5e05_row1_col1\" class=\"data row1 col1\" >def</td>\n    </tr>\n    <tr>\n      <th id=\"T_e5e05_level0_row2\" class=\"row_heading level0 row2\" >2</th>\n      <td id=\"T_e5e05_row2_col0\" class=\"data row2 col0\" >3</td>\n      <td id=\"T_e5e05_row2_col1\" class=\"data row2 col1\" >efg</td>\n    </tr>\n    <tr>\n      <th id=\"T_e5e05_level0_row3\" class=\"row_heading level0 row3\" >3</th>\n      <td id=\"T_e5e05_row3_col0\" class=\"data row3 col0\" >4</td>\n      <td id=\"T_e5e05_row3_col1\" class=\"data row3 col1\" >ghi</td>\n    </tr>\n  </tbody>\n</table>\n"
     },
     "execution_count": 270,
     "metadata": {},
     "output_type": "execute_result"
    }
   ],
   "source": [
    "df1 = pd.DataFrame.from_dict(df1)\n",
    "df1.style.set_table_styles([hc.css1])"
   ],
   "metadata": {
    "collapsed": false,
    "pycharm": {
     "name": "#%%\n"
    }
   }
  },
  {
   "cell_type": "code",
   "execution_count": 271,
   "outputs": [
    {
     "data": {
      "text/plain": "   A      B        C\n0  1  Geeks   Nikhil\n1  2    For  Rishabh\n2  3    efg    Rahul\n3  4    ghi  Shubham",
      "text/html": "<div>\n<style scoped>\n    .dataframe tbody tr th:only-of-type {\n        vertical-align: middle;\n    }\n\n    .dataframe tbody tr th {\n        vertical-align: top;\n    }\n\n    .dataframe thead th {\n        text-align: right;\n    }\n</style>\n<table border=\"1\" class=\"dataframe\">\n  <thead>\n    <tr style=\"text-align: right;\">\n      <th></th>\n      <th>A</th>\n      <th>B</th>\n      <th>C</th>\n    </tr>\n  </thead>\n  <tbody>\n    <tr>\n      <th>0</th>\n      <td>1</td>\n      <td>Geeks</td>\n      <td>Nikhil</td>\n    </tr>\n    <tr>\n      <th>1</th>\n      <td>2</td>\n      <td>For</td>\n      <td>Rishabh</td>\n    </tr>\n    <tr>\n      <th>2</th>\n      <td>3</td>\n      <td>efg</td>\n      <td>Rahul</td>\n    </tr>\n    <tr>\n      <th>3</th>\n      <td>4</td>\n      <td>ghi</td>\n      <td>Shubham</td>\n    </tr>\n  </tbody>\n</table>\n</div>"
     },
     "execution_count": 271,
     "metadata": {},
     "output_type": "execute_result"
    }
   ],
   "source": [
    "df2 = pd.DataFrame.from_dict(df2)\n",
    "df2"
   ],
   "metadata": {
    "collapsed": false,
    "pycharm": {
     "name": "#%%\n"
    }
   }
  },
  {
   "cell_type": "code",
   "execution_count": 272,
   "outputs": [
    {
     "data": {
      "text/plain": "   A      B        C\n0  1    abc      NaN\n1  2    def      NaN\n2  3    efg      NaN\n3  4    ghi      NaN\n0  1  Geeks   Nikhil\n1  2    For  Rishabh\n2  3    efg    Rahul\n3  4    ghi  Shubham",
      "text/html": "<div>\n<style scoped>\n    .dataframe tbody tr th:only-of-type {\n        vertical-align: middle;\n    }\n\n    .dataframe tbody tr th {\n        vertical-align: top;\n    }\n\n    .dataframe thead th {\n        text-align: right;\n    }\n</style>\n<table border=\"1\" class=\"dataframe\">\n  <thead>\n    <tr style=\"text-align: right;\">\n      <th></th>\n      <th>A</th>\n      <th>B</th>\n      <th>C</th>\n    </tr>\n  </thead>\n  <tbody>\n    <tr>\n      <th>0</th>\n      <td>1</td>\n      <td>abc</td>\n      <td>NaN</td>\n    </tr>\n    <tr>\n      <th>1</th>\n      <td>2</td>\n      <td>def</td>\n      <td>NaN</td>\n    </tr>\n    <tr>\n      <th>2</th>\n      <td>3</td>\n      <td>efg</td>\n      <td>NaN</td>\n    </tr>\n    <tr>\n      <th>3</th>\n      <td>4</td>\n      <td>ghi</td>\n      <td>NaN</td>\n    </tr>\n    <tr>\n      <th>0</th>\n      <td>1</td>\n      <td>Geeks</td>\n      <td>Nikhil</td>\n    </tr>\n    <tr>\n      <th>1</th>\n      <td>2</td>\n      <td>For</td>\n      <td>Rishabh</td>\n    </tr>\n    <tr>\n      <th>2</th>\n      <td>3</td>\n      <td>efg</td>\n      <td>Rahul</td>\n    </tr>\n    <tr>\n      <th>3</th>\n      <td>4</td>\n      <td>ghi</td>\n      <td>Shubham</td>\n    </tr>\n  </tbody>\n</table>\n</div>"
     },
     "execution_count": 272,
     "metadata": {},
     "output_type": "execute_result"
    }
   ],
   "source": [
    "int_df"
   ],
   "metadata": {
    "collapsed": false,
    "pycharm": {
     "name": "#%%\n"
    }
   }
  },
  {
   "cell_type": "code",
   "execution_count": 273,
   "outputs": [
    {
     "name": "stdout",
     "output_type": "stream",
     "text": [
      "4\n"
     ]
    }
   ],
   "source": [
    "print(len(list(int_df.A.unique())))\n"
   ],
   "metadata": {
    "collapsed": false,
    "pycharm": {
     "name": "#%%\n"
    }
   }
  },
  {
   "cell_type": "code",
   "execution_count": 278,
   "outputs": [
    {
     "data": {
      "text/plain": "              qremove_options_rel               qremove_options_irel  \\\n                 # de ocorrências prob palavras     # de ocorrências   \nfantástico                   81.0      0.023382                 98.0   \nque                          93.0      0.026804                 74.0   \nmatéria                      42.0      0.012261                 20.0   \nsobre                        46.0      0.013402                 13.0   \nnão                          30.0      0.008839                 25.0   \n...                           ...           ...                  ...   \nconsequências                 1.0      0.000570                  0.0   \nrs”                           1.0      0.000570                  0.0   \nrolê\u0000                         1.0      0.000570                  0.0   \nconta\u0000                        1.0      0.000570                  0.0   \nredendo                       1.0      0.000570                  0.0   \n\n                                       total                \n              prob palavras # de ocorrências prob palavras  \nfantástico         0.029394            179.0      0.052776  \nque                0.022268            167.0      0.049072  \nmatéria            0.006235             62.0      0.018496  \nsobre              0.004157             59.0      0.017559  \nnão                0.007720             55.0      0.016559  \n...                     ...              ...           ...  \nconsequências      0.000000              1.0      0.000570  \nrs”                0.000000              1.0      0.000570  \nrolê\u0000              0.000000              1.0      0.000570  \nconta\u0000             0.000000              1.0      0.000570  \nredendo            0.000000              1.0      0.000570  \n\n[1857 rows x 6 columns]",
      "text/html": "<div>\n<style scoped>\n    .dataframe tbody tr th:only-of-type {\n        vertical-align: middle;\n    }\n\n    .dataframe tbody tr th {\n        vertical-align: top;\n    }\n\n    .dataframe thead tr th {\n        text-align: left;\n    }\n</style>\n<table border=\"1\" class=\"dataframe\">\n  <thead>\n    <tr>\n      <th></th>\n      <th colspan=\"2\" halign=\"left\">qremove_options_rel</th>\n      <th colspan=\"2\" halign=\"left\">qremove_options_irel</th>\n      <th colspan=\"2\" halign=\"left\">total</th>\n    </tr>\n    <tr>\n      <th></th>\n      <th># de ocorrências</th>\n      <th>prob palavras</th>\n      <th># de ocorrências</th>\n      <th>prob palavras</th>\n      <th># de ocorrências</th>\n      <th>prob palavras</th>\n    </tr>\n  </thead>\n  <tbody>\n    <tr>\n      <th>fantástico</th>\n      <td>81.0</td>\n      <td>0.023382</td>\n      <td>98.0</td>\n      <td>0.029394</td>\n      <td>179.0</td>\n      <td>0.052776</td>\n    </tr>\n    <tr>\n      <th>que</th>\n      <td>93.0</td>\n      <td>0.026804</td>\n      <td>74.0</td>\n      <td>0.022268</td>\n      <td>167.0</td>\n      <td>0.049072</td>\n    </tr>\n    <tr>\n      <th>matéria</th>\n      <td>42.0</td>\n      <td>0.012261</td>\n      <td>20.0</td>\n      <td>0.006235</td>\n      <td>62.0</td>\n      <td>0.018496</td>\n    </tr>\n    <tr>\n      <th>sobre</th>\n      <td>46.0</td>\n      <td>0.013402</td>\n      <td>13.0</td>\n      <td>0.004157</td>\n      <td>59.0</td>\n      <td>0.017559</td>\n    </tr>\n    <tr>\n      <th>não</th>\n      <td>30.0</td>\n      <td>0.008839</td>\n      <td>25.0</td>\n      <td>0.007720</td>\n      <td>55.0</td>\n      <td>0.016559</td>\n    </tr>\n    <tr>\n      <th>...</th>\n      <td>...</td>\n      <td>...</td>\n      <td>...</td>\n      <td>...</td>\n      <td>...</td>\n      <td>...</td>\n    </tr>\n    <tr>\n      <th>consequências</th>\n      <td>1.0</td>\n      <td>0.000570</td>\n      <td>0.0</td>\n      <td>0.000000</td>\n      <td>1.0</td>\n      <td>0.000570</td>\n    </tr>\n    <tr>\n      <th>rs”</th>\n      <td>1.0</td>\n      <td>0.000570</td>\n      <td>0.0</td>\n      <td>0.000000</td>\n      <td>1.0</td>\n      <td>0.000570</td>\n    </tr>\n    <tr>\n      <th>rolê\u0000</th>\n      <td>1.0</td>\n      <td>0.000570</td>\n      <td>0.0</td>\n      <td>0.000000</td>\n      <td>1.0</td>\n      <td>0.000570</td>\n    </tr>\n    <tr>\n      <th>conta\u0000</th>\n      <td>1.0</td>\n      <td>0.000570</td>\n      <td>0.0</td>\n      <td>0.000000</td>\n      <td>1.0</td>\n      <td>0.000570</td>\n    </tr>\n    <tr>\n      <th>redendo</th>\n      <td>1.0</td>\n      <td>0.000570</td>\n      <td>0.0</td>\n      <td>0.000000</td>\n      <td>1.0</td>\n      <td>0.000570</td>\n    </tr>\n  </tbody>\n</table>\n<p>1857 rows × 6 columns</p>\n</div>"
     },
     "execution_count": 278,
     "metadata": {},
     "output_type": "execute_result"
    }
   ],
   "source": [
    "# df5 = qremove_options_rel\n",
    "# df6 = qremove_options_irel\n",
    "# df4 = pd.concat([df5, df6], axis=1, keys=[\"qremove_options_rel\", \"qremove_options_irel\"])\n",
    "# df4 = df4.fillna(0)\n",
    "# df4['total', '# de ocorrências'] = df4['qremove_options_rel', '# de ocorrências'] + df4['qremove_options_irel', '# de ocorrências']\n",
    "# df4['total', 'prob palavras'] = df4['qremove_options_rel', 'prob palavras'] + df4['qremove_options_irel', 'prob palavras']\n",
    "# df4 = df4.sort_values(by=('total', '# de ocorrências'), ascending=False)\n",
    "# df4\n"
   ],
   "metadata": {
    "collapsed": false,
    "pycharm": {
     "name": "#%%\n"
    }
   }
  }
 ],
 "metadata": {
  "kernelspec": {
   "display_name": "Python 3 (ipykernel)",
   "language": "python",
   "name": "python3"
  },
  "language_info": {
   "codemirror_mode": {
    "name": "ipython",
    "version": 3
   },
   "file_extension": ".py",
   "mimetype": "text/x-python",
   "name": "python",
   "nbconvert_exporter": "python",
   "pygments_lexer": "ipython3",
   "version": "3.8.3"
  }
 },
 "nbformat": 4,
 "nbformat_minor": 1
}