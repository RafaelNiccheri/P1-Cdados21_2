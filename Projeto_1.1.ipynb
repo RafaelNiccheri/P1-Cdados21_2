{
 "cells": [
  {
   "cell_type": "markdown",
   "source": [
    "### arrumado\n",
    "#### __*ARRUMADO ~~A FUNÇÃO REMOVE_PONC ESTA QUEBRADA E ESTA REMOVENDO A PALAVRA PS5 (ISSO OBVIAMENTE NÃO ERA PARA OCORRER). COMO NOSSO PRODUTO NÃO É PS5 ISSO PODE NÃO PARECER UM PROBLEMA, NO ENTANTO, COMO NAO SEI SE ELA ESTA COMETENDO MAIS ERROS RECOMENDO NAO USA-LA.~~*__\n",
    "\n",
    "\n",
    "#### __*A variável Object_of_Study é uma variável reservada nessa biblioteca e nao pode ser substituída por nada para a biblioteca funcionar. Ela é ser escolhida ao rodar o programa pela primeira vez, para muda-la reinicie o kernel e/ou o python console dependendo do typo de arquivo.*__\n",
    "\n",
    "### Pra que serve a variável global object_of_study? :\n",
    "### Ela serve para definir o objeto alvo do estudo e evitar sua remoção da base de dados durante os vários tipo diferente de filtragens diferentes.\n",
    "\n",
    "### O arquivo classe_funcoes não apresenta nenhuma falha que interfira com outras bibliotecas/arquivos, no entanto, vale notar que dois malpractices (sei la como se fala em português) foram cometidos\n",
    "- #### primeiro: importar com a estrutura \"from _____ import *\"\n",
    "  - #### eu considero este apenas um agravante ao anterior sendo ele: declarar uma variável global fora da proteção de arquivo\n",
    "- #### segundo: usar try e except para tornar uma parte de um arquivo isolada. A estrutura foi explicada com detalhes no arquivo classes_funcoes\n",
    "### Contudo, todas as medidas de precaução foram tomadas para que nenhuma dessas práticas/agravantes gerem problemas\n",
    "#### Para quem ler for ver o método usado e invetado (até onde eu saiba) por para isolar partes de códigos por favor usem apenas em última instância, pois ele é um erro gravíssimo. Eu uso ele só é o único modo de fazer isso sem a IDE marcar o código como isolado e grifar tudo de amarelo"
   ],
   "metadata": {
    "collapsed": false
   }
  },
  {
   "cell_type": "code",
   "execution_count": 1,
   "metadata": {},
   "outputs": [
    {
     "name": "stdout",
     "output_type": "stream",
     "text": [
      "Classes_funcoes é uma mini biblioteca feita para um projeto de Ciência de Dados com a principal função de\n",
      "deixar mais fácil a interação entre a biblioteca pandas e a biblioteca emoji (esse era o intuito pelo\n",
      "menos mas acabamos fazendo uma biblioteca para o projeto inteiro). Além das biblioteca citadas anteriormente,\n",
      "ela requer as bibliotecas numpy, operator, functools e string. Quase certeza que todas estão disponíveis com pip\n",
      "install\n"
     ]
    }
   ],
   "source": [
    "from classes_funcoes import *\n",
    "import string\n",
    "import emoji\n",
    "import pandas as pd"
   ]
  },
  {
   "cell_type": "code",
   "execution_count": 2,
   "metadata": {
    "pycharm": {
     "name": "#%%\n"
    }
   },
   "outputs": [
    {
     "data": {
      "text/plain": "                                           Treinamento  Relevância\n0    @jvpmbr we ahem ruim de usar mesmo, não perde ...           0\n1    @amandaoufer posso falar como imagino vcs?\\nal...           0\n2    @ignbrasil @mariananeryf quando sair o trailer...           1\n3    @arielsis eu comecei jogar yakuza no meu antig...           1\n4    @psonystas esse ae tá meio doido, tá certo iss...           0\n..                                                 ...         ...\n295       9k um ps5 caralho queria tanto ser rica 😭😭😭😭           1\n296  @spfcdaopressao se viesse um título no ovo de ...           0\n297  @raulzeiro @flameng43027839 @nandodesu aquela ...           0\n298  para já, não existe uma opção equivalente na p...           0\n299  rt @foioguto: pior que eu acho esse ps5 lindo ...           1\n\n[300 rows x 2 columns]",
      "text/html": "<div>\n<style scoped>\n    .dataframe tbody tr th:only-of-type {\n        vertical-align: middle;\n    }\n\n    .dataframe tbody tr th {\n        vertical-align: top;\n    }\n\n    .dataframe thead th {\n        text-align: right;\n    }\n</style>\n<table border=\"1\" class=\"dataframe\">\n  <thead>\n    <tr style=\"text-align: right;\">\n      <th></th>\n      <th>Treinamento</th>\n      <th>Relevância</th>\n    </tr>\n  </thead>\n  <tbody>\n    <tr>\n      <th>0</th>\n      <td>@jvpmbr we ahem ruim de usar mesmo, não perde ...</td>\n      <td>0</td>\n    </tr>\n    <tr>\n      <th>1</th>\n      <td>@amandaoufer posso falar como imagino vcs?\\nal...</td>\n      <td>0</td>\n    </tr>\n    <tr>\n      <th>2</th>\n      <td>@ignbrasil @mariananeryf quando sair o trailer...</td>\n      <td>1</td>\n    </tr>\n    <tr>\n      <th>3</th>\n      <td>@arielsis eu comecei jogar yakuza no meu antig...</td>\n      <td>1</td>\n    </tr>\n    <tr>\n      <th>4</th>\n      <td>@psonystas esse ae tá meio doido, tá certo iss...</td>\n      <td>0</td>\n    </tr>\n    <tr>\n      <th>...</th>\n      <td>...</td>\n      <td>...</td>\n    </tr>\n    <tr>\n      <th>295</th>\n      <td>9k um ps5 caralho queria tanto ser rica 😭😭😭😭</td>\n      <td>1</td>\n    </tr>\n    <tr>\n      <th>296</th>\n      <td>@spfcdaopressao se viesse um título no ovo de ...</td>\n      <td>0</td>\n    </tr>\n    <tr>\n      <th>297</th>\n      <td>@raulzeiro @flameng43027839 @nandodesu aquela ...</td>\n      <td>0</td>\n    </tr>\n    <tr>\n      <th>298</th>\n      <td>para já, não existe uma opção equivalente na p...</td>\n      <td>0</td>\n    </tr>\n    <tr>\n      <th>299</th>\n      <td>rt @foioguto: pior que eu acho esse ps5 lindo ...</td>\n      <td>1</td>\n    </tr>\n  </tbody>\n</table>\n<p>300 rows × 2 columns</p>\n</div>"
     },
     "execution_count": 2,
     "metadata": {},
     "output_type": "execute_result"
    }
   ],
   "source": [
    "dados_treino = pd.read_excel(f'{Object_of_Study}.xlsx')\n",
    "dados_treino_1=dados_treino\n",
    "dados_treino"
   ]
  },
  {
   "cell_type": "code",
   "execution_count": 3,
   "metadata": {
    "pycharm": {
     "name": "#%%\n"
    },
    "scrolled": false
   },
   "outputs": [
    {
     "data": {
      "text/plain": "                # de ocorrências\nps5                          211\no                            190\nde                           159\ne                            140\nque                          134\n...                          ...\ntampa                          1\n@anacabanellos                 1\n@fxssini:                      1\ndoom?                          1\nconsole,                       1\n\n[2368 rows x 1 columns]",
      "text/html": "<div>\n<style scoped>\n    .dataframe tbody tr th:only-of-type {\n        vertical-align: middle;\n    }\n\n    .dataframe tbody tr th {\n        vertical-align: top;\n    }\n\n    .dataframe thead th {\n        text-align: right;\n    }\n</style>\n<table border=\"1\" class=\"dataframe\">\n  <thead>\n    <tr style=\"text-align: right;\">\n      <th></th>\n      <th># de ocorrências</th>\n    </tr>\n  </thead>\n  <tbody>\n    <tr>\n      <th>ps5</th>\n      <td>211</td>\n    </tr>\n    <tr>\n      <th>o</th>\n      <td>190</td>\n    </tr>\n    <tr>\n      <th>de</th>\n      <td>159</td>\n    </tr>\n    <tr>\n      <th>e</th>\n      <td>140</td>\n    </tr>\n    <tr>\n      <th>que</th>\n      <td>134</td>\n    </tr>\n    <tr>\n      <th>...</th>\n      <td>...</td>\n    </tr>\n    <tr>\n      <th>tampa</th>\n      <td>1</td>\n    </tr>\n    <tr>\n      <th>@anacabanellos</th>\n      <td>1</td>\n    </tr>\n    <tr>\n      <th>@fxssini:</th>\n      <td>1</td>\n    </tr>\n    <tr>\n      <th>doom?</th>\n      <td>1</td>\n    </tr>\n    <tr>\n      <th>console,</th>\n      <td>1</td>\n    </tr>\n  </tbody>\n</table>\n<p>2368 rows × 1 columns</p>\n</div>"
     },
     "execution_count": 3,
     "metadata": {},
     "output_type": "execute_result"
    }
   ],
   "source": [
    "p = ListWord(column_name='Treinamento').c_o_f(dados_treino)\n",
    "p.sort_values(by='# de ocorrências', ascending=False)"
   ]
  },
  {
   "cell_type": "code",
   "execution_count": 4,
   "outputs": [],
   "source": [
    "mn = RemoveWords(p, '# de ocorrências', show_removed=True)\n",
    "mn1 = RemoveWords(p, '# de ocorrências', show_removed=True)\n",
    "mn2 = RemoveWords(p, '# de ocorrências', show_removed=True)\n",
    "mn3 = RemoveWords(p, '# de ocorrências', show_removed=True)\n",
    "mn4 = RemoveWords(p, '# de ocorrências', show_removed=True)\n",
    "mn5 = RemoveWords(p, '# de ocorrências', show_removed=True)\n",
    "mn6 = RemoveWords(p, '# de ocorrências', show_removed=True)"
   ],
   "metadata": {
    "collapsed": false,
    "pycharm": {
     "name": "#%%\n"
    }
   }
  },
  {
   "cell_type": "markdown",
   "source": [
    "#### Antes de filtrar, todos os emojis e a/frase palavra designada como o object_of_study são excluídos da filtragem e colocados de volta na vase de dados. A palavra designada como object_of_study é definhada ao executar o codigo pela primeira vez else paras redefini-la é preciso reiniciar o ‘kernel’."
   ],
   "metadata": {
    "collapsed": false,
    "pycharm": {
     "name": "#%% md\n"
    }
   }
  },
  {
   "cell_type": "code",
   "execution_count": null,
   "outputs": [],
   "source": [
    "print('sem palavras com @')\n",
    "qremove_at = mn1.remove_at()\n",
    "print('\\n sem palavras com link')\n",
    "qremove_link =mn.remove_link()\n",
    "print('\\n sem pontuação nas palavras')\n",
    "qremove_ponc = mn2.remove_ponc()\n",
    "print('\\n sem palavras com menos de 3 letras')\n",
    "qremove_word_sts = mn3.remove_word_sts(3)\n",
    "print('\\n sem palavras com mais de 3 ks juntos')\n",
    "qremove_laugh = mn4.remove_laugh(4, 3)\n",
    "print('\\n sem palavras com sequencia de numeros da ordem das unidades maior que 3 juntos')\n",
    "qremove_num_str = mn5.remove_num_str(3)\n",
    "print('\\n todos os filtros juntos')\n",
    "qremove_options = mn6.remove_options(remove_at={True: '()'}, remove_link={True: '()'},\n",
    "                                    remove_ponc={True: '()'},remove_laugh={True: '(4, 3)'},\n",
    "                                    remove_word_sts={True: '(3)'}, remove_num_str={True: '(3)'})\n"
   ],
   "metadata": {
    "collapsed": false,
    "pycharm": {
     "name": "#%%\n"
    }
   }
  },
  {
   "cell_type": "code",
   "execution_count": 5,
   "outputs": [],
   "source": [],
   "metadata": {
    "collapsed": false,
    "pycharm": {
     "name": "#%%\n"
    }
   }
  },
  {
   "cell_type": "code",
   "execution_count": 6,
   "outputs": [
    {
     "name": "stdout",
     "output_type": "stream",
     "text": [
      "<class 'classes_funcoes.RemoveWords'>\n"
     ]
    }
   ],
   "source": [
    "print(type(mn))"
   ],
   "metadata": {
    "collapsed": false,
    "pycharm": {
     "name": "#%%\n"
    }
   }
  },
  {
   "cell_type": "code",
   "execution_count": 7,
   "outputs": [
    {
     "data": {
      "text/plain": "<classes_funcoes.RemoveWords at 0x174af0a73a0>"
     },
     "execution_count": 7,
     "metadata": {},
     "output_type": "execute_result"
    }
   ],
   "source": [
    "mn\n",
    "# print(len(qremove_options['# de ocorrências']))"
   ],
   "metadata": {
    "collapsed": false,
    "pycharm": {
     "name": "#%%\n"
    }
   }
  },
  {
   "cell_type": "code",
   "execution_count": 8,
   "outputs": [
    {
     "name": "stdout",
     "output_type": "stream",
     "text": [
      "NUMERO DE VEZES QUER APARECE A PALAVRA DEFINIDA NO INPUT DO COMEÇO POR DATAFRAME CRIADO\n",
      "\n",
      "211 qremove_link\n",
      "211 qremove_at\n",
      "211 qremove_ponc\n",
      "211 qremove_word_sts\n",
      "211 qremove_laugh\n",
      "211 qremove_num_str\n",
      "211 qremove_options\n"
     ]
    }
   ],
   "source": [
    "print(f\"\"\"NUMERO DE VEZES QUER APARECE A PALAVRA DEFINIDA NO INPUT DO COMEÇO POR DATAFRAME CRIADO\n",
    "\n",
    "{qremove_link['# de ocorrências'][Object_of_Study]} qremove_link\n",
    "{qremove_at['# de ocorrências'][Object_of_Study]} qremove_at\n",
    "{qremove_ponc['# de ocorrências'][Object_of_Study]} qremove_ponc\n",
    "{qremove_word_sts['# de ocorrências'][Object_of_Study]} qremove_word_sts\n",
    "{qremove_laugh['# de ocorrências'][Object_of_Study]} qremove_laugh\n",
    "{qremove_num_str['# de ocorrências'][Object_of_Study]} qremove_num_str\n",
    "{qremove_options['# de ocorrências'][Object_of_Study]} qremove_options\"\"\")"
   ],
   "metadata": {
    "collapsed": false,
    "pycharm": {
     "name": "#%%\n"
    }
   }
  },
  {
   "cell_type": "code",
   "execution_count": 9,
   "outputs": [
    {
     "data": {
      "text/plain": "     # de ocorrências\nps5               211\nque               134\nnão                71\npra                57\ncom                55",
      "text/html": "<div>\n<style scoped>\n    .dataframe tbody tr th:only-of-type {\n        vertical-align: middle;\n    }\n\n    .dataframe tbody tr th {\n        vertical-align: top;\n    }\n\n    .dataframe thead th {\n        text-align: right;\n    }\n</style>\n<table border=\"1\" class=\"dataframe\">\n  <thead>\n    <tr style=\"text-align: right;\">\n      <th></th>\n      <th># de ocorrências</th>\n    </tr>\n  </thead>\n  <tbody>\n    <tr>\n      <th>ps5</th>\n      <td>211</td>\n    </tr>\n    <tr>\n      <th>que</th>\n      <td>134</td>\n    </tr>\n    <tr>\n      <th>não</th>\n      <td>71</td>\n    </tr>\n    <tr>\n      <th>pra</th>\n      <td>57</td>\n    </tr>\n    <tr>\n      <th>com</th>\n      <td>55</td>\n    </tr>\n  </tbody>\n</table>\n</div>"
     },
     "execution_count": 9,
     "metadata": {},
     "output_type": "execute_result"
    }
   ],
   "source": [
    "qremove_options_1 = qremove_options.sort_values(by='# de ocorrências', ascending=False)\n",
    "qremove_options_1=qremove_options_1.loc[qremove_options_1['# de ocorrências'] > 50]\n",
    "qremove_options_1\n"
   ],
   "metadata": {
    "collapsed": false,
    "pycharm": {
     "name": "#%%\n"
    }
   }
  },
  {
   "cell_type": "code",
   "execution_count": 10,
   "outputs": [
    {
     "name": "stdout",
     "output_type": "stream",
     "text": [
      "['\\x00', '\\x00\\x00', '\\x00\\x00\\x00', '\\x00\\x00ashxxley', '\\x00\\x00indiaa7', '\\x00\\x00laisfg13', '\\x00\\x00sarki', '\\x0011anosmj', '\\x0016\\x003', '\\x00200\\x00\\x00300', '\\x002018\\x00\\x00', '\\x00400\\x00\\x00500', '\\x00500', '\\x008tf', '\\x00adrenaline\\x00', '\\x00afakequevoceama', '\\x00alexandrecl64', '\\x00alexlucche\\x00', '\\x00alô', '\\x00amandaoufer', '\\x00amd', '\\x00amp\\x00', '\\x00anacabanellos', '\\x00apesar', '\\x00app\\x00', '\\x00aprecdenint', '\\x00aquelagibbles', '\\x00arielsis', '\\x00astrosplayroom', '\\x00attackontitan', '\\x00bakuglowing', '\\x00barato\\x00', '\\x00biankitacg', '\\x00blasczakeduard0', '\\x00brhuemen', '\\x00brksedu', '\\x00bruceewmesmo', '\\x00brwjsn', '\\x00cadufn1', '\\x00caio\\x00gunnar', '\\x00canaldocoelho\\x00', '\\x00carbonoalpha', '\\x00carlinhosps5', '\\x00carlinhostroll', '\\x00carlinhostroll\\x00', '\\x00carlinhos…', '\\x00carlosgbl', '\\x00carrefourgaming\\x00', '\\x00caso', '\\x00chartsjanet', '\\x00chic\\x00fortnite', '\\x00chief117br', '\\x00controle', '\\x00curdistao', '\\x00dailyfix\\x00', '\\x00danielreen', '\\x00danilogentili', '\\x00darkalliance', '\\x00dazaideprimido', '\\x00deluxeedition', '\\x00demonsoulsps5', '\\x00desapegar', '\\x00devscansados', '\\x00dididididiego\\x00', '\\x00discoelysium', '\\x00dobro', '\\x00dopiasso', '\\x00dougoliveira7', '\\x00droia', '\\x00dualsense', '\\x00dungeonsanddragons', '\\x00e', '\\x00eae\\x00douglas', '\\x00eibrunocorrea', '\\x00eis', '\\x00el\\x00larrosa', '\\x00eldengoso', '\\x00em', '\\x00engleooficial', '\\x00engleooficial\\x00', '\\x00enouthh', '\\x00enryucrf', '\\x00eu', '\\x00euminecatt', '\\x00expectrool', '\\x00fairyk4i', '\\x00felipeneto', '\\x00fifa21', '\\x00filosofiamderna', '\\x00flameng43027839', '\\x00fogacbruno', '\\x00foioguto', '\\x00foioguto\\x00', '\\x00for\\x00nyvitx', '\\x00fortnaticos', '\\x00fortnite', '\\x00fortniteprimal', '\\x00fortniteseason6', '\\x00fortnitetemporada6', '\\x00freefirekkkk', '\\x00fuck\\x00off\\x00matt', '\\x00fxssini\\x00', '\\x00gabriel\\x00chacon4', '\\x00gabriell\\x00medina', '\\x00gabrielsruan\\x00', '\\x00gabssayshi\\x00', '\\x00galvanirenan', '\\x00game', '\\x00gamer', '\\x00gamerantifa', '\\x00gamermixbrasil\\x00', '\\x00gesfalcon', '\\x00giovannipaulo7', '\\x00googlestadia', '\\x00gramiliki\\x00', '\\x00guisouzadias', '\\x00guvoch', '\\x00heatherziml', '\\x00heitorataide', '\\x00heyzubshere', '\\x00hkaleesi', '\\x00hondavocals', '\\x00honorlusca', '\\x00https\\x00\\x00\\x00t\\x00co\\x00qsexgz0wl3\\x00', '\\x00iannzits', '\\x00iannzits\\x00', '\\x00ignbrasil', '\\x00ignbrasil\\x00', '\\x00igorarasilva', '\\x00igornapol', '\\x00imkeysaf\\x00', '\\x00infernalgalop', '\\x00joao\\x00eddie', '\\x00joaoamoedonovo', '\\x00joaooz28', '\\x00joecoolxbox', '\\x00joelmar015', '\\x00joga\\x00dan', '\\x00jovemdinamico2', '\\x00judgefeanor019', '\\x00junta\\x00\\x00\\x00\\x00', '\\x00jvpmbr', '\\x00kalileuk\\x00', '\\x00kaykeas', '\\x00kcamargo\\x00', '\\x00keopaksan', '\\x00klayler', '\\x00klayler\\x00\\x00', '\\x00kokocrunch2000', '\\x00kvn\\x00hype', '\\x00lavynigv', '\\x00lazuletter', '\\x00lembro', '\\x00lemopiew\\x00', '\\x00leo\\x00tortega', '\\x00linoano', '\\x00lmosquito1v4', '\\x00loja', '\\x00longeteclado\\x00', '\\x00louistrevinho\\x00', '\\x00luan1almeida', '\\x00luiz\\x00fernandorj', '\\x00luiz3underline', '\\x00lulaoficial', '\\x00lustforfolklore', '\\x00m1', '\\x00m4ximizando', '\\x00made\\x00in\\x00artic', '\\x00mais', '\\x00majorafi33', '\\x00marginalxbox', '\\x00mariananeryf', '\\x00mariothael', '\\x00marreco\\x00gh', '\\x00marrent0pira', '\\x00marynikky\\x00', '\\x00mateusdesouzao7\\x00', '\\x00matheusfort46', '\\x00mellos', '\\x00meuplaystation', '\\x00meusjogospt', '\\x00micalibruno', '\\x00microsoft', '\\x00morena\\x00', '\\x00mrlupaplays', '\\x00murilofrota\\x00', '\\x00n4nofps', '\\x00nahrivelli\\x00', '\\x00nailvigotes', '\\x00nandajojo1', '\\x00nandodesu', '\\x00natycassal', '\\x00next', '\\x00nightmarecynema', '\\x00nintendo', '\\x00nintendoswitch', '\\x00nis56952365', '\\x00noisepatrick', '\\x00notdeadgame', '\\x00noutracoisa', '\\x00nvidia', '\\x00não\\x00', '\\x00ocervejeiro\\x00', '\\x00ocervejeiro\\x00\\x00', '\\x00oferta', '\\x00olabocos', '\\x00p1000qi', '\\x00papelindo', '\\x00parcelado\\x00', '\\x00pastorxbox', '\\x00pastorxbox\\x00', '\\x00patch\\x00\\x00\\x00\\x00', '\\x00pc', '\\x00peso\\x00', '\\x00peterjordan100', '\\x00peterjordan100\\x00\\x00\\x00', '\\x00pintar', '\\x00playstation', '\\x00playstation\\x00br', '\\x00playstation4', '\\x00playstation5', '\\x00playstationpt', '\\x00pombagordo', '\\x00portalcafiune', '\\x00pq', '\\x00promoção', '\\x00propositalmente\\x00\\x00\\x00\\x00', '\\x00ps4', '\\x00ps4live', '\\x00ps4share', '\\x00ps5', '\\x00ps5\\x00', '\\x00ps5\\x00\\x00', '\\x00ps5\\x00\\x00\\x00', '\\x00ps5\\x00fr', '\\x00psonystas', '\\x00psvita', '\\x00q', '\\x00rafaelgrn', '\\x00rangelterere', '\\x00raulzeiro', '\\x00rckyeon', '\\x00rdna0', '\\x00rockstar', '\\x00rodrigocoelhoc', '\\x00rogerpivetta', '\\x00rozannalazzaro', '\\x00salao\\x00de\\x00jogos\\x00', '\\x00sanjilips', '\\x00saturnorock', '\\x00schemittep', '\\x00se', '\\x00semcontextogame', '\\x00setup', '\\x00shingekinokyojin', '\\x00shinismo', '\\x00sim\\x00paint', '\\x00sincero\\x00joel', '\\x00sithjxsh', '\\x00skintrackercom', '\\x00sony', '\\x00sonybrasil', '\\x00sonystaheroi', '\\x00sony…', '\\x00sosgabi6', '\\x00spfcdaopressao', '\\x00spratti027', '\\x00srlemu', '\\x00starkillerdark', '\\x00starlightzie\\x00\\x00', '\\x00steam', '\\x00submarino', '\\x00surpresa\\x00', '\\x00talvez\\x00', '\\x00tecmundo', '\\x00tenmatsukaze2', '\\x00thiag0arauj0', '\\x00tioflipxntj', '\\x00tmarvadeza', '\\x00tonrider199', '\\x00tretasdocromo', '\\x00ttdowiusley', '\\x00tuccineo', '\\x00tutupieri\\x00', '\\x00twitch', '\\x00twitchbr…', '\\x00twitchtv', '\\x00ubisoft\\x00spain', '\\x00uclnextgenicons', '\\x00ultra\\x00espartano', '\\x00urgalwav', '\\x00victorcallegal1', '\\x00victorhsgomes', '\\x00videogame', '\\x00viewtifulguru', '\\x00vitaisland', '\\x00vitocastrillo', '\\x00vitorhu12986439', '\\x00voxel', '\\x00wh0hyuk', '\\x00wildpaladin803', '\\x00windowsclubbr', '\\x00wyzewolfbr', '\\x00xbox', '\\x00xbox\\x00\\x00\\x00', '\\x00xboxgamepassultimate', '\\x00xboxone', '\\x00xboxseriesx', '\\x00xyhenriyx', '\\x00yaholy', '\\x00yan\\x00engels', '\\x00yaoyorozuw', '\\x00youtube', '\\x00youtubegaming', '\\x00zorotario', '1', '1\\x00', '1\\x0065', '10', '100', '1000', '10x', '11\\x0053\\x00', '12', '120', '1440p\\x00', '15', '17', '171', '1k', '1t', '2', '2\\x001', '2\\x001\\x00', '2017', '2018', '2018\\x00', '2019', '2021', '20x', '21', '21\\x00', '22', '260', '27\\x0003', '279\\x0090\\x00', '29\\x0099€\\x00', '2x\\x00\\x00', '3', '30', '30\\x00', '300', '30fps', '30mil', '323', '339€', '350', '360', '4', '4\\x00', '4k', '5', '5\\x004', '50', '5000', '57', '6', '6\\x00', '6\\x00500', '60\\x00', '60fps', '60fps\\x00\\x00', '679\\x0080', '7', '79', '7x', '8', '80', '8tf\\x00', '9\\x00000', '9k', 'a', 'a40', 'aaa', 'abafou', 'abaixado\\x00', 'aberto', 'abortar', 'acaba', 'acabei', 'acertar', 'acessível', 'acessórios', 'acha', 'acham', 'achei', 'acho', 'acima', 'acontecendo', 'acontecer', 'acordei', 'acreditar', 'ad', 'adaptar', 'adaptive', 'adiciona', 'adicional', 'adiei', 'adivinhar', 'ae', 'aesthetics', 'afiar\\x00', 'afins\\x00', 'afirmaram', 'agora', 'agora\\x00', 'agrada', 'agradando', 'aguardados', 'aguardar\\x00', 'aguardo', 'ah\\x00', 'ahem', 'ai', 'ai\\x00', 'ai\\x00\\x00\\x00', 'ainda', 'ainda\\x00', 'ajuda', 'ajuda\\x00me', 'ajudar', 'akjsajk', 'alemão', 'algo', 'alguma', 'alguns', 'alguém', 'ali', 'alienados\\x00', 'alienar', 'aliás\\x00', 'all', 'alliance', 'alliance\\x00', 'alternativa\\x00', 'altura\\x00', 'além', 'amando', 'amassada\\x00', 'amazon\\x00', 'ambientado', 'amd', 'amei', 'americanos', 'amiga', 'amigo', 'amigos', 'amo', 'amor', 'américanas\\x00', 'analista', 'and', 'andam', 'andar', 'android', 'animação', 'anime', 'aniversario\\x00\\x00\\x00\\x00\\x00\\x00\\x00\\x00\\x00\\x00\\x00\\x00\\x00\\x00\\x00\\x00', 'ano', 'ano\\x00', 'anos', 'ansiedade', 'antes', 'antigo', 'anunciado\\x00', 'ao', 'aos', 'aoyama', 'aparece', 'aparecendo', 'apesar', 'apoiar', 'apple', 'apresenta', 'aprovada', 'aproveitar', 'aproveite\\x00', 'aquela', 'aqueles', 'aqui', 'aqui\\x00', 'aquisição', 'argumentos\\x00', 'arma', 'as', 'ask', 'assassin\\x00s', 'assim', 'assim\\x00', 'assinando', 'assinar', 'astro’s', 'ate', 'atende\\x00', 'atrás', 'attack', 'atualiza', 'atualização', 'atualização\\x00', 'atualizou', 'atualmente', 'até', 'até\\x00', 'aumentar', 'auscultadores', 'autografado', 'automática', 'avaliar', 'aventura', 'aventuras', 'avisar', 'ação', 'aí', 'aí\\x00', 'bacana\\x00', 'bahia\\x00', 'baita', 'baixar', 'baixos', 'bala', 'banca', 'barato', 'barulho', 'basicamente', 'bastante', 'bate', 'bater', 'battle', 'bb', 'beat', 'beleza', 'bem', 'bem\\x00', 'bens', 'bethesda', 'biblioteca', 'bidens\\x00', 'bingo', 'birthday', 'bizarro', 'biziu\\x00', 'blablabla', 'blaclist', 'bloodborne', 'blz', 'boa', 'bobona', 'boi', 'bola\\x00', 'bom', 'bom\\x00', 'bonitinho', 'bonito', 'boost', 'bota', 'brasil', 'brasileira', 'brasileiras', 'bravo', 'breath', 'brinde\\x00', 'bugado\\x00', 'bugar', 'builds\\x00', 'bumbum', 'bunda', 'burlando', 'burro', 'cabeça', 'cabeça\\x00', 'cabo', 'cada', 'cade', 'cadê', 'caindo', 'caio', 'caishits', 'caixa', 'caixa\\x00', 'calor', 'cama', 'camp', 'canal', 'cancelada\\x00\\x00\\x00\\x00', 'cap', 'capacidades', 'capaz', 'captura', 'cara', 'cara\\x00', 'caraca\\x00', 'caralho', 'caras', 'carcaça\\x00', 'carente', 'cargas', 'carinho\\x00', 'carinhosa', 'carne', 'caro', 'carrega', 'carregamento', 'carregando', 'carreira', 'carruagem', 'carus', 'carus\\x00', 'casa', 'casa\\x00', 'casamento', 'casar', 'casas', 'cash', 'caso', 'casual', 'catando', 'catálogo', 'causa', 'cedo', 'cedo\\x00', 'celular', 'celulares', 'ceo', 'certa', 'certa\\x00', 'certeza', 'certeza\\x00', 'certo', 'chamada', 'chamado', 'chamar', 'chance\\x00', 'chat', 'chega', 'chegada', 'chegando', 'chegar', 'chegaria', 'chegou', 'cheira\\x00', 'chiaki', 'chihiro', 'china', 'chorando', 'chão', 'cima', 'citarem', 'civil\\x00', 'classes', 'classes\\x00', 'clickbait', 'cobra', 'coelho\\x00', 'coisa', 'coisa\\x00', 'coisas\\x00', 'coleção', 'collection', 'colocar', 'colocar\\x00', 'colocou', 'com', 'com\\x00', 'comecei', 'comentários', 'comercial', 'começar', 'começou', 'como', 'comparação', 'compatíveis', 'completa', 'completo', 'complicado', 'compra', 'comprado', 'comprando', 'comprar', 'comprar\\x00', 'comprar\\x00\\x00\\x00', 'compraram', 'comprava', 'comprei', 'comprem', 'compro', 'compro\\x00', 'comprou', 'comunista', 'conclusões', 'concordo', 'condições', 'condições\\x00', 'conectar', 'confesso', 'configurações', 'confira', 'confirmadas', 'conforto', 'conhece\\x00', 'conhecemos', 'consegue', 'conseguem', 'consegui', 'conseguir', 'conseguiu', 'consigo', 'console', 'console\\x00', 'consoles', 'consolista', 'consulta', 'conta', 'contabilidade', 'contar', 'conteúdo', 'continua', 'continuar', 'continuação', 'conto', 'contra', 'controle', 'convenceram', 'copa', 'corre', 'corte', 'cortou', 'crash', 'creed', 'crescer', 'criei', 'cristal', 'criticar\\x00', 'cu', 'culpa', 'curti', 'curto', 'custa', 'custam', 'custando', 'custar\\x00\\x00\\x00', 'custarão', 'custo', 'cá', 'câmera', 'cérebro', 'cê', 'cú', 'd', 'd\\x00água', 'da', 'dado', 'dados', 'dancinha', 'dando', 'daq', 'daqui', 'dar', 'dark', 'das', 'data', 'dava', 'dawn\\x00', 'day', 'dayane', 'dbd', 'de', 'death', 'decidindo', 'declarar\\x00', 'definidas\\x00', 'definitivamente', 'defrontam\\x00se', 'dei', 'deita', 'deix\\x00deix', 'deixei', 'deixou', 'dela', 'dele\\x00', 'dele\\x00\\x00', 'delícia\\x00', 'demais', 'demais\\x00', 'demais\\x00\\x00\\x00', 'demon', 'demons', 'dentro', 'dentro\\x00', 'depender', 'depois', 'depressivo', 'dera', 'deram', 'desafia\\x00os', 'desbloqueado\\x00\\x00', 'descobrir', 'descontos', 'desde', 'desejar\\x00', 'desempenho', 'desenho', 'desenvolvido', 'desenvolvido\\x00', 'desesperada', 'desesperados', 'desespero\\x00', 'design', 'desisti', 'dessa', 'desse', 'desses', 'destaca', 'deste', 'destruindo', 'detentora', 'detroit\\x00', 'deus', 'deve', 'deveria', 'devo', 'devoluçoes', 'devolvi', 'devs', 'dia', 'dia\\x00', 'dias', 'dias\\x00', 'diferentemente', 'diferença\\x00', 'difícil', 'diga', 'digital', 'dinheiro', 'dinâmica', 'direitinho', 'direito', 'diretamente', 'direção', 'disparando', 'disponível', 'disponível\\x00', 'disse', 'dissipador', 'disso', 'diversos', 'divulgação', 'diz', 'dizem', 'dizer', 'dizer\\x00\\x00\\x00\\x00', 'dizerem', 'dnv\\x00', 'do', 'documentos', 'doente', 'doido', 'doido\\x00', 'dois', 'dona', 'doom\\x00', 'dor', 'dos', 'dragon', 'dragons', 'dragons\\x00', 'droga\\x00\\x00\\x00\\x00\\x00não', 'ds', 'ds\\x00', 'ds3', 'dualsense', 'dublado', 'dungeons', 'duvida', 'duvido', 'dá', 'dêem', 'dólar', 'dólar\\x00', 'dúvidas', 'e', 'e\\x00mail', 'ea', 'eae', 'economia', 'edição', 'eh', 'ein', 'ela', 'ela\\x00', 'elas', 'elder', 'ele', 'ele\\x00', 'eles', 'em', 'empate', 'empresa', 'empréstimo', 'encantado', 'encheria', 'energia', 'enganado\\x00', 'enquanto', 'enrolado\\x00', 'ent', 'entende\\x00', 'entendi\\x00', 'entrar', 'entre', 'entrem', 'entro', 'entrou', 'então', 'então\\x00', 'epicos\\x00', 'episódio', 'equivalente', 'era', 'errado', 'escolhas', 'escolhas\\x00', 'escritório', 'esgotadas\\x00', 'espaço', 'especial\\x00', 'esperando', 'esperar', 'espero', 'espírito', 'esquecem', 'esqueceu', 'essa', 'essas', 'esse', 'essenciais\\x00', 'esses', 'esta', 'estado', 'estar', 'estatísticas', 'estava', 'este', 'esteja', 'estejam', 'estes', 'estilo', 'estimativa', 'estive', 'estivesse', 'estoque', 'estoques', 'estou', 'estragar', 'estratégia', 'estreia', 'está', 'está\\x00', 'está…', 'estão', 'eu', 'eua\\x00\\x00', 'europa\\x00', 'evento', 'exatamente', 'exatamente\\x00\\x00\\x00', 'excelente', 'exclusividade', 'exclusivo', 'exclusivo\\x00', 'exclusivos', 'exclusivos\\x00', 'exemplo', 'exibe', 'existe', 'expandir', 'experimentar', 'experiência', 'explorável', 'externo\\x00\\x00', 'fake', 'falam', 'falando', 'falar', 'falaram', 'falei', 'fallout\\x00', 'falo', 'falou', 'falta', 'falte', 'familiar', 'fanboys', 'farmizinho', 'faso', 'fato', 'fatos', 'fatos\\x00', 'favor', 'favoritos\\x00', 'faz', 'fazendo', 'fazer', 'fazerem', 'fazia', 'faço', 'fecha', 'fechar', 'fechar\\x00', 'fede', 'feita', 'feito', 'feliz', 'feminista', 'fenômeno\\x00', 'fez', 'ffxvi', 'fiasco\\x00', 'fica', 'ficado', 'ficando', 'ficar', 'ficou', 'fifa', 'filha\\x00', 'fim', 'final', 'finalmente', 'fique', 'fiquei', 'fisk\\x00', 'fixe', 'fiz', 'fizesse', 'fizeste', 'flagrado', 'flame', 'foda', 'foda\\x00', 'fogo', 'foi', 'fone', 'fora', 'fora\\x00', 'fornecer', 'forte\\x00', 'fortnite', 'força', 'fosse', 'fossem', 'fov', 'fps', 'fps\\x00', 'fraco\\x00', 'frames', 'fraude', 'frente', 'frente\\x00', 'fs', 'fufu\\x00', 'fui', 'full', 'funciona', 'furada', 'futebol', 'futuro', 'fácil', 'félix', 'f…', 'gado\\x00', 'galera', 'game', 'gamepass', 'gamepass\\x00', 'gamepass\\x00\\x00', 'gameplay', 'gamer', 'gamer\\x00', 'games', 'gam…', 'ganha', 'ganha\\x00', 'ganhando', 'ganhar', 'ganhava', 'ganhei', 'garai\\x00', 'gasolina', 'gastou', 'gatilho', 'gb', 'gen', 'gente', 'geral\\x00', 'geralmente', 'gerar', 'geração', 'geração\\x00', 'gerente', 'ge…', 'gg', 'ghostwire', 'gif', 'gigante', 'gladiarem', 'globo\\x00', 'gold', 'golpe', 'gomez', 'gosta', 'gostou\\x00', 'gow', 'gow\\x00', 'grana', 'grande', 'gratuitas\\x00', 'gravar', 'graça', 'graças', 'gringa', 'grátis', 'guiness\\x00\\x00\\x00', 'gulaso', 'guys\\x00', 'gxt', 'haahhaha', 'hahaha', 'happy', 'hd', 'hdmi', 'heheh\\x00', 'hein\\x00', 'hell', 'hellblade\\x00', 'herói', 'história', 'hj', 'hoje', 'hoje\\x00\\x00\\x00', 'hora', 'horas', 'horizon', 'houve', 'https\\x00\\x00\\x00t\\x00co\\x000pajppotnl', 'https\\x00\\x00\\x00t\\x00co\\x000ptsqftz9e', 'https\\x00\\x00\\x00t\\x00co\\x0027v5bigepw', 'https\\x00\\x00\\x00t\\x00co\\x002sgd5eb0fy', 'https\\x00\\x00\\x00t\\x00co\\x003u6vogzoek', 'https\\x00\\x00\\x00t\\x00co\\x003vywpki9hh', 'https\\x00\\x00\\x00t\\x00co\\x004bkx6wxwam', 'https\\x00\\x00\\x00t\\x00co\\x004rhbctvrkr', 'https\\x00\\x00\\x00t\\x00co\\x005i2nmkhxrt', 'https\\x00\\x00\\x00t\\x00co\\x006gifjgbxr2', 'https\\x00\\x00\\x00t\\x00co\\x007enmfo6ang', 'https\\x00\\x00\\x00t\\x00co\\x0085djbljwva', 'https\\x00\\x00\\x00t\\x00co\\x008iqsop0hiu', 'https\\x00\\x00\\x00t\\x00co\\x008qekigturc', 'https\\x00\\x00\\x00t\\x00co\\x008uykviievv', 'https\\x00\\x00\\x00t\\x00co\\x009ktznj4yij', 'https\\x00\\x00\\x00t\\x00co\\x00awozjvrjcy', 'https\\x00\\x00\\x00t\\x00co\\x00axcnvwbuko', 'https\\x00\\x00\\x00t\\x00co\\x00b3b9pq6rsb', 'https\\x00\\x00\\x00t\\x00co\\x00b80hnwhaqs', 'https\\x00\\x00\\x00t\\x00co\\x00bhbclxuvx3', 'https\\x00\\x00\\x00t\\x00co\\x00bprejfq46r', 'https\\x00\\x00\\x00t\\x00co\\x00btccm81qpx', 'https\\x00\\x00\\x00t\\x00co\\x00cq4kzpvniq', 'https\\x00\\x00\\x00t\\x00co\\x00ctpdylropd', 'https\\x00\\x00\\x00t\\x00co\\x00cw51tyn4q7', 'https\\x00\\x00\\x00t\\x00co\\x00cwjv4p3nna', 'https\\x00\\x00\\x00t\\x00co\\x00cyedggrdbs', 'https\\x00\\x00\\x00t\\x00co\\x00d2ah3e3cku', 'https\\x00\\x00\\x00t\\x00co\\x00epivtgzhqh', 'https\\x00\\x00\\x00t\\x00co\\x00eyayilp5a2', 'https\\x00\\x00\\x00t\\x00co\\x00fctmpabgqy', 'https\\x00\\x00\\x00t\\x00co\\x00ff0h6kyoag', 'https\\x00\\x00\\x00t\\x00co\\x00fi47yavc49', 'https\\x00\\x00\\x00t\\x00co\\x00h4ex0jtirl', 'https\\x00\\x00\\x00t\\x00co\\x00hcqkbkhbvo', 'https\\x00\\x00\\x00t\\x00co\\x00hvyinniygn', 'https\\x00\\x00\\x00t\\x00co\\x00h…', 'https\\x00\\x00\\x00t\\x00co\\x00igkjs9cswg', 'https\\x00\\x00\\x00t\\x00co\\x00iijq0ikaes', 'https\\x00\\x00\\x00t\\x00co\\x00jhxp9xlndz', 'https\\x00\\x00\\x00t\\x00co\\x00jicu5n0qlh', 'https\\x00\\x00\\x00t\\x00co\\x00jinarltkkw', 'https\\x00\\x00\\x00t\\x00co\\x00jxropnykc3', 'https\\x00\\x00\\x00t\\x00co\\x00koylqtvbxk', 'https\\x00\\x00\\x00t\\x00co\\x00kyufmurqsk', 'https\\x00\\x00\\x00t\\x00co\\x00lfnflplebs', 'https\\x00\\x00\\x00t\\x00co\\x00mkx6x8pkjk', 'https\\x00\\x00\\x00t\\x00co\\x00n8zshqwvll', 'https\\x00\\x00\\x00t\\x00co\\x00nrwmaeirof', 'https\\x00\\x00\\x00t\\x00co\\x00nuyldteg0f', 'https\\x00\\x00\\x00t\\x00co\\x00nwnqnmthlo', 'https\\x00\\x00\\x00t\\x00co\\x00oanvnvkcnf', 'https\\x00\\x00\\x00t\\x00co\\x00oedqyrcxef', 'https\\x00\\x00\\x00t\\x00co\\x00oeifcgxfru', 'https\\x00\\x00\\x00t\\x00co\\x00ofqetheeu8', 'https\\x00\\x00\\x00t\\x00co\\x00pk1qunqwdh', 'https\\x00\\x00\\x00t\\x00co\\x00qebolf0lnj', 'https\\x00\\x00\\x00t\\x00co\\x00qqbdayffiq', 'https\\x00\\x00\\x00t\\x00co\\x00qvvigpgbyw', 'https\\x00\\x00\\x00t\\x00co\\x00rafq0ncu49', 'https\\x00\\x00\\x00t\\x00co\\x00rb26xpnhd9', 'https\\x00\\x00\\x00t\\x00co\\x00rbbv5pbsgl', 'https\\x00\\x00\\x00t\\x00co\\x00rifxchl7hk', 'https\\x00\\x00\\x00t\\x00co\\x00romcjipwfx', 'https\\x00\\x00\\x00t\\x00co\\x00rpdxfqjlih', 'https\\x00\\x00\\x00t\\x00co\\x00rtxrssmmdz', 'https\\x00\\x00\\x00t\\x00co\\x00rub8jsznwn', 'https\\x00\\x00\\x00t\\x00co\\x00rwvqwz5acu', 'https\\x00\\x00\\x00t\\x00co\\x00serrvibxhi', 'https\\x00\\x00\\x00t\\x00co\\x00swz2pfb89t', 'https\\x00\\x00\\x00t\\x00co\\x00t7gl4l1uuc', 'https\\x00\\x00\\x00t\\x00co\\x00tei4z8juaa', 'https\\x00\\x00\\x00t\\x00co\\x00tig2e9umbf', 'https\\x00\\x00\\x00t\\x00co\\x00uyly6wyfyx', 'https\\x00\\x00\\x00t\\x00co\\x00vfdwbwgkx2', 'https\\x00\\x00\\x00t\\x00co\\x00vgwkupmqsb', 'https\\x00\\x00\\x00t\\x00co\\x00vmjjkpqrnj', 'https\\x00\\x00\\x00t\\x00co\\x00w3ezlgsk98', 'https\\x00\\x00\\x00t\\x00co\\x00wjsrnkvdrt', 'https\\x00\\x00\\x00t\\x00co\\x00wnjb2ml9ie', 'https\\x00\\x00\\x00t\\x00co\\x00xgs9oegjdu', 'https\\x00\\x00\\x00t\\x00co\\x00xwqg1kd…', 'https\\x00\\x00\\x00t\\x00co\\x00yezoodj0fm', 'https\\x00\\x00\\x00t\\x00co\\x00yuapapv6gq', 'https\\x00\\x00\\x00t\\x00co\\x00ywkpp4lbs1', 'https\\x00\\x00\\x00t\\x00co\\x00zej6llplh9', 'https\\x00\\x00\\x00t\\x00co\\x00zhi9uftzjj', 'https\\x00\\x00\\x00t\\x00co\\x00zsswkzm0yc', 'huahuahua\\x00', 'hunter', 'hypado', 'hype', 'há', 'ia', 'icons', 'icons\\x00', 'idade\\x00', 'idiomas', 'idiota', 'imagem', 'imagina', 'imaginar', 'imagine', 'imaginem', 'imagino', 'imagino\\x00', 'imperdíveis', 'importar', 'impossível', 'impressiona', 'impressionante', 'impressão', 'incerto', 'incessantes', 'inclui', 'inclusive\\x00', 'incríveis\\x00', 'incrível\\x00', 'indiscutivelmente\\x00', 'infinito', 'informação', 'inicio', 'insana\\x00', 'instável', 'interessante', 'interior', 'internet', 'inveja', 'inversão', 'inves', 'investi', 'início\\x00', 'ip', 'iphone', 'ir', 'ira', 'iria', 'irmao', 'irá', 'isolada', 'isso', 'isso\\x00', 'isso\\x00\\x00', 'ja', 'japan', 'japonês', 'jeito', 'joe', 'joel', 'joga', 'jogabilidade', 'jogado', 'jogadores', 'jogando', 'jogando\\x00', 'jogar', 'jogar\\x00', 'jogarei', 'jogo', 'jogo\\x00', 'jogos', 'jogos\\x00', 'jogue', 'joguei', 'john', 'jovem', 'jovem\\x00', 'joão', 'junho', 'junta', 'juntar', 'junto', 'juve', 'já', 'já\\x00', 'kai', 'kd', 'kfhskdsdfsdf', 'kkk', 'kkkk', 'kkkkk', 'kkkkkk', 'kkkkkkkkk', 'kkkkkkkkkkk', 'kkkkkkkkkkkkk', 'ksks', 'ksksksksk', 'la', 'lance', 'lançado', 'lançado\\x00\\x00', 'lançamento', 'lançamento\\x00', 'lançamentos', 'lançar', 'lançarem', 'lançou', 'laptop', 'last', 'legal', 'lembrada', 'lembrando', 'lembro', 'let', 'leva', 'leve\\x00', 'lhes', 'libera', 'liberal', 'liberar', 'liderança', 'liga', 'ligar', 'ligo', 'like', 'limitado', 'limitado\\x00', 'limpando', 'lindo', 'line\\x00up', 'linhas\\x00', 'linneman', 'literalmente', 'live', 'lives', 'lockdown', 'loco', 'logo', 'loja', 'lojas', 'lol', 'longe', 'loose\\x00', 'louco', 'loucura', 'lucrando', 'lucro', 'lucro\\x00', 'lugares', 'luiza\\x00', 'luxo\\x00', 'lá', 'lá\\x00', 'm', 'm\\x002', 'mackbook', 'macro', 'magazine', 'mainha', 'maiores\\x00', 'mais', 'mais\\x00', 'mais\\x00\\x00\\x00', 'mal', 'man\\x00', 'manchete', 'mandando', 'mandar', 'maneira', 'maniax', 'mano', 'mano\\x00', 'manter', 'marca', 'marrento', 'marvel\\x00s', 'março', 'mas', 'masturbando', 'matar', 'materiais', 'material', 'matrículas', 'me', 'media', 'meh\\x00', 'meio', 'melhor', 'melhor\\x00', 'melhor\\x00\\x00', 'melhores', 'melhorias', 'meme', 'memória', 'menos', 'menos\\x00', 'mercado\\x00', 'merda', 'merda\\x00', 'merdas', 'mereço', 'mesa', 'meses', 'mesma', 'mesmo', 'mesmo\\x00', 'mesmo\\x00\\x00', 'mesmo\\x00\\x00\\x00', 'messenger', 'mestre\\x00', 'meu', 'meus', 'mexer', 'microsoft', 'midia', 'mil', 'milhão', 'mim', 'mim\\x00', 'minha', 'minoria', 'minutos', 'miseravi', 'missão', 'mix\\x00master', 'mlk', 'mobile\\x00', 'mod', 'moderno', 'modo', 'momento', 'momento\\x00', 'monster', 'monstrao\\x00', 'monstro', 'montar', 'mor', 'morre', 'morreu', 'morty', 'mostra\\x00', 'mostram', 'mostrando', 'motivo', 'motivos', 'movimentação', 'ms', 'ms\\x00', 'msm', 'msm\\x00', 'mt', 'mta', 'mto', 'mudanças', 'mudei', 'muita', 'muito', 'muito\\x00', 'muitíssimo', 'multa', 'multis', 'mundo', 'município”', 'mãe', 'mãe\\x00', 'mão', 'mérito', 'mínimo', 'mó', 'n', 'n\\x00', 'na', 'nada', 'nada\\x00', 'nada\\x00\\x00\\x00', 'namo', 'namorada', 'namoradas', 'namorado\\x00', 'namorando\\x00', 'namoro', 'namo…', 'nao', 'nas', 'nat', 'ne', 'necessário', 'negar', 'negócio', 'nem', 'nenhum', 'nenhuma', 'nenhuns\\x00td', 'nessa', 'nesse', 'next', 'neymar', 'nier\\x00', 'ninguém', 'nintendista\\x00', 'nintendo', 'nintendo\\x00', 'nivel\\x00\\x00\\x00\\x00', 'nn\\x00', 'no', 'nojo', 'nome', 'nos', 'nossa', 'nostalgia', 'notebook', 'notebook\\x00', 'notícia', 'notícias', 'nova', 'novas', 'noventa', 'novidades', 'novo', 'novo\\x00', 'novos', 'now', 'num', 'numa', 'numa\\x00', 'numero', 'nunca', 'nvidia\\x00\\x00', 'não', 'não\\x00', 'não\\x00\\x00\\x00\\x00\\x00', 'né', 'né\\x00', 'né\\x00\\x00\\x00', 'né\\x00\\x00\\x00\\x00', 'números\\x00', 'n…', 'o', 'o\\x00o', 'objetivo', 'objetivo\\x00', 'obrigado', 'obs\\x00', 'ocorre', 'octopath', 'odyssey\\x00\\x00\\x00', 'of', 'oficina\\x00', 'ogo', 'oi', 'ok', 'ok\\x00', 'okay\\x00', 'olha', 'olha\\x00', 'olhar\\x00', 'olho', 'on', 'one', 'one\\x00', 'online', 'ontem', 'ontem\\x00', 'opala', 'opção', 'oq', 'os', 'oswald\\x00', 'ou', 'outer', 'outra', 'outra\\x00', 'outriders', 'outro', 'outros', 'outros\\x00', 'overclock', 'overclock\\x00\\x00\\x00', 'overlays', 'overwatch', 'ovo', 'p', 'p\\x00\\x00\\x00', 'pagando', 'pagar', 'pagava', 'pago', 'paguei', 'pai', 'palavra', 'palhaçada', 'para', 'parabéns', 'parado\\x00', 'parar', 'parcela', 'parcelado', 'parcelar', 'parece', 'parecer', 'parecido\\x00', 'parecidos', 'parte', 'participar\\x00', 'participarão', 'pass', 'pass\\x00', 'passado', 'passar', 'passaria', 'passatempo', 'passei', 'passo', 'patch', 'patroa', 'patrocinando', 'pau', 'paus\\x00', 'pauta', 'país', 'pc', 'pc\\x00', 'pecinha', 'pede', 'pedindo', 'pegar', 'pegaria\\x00', 'pego', 'pegou', 'peguei', 'peidando', 'pela', 'pelo', 'pena', 'pensando', 'pense', 'penso', 'perde', 'perdes', 'perdeu', 'perfeitas', 'perguntar', 'perguntei', 'personalizado\\x00', 'perspectiva', 'pes', 'pes\\x00', 'pesado', 'pessoa', 'pessoal', 'pessoas', 'pior', 'pir', 'piriri', 'placa', 'planalto', 'plataforma', 'platinar', 'platinum', 'play', 'playroom', 'playstation', 'plim', 'plus', 'plus\\x00', 'pobre', 'pode', 'podem', 'poder', 'poderia', 'poderio\\x00', 'poderoso', 'poderoso\\x00', 'podia', 'podiam', 'pois', 'poltergeist\\x00', 'pontas\\x00', 'por', 'pororó\\x00\\x00', 'porque', 'porra', 'porra\\x00', 'português', 'português\\x00', 'porém', 'positiva', 'possibilidades', 'posso', 'possível', 'postagem\\x00', 'post…', 'pouco', 'pouco\\x00', 'pq', 'pqp', 'pqp\\x00', 'pra', 'pras', 'precisa', 'precisar', 'precisaria', 'precisava', 'preciso', 'prejuízo', 'prejuízo\\x00\\x00\\x00kkkkkkkk\\x00', 'prende', 'prende\\x00', 'preocupe\\x00', 'presente\\x00', 'presta', 'pretendo', 'previsto', 'prey', 'preço', 'preço\\x00\\x00', 'preços', 'preços\\x00', 'primeira', 'primeiro', 'primeiros', 'principais', 'priorizar', 'pro', 'pro\\x00', 'problema', 'problemas', 'problemático', 'procura', 'produto', 'professora', 'promo\\x00', 'promoção', 'prontinho', 'propagadans', 'propaganda', 'propria', 'pros', 'proxima', 'pré\\x00alpha', 'pré\\x00venda', 'própria', 'próximas\\x00', 'próximo', 'ps', 'ps\\x00\\x00', 'ps2\\x00', 'ps3', 'ps4', 'ps4\\x00', 'ps4\\x00ps5\\x00', 'ps5', 'ps5\\x00', 'ps5\\x00\\x00', 'ps5\\x00\\x00\\x00', 'ps5\\x00\\x00\\x00\\x00', 'ps5\\x00pc\\x00', 'ps5\\x00xbox\\x00\\x00\\x00\\x00', 'psn', 'psnow', 'pt\\x00br\\x00', 'putaria', 'pá', 'páscoa', 'pública', 'q', 'qdo', 'qria', 'qual', 'qual\\x00', 'qualidade', 'qualquer', 'quando', 'quanto', 'quantos', 'quarenta', 'quarto', 'quase', 'quatro', 'que', 'quebra', 'quebrar', 'queimar', 'quem', 'quer', 'querer', 'querer\\x00', 'queria', 'quero', 'questão', 'que…', 'quis', 'quiser', 'quiser\\x00', 'quisesse', 'r\\x00', 'r\\x00279', 'r\\x00540\\x00ano', 'rabo', 'racista\\x00', 'ragnarok', 'raid', 'raio', 'ranking', 'ranço', 'rapaz', 'rdna1\\x00', 'reais', 'reais\\x00', 'real', 'realidade', 'realmente', 'receber', 'recebeu', 'receita', 'reclama', 'reclames', 'reclamo', 'recorde', 'recorde\\x00', 'recursos', 'recursos\\x00', 'recusam', 'redações', 'rei', 'remaster', 'removeram', 'resolução', 'resolvidos', 'responde\\x00', 'respondeu', 'respostas', 'resto', 'resume', 'retardado', 'review', 'rica', 'rica\\x00', 'rick', 'rico', 'rim', 'rindo', 'riscado', 'ritmo\\x00', 'roda', 'rodar', 'rodasse', 'rode', 'rolar', 'roupagem\\x00', 'roxinha\\x00', 'rpg', 'rt', 'ruim', 'rumor', 's', 's\\x00', 'sabe', 'sabe\\x00', 'saber', 'sabia', 'sabia\\x00', 'saco', 'sadi', 'safada', 'sai', 'sai\\x00', 'sair', 'saiu', 'sala', 'salve', 'salário', 'saudosista\\x00', 'save', 'scrolls\\x00', 'sdds', 'se', 'seficarputoepior', 'segue', 'seguinte\\x00', 'segundo', 'sei', 'seja', 'sem', 'semana', 'semana\\x00', 'sempre', 'sendo', 'sentido', 'sentir', 'sentiu', 'sento', 'ser', 'sera', 'seria', 'seriam', 'seriamente', 'serie', 'series', 'series\\x00', 'será', 'setup', 'seu', 'seus', 'sexualidade\\x00', 'show\\x00\\x00\\x00', 'si', 'sido', 'significa', 'sim', 'sim\\x00', 'simples', 'simples\\x00', 'simpática', 'simulador', 'sinto', 'site', 'situação', 'skate', 'smt', 'so', 'sobra', 'sobre', 'sobrenatural\\x00', 'sofa\\x00\\x00\\x00\\x00\\x00\\x00', 'software', 'soltou', 'sombras', 'somente', 'something', 'sonhei', 'sonhos\\x00', 'sony', 'sony\\x00', 'sonysta', 'sonystas', 'sonystas\\x00', 'sorriso', 'sorteando', 'sorteio', 'sou', 'sou\\x00', 'souls', 'souls3', 'spider\\x00man', 'ss', 'ssd', 'stadia\\x00', 'steelbook', 'stock', 'store\\x00', 'stranding\\x00', 'streamar', 'streamlabs', 'sua', 'suas', 'subs', 'supera', 'superior', 'suporta', 'suporte', 'surgir', 'surpreendo', 'suspeitei', 'switch', 'switch\\x00', 'switch\\x00ps5\\x00', 'são', 'série', 'séries', 'só', 'ta', 'tal', 'tals\\x00', 'talvez', 'tamanho', 'também', 'também\\x00', 'tampa', 'tanta', 'tanto', 'tava', 'tb', 'tbem', 'tbem\\x00', 'tbm', 'te', 'team', 'tela', 'telefone', 'telescópio\\x00', 'tem', 'temp', 'tempo', 'temporada', 'temporada\\x00', 'tem…', 'tenha', 'tenho', 'tenho\\x00\\x00\\x00', 'tens', 'tentador\\x00', 'tentando', 'tentar', 'tentei', 'tentou', 'teoricamente', 'ter', 'terceira', 'teria', 'termos', 'termômetro', 'testar', 'testei', 'teve', 'the', 'theo', 'thread', 'tik', 'time\\x00', 'tinha', 'tipo', 'tipo\\x00', 'tirar', 'tiras', 'tirei', 'tiro', 'tiro\\x00', 'titan', 'tiver', 'tivesse', 'tlgd', 'tlvz', 'to', 'toda', 'todas', 'todo', 'todo\\x00', 'todos', 'todos\\x00', 'tok', 'tomara', 'tornava', 'torturavam', 'trabalhar', 'traduziram', 'trago', 'trailer', 'trailer\\x00', 'trailers\\x00', 'trampar', 'trampo', 'tranquilamente', 'tranquilo\\x00', 'tratamento', 'tratando', 'travado\\x00', 'traveler', 'traz', 'traz\\x00', 'trazer', 'trigger', 'triste\\x00', 'trocar', 'trouxe', 'trust', 'trust\\x00', 'três\\x00', 'tu', 'tudo', 'tudo\\x00', 'tudo\\x00\\x00', 'tv', 'tvlz', 'tá', 'tão', 'tão\\x00', 'tênis', 'título', 'tô', 'ubisoft', 'ultimate\\x00', 'ultra', 'um', 'uma', 'unem\\x00', 'unid\\x00', 'unidades', 'universo', 'uns', 'update', 'upgrades\\x00\\x00', 'us', 'usar', 'uso', 'usou', 'util', 'ué', 'v', 'v\\x00', 'v16\\x0000', 'vacina', 'vacine', 'vai', 'vais', 'vale', 'vale\\x00', 'valendo', 'valeria', 'valeu', 'valhalla', 'valor', 'valoriza', 'vamo', 'vamos', 'vc', 'vc\\x00', 'vcs', 'vcs\\x00', 'vdd', 'veias', 'veio', 'veja', 'vem', 'vemos', 'vendas', 'vendas\\x00', 'vendendo', 'vender', 'vender\\x00', 'venderem', 'vendidas\\x00', 'vendido', 'vendido\\x00\\x00\\x00', 'venha', 'ver', 'verdade', 'vergonhoso', 'verificados', 'versão', 'vez', 'vezes', 'vi', 'via', 'vida', 'vida\\x00', 'video', 'video\\x00', 'videogame', 'vier', 'viesse', 'vikings', 'vim', 'vindo\\x00', 'vinizin', 'virarem', 'virá', 'visto', 'vitoria', 'vive', 'viver', 'vlw', 'vo', 'voces', 'você', 'você\\x00', 'vocês', 'vocês\\x00', 'volta', 'voltar', 'vontade', 'vota', 'vou', 'vovó', 'vsf', 'vários', 'vão', 'vídeo', 'vídeos', 'vó', 'we', 'went', 'wild\\x00', 'world', 'worlds’', 'wrong', 'wtf', 'x', 'x\\x00', 'x\\x00\\x00\\x00', 'x\\x00s\\x00', 'xbox', 'xbox\\x00', 'xbox\\x00pc', 'xicara', 'xsx', 'yakuza', 'youtube', 'youtube\\x00', 'zerar', 'zero', 'zero\\x00', 'zeus', 'zona', 'zuera', '¡\\x00rainbowsixsiege', 'à', 'às', 'água', 'ânus', 'ç\\x00ç', 'é', 'é\\x00', 'é\\x00\\x00', 'última', 'única', 'único', 'útil', '‘the', '“funcionária', '\\u2066\\x00cocacola\\x00br\\u2069', '☺', '♂', '⚙', '✅', '❤', '️', '️\\x00', '🎉', '🎊', '🎮', '🏻', '🏼', '🏽', '👍', '👍🏻', '👍🏽', '👏', '💣', '💰', '😂', '😉', '😎', '😏', '😐', '😔', '😕', '😝', '😢', '😥', '😭', '😱', '😹', '🙂', '🙈', '🙏', '🤙', '🤙🏻', '🤝', '🤡', '🤣', '🤤', '🤰', '🤰🏼', '🤷', '🤷🏻\\u200d♂️', '🥺']\n",
      "\n"
     ]
    }
   ],
   "source": [
    "qremove_ponc_1=qremove_ponc.reset_index()\n",
    "qremove_link_1=dados_treino.reset_index()\n",
    "listapok = []\n",
    "for wordsss in qremove_ponc_1['index']:\n",
    "    if wordsss not in qremove_link_1['index']:\n",
    "        listapok.append(wordsss)\n",
    "print(listapok)\n",
    "\n",
    "print()"
   ],
   "metadata": {
    "collapsed": false,
    "pycharm": {
     "name": "#%%\n"
    }
   }
  },
  {
   "cell_type": "code",
   "execution_count": 10,
   "outputs": [],
   "source": [],
   "metadata": {
    "collapsed": false,
    "pycharm": {
     "name": "#%%\n"
    }
   }
  }
 ],
 "metadata": {
  "kernelspec": {
   "display_name": "Python 3 (ipykernel)",
   "language": "python",
   "name": "python3"
  },
  "language_info": {
   "codemirror_mode": {
    "name": "ipython",
    "version": 3
   },
   "file_extension": ".py",
   "mimetype": "text/x-python",
   "name": "python",
   "nbconvert_exporter": "python",
   "pygments_lexer": "ipython3",
   "version": "3.8.3"
  }
 },
 "nbformat": 4,
 "nbformat_minor": 1
}