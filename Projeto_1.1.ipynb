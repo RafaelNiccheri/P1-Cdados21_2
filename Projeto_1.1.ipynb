{
 "cells": [
  {
   "cell_type": "markdown",
   "source": [
    "#### __*A variável Object_of_Study é uma variável reservada nessa biblioteca e nao pode ser substituída por nada para a biblioteca funcionar. Ela é ser escolhida ao rodar o programa pela primeira vez, para muda-la reinicie o kernel e/ou o python console dependendo do typo de arquivo.*__\n",
    "\n",
    "### Pra que serve a variável global object_of_study? :\n",
    "### Ela serve para definir o objeto alvo do estudo e evitar sua remoção da base de dados durante os vários tipo diferente de filtragens diferentes.\n",
    "\n",
    "### O arquivo Classes_Funcoes não apresenta nenhuma falha que interfira com outras bibliotecas/arquivos, no entanto, vale notar que:\n",
    "- #### Existem arquivos importados com a estrutura \"from _____ import *\"\n",
    "- #### No arquivo Classes_Funcoes a variável Object_of_Study é uma variável global e portanto ela n deve ser usada.\n",
    "- #### O arquivo Classes_Funcoes foi importado como um arquivo \".ipynb\". Para que esse import funcione corretamente foi necessária essa estrutura abaixo, ela basicamente adiciona uma classe que importa notebooks como modules e os trata como \".py\""
   ],
   "metadata": {
    "collapsed": false
   }
  },
  {
   "cell_type": "code",
   "execution_count": 89,
   "outputs": [],
   "source": [],
   "metadata": {
    "collapsed": false,
    "pycharm": {
     "name": "#%%\n"
    }
   }
  },
  {
   "cell_type": "code",
   "execution_count": 90,
   "metadata": {},
   "outputs": [
    {
     "name": "stdout",
     "output_type": "stream",
     "text": [
      "importing Jupyter notebook from Classes_Funcoes.ipynb\n",
      "Here is a list of length 2 with all words that wont be removed ['fantastico', 'fantástico']\n",
      "[<_virtualenv._Finder object at 0x0000018CBFB31820>, <class '_frozen_importlib.BuiltinImporter'>, <class '_frozen_importlib.FrozenImporter'>, <class '_frozen_importlib_external.PathFinder'>, <six._SixMetaPathImporter object at 0x0000018CC23A8970>, <pkg_resources.extern.VendorImporter object at 0x0000018CC3C06CD0>, <__main__.NotebookFinder object at 0x0000018CC426C8E0>, <__main__.NotebookFinder object at 0x0000018CD5080B80>, <__main__.NotebookFinder object at 0x0000018CD52FD490>, <__main__.NotebookFinder object at 0x0000018CD52FDB80>]\n"
     ]
    }
   ],
   "source": [
    "import io, os, sys, types\n",
    "from IPython import get_ipython\n",
    "from nbformat import read\n",
    "from IPython.core.interactiveshell import InteractiveShell\n",
    "\n",
    "def find_notebook(fullname, path=None):\n",
    "    \"\"\"find a notebook, given its fully qualified name and an optional path\n",
    "\n",
    "    This turns \"foo.bar\" into \"foo/bar.ipynb\"\n",
    "    and tries turning \"Foo_Bar\" into \"Foo Bar\" if Foo_Bar\n",
    "    does not exist.\n",
    "    \"\"\"\n",
    "    name = fullname.rsplit('.', 1)[-1]\n",
    "    if not path:\n",
    "        path = ['']\n",
    "    for d in path:\n",
    "        nb_path = os.path.join(d, name + \".ipynb\")\n",
    "        if os.path.isfile(nb_path):\n",
    "            return nb_path\n",
    "        # let import Notebook_Name find \"Notebook Name.ipynb\"\n",
    "        nb_path = nb_path.replace(\"_\", \" \")\n",
    "        if os.path.isfile(nb_path):\n",
    "            return nb_path\n",
    "\n",
    "class NotebookLoader(object):\n",
    "    \"\"\"Module Loader for Jupyter Notebooks\"\"\"\n",
    "    def __init__(self, path=None):\n",
    "        self.shell = InteractiveShell.instance()\n",
    "        self.path = path\n",
    "\n",
    "    def load_module(self, fullname):\n",
    "        \"\"\"import a notebook as a module\"\"\"\n",
    "        path = find_notebook(fullname, self.path)\n",
    "\n",
    "        print (\"importing Jupyter notebook from %s\" % path)\n",
    "\n",
    "        # load the notebook object\n",
    "        with io.open(path, 'r', encoding='utf-8') as f:\n",
    "            nb = read(f, 4)\n",
    "\n",
    "\n",
    "        # create the module and add it to sys.modules if name in sys.modules:\n",
    "        #    return sys.modules[name]\n",
    "        mod = types.ModuleType(fullname)\n",
    "        mod.__file__ = path\n",
    "        mod.__loader__ = self\n",
    "        mod.__dict__['get_ipython'] = get_ipython\n",
    "        sys.modules[fullname] = mod\n",
    "\n",
    "        # extra work to ensure that magics that would affect the user_ns\n",
    "        # actually affect the notebook module's ns\n",
    "        save_user_ns = self.shell.user_ns\n",
    "        self.shell.user_ns = mod.__dict__\n",
    "\n",
    "        try:\n",
    "          for cell in nb.cells:\n",
    "            if cell.cell_type == 'code':\n",
    "                # transform the input to executable Python\n",
    "                code = self.shell.input_transformer_manager.transform_cell(cell.source)\n",
    "                # run the code in themodule\n",
    "                exec(code, mod.__dict__)\n",
    "        finally:\n",
    "            self.shell.user_ns = save_user_ns\n",
    "        return mod\n",
    "\n",
    "\n",
    "class NotebookFinder(object):\n",
    "    \"\"\"Module finder that locates Jupyter Notebooks\"\"\"\n",
    "    def __init__(self):\n",
    "        self.loaders = {}\n",
    "\n",
    "    def find_module(self, fullname, path=None):\n",
    "        nb_path = find_notebook(fullname, path)\n",
    "        if not nb_path:\n",
    "            return\n",
    "\n",
    "        key = path\n",
    "        if path:\n",
    "            # lists aren't hashable\n",
    "            key = os.path.sep.join(path)\n",
    "\n",
    "        if key not in self.loaders:\n",
    "            self.loaders[key] = NotebookLoader(path)\n",
    "        return self.loaders[key]\n",
    "\n",
    "\n",
    "sys.meta_path.append(NotebookFinder())\n",
    "from Classes_Funcoes import *\n",
    "import string\n",
    "import emoji\n",
    "import pandas as pd\n",
    "print(sys.meta_path)"
   ]
  },
  {
   "cell_type": "code",
   "execution_count": 91,
   "metadata": {
    "pycharm": {
     "name": "#%%\n"
    }
   },
   "outputs": [],
   "source": [
    "pd.options.display.max_columns=50\n",
    "dados_treino = pd.read_excel(f'{Object_of_Study}.xlsx')\n",
    "dados_treino_1=dados_treino\n",
    "\n",
    "dados_treino_rell = dados_treino.loc[dados_treino['Unnamed: 1'] == 1]\n",
    "dados_treino_rel = dados_treino_rell.reset_index()\n",
    "\n",
    "dados_treino_nrel = dados_treino.loc[dados_treino['Unnamed: 1'] == 0]\n",
    "dados_treino_irel = dados_treino_nrel.reset_index()\n"
   ]
  },
  {
   "cell_type": "code",
   "execution_count": 92,
   "outputs": [
    {
     "data": {
      "text/plain": "<IPython.core.display.HTML object>",
      "text/html": "<style>.dataframe td:{\n    color: #F8F8F2;\n    border:3px solid white;\n    background-color; #2b2b2b;\n    text-align: left;\n}\n.dataframe td:hover{\n    text-align: center;\n    font-size: 120%;\n    font-weight: bold;\n    color: black;\n    background-color: #ffffb3;\n    text-align: left;\n}\n.dataframe th:index_name{\n    font-style: italic;\n    font-weight:normal;\n    text-align: left;\n}\n.dataframe th:not(.index_name){\n    background-color: #000066;\n    text-align: left;\n    color: white;\n}\n<style>\n"
     },
     "metadata": {},
     "output_type": "display_data"
    }
   ],
   "source": [
    "%%HTML\n",
    "<style>.dataframe td:{\n",
    "    color: #F8F8F2;\n",
    "    border:3px solid white;\n",
    "    background-color; #2b2b2b;\n",
    "    text-align: left;\n",
    "}\n",
    ".dataframe td:hover{\n",
    "    text-align: center;\n",
    "    font-size: 120%;\n",
    "    font-weight: bold;\n",
    "    color: black;\n",
    "    background-color: #ffffb3;\n",
    "    text-align: left;\n",
    "}\n",
    ".dataframe th:index_name{\n",
    "    font-style: italic;\n",
    "    font-weight:normal;\n",
    "    text-align: left;\n",
    "}\n",
    ".dataframe th:not(.index_name){\n",
    "    background-color: #000066;\n",
    "    text-align: left;\n",
    "    color: white;\n",
    "}\n",
    "<style>"
   ],
   "metadata": {
    "collapsed": false,
    "pycharm": {
     "name": "#%%\n"
    }
   }
  },
  {
   "cell_type": "code",
   "execution_count": 93,
   "outputs": [
    {
     "data": {
      "text/plain": "    Tweets relevantes                                                     \\\n                index                                        Treinamento   \n0                 1.0  #fantastico\\n\\nreportagem sobre os haters\\nmat...   \n1                 2.0                    @karendc99 me parece fantástico   \n2                 3.0  o quarteto fantástico tá diferente 🗣, amo!\\n#a...   \n3                 4.0  foda que os haters ouvidos pelo fantástico apa...   \n4                 5.0               o geco no fantástico eu vou infartar   \n..                ...                                                ...   \n155               NaN                                                NaN   \n156               NaN                                                NaN   \n157               NaN                                                NaN   \n158               NaN                                                NaN   \n159               NaN                                                NaN   \n\n               Tweets irrelevantes  \\\n    Unnamed: 1               index   \n0          1.0                   0   \n1          1.0                   9   \n2          1.0                  10   \n3          1.0                  11   \n4          1.0                  12   \n..         ...                 ...   \n155        NaN                 295   \n156        NaN                 296   \n157        NaN                 297   \n158        NaN                 298   \n159        NaN                 299   \n\n                                                                   \n                                           Treinamento Unnamed: 1  \n0    @cbrzit amg, ele apareceu no fantástico????? o...          0  \n1    @benicamilaa amiga q sdds suas. como esta? uma...          0  \n2    caramba... é angustiante.\\nhttps://t.co/noopnc...          0  \n3    essa história do menino que se * é muito mal c...          0  \n4    então realmente foi ao ar a matéria sobre os h...          0  \n..                                                 ...        ...  \n155            @anajuxl foi no fantástico de hoje vida          0  \n156  eu acho que eles lançaram o clipe agora porque...          0  \n157  @sweetenersdw amigo quando sai sua entrevista ...          0  \n158  @daianenem https://t.co/qmupncchru #notiktokte...          0  \n159     o hater do fantástico? https://t.co/nckw3xkjqh          0  \n\n[160 rows x 6 columns]",
      "text/html": "<div>\n<style scoped>\n    .dataframe tbody tr th:only-of-type {\n        vertical-align: middle;\n    }\n\n    .dataframe tbody tr th {\n        vertical-align: top;\n    }\n\n    .dataframe thead tr th {\n        text-align: left;\n    }\n</style>\n<table border=\"1\" class=\"dataframe\">\n  <thead>\n    <tr>\n      <th></th>\n      <th colspan=\"3\" halign=\"left\">Tweets relevantes</th>\n      <th colspan=\"3\" halign=\"left\">Tweets irrelevantes</th>\n    </tr>\n    <tr>\n      <th></th>\n      <th>index</th>\n      <th>Treinamento</th>\n      <th>Unnamed: 1</th>\n      <th>index</th>\n      <th>Treinamento</th>\n      <th>Unnamed: 1</th>\n    </tr>\n  </thead>\n  <tbody>\n    <tr>\n      <th>0</th>\n      <td>1.0</td>\n      <td>#fantastico\\n\\nreportagem sobre os haters\\nmat...</td>\n      <td>1.0</td>\n      <td>0</td>\n      <td>@cbrzit amg, ele apareceu no fantástico????? o...</td>\n      <td>0</td>\n    </tr>\n    <tr>\n      <th>1</th>\n      <td>2.0</td>\n      <td>@karendc99 me parece fantástico</td>\n      <td>1.0</td>\n      <td>9</td>\n      <td>@benicamilaa amiga q sdds suas. como esta? uma...</td>\n      <td>0</td>\n    </tr>\n    <tr>\n      <th>2</th>\n      <td>3.0</td>\n      <td>o quarteto fantástico tá diferente 🗣, amo!\\n#a...</td>\n      <td>1.0</td>\n      <td>10</td>\n      <td>caramba... é angustiante.\\nhttps://t.co/noopnc...</td>\n      <td>0</td>\n    </tr>\n    <tr>\n      <th>3</th>\n      <td>4.0</td>\n      <td>foda que os haters ouvidos pelo fantástico apa...</td>\n      <td>1.0</td>\n      <td>11</td>\n      <td>essa história do menino que se * é muito mal c...</td>\n      <td>0</td>\n    </tr>\n    <tr>\n      <th>4</th>\n      <td>5.0</td>\n      <td>o geco no fantástico eu vou infartar</td>\n      <td>1.0</td>\n      <td>12</td>\n      <td>então realmente foi ao ar a matéria sobre os h...</td>\n      <td>0</td>\n    </tr>\n    <tr>\n      <th>...</th>\n      <td>...</td>\n      <td>...</td>\n      <td>...</td>\n      <td>...</td>\n      <td>...</td>\n      <td>...</td>\n    </tr>\n    <tr>\n      <th>155</th>\n      <td>NaN</td>\n      <td>NaN</td>\n      <td>NaN</td>\n      <td>295</td>\n      <td>@anajuxl foi no fantástico de hoje vida</td>\n      <td>0</td>\n    </tr>\n    <tr>\n      <th>156</th>\n      <td>NaN</td>\n      <td>NaN</td>\n      <td>NaN</td>\n      <td>296</td>\n      <td>eu acho que eles lançaram o clipe agora porque...</td>\n      <td>0</td>\n    </tr>\n    <tr>\n      <th>157</th>\n      <td>NaN</td>\n      <td>NaN</td>\n      <td>NaN</td>\n      <td>297</td>\n      <td>@sweetenersdw amigo quando sai sua entrevista ...</td>\n      <td>0</td>\n    </tr>\n    <tr>\n      <th>158</th>\n      <td>NaN</td>\n      <td>NaN</td>\n      <td>NaN</td>\n      <td>298</td>\n      <td>@daianenem https://t.co/qmupncchru #notiktokte...</td>\n      <td>0</td>\n    </tr>\n    <tr>\n      <th>159</th>\n      <td>NaN</td>\n      <td>NaN</td>\n      <td>NaN</td>\n      <td>299</td>\n      <td>o hater do fantástico? https://t.co/nckw3xkjqh</td>\n      <td>0</td>\n    </tr>\n  </tbody>\n</table>\n<p>160 rows × 6 columns</p>\n</div>"
     },
     "execution_count": 93,
     "metadata": {},
     "output_type": "execute_result"
    }
   ],
   "source": [
    "dados_treino_juntos = unite_dataframes_col(dados_treino_rel, dados_treino_irel, 'Tweets relevantes', 'Tweets irrelevantes')\n",
    "dados_treino_juntos.drop([('Tweets relevantes', 'index'), ('Tweets irrelevantes', 'index')], axis=1)\n",
    "dados_treino_juntos"
   ],
   "metadata": {
    "collapsed": false,
    "pycharm": {
     "name": "#%%\n"
    }
   }
  },
  {
   "cell_type": "markdown",
   "source": [
    "## tweets relevantes\n",
    "### separando e contando as palvras e os emojis"
   ],
   "metadata": {
    "collapsed": false,
    "pycharm": {
     "name": "#%% md\n"
    }
   }
  },
  {
   "cell_type": "code",
   "execution_count": 94,
   "metadata": {
    "pycharm": {
     "name": "#%%\n"
    },
    "scrolled": false
   },
   "outputs": [
    {
     "data": {
      "text/plain": "            # de ocorrências\na                        101\nque                       93\no                         89\nfantástico                81\nde                        76\n...                      ...\ndormir.                    1\ninstante                   1\nabalar,                    1\nfilho                      1\ntenebrosa                  1\n\n[1368 rows x 1 columns]",
      "text/html": "<div>\n<style scoped>\n    .dataframe tbody tr th:only-of-type {\n        vertical-align: middle;\n    }\n\n    .dataframe tbody tr th {\n        vertical-align: top;\n    }\n\n    .dataframe thead th {\n        text-align: right;\n    }\n</style>\n<table border=\"1\" class=\"dataframe\">\n  <thead>\n    <tr style=\"text-align: right;\">\n      <th></th>\n      <th># de ocorrências</th>\n    </tr>\n  </thead>\n  <tbody>\n    <tr>\n      <th>a</th>\n      <td>101</td>\n    </tr>\n    <tr>\n      <th>que</th>\n      <td>93</td>\n    </tr>\n    <tr>\n      <th>o</th>\n      <td>89</td>\n    </tr>\n    <tr>\n      <th>fantástico</th>\n      <td>81</td>\n    </tr>\n    <tr>\n      <th>de</th>\n      <td>76</td>\n    </tr>\n    <tr>\n      <th>...</th>\n      <td>...</td>\n    </tr>\n    <tr>\n      <th>dormir.</th>\n      <td>1</td>\n    </tr>\n    <tr>\n      <th>instante</th>\n      <td>1</td>\n    </tr>\n    <tr>\n      <th>abalar,</th>\n      <td>1</td>\n    </tr>\n    <tr>\n      <th>filho</th>\n      <td>1</td>\n    </tr>\n    <tr>\n      <th>tenebrosa</th>\n      <td>1</td>\n    </tr>\n  </tbody>\n</table>\n<p>1368 rows × 1 columns</p>\n</div>"
     },
     "execution_count": 94,
     "metadata": {},
     "output_type": "execute_result"
    }
   ],
   "source": [
    "rel = ListWord(column_name='Treinamento').c_o_f(dados_treino_rel)\n",
    "rel.sort_values(by='# de ocorrências', ascending=False)"
   ]
  },
  {
   "cell_type": "markdown",
   "source": [
    "### Limpando o DataFrame"
   ],
   "metadata": {
    "collapsed": false,
    "pycharm": {
     "name": "#%% md\n"
    }
   }
  },
  {
   "cell_type": "code",
   "execution_count": 95,
   "outputs": [],
   "source": [
    "rel_limp = RemoveWords(rel, '# de ocorrências', show_removed=False)\n",
    "rel_limp1 = RemoveWords(rel, '# de ocorrências', show_removed=False)\n",
    "rel_limp2 = RemoveWords(rel, '# de ocorrências', show_removed=False)\n",
    "rel_limp3 = RemoveWords(rel, '# de ocorrências', show_removed=False)\n",
    "rel_limp4 = RemoveWords(rel, '# de ocorrências', show_removed=False)\n",
    "rel_limp5 = RemoveWords(rel, '# de ocorrências', show_removed=False)\n",
    "rel_limp6 = RemoveWords(rel, '# de ocorrências', show_removed=False)"
   ],
   "metadata": {
    "collapsed": false,
    "pycharm": {
     "name": "#%%\n"
    }
   }
  },
  {
   "cell_type": "markdown",
   "source": [
    "#### palavras removidas"
   ],
   "metadata": {
    "collapsed": false,
    "pycharm": {
     "name": "#%% md\n"
    }
   }
  },
  {
   "cell_type": "code",
   "execution_count": 96,
   "outputs": [
    {
     "name": "stdout",
     "output_type": "stream",
     "text": [
      "\n",
      " sem palavras com @\n",
      "\n",
      " sem palavras com link\n",
      "\n",
      " sem pontuação nas palavras\n",
      "\n",
      " sem palavras com menos de 3 letras\n",
      "\n",
      " sem palavras com mais de 3 ks juntos\n",
      "\n",
      " sem palavras com sequencia de numero da ordem das unidades maior que 3 juntos\n",
      "\n",
      " todos os filtros juntos\n"
     ]
    }
   ],
   "source": [
    "print('\\n sem palavras com @')\n",
    "qremove_at_rel = rel_limp1.remove_at()\n",
    "print('\\n sem palavras com link')\n",
    "qremove_link_rel =rel_limp.remove_link()\n",
    "print('\\n sem pontuação nas palavras')\n",
    "qremove_ponc_rel = rel_limp2.remove_ponc()\n",
    "print('\\n sem palavras com menos de 3 letras')\n",
    "qremove_word_sts_rel = rel_limp3.remove_word_sts(3)\n",
    "print('\\n sem palavras com mais de 3 ks juntos')\n",
    "qremove_laugh_rel = rel_limp4.remove_laugh(2, 5)\n",
    "print('\\n sem palavras com sequencia de numero da ordem das unidades maior que 3 juntos')\n",
    "qremove_num_str_rel = rel_limp5.remove_num_str(3)\n",
    "print('\\n todos os filtros juntos')\n",
    "qremove_options_rel = rel_limp6.remove_options(remove_at={True: '()'}, remove_link={True: '()'},\n",
    "                                    remove_ponc={True: '()'},remove_laugh={True: '(2, 5)'},\n",
    "                                    remove_word_sts={True: '(3)'}, remove_num_str={True: '(3)'})"
   ],
   "metadata": {
    "collapsed": false,
    "pycharm": {
     "name": "#%%\n"
    }
   }
  },
  {
   "cell_type": "code",
   "execution_count": 97,
   "outputs": [],
   "source": [
    "palavra = 'abalar'\n",
    "if palavra in qremove_options_rel.reset_index()['index'] and len(palavra) != len(palavra):\n",
    "    print(f'''KEJFHIDBGLKIEARUGB _L_E\n",
    "{palavra}\n",
    "{len(palavra)}D''')"
   ],
   "metadata": {
    "collapsed": false,
    "pycharm": {
     "name": "#%%\n"
    }
   }
  },
  {
   "cell_type": "markdown",
   "source": [
    "## tweets relevantes\n",
    "### separando e contando as palvras e os emojis"
   ],
   "metadata": {
    "collapsed": false,
    "pycharm": {
     "name": "#%% md\n"
    }
   }
  },
  {
   "cell_type": "code",
   "execution_count": 98,
   "outputs": [
    {
     "data": {
      "text/plain": "                         # de ocorrências\nfantástico                             98\nno                                     79\no                                      75\nque                                    74\na                                      67\n...                                   ...\nxotinha                                 1\nhttps://t.co/ujlorusq5l                 1\nhttps://t.co/eghuyvzzdu                 1\nsapatos                                 1\nativa                                   1\n\n[1240 rows x 1 columns]",
      "text/html": "<div>\n<style scoped>\n    .dataframe tbody tr th:only-of-type {\n        vertical-align: middle;\n    }\n\n    .dataframe tbody tr th {\n        vertical-align: top;\n    }\n\n    .dataframe thead th {\n        text-align: right;\n    }\n</style>\n<table border=\"1\" class=\"dataframe\">\n  <thead>\n    <tr style=\"text-align: right;\">\n      <th></th>\n      <th># de ocorrências</th>\n    </tr>\n  </thead>\n  <tbody>\n    <tr>\n      <th>fantástico</th>\n      <td>98</td>\n    </tr>\n    <tr>\n      <th>no</th>\n      <td>79</td>\n    </tr>\n    <tr>\n      <th>o</th>\n      <td>75</td>\n    </tr>\n    <tr>\n      <th>que</th>\n      <td>74</td>\n    </tr>\n    <tr>\n      <th>a</th>\n      <td>67</td>\n    </tr>\n    <tr>\n      <th>...</th>\n      <td>...</td>\n    </tr>\n    <tr>\n      <th>xotinha</th>\n      <td>1</td>\n    </tr>\n    <tr>\n      <th>https://t.co/ujlorusq5l</th>\n      <td>1</td>\n    </tr>\n    <tr>\n      <th>https://t.co/eghuyvzzdu</th>\n      <td>1</td>\n    </tr>\n    <tr>\n      <th>sapatos</th>\n      <td>1</td>\n    </tr>\n    <tr>\n      <th>ativa</th>\n      <td>1</td>\n    </tr>\n  </tbody>\n</table>\n<p>1240 rows × 1 columns</p>\n</div>"
     },
     "execution_count": 98,
     "metadata": {},
     "output_type": "execute_result"
    }
   ],
   "source": [
    "irel = ListWord(column_name='Treinamento').c_o_f(dados_treino_irel)\n",
    "irel.sort_values(by='# de ocorrências', ascending=False)\n",
    "irel.sort_values(by='# de ocorrências', ascending=False)"
   ],
   "metadata": {
    "collapsed": false,
    "pycharm": {
     "name": "#%%\n"
    }
   }
  },
  {
   "cell_type": "markdown",
   "source": [
    "### Limpando o DataFrame"
   ],
   "metadata": {
    "collapsed": false,
    "pycharm": {
     "name": "#%% md\n"
    }
   }
  },
  {
   "cell_type": "code",
   "execution_count": 99,
   "outputs": [],
   "source": [
    "irel_limp = RemoveWords(irel, '# de ocorrências', show_removed=False)\n",
    "irel_limp1 = RemoveWords(irel, '# de ocorrências', show_removed=False)\n",
    "irel_limp2 = RemoveWords(irel, '# de ocorrências', show_removed=False)\n",
    "irel_limp3 = RemoveWords(irel, '# de ocorrências', show_removed=False)\n",
    "irel_limp4 = RemoveWords(irel, '# de ocorrências', show_removed=False)\n",
    "irel_limp5 = RemoveWords(irel, '# de ocorrências', show_removed=False)\n",
    "irel_limp6 = RemoveWords(irel, '# de ocorrências', show_removed=False)"
   ],
   "metadata": {
    "collapsed": false,
    "pycharm": {
     "name": "#%%\n"
    }
   }
  },
  {
   "cell_type": "markdown",
   "source": [
    "#### palavras removidas"
   ],
   "metadata": {
    "collapsed": false,
    "pycharm": {
     "name": "#%% md\n"
    }
   }
  },
  {
   "cell_type": "code",
   "execution_count": 100,
   "outputs": [
    {
     "name": "stdout",
     "output_type": "stream",
     "text": [
      "\n",
      " sem palavras com @\n",
      "\n",
      " sem palavras com link\n",
      "\n",
      " sem pontuação nas palavras\n",
      "\n",
      " sem palavras com menos de 3 letras\n",
      "\n",
      " sem palavras com mais de 3 ks juntos\n",
      "\n",
      " sem palavras com sequencia de numero da ordem das unidades maior que 3 juntos\n",
      "\n",
      " todos os filtros juntos\n"
     ]
    }
   ],
   "source": [
    "print('\\n sem palavras com @')\n",
    "qremove_at_irel = irel_limp1.remove_at()\n",
    "print('\\n sem palavras com link')\n",
    "qremove_link_irel =irel_limp.remove_link()\n",
    "print('\\n sem pontuação nas palavras')\n",
    "qremove_ponc_irel = irel_limp2.remove_ponc()\n",
    "print('\\n sem palavras com menos de 3 letras')\n",
    "qremove_word_sts_irel = irel_limp3.remove_word_sts(3)\n",
    "print('\\n sem palavras com mais de 3 ks juntos')\n",
    "qremove_laugh_irel = irel_limp4.remove_laugh(2, 5)\n",
    "print('\\n sem palavras com sequencia de numero da ordem das unidades maior que 3 juntos')\n",
    "qremove_num_str_irel = irel_limp5.remove_num_str(3)\n",
    "print('\\n todos os filtros juntos')\n",
    "qremove_options_irel = irel_limp6.remove_options(remove_at={True: '()'}, remove_link={True: '()'},\n",
    "                                    remove_ponc={True: '()'},remove_laugh={True: '(2, 5)'},\n",
    "                                    remove_word_sts={True: '(3)'}, remove_num_str={True: '(3)'})\n",
    "\n",
    "palavra = 'abalar'\n",
    "if palavra in qremove_options_rel.reset_index()['index'] and len(palavra) != len(palavra):\n",
    "    print(f'''KEJFHIDBGLKIEARUGB _L_E\n",
    "{palavra}\n",
    "{len(palavra)}D''')"
   ],
   "metadata": {
    "collapsed": false,
    "pycharm": {
     "name": "#%%\n"
    }
   }
  },
  {
   "cell_type": "markdown",
   "source": [
    "#### Antes de filtrar, todos os emojis e as palavras inseridas no começo são excluídos da filtragem e colocados de volta na vase de dados."
   ],
   "metadata": {
    "collapsed": false,
    "pycharm": {
     "name": "#%% md\n"
    }
   }
  },
  {
   "cell_type": "markdown",
   "source": [
    "#### dataframes com a frequencia de palavras relevantes e irrelevantes ao lado um do outro"
   ],
   "metadata": {
    "collapsed": false,
    "pycharm": {
     "name": "#%% md\n"
    }
   }
  },
  {
   "cell_type": "code",
   "execution_count": 101,
   "outputs": [
    {
     "data": {
      "text/plain": "              Palavras em tweets relevantes Palavras em tweets irrelevantes\n                           # de ocorrências                # de ocorrências\na                                     101.0                            67.0\nque                                    93.0                            74.0\no                                      89.0                            75.0\nfantástico                             81.0                            98.0\nde                                     76.0                            66.0\n...                                     ...                             ...\ngraça.                                  NaN                             1.0\nabsolutamente                           NaN                             1.0\nabraçar                                 NaN                             1.0\nhateando                                NaN                             1.0\nmodelos                                 NaN                             1.0\n\n[2160 rows x 2 columns]",
      "text/html": "<div>\n<style scoped>\n    .dataframe tbody tr th:only-of-type {\n        vertical-align: middle;\n    }\n\n    .dataframe tbody tr th {\n        vertical-align: top;\n    }\n\n    .dataframe thead tr th {\n        text-align: left;\n    }\n</style>\n<table border=\"1\" class=\"dataframe\">\n  <thead>\n    <tr>\n      <th></th>\n      <th>Palavras em tweets relevantes</th>\n      <th>Palavras em tweets irrelevantes</th>\n    </tr>\n    <tr>\n      <th></th>\n      <th># de ocorrências</th>\n      <th># de ocorrências</th>\n    </tr>\n  </thead>\n  <tbody>\n    <tr>\n      <th>a</th>\n      <td>101.0</td>\n      <td>67.0</td>\n    </tr>\n    <tr>\n      <th>que</th>\n      <td>93.0</td>\n      <td>74.0</td>\n    </tr>\n    <tr>\n      <th>o</th>\n      <td>89.0</td>\n      <td>75.0</td>\n    </tr>\n    <tr>\n      <th>fantástico</th>\n      <td>81.0</td>\n      <td>98.0</td>\n    </tr>\n    <tr>\n      <th>de</th>\n      <td>76.0</td>\n      <td>66.0</td>\n    </tr>\n    <tr>\n      <th>...</th>\n      <td>...</td>\n      <td>...</td>\n    </tr>\n    <tr>\n      <th>graça.</th>\n      <td>NaN</td>\n      <td>1.0</td>\n    </tr>\n    <tr>\n      <th>absolutamente</th>\n      <td>NaN</td>\n      <td>1.0</td>\n    </tr>\n    <tr>\n      <th>abraçar</th>\n      <td>NaN</td>\n      <td>1.0</td>\n    </tr>\n    <tr>\n      <th>hateando</th>\n      <td>NaN</td>\n      <td>1.0</td>\n    </tr>\n    <tr>\n      <th>modelos</th>\n      <td>NaN</td>\n      <td>1.0</td>\n    </tr>\n  </tbody>\n</table>\n<p>2160 rows × 2 columns</p>\n</div>"
     },
     "execution_count": 101,
     "metadata": {},
     "output_type": "execute_result"
    }
   ],
   "source": [
    "qremove_link_rel.sort_values(by='# de ocorrências', ascending=False)\n",
    "unite_dataframes_col(qremove_link_rel.sort_values(by='# de ocorrências', ascending=False),\n",
    "                        qremove_link_irel.sort_values(by='# de ocorrências', ascending=False),\n",
    "                        'Palavras em tweets relevantes', 'Palavras em tweets irrelevantes')"
   ],
   "metadata": {
    "collapsed": false,
    "pycharm": {
     "name": "#%%\n"
    }
   }
  },
  {
   "cell_type": "code",
   "execution_count": 102,
   "outputs": [
    {
     "data": {
      "text/plain": "              Palavras em tweets relevantes Palavras em tweets irrelevantes\n                           # de ocorrências                # de ocorrências\nfantástico                            105.0                           129.0\na                                     101.0                            67.0\nque                                    94.0                            76.0\no                                      90.0                            75.0\nde                                     76.0                            66.0\n...                                     ...                             ...\ncolocam                                 NaN                             1.0\nlesou                                   NaN                             1.0\nlinda                                   NaN                             1.0\nlindo                                   NaN                             1.0\njully02184332                           NaN                             1.0\n\n[2049 rows x 2 columns]",
      "text/html": "<div>\n<style scoped>\n    .dataframe tbody tr th:only-of-type {\n        vertical-align: middle;\n    }\n\n    .dataframe tbody tr th {\n        vertical-align: top;\n    }\n\n    .dataframe thead tr th {\n        text-align: left;\n    }\n</style>\n<table border=\"1\" class=\"dataframe\">\n  <thead>\n    <tr>\n      <th></th>\n      <th>Palavras em tweets relevantes</th>\n      <th>Palavras em tweets irrelevantes</th>\n    </tr>\n    <tr>\n      <th></th>\n      <th># de ocorrências</th>\n      <th># de ocorrências</th>\n    </tr>\n  </thead>\n  <tbody>\n    <tr>\n      <th>fantástico</th>\n      <td>105.0</td>\n      <td>129.0</td>\n    </tr>\n    <tr>\n      <th>a</th>\n      <td>101.0</td>\n      <td>67.0</td>\n    </tr>\n    <tr>\n      <th>que</th>\n      <td>94.0</td>\n      <td>76.0</td>\n    </tr>\n    <tr>\n      <th>o</th>\n      <td>90.0</td>\n      <td>75.0</td>\n    </tr>\n    <tr>\n      <th>de</th>\n      <td>76.0</td>\n      <td>66.0</td>\n    </tr>\n    <tr>\n      <th>...</th>\n      <td>...</td>\n      <td>...</td>\n    </tr>\n    <tr>\n      <th>colocam</th>\n      <td>NaN</td>\n      <td>1.0</td>\n    </tr>\n    <tr>\n      <th>lesou</th>\n      <td>NaN</td>\n      <td>1.0</td>\n    </tr>\n    <tr>\n      <th>linda</th>\n      <td>NaN</td>\n      <td>1.0</td>\n    </tr>\n    <tr>\n      <th>lindo</th>\n      <td>NaN</td>\n      <td>1.0</td>\n    </tr>\n    <tr>\n      <th>jully02184332</th>\n      <td>NaN</td>\n      <td>1.0</td>\n    </tr>\n  </tbody>\n</table>\n<p>2049 rows × 2 columns</p>\n</div>"
     },
     "execution_count": 102,
     "metadata": {},
     "output_type": "execute_result"
    }
   ],
   "source": [
    "qremove_ponc_rel.sort_values(by='# de ocorrências', ascending=False)\n",
    "unite_dataframes_col(qremove_ponc_rel.sort_values(by='# de ocorrências', ascending=False),\n",
    "                        qremove_ponc_irel.sort_values(by='# de ocorrências', ascending=False),\n",
    "                        'Palavras em tweets relevantes', 'Palavras em tweets irrelevantes')"
   ],
   "metadata": {
    "collapsed": false,
    "pycharm": {
     "name": "#%%\n"
    }
   }
  },
  {
   "cell_type": "code",
   "execution_count": 103,
   "outputs": [
    {
     "data": {
      "text/plain": "           Palavras em tweets relevantes Palavras em tweets irrelevantes\n                        # de ocorrências                # de ocorrências\nque                                 93.0                            74.0\nfantástico                          81.0                            98.0\nsobre                               46.0                            13.0\nmatéria                             42.0                            20.0\nnão                                 30.0                            25.0\n...                                  ...                             ...\ndonas                                NaN                             1.0\ndopado                               NaN                             1.0\ndormi.                               NaN                             1.0\ndormindo                             NaN                             1.0\nhater,                               NaN                             1.0\n\n[2112 rows x 2 columns]",
      "text/html": "<div>\n<style scoped>\n    .dataframe tbody tr th:only-of-type {\n        vertical-align: middle;\n    }\n\n    .dataframe tbody tr th {\n        vertical-align: top;\n    }\n\n    .dataframe thead tr th {\n        text-align: left;\n    }\n</style>\n<table border=\"1\" class=\"dataframe\">\n  <thead>\n    <tr>\n      <th></th>\n      <th>Palavras em tweets relevantes</th>\n      <th>Palavras em tweets irrelevantes</th>\n    </tr>\n    <tr>\n      <th></th>\n      <th># de ocorrências</th>\n      <th># de ocorrências</th>\n    </tr>\n  </thead>\n  <tbody>\n    <tr>\n      <th>que</th>\n      <td>93.0</td>\n      <td>74.0</td>\n    </tr>\n    <tr>\n      <th>fantástico</th>\n      <td>81.0</td>\n      <td>98.0</td>\n    </tr>\n    <tr>\n      <th>sobre</th>\n      <td>46.0</td>\n      <td>13.0</td>\n    </tr>\n    <tr>\n      <th>matéria</th>\n      <td>42.0</td>\n      <td>20.0</td>\n    </tr>\n    <tr>\n      <th>não</th>\n      <td>30.0</td>\n      <td>25.0</td>\n    </tr>\n    <tr>\n      <th>...</th>\n      <td>...</td>\n      <td>...</td>\n    </tr>\n    <tr>\n      <th>donas</th>\n      <td>NaN</td>\n      <td>1.0</td>\n    </tr>\n    <tr>\n      <th>dopado</th>\n      <td>NaN</td>\n      <td>1.0</td>\n    </tr>\n    <tr>\n      <th>dormi.</th>\n      <td>NaN</td>\n      <td>1.0</td>\n    </tr>\n    <tr>\n      <th>dormindo</th>\n      <td>NaN</td>\n      <td>1.0</td>\n    </tr>\n    <tr>\n      <th>hater,</th>\n      <td>NaN</td>\n      <td>1.0</td>\n    </tr>\n  </tbody>\n</table>\n<p>2112 rows × 2 columns</p>\n</div>"
     },
     "execution_count": 103,
     "metadata": {},
     "output_type": "execute_result"
    }
   ],
   "source": [
    "qremove_word_sts_rel.sort_values(by='# de ocorrências', ascending=False)\n",
    "unite_dataframes_col(qremove_word_sts_rel.sort_values(by='# de ocorrências', ascending=False),\n",
    "                        qremove_word_sts_irel.sort_values(by='# de ocorrências', ascending=False),\n",
    "                        'Palavras em tweets relevantes', 'Palavras em tweets irrelevantes')\n"
   ],
   "metadata": {
    "collapsed": false,
    "pycharm": {
     "name": "#%%\n"
    }
   }
  },
  {
   "cell_type": "code",
   "execution_count": 104,
   "outputs": [
    {
     "data": {
      "text/plain": "             Palavras em tweets relevantes Palavras em tweets irrelevantes\n                          # de ocorrências                # de ocorrências\na                                    101.0                            67.0\nque                                   93.0                            74.0\no                                     89.0                            75.0\nfantástico                            81.0                            98.0\nde                                    76.0                            66.0\n...                                    ...                             ...\nhipócritas,                            NaN                             1.0\nhistória                               NaN                             1.0\n@zeliaduncan                           NaN                             1.0\nhj.                                    NaN                             1.0\nhaters.                                NaN                             1.0\n\n[2223 rows x 2 columns]",
      "text/html": "<div>\n<style scoped>\n    .dataframe tbody tr th:only-of-type {\n        vertical-align: middle;\n    }\n\n    .dataframe tbody tr th {\n        vertical-align: top;\n    }\n\n    .dataframe thead tr th {\n        text-align: left;\n    }\n</style>\n<table border=\"1\" class=\"dataframe\">\n  <thead>\n    <tr>\n      <th></th>\n      <th>Palavras em tweets relevantes</th>\n      <th>Palavras em tweets irrelevantes</th>\n    </tr>\n    <tr>\n      <th></th>\n      <th># de ocorrências</th>\n      <th># de ocorrências</th>\n    </tr>\n  </thead>\n  <tbody>\n    <tr>\n      <th>a</th>\n      <td>101.0</td>\n      <td>67.0</td>\n    </tr>\n    <tr>\n      <th>que</th>\n      <td>93.0</td>\n      <td>74.0</td>\n    </tr>\n    <tr>\n      <th>o</th>\n      <td>89.0</td>\n      <td>75.0</td>\n    </tr>\n    <tr>\n      <th>fantástico</th>\n      <td>81.0</td>\n      <td>98.0</td>\n    </tr>\n    <tr>\n      <th>de</th>\n      <td>76.0</td>\n      <td>66.0</td>\n    </tr>\n    <tr>\n      <th>...</th>\n      <td>...</td>\n      <td>...</td>\n    </tr>\n    <tr>\n      <th>hipócritas,</th>\n      <td>NaN</td>\n      <td>1.0</td>\n    </tr>\n    <tr>\n      <th>história</th>\n      <td>NaN</td>\n      <td>1.0</td>\n    </tr>\n    <tr>\n      <th>@zeliaduncan</th>\n      <td>NaN</td>\n      <td>1.0</td>\n    </tr>\n    <tr>\n      <th>hj.</th>\n      <td>NaN</td>\n      <td>1.0</td>\n    </tr>\n    <tr>\n      <th>haters.</th>\n      <td>NaN</td>\n      <td>1.0</td>\n    </tr>\n  </tbody>\n</table>\n<p>2223 rows × 2 columns</p>\n</div>"
     },
     "execution_count": 104,
     "metadata": {},
     "output_type": "execute_result"
    }
   ],
   "source": [
    "qremove_laugh_rel.sort_values(by='# de ocorrências', ascending=False)\n",
    "unite_dataframes_col(qremove_laugh_rel.sort_values(by='# de ocorrências', ascending=False),\n",
    "                        qremove_laugh_irel.sort_values(by='# de ocorrências', ascending=False),\n",
    "                        'Palavras em tweets relevantes', 'Palavras em tweets irrelevantes')\n",
    "\n"
   ],
   "metadata": {
    "collapsed": false,
    "pycharm": {
     "name": "#%%\n"
    }
   }
  },
  {
   "cell_type": "code",
   "execution_count": 105,
   "outputs": [
    {
     "data": {
      "text/plain": "            Palavras em tweets relevantes Palavras em tweets irrelevantes\n                         # de ocorrências                # de ocorrências\na                                   101.0                            67.0\nque                                  93.0                            74.0\no                                    89.0                            75.0\nfantástico                           81.0                            98.0\nde                                   76.0                            66.0\n...                                   ...                             ...\naassustador                           NaN                             1.0\nhj.                                   NaN                             1.0\naaaaaa                                NaN                             1.0\nhoje)                                 NaN                             1.0\nmentiras                              NaN                             1.0\n\n[2232 rows x 2 columns]",
      "text/html": "<div>\n<style scoped>\n    .dataframe tbody tr th:only-of-type {\n        vertical-align: middle;\n    }\n\n    .dataframe tbody tr th {\n        vertical-align: top;\n    }\n\n    .dataframe thead tr th {\n        text-align: left;\n    }\n</style>\n<table border=\"1\" class=\"dataframe\">\n  <thead>\n    <tr>\n      <th></th>\n      <th>Palavras em tweets relevantes</th>\n      <th>Palavras em tweets irrelevantes</th>\n    </tr>\n    <tr>\n      <th></th>\n      <th># de ocorrências</th>\n      <th># de ocorrências</th>\n    </tr>\n  </thead>\n  <tbody>\n    <tr>\n      <th>a</th>\n      <td>101.0</td>\n      <td>67.0</td>\n    </tr>\n    <tr>\n      <th>que</th>\n      <td>93.0</td>\n      <td>74.0</td>\n    </tr>\n    <tr>\n      <th>o</th>\n      <td>89.0</td>\n      <td>75.0</td>\n    </tr>\n    <tr>\n      <th>fantástico</th>\n      <td>81.0</td>\n      <td>98.0</td>\n    </tr>\n    <tr>\n      <th>de</th>\n      <td>76.0</td>\n      <td>66.0</td>\n    </tr>\n    <tr>\n      <th>...</th>\n      <td>...</td>\n      <td>...</td>\n    </tr>\n    <tr>\n      <th>aassustador</th>\n      <td>NaN</td>\n      <td>1.0</td>\n    </tr>\n    <tr>\n      <th>hj.</th>\n      <td>NaN</td>\n      <td>1.0</td>\n    </tr>\n    <tr>\n      <th>aaaaaa</th>\n      <td>NaN</td>\n      <td>1.0</td>\n    </tr>\n    <tr>\n      <th>hoje)</th>\n      <td>NaN</td>\n      <td>1.0</td>\n    </tr>\n    <tr>\n      <th>mentiras</th>\n      <td>NaN</td>\n      <td>1.0</td>\n    </tr>\n  </tbody>\n</table>\n<p>2232 rows × 2 columns</p>\n</div>"
     },
     "execution_count": 105,
     "metadata": {},
     "output_type": "execute_result"
    }
   ],
   "source": [
    "qremove_num_str_rel.sort_values(by='# de ocorrências', ascending=False)\n",
    "unite_dataframes_col(qremove_num_str_rel.sort_values(by='# de ocorrências', ascending=False),\n",
    "                        qremove_num_str_irel.sort_values(by='# de ocorrências', ascending=False),\n",
    "                        'Palavras em tweets relevantes', 'Palavras em tweets irrelevantes')"
   ],
   "metadata": {
    "collapsed": false,
    "pycharm": {
     "name": "#%%\n"
    }
   }
  },
  {
   "cell_type": "code",
   "execution_count": 106,
   "outputs": [
    {
     "data": {
      "text/plain": "              Palavras em tweets relevantes Palavras em tweets irrelevantes  \\\n                           # de ocorrências                # de ocorrências   \nfantástico                            105.0                           129.0   \nque                                    94.0                            76.0   \nsobre                                  46.0                            13.0   \nmatéria                                43.0                            22.0   \nfantastico                             36.0                            22.0   \n...                                     ...                             ...   \nmedonhas                                0.0                             1.0   \ncomedycentral                           0.0                             1.0   \nmelinda                                 0.0                             1.0   \ncolocou                                 0.0                             1.0   \nmanca                                   0.0                             1.0   \n\n               todos os tweets  \n              # de ocorrências  \nfantástico               234.0  \nque                      170.0  \nsobre                     59.0  \nmatéria                   65.0  \nfantastico                58.0  \n...                        ...  \nmedonhas                   1.0  \ncomedycentral              1.0  \nmelinda                    1.0  \ncolocou                    1.0  \nmanca                      1.0  \n\n[1706 rows x 3 columns]",
      "text/html": "<div>\n<style scoped>\n    .dataframe tbody tr th:only-of-type {\n        vertical-align: middle;\n    }\n\n    .dataframe tbody tr th {\n        vertical-align: top;\n    }\n\n    .dataframe thead tr th {\n        text-align: left;\n    }\n</style>\n<table border=\"1\" class=\"dataframe\">\n  <thead>\n    <tr>\n      <th></th>\n      <th>Palavras em tweets relevantes</th>\n      <th>Palavras em tweets irrelevantes</th>\n      <th>todos os tweets</th>\n    </tr>\n    <tr>\n      <th></th>\n      <th># de ocorrências</th>\n      <th># de ocorrências</th>\n      <th># de ocorrências</th>\n    </tr>\n  </thead>\n  <tbody>\n    <tr>\n      <th>fantástico</th>\n      <td>105.0</td>\n      <td>129.0</td>\n      <td>234.0</td>\n    </tr>\n    <tr>\n      <th>que</th>\n      <td>94.0</td>\n      <td>76.0</td>\n      <td>170.0</td>\n    </tr>\n    <tr>\n      <th>sobre</th>\n      <td>46.0</td>\n      <td>13.0</td>\n      <td>59.0</td>\n    </tr>\n    <tr>\n      <th>matéria</th>\n      <td>43.0</td>\n      <td>22.0</td>\n      <td>65.0</td>\n    </tr>\n    <tr>\n      <th>fantastico</th>\n      <td>36.0</td>\n      <td>22.0</td>\n      <td>58.0</td>\n    </tr>\n    <tr>\n      <th>...</th>\n      <td>...</td>\n      <td>...</td>\n      <td>...</td>\n    </tr>\n    <tr>\n      <th>medonhas</th>\n      <td>0.0</td>\n      <td>1.0</td>\n      <td>1.0</td>\n    </tr>\n    <tr>\n      <th>comedycentral</th>\n      <td>0.0</td>\n      <td>1.0</td>\n      <td>1.0</td>\n    </tr>\n    <tr>\n      <th>melinda</th>\n      <td>0.0</td>\n      <td>1.0</td>\n      <td>1.0</td>\n    </tr>\n    <tr>\n      <th>colocou</th>\n      <td>0.0</td>\n      <td>1.0</td>\n      <td>1.0</td>\n    </tr>\n    <tr>\n      <th>manca</th>\n      <td>0.0</td>\n      <td>1.0</td>\n      <td>1.0</td>\n    </tr>\n  </tbody>\n</table>\n<p>1706 rows × 3 columns</p>\n</div>"
     },
     "execution_count": 106,
     "metadata": {},
     "output_type": "execute_result"
    }
   ],
   "source": [
    "qremove_options_rel.sort_values(by='# de ocorrências', ascending=False)\n",
    "qremove_options_unidos = unite_dataframes_col(qremove_options_rel.sort_values(by='# de ocorrências', ascending=False),\n",
    "                                              qremove_options_irel.sort_values(by='# de ocorrências', ascending=False),'Palavras em tweets relevantes', 'Palavras em tweets irrelevantes', replace_nan=0)\n",
    "qremove_options_unidos[('todos os tweets', '# de ocorrências')] = qremove_options_unidos[('Palavras em tweets relevantes', '# de ocorrências')] + qremove_options_unidos[('Palavras em tweets irrelevantes', '# de ocorrências')]\n",
    "\n",
    "qremove_options_unidos"
   ],
   "metadata": {
    "collapsed": false,
    "pycharm": {
     "name": "#%%\n"
    }
   }
  },
  {
   "cell_type": "markdown",
   "source": [
    "# Naive-Bayes"
   ],
   "metadata": {
    "collapsed": false
   }
  },
  {
   "cell_type": "markdown",
   "source": [
    "### Palavras dado que:"
   ],
   "metadata": {
    "collapsed": false
   }
  },
  {
   "cell_type": "markdown",
   "source": [
    "#### relevante P(palavra/relevante)"
   ],
   "metadata": {
    "collapsed": false
   }
  },
  {
   "cell_type": "code",
   "execution_count": 107,
   "outputs": [
    {
     "name": "stdout",
     "output_type": "stream",
     "text": [
      "2337 Total_palavras_rel\n",
      "1095 Total_palavras_unicas_rel\n"
     ]
    },
    {
     "data": {
      "text/plain": "11desetembro    0.000874\n500             0.000583\nabalado         0.000583\nabalar          0.000583\nabertamente     0.000583\n                  ...   \n🤢               0.001457\n🤣               0.002040\n🤦               0.000583\n🤦🏼‍♀️           0.000583\n🧐               0.000874\nName: prob palavras, Length: 1095, dtype: float64"
     },
     "execution_count": 107,
     "metadata": {},
     "output_type": "execute_result"
    }
   ],
   "source": [
    "Total_palavras_rel = qremove_options_rel['# de ocorrências'].sum()\n",
    "print(Total_palavras_rel, 'Total_palavras_rel')\n",
    "Total_palavras_unicas_rel = qremove_options_rel.reset_index()['index'].value_counts().sum()\n",
    "print(Total_palavras_unicas_rel, 'Total_palavras_unicas_rel')\n",
    "\n",
    "qremove_options_rel['prob palavras'] = (qremove_options_rel['# de ocorrências'] + 1)/(Total_palavras_rel + Total_palavras_unicas_rel)\n",
    "\n",
    "qremove_options_rel['prob palavras']"
   ],
   "metadata": {
    "collapsed": false,
    "pycharm": {
     "name": "#%%\n"
    }
   }
  },
  {
   "cell_type": "markdown",
   "source": [
    "##### irrelevante P(palavra/irrelevante)"
   ],
   "metadata": {
    "collapsed": false,
    "pycharm": {
     "name": "#%% md\n"
    }
   }
  },
  {
   "cell_type": "code",
   "execution_count": 108,
   "outputs": [
    {
     "name": "stdout",
     "output_type": "stream",
     "text": [
      "925 Total_palavras_unicas_irel\n",
      "2373 Total_palavras_irel\n"
     ]
    },
    {
     "data": {
      "text/plain": "8diasprosuperspace    0.000910\n90s                   0.000606\naaaaaa                0.000606\naassustador           0.000606\nabraçar               0.000606\n                        ...   \n🤔                     0.000910\n🤡                     0.002729\n🤷                     0.000606\n🤷🏻‍♀️                 0.000606\n🥺                     0.000910\nName: prob palavras, Length: 925, dtype: float64"
     },
     "execution_count": 108,
     "metadata": {},
     "output_type": "execute_result"
    }
   ],
   "source": [
    "Total_palavras_unicas_irel = qremove_options_irel.reset_index()['index'].value_counts().sum()\n",
    "print(Total_palavras_unicas_irel, 'Total_palavras_unicas_irel')\n",
    "\n",
    "Total_palavras_irel = qremove_options_irel['# de ocorrências'].sum()\n",
    "print(Total_palavras_irel, 'Total_palavras_irel')\n",
    "\n",
    "qremove_options_irel['prob palavras'] = (qremove_options_irel['# de ocorrências'] + 1)/(Total_palavras_irel + Total_palavras_unicas_irel)\n",
    "\n",
    "qremove_options_irel['prob palavras']"
   ],
   "metadata": {
    "collapsed": false,
    "pycharm": {
     "name": "#%%\n"
    }
   }
  },
  {
   "cell_type": "code",
   "execution_count": 109,
   "outputs": [
    {
     "data": {
      "text/plain": "           Palavras em tweets relevantes                \\\n                        # de ocorrências prob palavras   \nfantástico                         105.0      0.030886   \nque                                 94.0      0.027681   \nmatéria                             43.0      0.012821   \nsobre                               46.0      0.013695   \nfantastico                          36.0      0.010781   \n...                                  ...           ...   \ndissemina                            1.0      0.000583   \ndisseram                             1.0      0.000583   \neditoria                             1.0      0.000583   \ndurma                                1.0      0.000583   \nmanca                                0.0      0.000000   \n\n           Palavras em tweets irrelevantes                todos os tweets  \\\n                          # de ocorrências prob palavras # de ocorrências   \nfantástico                           129.0      0.039418            234.0   \nque                                   76.0      0.023347            170.0   \nmatéria                               22.0      0.006974             65.0   \nsobre                                 13.0      0.004245             59.0   \nfantastico                            22.0      0.006974             58.0   \n...                                    ...           ...              ...   \ndissemina                              0.0      0.000000              1.0   \ndisseram                               0.0      0.000000              1.0   \neditoria                               0.0      0.000000              1.0   \ndurma                                  0.0      0.000000              1.0   \nmanca                                  1.0      0.000606              1.0   \n\n                          \n           prob palavras  \nfantástico      0.070304  \nque             0.051028  \nmatéria         0.019794  \nsobre           0.017940  \nfantastico      0.017755  \n...                  ...  \ndissemina       0.000583  \ndisseram        0.000583  \neditoria        0.000583  \ndurma           0.000583  \nmanca           0.000606  \n\n[1706 rows x 6 columns]",
      "text/html": "<div>\n<style scoped>\n    .dataframe tbody tr th:only-of-type {\n        vertical-align: middle;\n    }\n\n    .dataframe tbody tr th {\n        vertical-align: top;\n    }\n\n    .dataframe thead tr th {\n        text-align: left;\n    }\n</style>\n<table border=\"1\" class=\"dataframe\">\n  <thead>\n    <tr>\n      <th></th>\n      <th colspan=\"2\" halign=\"left\">Palavras em tweets relevantes</th>\n      <th colspan=\"2\" halign=\"left\">Palavras em tweets irrelevantes</th>\n      <th colspan=\"2\" halign=\"left\">todos os tweets</th>\n    </tr>\n    <tr>\n      <th></th>\n      <th># de ocorrências</th>\n      <th>prob palavras</th>\n      <th># de ocorrências</th>\n      <th>prob palavras</th>\n      <th># de ocorrências</th>\n      <th>prob palavras</th>\n    </tr>\n  </thead>\n  <tbody>\n    <tr>\n      <th>fantástico</th>\n      <td>105.0</td>\n      <td>0.030886</td>\n      <td>129.0</td>\n      <td>0.039418</td>\n      <td>234.0</td>\n      <td>0.070304</td>\n    </tr>\n    <tr>\n      <th>que</th>\n      <td>94.0</td>\n      <td>0.027681</td>\n      <td>76.0</td>\n      <td>0.023347</td>\n      <td>170.0</td>\n      <td>0.051028</td>\n    </tr>\n    <tr>\n      <th>matéria</th>\n      <td>43.0</td>\n      <td>0.012821</td>\n      <td>22.0</td>\n      <td>0.006974</td>\n      <td>65.0</td>\n      <td>0.019794</td>\n    </tr>\n    <tr>\n      <th>sobre</th>\n      <td>46.0</td>\n      <td>0.013695</td>\n      <td>13.0</td>\n      <td>0.004245</td>\n      <td>59.0</td>\n      <td>0.017940</td>\n    </tr>\n    <tr>\n      <th>fantastico</th>\n      <td>36.0</td>\n      <td>0.010781</td>\n      <td>22.0</td>\n      <td>0.006974</td>\n      <td>58.0</td>\n      <td>0.017755</td>\n    </tr>\n    <tr>\n      <th>...</th>\n      <td>...</td>\n      <td>...</td>\n      <td>...</td>\n      <td>...</td>\n      <td>...</td>\n      <td>...</td>\n    </tr>\n    <tr>\n      <th>dissemina</th>\n      <td>1.0</td>\n      <td>0.000583</td>\n      <td>0.0</td>\n      <td>0.000000</td>\n      <td>1.0</td>\n      <td>0.000583</td>\n    </tr>\n    <tr>\n      <th>disseram</th>\n      <td>1.0</td>\n      <td>0.000583</td>\n      <td>0.0</td>\n      <td>0.000000</td>\n      <td>1.0</td>\n      <td>0.000583</td>\n    </tr>\n    <tr>\n      <th>editoria</th>\n      <td>1.0</td>\n      <td>0.000583</td>\n      <td>0.0</td>\n      <td>0.000000</td>\n      <td>1.0</td>\n      <td>0.000583</td>\n    </tr>\n    <tr>\n      <th>durma</th>\n      <td>1.0</td>\n      <td>0.000583</td>\n      <td>0.0</td>\n      <td>0.000000</td>\n      <td>1.0</td>\n      <td>0.000583</td>\n    </tr>\n    <tr>\n      <th>manca</th>\n      <td>0.0</td>\n      <td>0.000000</td>\n      <td>1.0</td>\n      <td>0.000606</td>\n      <td>1.0</td>\n      <td>0.000606</td>\n    </tr>\n  </tbody>\n</table>\n<p>1706 rows × 6 columns</p>\n</div>"
     },
     "execution_count": 109,
     "metadata": {},
     "output_type": "execute_result"
    }
   ],
   "source": [
    "qremove_options_unidos_comprob = unite_dataframes_col(qremove_options_rel.sort_values(by='# de ocorrências', ascending=False),\n",
    "                        qremove_options_irel.sort_values(by='# de ocorrências', ascending=False),\n",
    "                        'Palavras em tweets relevantes', 'Palavras em tweets irrelevantes', replace_nan=0)\n",
    "qremove_options_unidos_comprob[('todos os tweets', '# de ocorrências')] = qremove_options_unidos_comprob\\\n",
    "[('Palavras em tweets relevantes', '# de ocorrências')] + qremove_options_unidos_comprob\\\n",
    "[('Palavras em tweets irrelevantes', '# de ocorrências')]\n",
    "qremove_options_unidos_comprob[('todos os tweets', 'prob palavras')] = qremove_options_unidos_comprob\\\n",
    "[('Palavras em tweets relevantes', 'prob palavras')] + qremove_options_unidos_comprob\\\n",
    "[('Palavras em tweets irrelevantes', 'prob palavras')]\n",
    "qremove_options_unidos_comprob.sort_values(by=('todos os tweets', '# de ocorrências'), ascending=False)"
   ],
   "metadata": {
    "collapsed": false,
    "pycharm": {
     "name": "#%%\n"
    }
   }
  },
  {
   "cell_type": "markdown",
   "source": [
    "#### Todas as palavras P(relevante) e P(irrelevante)"
   ],
   "metadata": {
    "collapsed": false
   }
  },
  {
   "cell_type": "code",
   "execution_count": 110,
   "outputs": [
    {
     "name": "stdout",
     "output_type": "stream",
     "text": [
      "4710 Total_palavras\n",
      "2020 Total_palavras_unicas\n",
      "0.5099554234769688 prob_rel\n",
      "0.4900445765230312 prob_irel\n"
     ]
    }
   ],
   "source": [
    "Total_palavras = Total_palavras_irel + Total_palavras_rel\n",
    "print(Total_palavras_irel+Total_palavras_rel, 'Total_palavras')\n",
    "\n",
    "Total_palavras_unicas = Total_palavras_unicas_irel + Total_palavras_unicas_rel\n",
    "print(Total_palavras_unicas, 'Total_palavras_unicas')\n",
    "\n",
    "prob_rel_qremove_options = (Total_palavras_rel + Total_palavras_unicas_rel)/( Total_palavras + Total_palavras_unicas)# * 0)#Total_palavras_unicas)\n",
    "print(prob_rel_qremove_options, 'prob_rel')\n",
    "\n",
    "prob_irel_qremove_options = (Total_palavras_irel + Total_palavras_unicas_irel)/( Total_palavras + Total_palavras_unicas)# * 0)#Total_palavras_unicas)\n",
    "print(prob_irel_qremove_options, 'prob_irel')"
   ],
   "metadata": {
    "collapsed": false,
    "pycharm": {
     "name": "#%%\n"
    }
   }
  },
  {
   "cell_type": "code",
   "execution_count": 111,
   "outputs": [
    {
     "data": {
      "text/plain": "1.0"
     },
     "execution_count": 111,
     "metadata": {},
     "output_type": "execute_result"
    }
   ],
   "source": [
    "qremove_options_rel['prob palavras'].sort_values(ascending=False).sum()"
   ],
   "metadata": {
    "collapsed": false,
    "pycharm": {
     "name": "#%%\n"
    }
   }
  },
  {
   "cell_type": "code",
   "execution_count": 112,
   "outputs": [
    {
     "data": {
      "text/plain": "0.9999999999999999"
     },
     "execution_count": 112,
     "metadata": {},
     "output_type": "execute_result"
    }
   ],
   "source": [
    "qremove_options_irel['prob palavras'].sort_values(ascending=False).sum()"
   ],
   "metadata": {
    "collapsed": false,
    "pycharm": {
     "name": "#%%\n"
    }
   }
  },
  {
   "cell_type": "code",
   "execution_count": 113,
   "outputs": [
    {
     "data": {
      "text/plain": "             qremove_options_rel               qremove_options_irel  \\\n                # de ocorrências prob palavras     # de ocorrências   \n11desetembro                 2.0      0.000874                  0.0   \n500                          1.0      0.000583                  0.0   \nabalado                      1.0      0.000583                  0.0   \nabalar                       1.0      0.000583                  0.0   \nabertamente                  1.0      0.000583                  0.0   \n...                          ...           ...                  ...   \n🙄                            0.0      0.000000                  2.0   \n🤔                            0.0      0.000000                  2.0   \n🤷                            0.0      0.000000                  1.0   \n🤷🏻‍♀️                        0.0      0.000000                  1.0   \n🥺                            0.0      0.000000                  2.0   \n\n                            \n             prob palavras  \n11desetembro      0.000000  \n500               0.000000  \nabalado           0.000000  \nabalar            0.000000  \nabertamente       0.000000  \n...                    ...  \n🙄                 0.000910  \n🤔                 0.000910  \n🤷                 0.000606  \n🤷🏻‍♀️             0.000606  \n🥺                 0.000910  \n\n[1706 rows x 4 columns]",
      "text/html": "<div>\n<style scoped>\n    .dataframe tbody tr th:only-of-type {\n        vertical-align: middle;\n    }\n\n    .dataframe tbody tr th {\n        vertical-align: top;\n    }\n\n    .dataframe thead tr th {\n        text-align: left;\n    }\n</style>\n<table border=\"1\" class=\"dataframe\">\n  <thead>\n    <tr>\n      <th></th>\n      <th colspan=\"2\" halign=\"left\">qremove_options_rel</th>\n      <th colspan=\"2\" halign=\"left\">qremove_options_irel</th>\n    </tr>\n    <tr>\n      <th></th>\n      <th># de ocorrências</th>\n      <th>prob palavras</th>\n      <th># de ocorrências</th>\n      <th>prob palavras</th>\n    </tr>\n  </thead>\n  <tbody>\n    <tr>\n      <th>11desetembro</th>\n      <td>2.0</td>\n      <td>0.000874</td>\n      <td>0.0</td>\n      <td>0.000000</td>\n    </tr>\n    <tr>\n      <th>500</th>\n      <td>1.0</td>\n      <td>0.000583</td>\n      <td>0.0</td>\n      <td>0.000000</td>\n    </tr>\n    <tr>\n      <th>abalado</th>\n      <td>1.0</td>\n      <td>0.000583</td>\n      <td>0.0</td>\n      <td>0.000000</td>\n    </tr>\n    <tr>\n      <th>abalar</th>\n      <td>1.0</td>\n      <td>0.000583</td>\n      <td>0.0</td>\n      <td>0.000000</td>\n    </tr>\n    <tr>\n      <th>abertamente</th>\n      <td>1.0</td>\n      <td>0.000583</td>\n      <td>0.0</td>\n      <td>0.000000</td>\n    </tr>\n    <tr>\n      <th>...</th>\n      <td>...</td>\n      <td>...</td>\n      <td>...</td>\n      <td>...</td>\n    </tr>\n    <tr>\n      <th>🙄</th>\n      <td>0.0</td>\n      <td>0.000000</td>\n      <td>2.0</td>\n      <td>0.000910</td>\n    </tr>\n    <tr>\n      <th>🤔</th>\n      <td>0.0</td>\n      <td>0.000000</td>\n      <td>2.0</td>\n      <td>0.000910</td>\n    </tr>\n    <tr>\n      <th>🤷</th>\n      <td>0.0</td>\n      <td>0.000000</td>\n      <td>1.0</td>\n      <td>0.000606</td>\n    </tr>\n    <tr>\n      <th>🤷🏻‍♀️</th>\n      <td>0.0</td>\n      <td>0.000000</td>\n      <td>1.0</td>\n      <td>0.000606</td>\n    </tr>\n    <tr>\n      <th>🥺</th>\n      <td>0.0</td>\n      <td>0.000000</td>\n      <td>2.0</td>\n      <td>0.000910</td>\n    </tr>\n  </tbody>\n</table>\n<p>1706 rows × 4 columns</p>\n</div>"
     },
     "execution_count": 113,
     "metadata": {},
     "output_type": "execute_result"
    }
   ],
   "source": [
    "unite_dataframes_col(qremove_options_rel, qremove_options_irel, 'qremove_options_rel', 'qremove_options_irel', replace_nan=0)"
   ],
   "metadata": {
    "collapsed": false,
    "pycharm": {
     "name": "#%%\n"
    }
   }
  },
  {
   "cell_type": "code",
   "execution_count": 114,
   "outputs": [
    {
     "name": "stdout",
     "output_type": "stream",
     "text": [
      "5\n",
      "muito\n",
      "6\n",
      "muitos\n"
     ]
    }
   ],
   "source": [
    "lista = []\n",
    "frase = 'muito bom o programa '\n",
    "prod = 1\n",
    "# for  palavra in frase:\n",
    "#     a = qremove_options_rel\n",
    "qremove_options_rel.sort_values(by='prob palavras', ascending=False)\n",
    "for palavra in qremove_options_rel.reset_index()['index']:\n",
    "    if 'muito' in palavra:\n",
    "        print(len(palavra))\n",
    "        print(palavra)\n",
    "# '''\n",
    "# frase = muito bom o programa\n",
    "# P(relevante/frase) = (P(muito/relevante) * P(bom/relevante) ... * P(relevante))\n",
    "# '''\n",
    "#\n",
    "# '''\n",
    "# EM DESENVOLVIMENTO - EM DESENVOLVIMENTO - EM DESENVOLVIMENTO - EM DESENVOLVIMENTO - EM DESENVOLVIMENTO\n",
    "# EM DESENVOLVIMENTO - EM DESENVOLVIMENTO - EM DESENVOLVIMENTO - EM DESENVOLVIMENTO - EM DESENVOLVIMENTO\n",
    "# EM DESENVOLVIMENTO - EM DESENVOLVIMENTO - EM DESENVOLVIMENTO - EM DESENVOLVIMENTO - EM DESENVOLVIMENTO\n",
    "# EM DESENVOLVIMENTO - EM DESENVOLVIMENTO - EM DESENVOLVIMENTO - EM DESENVOLVIMENTO - EM DESENVOLVIMENTO\n",
    "# '''\n"
   ],
   "metadata": {
    "collapsed": false,
    "pycharm": {
     "name": "#%%\n"
    }
   }
  },
  {
   "cell_type": "code",
   "execution_count": 115,
   "outputs": [
    {
     "name": "stdout",
     "output_type": "stream",
     "text": [
      "NUMERO DE VEZES QUER APARECE A PALAVRA DEFINIDA NO INPUT DO COMEÇO POR DATAFRAME CRIADO\n",
      "\n",
      "89 qremove_link_rel\n",
      "108 qremove_link_irel\n",
      "89 qremove_at_rel\n",
      "108 qremove_at_irel\n",
      "141 qremove_ponc_rel\n",
      "151 qremove_ponc_irel\n",
      "89 qremove_word_sts_rel\n",
      "108 qremove_word_sts_irel\n",
      "89 qremove_laugh_rel\n",
      "108 qremove_laugh_irel\n",
      "89 qremove_num_str_rel\n",
      "108 qremove_num_str_irel\n",
      "141 qremove_options_rel\n",
      "151 qremove_options_irel\n"
     ]
    }
   ],
   "source": [
    "print(f\"\"\"NUMERO DE VEZES QUER APARECE A PALAVRA DEFINIDA NO INPUT DO COMEÇO POR DATAFRAME CRIADO\n",
    "\n",
    "{sum(qremove_link_rel['# de ocorrências'][[j for j in RemoveWords.list_desired_words]])} qremove_link_rel\n",
    "{sum(qremove_link_irel['# de ocorrências'][[j for j in RemoveWords.list_desired_words]])} qremove_link_irel\n",
    "{sum(qremove_at_rel['# de ocorrências'][[j for j in RemoveWords.list_desired_words]])} qremove_at_rel\n",
    "{sum(qremove_at_irel['# de ocorrências'][[j for j in RemoveWords.list_desired_words]])} qremove_at_irel\n",
    "{sum(qremove_ponc_rel['# de ocorrências'][[j for j in RemoveWords.list_desired_words]])} qremove_ponc_rel\n",
    "{sum(qremove_ponc_irel['# de ocorrências'][[j for j in RemoveWords.list_desired_words]])} qremove_ponc_irel\n",
    "{sum(qremove_word_sts_rel['# de ocorrências'][[j for j in RemoveWords.list_desired_words]])} qremove_word_sts_rel\n",
    "{sum(qremove_word_sts_irel['# de ocorrências'][[j for j in RemoveWords.list_desired_words]])} qremove_word_sts_irel\n",
    "{sum(qremove_laugh_rel['# de ocorrências'][[j for j in RemoveWords.list_desired_words]])} qremove_laugh_rel\n",
    "{sum(qremove_laugh_irel['# de ocorrências'][[j for j in RemoveWords.list_desired_words]])} qremove_laugh_irel\n",
    "{sum(qremove_num_str_rel['# de ocorrências'][[j for j in RemoveWords.list_desired_words]])} qremove_num_str_rel\n",
    "{sum(qremove_num_str_irel['# de ocorrências'][[j for j in RemoveWords.list_desired_words]])} qremove_num_str_irel\n",
    "{sum(qremove_options_rel['# de ocorrências'][[j for j in RemoveWords.list_desired_words]])} qremove_options_rel\n",
    "{sum(qremove_options_irel['# de ocorrências'][[j for j in RemoveWords.list_desired_words]])} qremove_options_irel\"\"\")\n"
   ],
   "metadata": {
    "collapsed": false,
    "pycharm": {
     "name": "#%%\n"
    }
   }
  },
  {
   "cell_type": "code",
   "execution_count": 116,
   "outputs": [
    {
     "data": {
      "text/plain": "                 Palavras em tweets relevantes                \\\n                              # de ocorrências prob palavras   \n\"soma da coluna\"                        2337.0      1.000000   \nfantástico                               105.0      0.030886   \nque                                       94.0      0.027681   \nsobre                                     46.0      0.013695   \nmatéria                                   43.0      0.012821   \n...                                        ...           ...   \nmedonhas                                   0.0      0.000000   \ncomedycentral                              0.0      0.000000   \nmelinda                                    0.0      0.000000   \ncolocou                                    0.0      0.000000   \nmanca                                      0.0      0.000000   \n\n                 Palavras em tweets irrelevantes                \\\n                                # de ocorrências prob palavras   \n\"soma da coluna\"                          2373.0      1.000000   \nfantástico                                 129.0      0.039418   \nque                                         76.0      0.023347   \nsobre                                       13.0      0.004245   \nmatéria                                     22.0      0.006974   \n...                                          ...           ...   \nmedonhas                                     1.0      0.000606   \ncomedycentral                                1.0      0.000606   \nmelinda                                      1.0      0.000606   \ncolocou                                      1.0      0.000606   \nmanca                                        1.0      0.000606   \n\n                  todos os tweets                \n                 # de ocorrências prob palavras  \n\"soma da coluna\"           4710.0      2.000000  \nfantástico                  234.0      0.070304  \nque                         170.0      0.051028  \nsobre                        59.0      0.017940  \nmatéria                      65.0      0.019794  \n...                           ...           ...  \nmedonhas                      1.0      0.000606  \ncomedycentral                 1.0      0.000606  \nmelinda                       1.0      0.000606  \ncolocou                       1.0      0.000606  \nmanca                         1.0      0.000606  \n\n[1707 rows x 6 columns]",
      "text/html": "<div>\n<style scoped>\n    .dataframe tbody tr th:only-of-type {\n        vertical-align: middle;\n    }\n\n    .dataframe tbody tr th {\n        vertical-align: top;\n    }\n\n    .dataframe thead tr th {\n        text-align: left;\n    }\n</style>\n<table border=\"1\" class=\"dataframe\">\n  <thead>\n    <tr>\n      <th></th>\n      <th colspan=\"2\" halign=\"left\">Palavras em tweets relevantes</th>\n      <th colspan=\"2\" halign=\"left\">Palavras em tweets irrelevantes</th>\n      <th colspan=\"2\" halign=\"left\">todos os tweets</th>\n    </tr>\n    <tr>\n      <th></th>\n      <th># de ocorrências</th>\n      <th>prob palavras</th>\n      <th># de ocorrências</th>\n      <th>prob palavras</th>\n      <th># de ocorrências</th>\n      <th>prob palavras</th>\n    </tr>\n  </thead>\n  <tbody>\n    <tr>\n      <th>\"soma da coluna\"</th>\n      <td>2337.0</td>\n      <td>1.000000</td>\n      <td>2373.0</td>\n      <td>1.000000</td>\n      <td>4710.0</td>\n      <td>2.000000</td>\n    </tr>\n    <tr>\n      <th>fantástico</th>\n      <td>105.0</td>\n      <td>0.030886</td>\n      <td>129.0</td>\n      <td>0.039418</td>\n      <td>234.0</td>\n      <td>0.070304</td>\n    </tr>\n    <tr>\n      <th>que</th>\n      <td>94.0</td>\n      <td>0.027681</td>\n      <td>76.0</td>\n      <td>0.023347</td>\n      <td>170.0</td>\n      <td>0.051028</td>\n    </tr>\n    <tr>\n      <th>sobre</th>\n      <td>46.0</td>\n      <td>0.013695</td>\n      <td>13.0</td>\n      <td>0.004245</td>\n      <td>59.0</td>\n      <td>0.017940</td>\n    </tr>\n    <tr>\n      <th>matéria</th>\n      <td>43.0</td>\n      <td>0.012821</td>\n      <td>22.0</td>\n      <td>0.006974</td>\n      <td>65.0</td>\n      <td>0.019794</td>\n    </tr>\n    <tr>\n      <th>...</th>\n      <td>...</td>\n      <td>...</td>\n      <td>...</td>\n      <td>...</td>\n      <td>...</td>\n      <td>...</td>\n    </tr>\n    <tr>\n      <th>medonhas</th>\n      <td>0.0</td>\n      <td>0.000000</td>\n      <td>1.0</td>\n      <td>0.000606</td>\n      <td>1.0</td>\n      <td>0.000606</td>\n    </tr>\n    <tr>\n      <th>comedycentral</th>\n      <td>0.0</td>\n      <td>0.000000</td>\n      <td>1.0</td>\n      <td>0.000606</td>\n      <td>1.0</td>\n      <td>0.000606</td>\n    </tr>\n    <tr>\n      <th>melinda</th>\n      <td>0.0</td>\n      <td>0.000000</td>\n      <td>1.0</td>\n      <td>0.000606</td>\n      <td>1.0</td>\n      <td>0.000606</td>\n    </tr>\n    <tr>\n      <th>colocou</th>\n      <td>0.0</td>\n      <td>0.000000</td>\n      <td>1.0</td>\n      <td>0.000606</td>\n      <td>1.0</td>\n      <td>0.000606</td>\n    </tr>\n    <tr>\n      <th>manca</th>\n      <td>0.0</td>\n      <td>0.000000</td>\n      <td>1.0</td>\n      <td>0.000606</td>\n      <td>1.0</td>\n      <td>0.000606</td>\n    </tr>\n  </tbody>\n</table>\n<p>1707 rows × 6 columns</p>\n</div>"
     },
     "execution_count": 116,
     "metadata": {},
     "output_type": "execute_result"
    }
   ],
   "source": [
    "a = qremove_options_unidos_comprob['Palavras em tweets relevantes', '# de ocorrências'].sum()\n",
    "b = qremove_options_unidos_comprob['Palavras em tweets relevantes', 'prob palavras'].sum()\n",
    "c = qremove_options_unidos_comprob['Palavras em tweets irrelevantes', '# de ocorrências'].sum()\n",
    "d = qremove_options_unidos_comprob['Palavras em tweets irrelevantes', 'prob palavras'].sum()\n",
    "e = qremove_options_unidos_comprob['todos os tweets', '# de ocorrências'].sum()\n",
    "f = qremove_options_unidos_comprob['todos os tweets', 'prob palavras'].sum()\n",
    "# data.insert(-len(qremove_options_unidos_comprob), {'name': 'dean', 'age': 'df', 'sex': 'male'})\n",
    "#\n",
    "# qremove_options_unidos_comprob\n",
    "data = {'\"soma da coluna\"': [a, b, c, d, e, f]}\n",
    "data = pd.DataFrame.from_dict(data, orient='index',\n",
    "                              columns=pd.MultiIndex.from_product([\n",
    "                      ['Palavras em tweets relevantes', 'Palavras em tweets irrelevantes', 'todos os tweets'],\n",
    "                      ['# de ocorrências', 'prob palavras']]))\n",
    "aaaaaaa = qremove_options_unidos_comprob\n",
    "aaaaaaa = pd.concat([data, aaaaaaa], ignore_index=False)\n",
    "aaaaaaa\n",
    "\n"
   ],
   "metadata": {
    "collapsed": false,
    "pycharm": {
     "name": "#%%\n"
    }
   }
  }
 ],
 "metadata": {
  "kernelspec": {
   "display_name": "Python 3 (ipykernel)",
   "language": "python",
   "name": "python3"
  },
  "language_info": {
   "codemirror_mode": {
    "name": "ipython",
    "version": 3
   },
   "file_extension": ".py",
   "mimetype": "text/x-python",
   "name": "python",
   "nbconvert_exporter": "python",
   "pygments_lexer": "ipython3",
   "version": "3.8.3"
  }
 },
 "nbformat": 4,
 "nbformat_minor": 1
}